{
 "cells": [
  {
   "cell_type": "markdown",
   "metadata": {},
   "source": [
    "# Student Questionnaire"
   ]
  },
  {
   "cell_type": "code",
   "execution_count": 1,
   "metadata": {},
   "outputs": [],
   "source": [
    "import numpy as np\n",
    "import pandas as pd\n",
    "from tqdm import tqdm\n",
    "import seaborn as sns\n",
    "import matplotlib.pyplot as plt\n",
    "from sklearn.metrics import confusion_matrix, ConfusionMatrixDisplay, roc_curve, roc_auc_score, precision_recall_curve, PrecisionRecallDisplay"
   ]
  },
  {
   "cell_type": "code",
   "execution_count": 2,
   "metadata": {},
   "outputs": [],
   "source": [
    "# Student questionnaire data file (takes over 2 minutes to load)\n",
    "df_student = pd.read_spss(\"../raw_data/unzipped/CY08MSP_STU_QQQ.SAV\")"
   ]
  },
  {
   "cell_type": "code",
   "execution_count": 3,
   "metadata": {},
   "outputs": [
    {
     "data": {
      "text/html": [
       "<div>\n",
       "<style scoped>\n",
       "    .dataframe tbody tr th:only-of-type {\n",
       "        vertical-align: middle;\n",
       "    }\n",
       "\n",
       "    .dataframe tbody tr th {\n",
       "        vertical-align: top;\n",
       "    }\n",
       "\n",
       "    .dataframe thead th {\n",
       "        text-align: right;\n",
       "    }\n",
       "</style>\n",
       "<table border=\"1\" class=\"dataframe\">\n",
       "  <thead>\n",
       "    <tr style=\"text-align: right;\">\n",
       "      <th></th>\n",
       "      <th>CNT</th>\n",
       "      <th>CNTRYID</th>\n",
       "      <th>CNTSCHID</th>\n",
       "      <th>CNTSTUID</th>\n",
       "      <th>CYC</th>\n",
       "      <th>NatCen</th>\n",
       "      <th>STRATUM</th>\n",
       "      <th>SUBNATIO</th>\n",
       "      <th>REGION</th>\n",
       "      <th>OECD</th>\n",
       "      <th>...</th>\n",
       "      <th>PV3MPRE</th>\n",
       "      <th>PV4MPRE</th>\n",
       "      <th>PV5MPRE</th>\n",
       "      <th>PV6MPRE</th>\n",
       "      <th>PV7MPRE</th>\n",
       "      <th>PV8MPRE</th>\n",
       "      <th>PV9MPRE</th>\n",
       "      <th>PV10MPRE</th>\n",
       "      <th>SENWT</th>\n",
       "      <th>VER_DAT</th>\n",
       "    </tr>\n",
       "  </thead>\n",
       "  <tbody>\n",
       "    <tr>\n",
       "      <th>0</th>\n",
       "      <td>Albania</td>\n",
       "      <td>Albania</td>\n",
       "      <td>800282.0</td>\n",
       "      <td>800001.0</td>\n",
       "      <td>08MS</td>\n",
       "      <td>Albania</td>\n",
       "      <td>ALB - stratum 03: Urban / Center / Public</td>\n",
       "      <td>Albania</td>\n",
       "      <td>Albania</td>\n",
       "      <td>No</td>\n",
       "      <td>...</td>\n",
       "      <td>226.250</td>\n",
       "      <td>203.029</td>\n",
       "      <td>219.817</td>\n",
       "      <td>331.017</td>\n",
       "      <td>223.752</td>\n",
       "      <td>305.671</td>\n",
       "      <td>230.156</td>\n",
       "      <td>289.436</td>\n",
       "      <td>0.55561</td>\n",
       "      <td>03MAY23:10:11:25</td>\n",
       "    </tr>\n",
       "    <tr>\n",
       "      <th>1</th>\n",
       "      <td>Albania</td>\n",
       "      <td>Albania</td>\n",
       "      <td>800115.0</td>\n",
       "      <td>800002.0</td>\n",
       "      <td>08MS</td>\n",
       "      <td>Albania</td>\n",
       "      <td>ALB - stratum 03: Urban / Center / Public</td>\n",
       "      <td>Albania</td>\n",
       "      <td>Albania</td>\n",
       "      <td>No</td>\n",
       "      <td>...</td>\n",
       "      <td>298.644</td>\n",
       "      <td>321.405</td>\n",
       "      <td>320.452</td>\n",
       "      <td>284.836</td>\n",
       "      <td>364.565</td>\n",
       "      <td>304.044</td>\n",
       "      <td>347.626</td>\n",
       "      <td>352.269</td>\n",
       "      <td>0.76431</td>\n",
       "      <td>03MAY23:10:11:25</td>\n",
       "    </tr>\n",
       "    <tr>\n",
       "      <th>2</th>\n",
       "      <td>Albania</td>\n",
       "      <td>Albania</td>\n",
       "      <td>800242.0</td>\n",
       "      <td>800003.0</td>\n",
       "      <td>08MS</td>\n",
       "      <td>Albania</td>\n",
       "      <td>ALB - stratum 01: Urban / North / Public</td>\n",
       "      <td>Albania</td>\n",
       "      <td>Albania</td>\n",
       "      <td>No</td>\n",
       "      <td>...</td>\n",
       "      <td>383.340</td>\n",
       "      <td>376.019</td>\n",
       "      <td>285.901</td>\n",
       "      <td>289.896</td>\n",
       "      <td>338.469</td>\n",
       "      <td>316.296</td>\n",
       "      <td>324.361</td>\n",
       "      <td>343.351</td>\n",
       "      <td>1.37877</td>\n",
       "      <td>03MAY23:10:11:25</td>\n",
       "    </tr>\n",
       "    <tr>\n",
       "      <th>3</th>\n",
       "      <td>Albania</td>\n",
       "      <td>Albania</td>\n",
       "      <td>800245.0</td>\n",
       "      <td>800005.0</td>\n",
       "      <td>08MS</td>\n",
       "      <td>Albania</td>\n",
       "      <td>ALB - stratum 08: Rural / Center / Public</td>\n",
       "      <td>Albania</td>\n",
       "      <td>Albania</td>\n",
       "      <td>No</td>\n",
       "      <td>...</td>\n",
       "      <td>264.532</td>\n",
       "      <td>303.422</td>\n",
       "      <td>327.793</td>\n",
       "      <td>165.575</td>\n",
       "      <td>246.156</td>\n",
       "      <td>238.322</td>\n",
       "      <td>275.860</td>\n",
       "      <td>227.466</td>\n",
       "      <td>1.49361</td>\n",
       "      <td>03MAY23:10:11:26</td>\n",
       "    </tr>\n",
       "    <tr>\n",
       "      <th>4</th>\n",
       "      <td>Albania</td>\n",
       "      <td>Albania</td>\n",
       "      <td>800285.0</td>\n",
       "      <td>800006.0</td>\n",
       "      <td>08MS</td>\n",
       "      <td>Albania</td>\n",
       "      <td>ALB - stratum 03: Urban / Center / Public</td>\n",
       "      <td>Albania</td>\n",
       "      <td>Albania</td>\n",
       "      <td>No</td>\n",
       "      <td>...</td>\n",
       "      <td>399.300</td>\n",
       "      <td>514.739</td>\n",
       "      <td>539.850</td>\n",
       "      <td>461.793</td>\n",
       "      <td>514.465</td>\n",
       "      <td>510.462</td>\n",
       "      <td>490.537</td>\n",
       "      <td>503.793</td>\n",
       "      <td>0.65249</td>\n",
       "      <td>03MAY23:10:11:26</td>\n",
       "    </tr>\n",
       "    <tr>\n",
       "      <th>...</th>\n",
       "      <td>...</td>\n",
       "      <td>...</td>\n",
       "      <td>...</td>\n",
       "      <td>...</td>\n",
       "      <td>...</td>\n",
       "      <td>...</td>\n",
       "      <td>...</td>\n",
       "      <td>...</td>\n",
       "      <td>...</td>\n",
       "      <td>...</td>\n",
       "      <td>...</td>\n",
       "      <td>...</td>\n",
       "      <td>...</td>\n",
       "      <td>...</td>\n",
       "      <td>...</td>\n",
       "      <td>...</td>\n",
       "      <td>...</td>\n",
       "      <td>...</td>\n",
       "      <td>...</td>\n",
       "      <td>...</td>\n",
       "      <td>...</td>\n",
       "    </tr>\n",
       "    <tr>\n",
       "      <th>613739</th>\n",
       "      <td>Uzbekistan</td>\n",
       "      <td>Uzbekistan</td>\n",
       "      <td>86000120.0</td>\n",
       "      <td>86007488.0</td>\n",
       "      <td>08MS</td>\n",
       "      <td>Uzbekistan</td>\n",
       "      <td>UZB - stratum 26: Khorezm/Rural</td>\n",
       "      <td>Uzbekistan</td>\n",
       "      <td>Uzbekistan</td>\n",
       "      <td>No</td>\n",
       "      <td>...</td>\n",
       "      <td>334.153</td>\n",
       "      <td>306.551</td>\n",
       "      <td>271.135</td>\n",
       "      <td>386.969</td>\n",
       "      <td>376.271</td>\n",
       "      <td>368.287</td>\n",
       "      <td>395.329</td>\n",
       "      <td>278.263</td>\n",
       "      <td>0.71987</td>\n",
       "      <td>02MAY23:13:18:15</td>\n",
       "    </tr>\n",
       "    <tr>\n",
       "      <th>613740</th>\n",
       "      <td>Uzbekistan</td>\n",
       "      <td>Uzbekistan</td>\n",
       "      <td>86000140.0</td>\n",
       "      <td>86007489.0</td>\n",
       "      <td>08MS</td>\n",
       "      <td>Uzbekistan</td>\n",
       "      <td>UZB - stratum 04: Andijan/Rural</td>\n",
       "      <td>Uzbekistan</td>\n",
       "      <td>Uzbekistan</td>\n",
       "      <td>No</td>\n",
       "      <td>...</td>\n",
       "      <td>272.456</td>\n",
       "      <td>335.952</td>\n",
       "      <td>232.583</td>\n",
       "      <td>179.328</td>\n",
       "      <td>233.470</td>\n",
       "      <td>203.001</td>\n",
       "      <td>254.340</td>\n",
       "      <td>233.187</td>\n",
       "      <td>0.65541</td>\n",
       "      <td>02MAY23:13:18:13</td>\n",
       "    </tr>\n",
       "    <tr>\n",
       "      <th>613741</th>\n",
       "      <td>Uzbekistan</td>\n",
       "      <td>Uzbekistan</td>\n",
       "      <td>86000024.0</td>\n",
       "      <td>86007490.0</td>\n",
       "      <td>08MS</td>\n",
       "      <td>Uzbekistan</td>\n",
       "      <td>UZB - stratum 10: Kashkadarya/Rural</td>\n",
       "      <td>Uzbekistan</td>\n",
       "      <td>Uzbekistan</td>\n",
       "      <td>No</td>\n",
       "      <td>...</td>\n",
       "      <td>395.368</td>\n",
       "      <td>451.614</td>\n",
       "      <td>432.586</td>\n",
       "      <td>387.329</td>\n",
       "      <td>456.236</td>\n",
       "      <td>424.790</td>\n",
       "      <td>408.986</td>\n",
       "      <td>460.542</td>\n",
       "      <td>0.67910</td>\n",
       "      <td>02MAY23:13:18:13</td>\n",
       "    </tr>\n",
       "    <tr>\n",
       "      <th>613742</th>\n",
       "      <td>Uzbekistan</td>\n",
       "      <td>Uzbekistan</td>\n",
       "      <td>86000174.0</td>\n",
       "      <td>86007491.0</td>\n",
       "      <td>08MS</td>\n",
       "      <td>Uzbekistan</td>\n",
       "      <td>UZB - stratum 16: Samarkand/Rural</td>\n",
       "      <td>Uzbekistan</td>\n",
       "      <td>Uzbekistan</td>\n",
       "      <td>No</td>\n",
       "      <td>...</td>\n",
       "      <td>339.529</td>\n",
       "      <td>272.346</td>\n",
       "      <td>317.838</td>\n",
       "      <td>248.165</td>\n",
       "      <td>405.860</td>\n",
       "      <td>364.173</td>\n",
       "      <td>346.663</td>\n",
       "      <td>341.668</td>\n",
       "      <td>0.68618</td>\n",
       "      <td>02MAY23:13:18:14</td>\n",
       "    </tr>\n",
       "    <tr>\n",
       "      <th>613743</th>\n",
       "      <td>Uzbekistan</td>\n",
       "      <td>Uzbekistan</td>\n",
       "      <td>86000123.0</td>\n",
       "      <td>86007492.0</td>\n",
       "      <td>08MS</td>\n",
       "      <td>Uzbekistan</td>\n",
       "      <td>UZB - stratum 10: Kashkadarya/Rural</td>\n",
       "      <td>Uzbekistan</td>\n",
       "      <td>Uzbekistan</td>\n",
       "      <td>No</td>\n",
       "      <td>...</td>\n",
       "      <td>384.307</td>\n",
       "      <td>416.631</td>\n",
       "      <td>337.422</td>\n",
       "      <td>370.817</td>\n",
       "      <td>395.176</td>\n",
       "      <td>412.317</td>\n",
       "      <td>390.490</td>\n",
       "      <td>439.211</td>\n",
       "      <td>0.67910</td>\n",
       "      <td>02MAY23:13:18:13</td>\n",
       "    </tr>\n",
       "  </tbody>\n",
       "</table>\n",
       "<p>613744 rows × 1278 columns</p>\n",
       "</div>"
      ],
      "text/plain": [
       "               CNT     CNTRYID    CNTSCHID    CNTSTUID   CYC      NatCen  \\\n",
       "0          Albania     Albania    800282.0    800001.0  08MS     Albania   \n",
       "1          Albania     Albania    800115.0    800002.0  08MS     Albania   \n",
       "2          Albania     Albania    800242.0    800003.0  08MS     Albania   \n",
       "3          Albania     Albania    800245.0    800005.0  08MS     Albania   \n",
       "4          Albania     Albania    800285.0    800006.0  08MS     Albania   \n",
       "...            ...         ...         ...         ...   ...         ...   \n",
       "613739  Uzbekistan  Uzbekistan  86000120.0  86007488.0  08MS  Uzbekistan   \n",
       "613740  Uzbekistan  Uzbekistan  86000140.0  86007489.0  08MS  Uzbekistan   \n",
       "613741  Uzbekistan  Uzbekistan  86000024.0  86007490.0  08MS  Uzbekistan   \n",
       "613742  Uzbekistan  Uzbekistan  86000174.0  86007491.0  08MS  Uzbekistan   \n",
       "613743  Uzbekistan  Uzbekistan  86000123.0  86007492.0  08MS  Uzbekistan   \n",
       "\n",
       "                                          STRATUM    SUBNATIO      REGION  \\\n",
       "0       ALB - stratum 03: Urban / Center / Public     Albania     Albania   \n",
       "1       ALB - stratum 03: Urban / Center / Public     Albania     Albania   \n",
       "2        ALB - stratum 01: Urban / North / Public     Albania     Albania   \n",
       "3       ALB - stratum 08: Rural / Center / Public     Albania     Albania   \n",
       "4       ALB - stratum 03: Urban / Center / Public     Albania     Albania   \n",
       "...                                           ...         ...         ...   \n",
       "613739            UZB - stratum 26: Khorezm/Rural  Uzbekistan  Uzbekistan   \n",
       "613740            UZB - stratum 04: Andijan/Rural  Uzbekistan  Uzbekistan   \n",
       "613741        UZB - stratum 10: Kashkadarya/Rural  Uzbekistan  Uzbekistan   \n",
       "613742          UZB - stratum 16: Samarkand/Rural  Uzbekistan  Uzbekistan   \n",
       "613743        UZB - stratum 10: Kashkadarya/Rural  Uzbekistan  Uzbekistan   \n",
       "\n",
       "       OECD  ...  PV3MPRE  PV4MPRE  PV5MPRE  PV6MPRE  PV7MPRE  PV8MPRE  \\\n",
       "0        No  ...  226.250  203.029  219.817  331.017  223.752  305.671   \n",
       "1        No  ...  298.644  321.405  320.452  284.836  364.565  304.044   \n",
       "2        No  ...  383.340  376.019  285.901  289.896  338.469  316.296   \n",
       "3        No  ...  264.532  303.422  327.793  165.575  246.156  238.322   \n",
       "4        No  ...  399.300  514.739  539.850  461.793  514.465  510.462   \n",
       "...     ...  ...      ...      ...      ...      ...      ...      ...   \n",
       "613739   No  ...  334.153  306.551  271.135  386.969  376.271  368.287   \n",
       "613740   No  ...  272.456  335.952  232.583  179.328  233.470  203.001   \n",
       "613741   No  ...  395.368  451.614  432.586  387.329  456.236  424.790   \n",
       "613742   No  ...  339.529  272.346  317.838  248.165  405.860  364.173   \n",
       "613743   No  ...  384.307  416.631  337.422  370.817  395.176  412.317   \n",
       "\n",
       "        PV9MPRE PV10MPRE    SENWT             VER_DAT  \n",
       "0       230.156  289.436  0.55561    03MAY23:10:11:25  \n",
       "1       347.626  352.269  0.76431    03MAY23:10:11:25  \n",
       "2       324.361  343.351  1.37877    03MAY23:10:11:25  \n",
       "3       275.860  227.466  1.49361    03MAY23:10:11:26  \n",
       "4       490.537  503.793  0.65249    03MAY23:10:11:26  \n",
       "...         ...      ...      ...                 ...  \n",
       "613739  395.329  278.263  0.71987    02MAY23:13:18:15  \n",
       "613740  254.340  233.187  0.65541    02MAY23:13:18:13  \n",
       "613741  408.986  460.542  0.67910    02MAY23:13:18:13  \n",
       "613742  346.663  341.668  0.68618    02MAY23:13:18:14  \n",
       "613743  390.490  439.211  0.67910    02MAY23:13:18:13  \n",
       "\n",
       "[613744 rows x 1278 columns]"
      ]
     },
     "metadata": {},
     "output_type": "display_data"
    }
   ],
   "source": [
    "display(df_student)"
   ]
  },
  {
   "cell_type": "code",
   "execution_count": 4,
   "metadata": {},
   "outputs": [
    {
     "name": "stdout",
     "output_type": "stream",
     "text": [
      "['CNT', 'CNTRYID', 'CNTSCHID', 'CNTSTUID', 'CYC', 'NatCen', 'STRATUM', 'SUBNATIO', 'REGION', 'OECD', 'ADMINMODE', 'LANGTEST_QQQ', 'LANGTEST_COG', 'LANGTEST_PAQ', 'Option_CT', 'Option_FL', 'Option_ICTQ', 'Option_WBQ', 'Option_PQ', 'Option_TQ', 'Option_UH', 'BOOKID', 'ST001D01T', 'ST003D02T', 'ST003D03T', 'ST004D01T', 'ST250Q01JA', 'ST250Q02JA', 'ST250Q03JA', 'ST250Q04JA', 'ST250Q05JA', 'ST250D06JA', 'ST250D07JA', 'ST251Q01JA', 'ST251Q02JA', 'ST251Q03JA', 'ST251Q04JA', 'ST251Q06JA', 'ST251Q07JA', 'ST251D08JA', 'ST251D09JA', 'ST253Q01JA', 'ST254Q01JA', 'ST254Q02JA', 'ST254Q03JA', 'ST254Q04JA', 'ST254Q05JA', 'ST254Q06JA', 'ST255Q01JA', 'ST256Q01JA', 'ST256Q02JA', 'ST256Q03JA', 'ST256Q06JA', 'ST256Q07JA', 'ST256Q08JA', 'ST256Q09JA', 'ST256Q10JA', 'ST230Q01JA', 'ST005Q01JA', 'ST006Q01JA', 'ST006Q02JA', 'ST006Q03JA', 'ST006Q04JA', 'ST006Q05JA', 'ST007Q01JA', 'ST008Q01JA', 'ST008Q02JA', 'ST008Q03JA', 'ST008Q04JA', 'ST008Q05JA', 'ST258Q01JA', 'ST259Q01JA', 'ST259Q02JA', 'ST019AQ01T', 'ST019BQ01T', 'ST019CQ01T', 'ST021Q01TA', 'ST022Q01TA', 'ST226Q01JA', 'ST125Q01NA', 'ST126Q01TA', 'ST127Q01TA', 'ST127Q02TA', 'ST127Q03TA', 'ST260Q01JA', 'ST260Q02JA', 'ST260Q03JA', 'ST261Q01JA', 'ST261Q02JA', 'ST261Q03JA', 'ST261Q04JA', 'ST261Q05JA', 'ST261Q06JA', 'ST261Q07JA', 'ST261Q08JA', 'ST261Q09JA', 'ST261Q10JA', 'ST261Q11JA', 'ST062Q01TA', 'ST062Q02TA', 'ST062Q03TA', 'ST267Q01JA', 'ST267Q02JA', 'ST267Q03JA', 'ST267Q04JA', 'ST267Q05JA', 'ST267Q06JA', 'ST267Q07JA', 'ST267Q08JA', 'ST034Q01TA', 'ST034Q02TA', 'ST034Q03TA', 'ST034Q04TA', 'ST034Q05TA', 'ST034Q06TA', 'ST038Q03NA', 'ST038Q04NA', 'ST038Q05NA', 'ST038Q06NA', 'ST038Q07NA', 'ST038Q08NA', 'ST038Q09JA', 'ST038Q10JA', 'ST038Q11JA', 'ST265Q01JA', 'ST265Q02JA', 'ST265Q03JA', 'ST265Q04JA', 'ST266Q01JA', 'ST266Q02JA', 'ST266Q03JA', 'ST266Q04JA', 'ST266Q05JA', 'ST294Q01JA', 'ST294Q02JA', 'ST294Q03JA', 'ST294Q04JA', 'ST294Q05JA', 'ST295Q01JA', 'ST295Q02JA', 'ST295Q03JA', 'ST295Q04JA', 'ST295Q05JA', 'ST326Q01JA', 'ST326Q02JA', 'ST326Q03JA', 'ST326Q04JA', 'ST326Q05JA', 'ST326Q06JA', 'ST326Q07JA', 'ST326Q08JA', 'ST326Q09JA', 'ST326Q10JA', 'ST326Q11JA', 'ST326Q12JA', 'ST322Q01JA', 'ST322Q02JA', 'ST322Q03JA', 'ST322Q04JA', 'ST322Q06JA', 'ST322Q07JA', 'ST307Q01JA', 'ST307Q02JA', 'ST307Q03JA', 'ST307Q04JA', 'ST307Q05JA', 'ST307Q06JA', 'ST307Q07JA', 'ST307Q08JA', 'ST307Q09JA', 'ST307Q10JA', 'ST309Q01JA', 'ST309Q02JA', 'ST309Q03JA', 'ST309Q04JA', 'ST309Q05JA', 'ST309Q06JA', 'ST309Q07JA', 'ST309Q08JA', 'ST309Q09JA', 'ST309Q10JA', 'ST301Q01JA', 'ST301Q02JA', 'ST301Q03JA', 'ST301Q04JA', 'ST301Q05JA', 'ST301Q06JA', 'ST301Q07JA', 'ST301Q08JA', 'ST301Q09JA', 'ST301Q10JA', 'ST343Q01JA', 'ST343Q02JA', 'ST343Q03JA', 'ST343Q04JA', 'ST343Q05JA', 'ST343Q06JA', 'ST343Q07JA', 'ST343Q08JA', 'ST343Q09JA', 'ST343Q10JA', 'ST311Q01JA', 'ST311Q02JA', 'ST311Q03JA', 'ST311Q04JA', 'ST311Q05JA', 'ST311Q06JA', 'ST311Q07JA', 'ST311Q08JA', 'ST311Q09JA', 'ST311Q10JA', 'ST315Q01JA', 'ST315Q02JA', 'ST315Q03JA', 'ST315Q04JA', 'ST315Q05JA', 'ST315Q06JA', 'ST315Q07JA', 'ST315Q08JA', 'ST315Q09JA', 'ST315Q10JA', 'ST303Q01JA', 'ST303Q02JA', 'ST303Q03JA', 'ST303Q04JA', 'ST303Q05JA', 'ST303Q06JA', 'ST303Q07JA', 'ST303Q08JA', 'ST305Q01JA', 'ST305Q02JA', 'ST305Q03JA', 'ST305Q04JA', 'ST305Q05JA', 'ST305Q06JA', 'ST305Q07JA', 'ST305Q08JA', 'ST305Q09JA', 'ST305Q10JA', 'ST345Q01JA', 'ST345Q02JA', 'ST345Q03JA', 'ST345Q04JA', 'ST345Q05JA', 'ST345Q06JA', 'ST345Q07JA', 'ST345Q08JA', 'ST345Q09JA', 'ST345Q10JA', 'ST313Q01JA', 'ST313Q02JA', 'ST313Q03JA', 'ST313Q04JA', 'ST313Q05JA', 'ST313Q06JA', 'ST313Q07JA', 'ST313Q08JA', 'ST313Q09JA', 'ST313Q10JA', 'ST263Q02JA', 'ST263Q04JA', 'ST263Q06JA', 'ST263Q08JA', 'ST016Q01NA', 'ST059Q01TA', 'ST059Q02JA', 'ST296Q01JA', 'ST296Q02JA', 'ST296Q03JA', 'ST296Q04JA', 'ST272Q01JA', 'ST273Q01JA', 'ST273Q02JA', 'ST273Q03JA', 'ST273Q04JA', 'ST273Q05JA', 'ST273Q06JA', 'ST273Q07JA', 'ST270Q01JA', 'ST270Q02JA', 'ST270Q03JA', 'ST270Q04JA', 'ST285Q01JA', 'ST285Q02JA', 'ST285Q03JA', 'ST285Q04JA', 'ST285Q05JA', 'ST285Q06JA', 'ST285Q07JA', 'ST285Q08JA', 'ST285Q09JA', 'ST283Q01JA', 'ST283Q02JA', 'ST283Q03JA', 'ST283Q04JA', 'ST283Q05JA', 'ST283Q06JA', 'ST283Q07JA', 'ST283Q08JA', 'ST283Q09JA', 'ST275Q01WA', 'ST275Q02WA', 'ST275Q03WA', 'ST275Q04WA', 'ST275Q05WA', 'ST275Q06WA', 'ST275Q07WA', 'ST275Q08WA', 'ST275Q09WA', 'ST276Q01JA', 'ST276Q02JA', 'ST276Q03JA', 'ST276Q04JA', 'ST276Q05JA', 'ST276Q06JA', 'ST276Q07JA', 'ST276Q08JA', 'ST276Q09JA', 'ST276Q10JA', 'ST268Q01JA', 'ST268Q02JA', 'ST268Q03JA', 'ST268Q04JA', 'ST268Q05JA', 'ST268Q06JA', 'ST268Q07JA', 'ST268Q08JA', 'ST268Q09JA', 'ST290Q01WA', 'ST290Q02WA', 'ST290Q03WA', 'ST290Q04WA', 'ST290Q05WA', 'ST290Q06WA', 'ST290Q07WA', 'ST290Q08WA', 'ST290Q09WA', 'ST291Q01JA', 'ST291Q02JA', 'ST291Q03JA', 'ST291Q04JA', 'ST291Q05JA', 'ST291Q06JA', 'ST291Q07JA', 'ST291Q08JA', 'ST291Q09JA', 'ST291Q10JA', 'ST289Q01WA', 'ST289Q02JA', 'ST289Q03WA', 'ST289Q04JA', 'ST289Q05WA', 'ST289Q06JA', 'ST289Q07JA', 'ST289Q08WA', 'ST289Q09WA', 'ST289Q10WA', 'ST289Q11WA', 'ST289Q14JA', 'ST293Q01JA', 'ST293Q02JA', 'ST293Q03JA', 'ST293Q04JA', 'ST293Q05JA', 'ST293Q06JA', 'ST293Q07JA', 'ST293Q08JA', 'ST293Q09JA', 'ST292Q01JA', 'ST292Q02JA', 'ST292Q03JA', 'ST292Q04JA', 'ST292Q05JA', 'ST292Q06JA', 'ST297Q01JA', 'ST297Q03JA', 'ST297Q05JA', 'ST297Q06JA', 'ST297Q07JA', 'ST297Q09JA', 'ST334Q01JA', 'ST334Q02JA', 'ST334Q03JA', 'ST334Q04JA', 'ST334Q05JA', 'ST334Q06JA', 'ST334Q07JA', 'ST334Q08JA', 'ST334Q09JA', 'ST334Q10JA', 'ST335Q01JA', 'ST335Q02JA', 'ST335Q03JA', 'ST335Q05JA', 'ST335Q06JA', 'ST335Q07JA', 'ST336Q01JA', 'ST336Q03JA', 'ST336Q04JA', 'ST336Q05JA', 'ST336Q06JA', 'ST336Q07JA', 'ST337Q01JA', 'ST337Q02JA', 'ST337Q03JA', 'ST337Q04JA', 'ST337Q05JA', 'ST337Q06JA', 'ST337Q07JA', 'ST337Q08JA', 'ST338Q01JA', 'ST338Q02JA', 'ST338Q03JA', 'ST338Q04JA', 'ST338Q05JA', 'ST338Q06JA', 'ST338Q07JA', 'ST338Q08JA', 'ST339Q04JA', 'ST339Q06JA', 'ST340Q01JA', 'ST340Q02JA', 'ST340Q03JA', 'ST340Q04JA', 'ST340Q05JA', 'ST340Q06JA', 'ST340Q07JA', 'ST340Q08JA', 'ST340Q09JA', 'ST340Q10JA', 'ST341Q01JA', 'ST341Q02JA', 'ST341Q03JA', 'ST341Q04JA', 'ST341Q05JA', 'ST342Q01JA', 'ST342Q02JA', 'ST342Q03JA', 'ST342Q04JA', 'ST342Q06JA', 'ST342Q07JA', 'ST342Q08JA', 'ST300Q01JA', 'ST300Q02JA', 'ST300Q03JA', 'ST300Q04JA', 'ST300Q05JA', 'ST300Q06JA', 'ST300Q07JA', 'ST300Q08JA', 'ST300Q09JA', 'ST300Q10JA', 'ST327Q01JA', 'ST327Q02JA', 'ST327Q03JA', 'ST327Q04JA', 'ST327Q05JA', 'ST327Q06JA', 'ST327Q07JA', 'ST327Q08JA', 'ST330Q01WA', 'ST330Q02WA', 'ST330Q03WA', 'ST330Q04WA', 'ST330Q05WA', 'ST330Q06WA', 'ST330Q07WA', 'ST330Q08WA', 'ST330Q09WA', 'ST330Q11WA', 'ST330D10WA', 'ST324Q02JA', 'ST324Q04JA', 'ST324Q05JA', 'ST324Q07JA', 'ST324Q10JA', 'ST324Q11JA', 'ST324Q12JA', 'ST324Q13JA', 'ST324Q14JA', 'ST347Q01JA', 'ST347Q02JA', 'ST348Q01JA', 'ST348Q02JA', 'ST348Q03JA', 'ST348Q04JA', 'ST348Q05JA', 'ST348Q06JA', 'ST348Q07JA', 'ST348Q08JA', 'ST349Q01JA', 'ST350Q01JA', 'ST351Q01JA', 'ST351Q02JA', 'ST351Q03JA', 'ST351Q04JA', 'ST351Q05JA', 'ST351Q06JA', 'ST351Q07JA', 'ST351Q08JA', 'ST352Q01JA', 'ST352Q02JA', 'ST352Q03JA', 'ST352Q04JA', 'ST352Q05JA', 'ST352Q06JA', 'ST352Q07JA', 'ST352Q08JA', 'ST353Q01JA', 'ST353Q02JA', 'ST353Q03JA', 'ST353Q04JA', 'ST353Q05JA', 'ST353Q06JA', 'ST353Q07JA', 'ST353Q08JA', 'ST354Q01JA', 'ST354Q02JA', 'ST354Q03JA', 'ST354Q04JA', 'ST354Q05JA', 'ST354Q06JA', 'ST354Q07JA', 'ST354Q08JA', 'ST354Q09JA', 'ST354Q10JA', 'ST355Q01JA', 'ST355Q02JA', 'ST355Q03JA', 'ST355Q04JA', 'ST355Q05JA', 'ST355Q06JA', 'ST355Q07JA', 'ST355Q08JA', 'ST356Q01JA', 'ST331Q01JA', 'ST331Q02JA', 'ST331Q03JA', 'FL150Q01TA', 'FL150Q02TA', 'FL150Q03TA', 'FL164Q01HA', 'FL164Q02HA', 'FL164Q03HA', 'FL164Q04HA', 'FL164Q05HA', 'FL164Q06HA', 'FL164Q07HA', 'FL164Q08HA', 'FL164Q09HA', 'FL164Q10HA', 'FL164Q11HA', 'FL164Q12HA', 'FL164Q13HA', 'FL164Q14HA', 'FL164Q15HA', 'FL164Q16HA', 'FL166Q01HA', 'FL166Q02HA', 'FL166Q03HA', 'FL166Q05HA', 'FL166Q06HA', 'FL166Q07HA', 'FL174Q01JA', 'FL174Q02JA', 'FL174Q03JA', 'FL174Q04JA', 'FL174Q05JA', 'FL174Q06JA', 'FL174Q07JA', 'FL167Q01HA', 'FL167Q02HA', 'FL167Q06JA', 'FL167Q03HA', 'FL167Q04HA', 'FL167Q05HA', 'FL167Q07JA', 'FL170Q01JA', 'FL170Q02JA', 'FL170Q03JA', 'FL170Q04JA', 'FL170Q05JA', 'FL170Q06JA', 'FL170Q07JA', 'FL159Q01HA', 'FL159Q02HA', 'FL159Q03HA', 'FL159Q04HA', 'FL160Q01HA', 'FL160Q02HA', 'FL160Q03HA', 'FL160Q04HA', 'FL161Q01HA', 'FL161Q02HA', 'FL161Q03HA', 'FL162Q01HA', 'FL162Q02HA', 'FL162Q03HA', 'FL162Q04HA', 'FL162Q05HA', 'FL162Q06HA', 'FL163Q01HA', 'FL163Q02HA', 'FL163Q03HA', 'FL163Q04HA', 'FL163Q05HA', 'FL171Q01JA', 'FL171Q02JA', 'FL171Q03JA', 'FL171Q04JA', 'FL171Q05JA', 'FL171Q07JA', 'FL171Q08JA', 'FL171Q09JA', 'FL171Q10JA', 'FL171Q11JA', 'FL171Q12JA', 'FL169Q01HA', 'FL169Q05JA', 'FL169Q02HA', 'FL169Q06JA', 'FL169Q07JA', 'FL169Q03HA', 'FL169Q04HA', 'FL169Q08JA', 'FL169Q10JA', 'FL169Q11JA', 'FL172Q01JA', 'FL172Q03JA', 'FL172Q05JA', 'FL172Q06JA', 'IC170Q01JA', 'IC170Q02JA', 'IC170Q03JA', 'IC170Q04JA', 'IC170Q05JA', 'IC170Q06JA', 'IC170Q07JA', 'IC171Q01JA', 'IC171Q02JA', 'IC171Q03JA', 'IC171Q04JA', 'IC171Q05JA', 'IC171Q06JA', 'IC172Q01JA', 'IC172Q02JA', 'IC172Q03JA', 'IC172Q04JA', 'IC172Q05JA', 'IC172Q06JA', 'IC172Q07JA', 'IC172Q08JA', 'IC172Q09JA', 'IC173Q01JA', 'IC173Q02JA', 'IC173Q03JA', 'IC173Q04JA', 'IC174Q01JA', 'IC174Q02JA', 'IC174Q03JA', 'IC174Q04JA', 'IC174Q05JA', 'IC174Q06JA', 'IC174Q07JA', 'IC174Q08JA', 'IC174Q09JA', 'IC174Q10JA', 'IC175Q01JA', 'IC175Q02JA', 'IC175Q03JA', 'IC175Q05JA', 'IC176Q01JA', 'IC176Q02JA', 'IC176Q03JA', 'IC176Q04JA', 'IC176Q05JA', 'IC176Q06JA', 'IC176Q07JA', 'IC176Q08JA', 'IC184Q01JA', 'IC184Q02JA', 'IC184Q03JA', 'IC184Q04JA', 'IC177Q01JA', 'IC177Q02JA', 'IC177Q03JA', 'IC177Q04JA', 'IC177Q05JA', 'IC177Q06JA', 'IC177Q07JA', 'IC178Q01JA', 'IC178Q02JA', 'IC178Q03JA', 'IC178Q04JA', 'IC178Q05JA', 'IC178Q06JA', 'IC178Q07JA', 'IC179Q01JA', 'IC179Q02JA', 'IC179Q03JA', 'IC179Q04JA', 'IC179Q05JA', 'IC179Q06JA', 'IC180Q01JA', 'IC180Q02JA', 'IC180Q03JA', 'IC180Q04JA', 'IC180Q05JA', 'IC180Q06JA', 'IC180Q07JA', 'IC180Q08JA', 'IC181Q01JA', 'IC181Q02JA', 'IC181Q03JA', 'IC181Q04JA', 'IC182Q01JA', 'IC182Q02JA', 'IC182Q03JA', 'IC183Q01JA', 'IC183Q02JA', 'IC183Q03JA', 'IC183Q04JA', 'IC183Q05JA', 'IC183Q07JA', 'IC183Q08JA', 'IC183Q09JA', 'IC183Q10JA', 'IC183Q12JA', 'IC183Q13JA', 'IC183Q14JA', 'IC183Q15JA', 'IC183Q16JA', 'WB150Q01HA', 'WB151Q01HA', 'WB152Q01HA', 'WB153Q01HA', 'WB153Q02HA', 'WB153Q03HA', 'WB153Q04HA', 'WB153Q05HA', 'WB154Q01HA', 'WB154Q02HA', 'WB154Q03HA', 'WB154Q04HA', 'WB154Q05HA', 'WB154Q06HA', 'WB154Q07HA', 'WB154Q08HA', 'WB154Q09HA', 'WB155Q01HA', 'WB155Q02HA', 'WB155Q03HA', 'WB155Q04HA', 'WB155Q05HA', 'WB155Q06HA', 'WB155Q07HA', 'WB155Q08HA', 'WB155Q09HA', 'WB155Q10HA', 'WB156Q01HA', 'WB158Q01HA', 'WB160Q01HA', 'WB161Q01HA', 'WB162Q01HA', 'WB162Q02HA', 'WB162Q03HA', 'WB162Q04HA', 'WB162Q05HA', 'WB162Q06HA', 'WB162Q07HA', 'WB162Q08HA', 'WB162Q09HA', 'WB163Q01HA', 'WB163Q02HA', 'WB163Q03HA', 'WB163Q04HA', 'WB163Q05HA', 'WB163Q06HA', 'WB163Q07HA', 'WB163Q08HA', 'WB164Q01HA', 'WB165Q01HA', 'WB166Q01HA', 'WB166Q02HA', 'WB166Q03HA', 'WB166Q04HA', 'WB167Q01HA', 'WB168Q01HA', 'WB168Q02HA', 'WB168Q03HA', 'WB168Q04HA', 'WB171Q01HA', 'WB171Q02HA', 'WB171Q03HA', 'WB171Q04HA', 'WB172Q01HA', 'WB173Q01HA', 'WB173Q02HA', 'WB173Q03HA', 'WB173Q04HA', 'WB176Q01HA', 'WB177Q01HA', 'WB177Q02HA', 'WB177Q03HA', 'WB177Q04HA', 'WB032Q01NA', 'WB032Q02NA', 'WB031Q01NA', 'WB178Q01HA', 'WB178Q02HA', 'WB178Q03HA', 'WB178Q04HA', 'WB178Q05HA', 'WB178Q06HA', 'WB178Q07HA', 'PA001Q01TA', 'PA001Q02TA', 'PA001Q03TA', 'PA003Q01TA', 'PA003Q02TA', 'PA003Q03TA', 'PA003Q05IA', 'PA003Q18WA', 'PA003Q19WA', 'PA003Q20WA', 'PA003Q11JA', 'PA003Q12JA', 'PA003Q13JA', 'PA003Q14JA', 'PA003Q15JA', 'PA003Q16JA', 'PA003Q17JA', 'PA196Q01WA', 'PA196Q02WA', 'PA196Q03WA', 'PA196Q04WA', 'PA197Q01WA', 'PA197Q02WA', 'PA197Q03WA', 'PA197Q04WA', 'PA197Q05WA', 'PA008Q01TA', 'PA008Q02TA', 'PA008Q03TA', 'PA008Q04TA', 'PA008Q05TA', 'PA008Q06NA', 'PA008Q07NA', 'PA008Q08NA', 'PA008Q09NA', 'PA008Q10NA', 'PA009Q01NA', 'PA009Q02NA', 'PA009Q03NA', 'PA009Q04NA', 'PA009Q05NA', 'PA009Q06NA', 'PA009Q07NA', 'PA009Q08NA', 'PA009Q09NA', 'PA009Q10NA', 'PA009Q11NA', 'PA007Q01TA', 'PA007Q02TA', 'PA007Q03TA', 'PA007Q04TA', 'PA007Q05TA', 'PA007Q06TA', 'PA007Q07TA', 'PA007Q09NA', 'PA007Q11NA', 'PA007Q12NA', 'PA007Q13NA', 'PA007Q14NA', 'PA007Q15NA', 'PA005Q01TA', 'PA006Q01TA', 'PA006Q02TA', 'PA006Q03TA', 'PA006Q04TA', 'PA006Q05TA', 'PA006Q06TA', 'PA006Q07TA', 'PA006Q08TA', 'PA006Q09TA', 'PA006Q10TA', 'PA006Q11TA', 'PA006Q12HA', 'PA006Q13HA', 'PA006Q14HA', 'PA166Q01HA', 'PA167Q02HA', 'PA167Q03HA', 'PA167Q04HA', 'PA167Q05HA', 'PA183Q01JA', 'PA183Q02JA', 'PA183Q03JA', 'PA183Q04JA', 'PA183Q05JA', 'PA183Q06JA', 'PA183Q07JA', 'PA183Q08JA', 'PA018Q01NA', 'PA018Q02NA', 'PA018Q03NA', 'PA177Q01HA', 'PA177Q02HA', 'PA177Q03HA', 'PA177Q04HA', 'PA177Q05HA', 'PA177Q06HA', 'PA177Q07HA', 'PA177Q08HA', 'PA180Q01HA', 'PA182Q01HA', 'PA175Q01HA', 'PA175Q02HA', 'PA175Q03JA', 'PA175Q04JA', 'PA185Q01JA', 'PA185Q02JA', 'PA185Q03JA', 'PA185Q04JA', 'PA185Q05JA', 'PA185Q07JA', 'PA185Q08JA', 'PA185Q09JA', 'PA185Q10JA', 'PA186Q01JA', 'PA186Q02JA', 'PA186Q03JA', 'PA186Q04JA', 'PA186Q05JA', 'PA186Q06JA', 'PA186Q07JA', 'PA186Q08JA', 'PA187Q04JA', 'PA187Q06JA', 'PA188Q01JA', 'PA188Q02JA', 'PA188Q03JA', 'PA188Q04JA', 'PA188Q05JA', 'PA188Q06JA', 'PA188Q08JA', 'PA188Q09JA', 'PA188Q10JA', 'PA189Q01JA', 'PA189Q02JA', 'PA189Q03JA', 'PA189Q04JA', 'PA189Q05JA', 'PA189Q06JA', 'PA189Q09JA', 'PA189Q10JA', 'PA194Q01JA', 'PA195Q01JA', 'PA041Q01TA', 'PA042Q01TA', 'EFFORT1', 'EFFORT2', 'OCOD1', 'OCOD2', 'OCOD3', 'PROGN', 'AGE', 'GRADE', 'ISCEDP', 'IMMIG', 'COBN_S', 'COBN_M', 'COBN_F', 'LANGN', 'REPEAT', 'MISSSC', 'SKIPPING', 'TARDYSD', 'EXERPRAC', 'STUDYHMW', 'WORKPAY', 'WORKHOME', 'EXPECEDU', 'MATHPREF', 'MATHEASE', 'MATHMOT', 'DURECEC', 'BSMJ', 'SISCO', 'RELATST', 'BELONG', 'BULLIED', 'FEELSAFE', 'SCHRISK', 'PERSEVAGR', 'CURIOAGR', 'COOPAGR', 'EMPATAGR', 'ASSERAGR', 'STRESAGR', 'EMOCOAGR', 'GROSAGR', 'INFOSEEK', 'FAMSUP', 'DISCLIM', 'TEACHSUP', 'COGACRCO', 'COGACMCO', 'EXPOFA', 'EXPO21ST', 'MATHEFF', 'MATHEF21', 'FAMCON', 'ANXMAT', 'MATHPERS', 'CREATEFF', 'CREATSCH', 'CREATFAM', 'CREATAS', 'CREATOOS', 'CREATOP', 'OPENART', 'IMAGINE', 'SCHSUST', 'LEARRES', 'PROBSELF', 'FAMSUPSL', 'FEELLAH', 'SDLEFF', 'MISCED', 'FISCED', 'HISCED', 'PAREDINT', 'BMMJ1', 'BFMJ2', 'HISEI', 'ICTRES', 'HOMEPOS', 'ESCS', 'FCFMLRTY', 'FLSCHOOL', 'FLMULTSB', 'FLFAMILY', 'ACCESSFP', 'FLCONFIN', 'FLCONICT', 'ACCESSFA', 'ATTCONFM', 'FRINFLFM', 'ICTSCH', 'ICTAVSCH', 'ICTHOME', 'ICTAVHOM', 'ICTQUAL', 'ICTSUBJ', 'ICTENQ', 'ICTFEED', 'ICTOUT', 'ICTWKDY', 'ICTWKEND', 'ICTREG', 'ICTINFO', 'ICTDISTR', 'ICTEFFIC', 'STUBMI', 'BODYIMA', 'SOCONPA', 'LIFESAT', 'PSYCHSYM', 'SOCCON', 'EXPWB', 'CURSUPP', 'PQMIMP', 'PQMCAR', 'PARINVOL', 'PQSCHOOL', 'PASCHPOL', 'ATTIMMP', 'PAREXPT', 'CREATHME', 'CREATACT', 'CREATOPN', 'CREATOR', 'W_FSTUWT', 'W_FSTURWT1', 'W_FSTURWT2', 'W_FSTURWT3', 'W_FSTURWT4', 'W_FSTURWT5', 'W_FSTURWT6', 'W_FSTURWT7', 'W_FSTURWT8', 'W_FSTURWT9', 'W_FSTURWT10', 'W_FSTURWT11', 'W_FSTURWT12', 'W_FSTURWT13', 'W_FSTURWT14', 'W_FSTURWT15', 'W_FSTURWT16', 'W_FSTURWT17', 'W_FSTURWT18', 'W_FSTURWT19', 'W_FSTURWT20', 'W_FSTURWT21', 'W_FSTURWT22', 'W_FSTURWT23', 'W_FSTURWT24', 'W_FSTURWT25', 'W_FSTURWT26', 'W_FSTURWT27', 'W_FSTURWT28', 'W_FSTURWT29', 'W_FSTURWT30', 'W_FSTURWT31', 'W_FSTURWT32', 'W_FSTURWT33', 'W_FSTURWT34', 'W_FSTURWT35', 'W_FSTURWT36', 'W_FSTURWT37', 'W_FSTURWT38', 'W_FSTURWT39', 'W_FSTURWT40', 'W_FSTURWT41', 'W_FSTURWT42', 'W_FSTURWT43', 'W_FSTURWT44', 'W_FSTURWT45', 'W_FSTURWT46', 'W_FSTURWT47', 'W_FSTURWT48', 'W_FSTURWT49', 'W_FSTURWT50', 'W_FSTURWT51', 'W_FSTURWT52', 'W_FSTURWT53', 'W_FSTURWT54', 'W_FSTURWT55', 'W_FSTURWT56', 'W_FSTURWT57', 'W_FSTURWT58', 'W_FSTURWT59', 'W_FSTURWT60', 'W_FSTURWT61', 'W_FSTURWT62', 'W_FSTURWT63', 'W_FSTURWT64', 'W_FSTURWT65', 'W_FSTURWT66', 'W_FSTURWT67', 'W_FSTURWT68', 'W_FSTURWT69', 'W_FSTURWT70', 'W_FSTURWT71', 'W_FSTURWT72', 'W_FSTURWT73', 'W_FSTURWT74', 'W_FSTURWT75', 'W_FSTURWT76', 'W_FSTURWT77', 'W_FSTURWT78', 'W_FSTURWT79', 'W_FSTURWT80', 'UNIT', 'WVARSTRR', 'PV1MATH', 'PV2MATH', 'PV3MATH', 'PV4MATH', 'PV5MATH', 'PV6MATH', 'PV7MATH', 'PV8MATH', 'PV9MATH', 'PV10MATH', 'PV1READ', 'PV2READ', 'PV3READ', 'PV4READ', 'PV5READ', 'PV6READ', 'PV7READ', 'PV8READ', 'PV9READ', 'PV10READ', 'PV1SCIE', 'PV2SCIE', 'PV3SCIE', 'PV4SCIE', 'PV5SCIE', 'PV6SCIE', 'PV7SCIE', 'PV8SCIE', 'PV9SCIE', 'PV10SCIE', 'PV1MCCR', 'PV2MCCR', 'PV3MCCR', 'PV4MCCR', 'PV5MCCR', 'PV6MCCR', 'PV7MCCR', 'PV8MCCR', 'PV9MCCR', 'PV10MCCR', 'PV1MCQN', 'PV2MCQN', 'PV3MCQN', 'PV4MCQN', 'PV5MCQN', 'PV6MCQN', 'PV7MCQN', 'PV8MCQN', 'PV9MCQN', 'PV10MCQN', 'PV1MCSS', 'PV2MCSS', 'PV3MCSS', 'PV4MCSS', 'PV5MCSS', 'PV6MCSS', 'PV7MCSS', 'PV8MCSS', 'PV9MCSS', 'PV10MCSS', 'PV1MCUD', 'PV2MCUD', 'PV3MCUD', 'PV4MCUD', 'PV5MCUD', 'PV6MCUD', 'PV7MCUD', 'PV8MCUD', 'PV9MCUD', 'PV10MCUD', 'PV1MPEM', 'PV2MPEM', 'PV3MPEM', 'PV4MPEM', 'PV5MPEM', 'PV6MPEM', 'PV7MPEM', 'PV8MPEM', 'PV9MPEM', 'PV10MPEM', 'PV1MPFS', 'PV2MPFS', 'PV3MPFS', 'PV4MPFS', 'PV5MPFS', 'PV6MPFS', 'PV7MPFS', 'PV8MPFS', 'PV9MPFS', 'PV10MPFS', 'PV1MPIN', 'PV2MPIN', 'PV3MPIN', 'PV4MPIN', 'PV5MPIN', 'PV6MPIN', 'PV7MPIN', 'PV8MPIN', 'PV9MPIN', 'PV10MPIN', 'PV1MPRE', 'PV2MPRE', 'PV3MPRE', 'PV4MPRE', 'PV5MPRE', 'PV6MPRE', 'PV7MPRE', 'PV8MPRE', 'PV9MPRE', 'PV10MPRE', 'SENWT', 'VER_DAT']\n"
     ]
    }
   ],
   "source": [
    "print(list(df_student.columns))"
   ]
  },
  {
   "cell_type": "code",
   "execution_count": 5,
   "metadata": {},
   "outputs": [],
   "source": [
    "# CONVERT to numerical\n",
    "columns = [\n",
    "    \"CREATEFF\", # Creative self-efficacy (WLE)\n",
    "    \"CREATSCH\", # Creative school and class environment (WLE)\n",
    "    \"CREATFAM\", # Creative peers and family environment (WLE)\n",
    "    \"CREATAS\", # Creative Activities at school (WLE)\n",
    "    \"CREATOOS\", # Creative Activities outside of school (WLE)\n",
    "    \"CREATOP\", # Creativity and Openness to Intellect TBD (WLE)\n",
    "    \"CREATHME\", # Creative Home Environment (WLE)\n",
    "    \"CREATACT\", # Participation in creative activities outside of school (WLE)\n",
    "    \"CREATOPN\", # Creativity and Openness to Intellect (WLE)\n",
    "    \"CREATOR\", # Openness to creativity: Other’s report (WLE)\n",
    "    \"MATHEFF\",\n",
    "    \"MATHEF21\",\n",
    "    \"MATHPERS\"\n",
    "]\n",
    "\n",
    "for col in columns:\n",
    "    number_of_filled_columns = df_student[col].count()\n",
    "    s_temp = pd.to_numeric(df_student[col], errors='coerce')\n",
    "    number_of_filled_columns_post = s_temp.count()\n",
    "    assert number_of_filled_columns == number_of_filled_columns_post, f\"In converting {col}, got {number_of_filled_columns_post} NaNs != {number_of_filled_columns} NaNs\"\n",
    "    df_student[col] = s_temp"
   ]
  },
  {
   "cell_type": "code",
   "execution_count": 6,
   "metadata": {},
   "outputs": [],
   "source": [
    "# CONVERT to categorical\n",
    "columns = [\n",
    "    \"CNTSCHID\", # Intl. School ID\n",
    "    \"CNTSTUID\", # Student ID\n",
    "    \"CYC\", # PISA Assessment Cycle (2 digits + 2 character Assessment type - MS/FT)\n",
    "    \"VER_DAT\", # Date of the database creation\n",
    "]\n",
    "\n",
    "for col in columns:\n",
    "    df_student[col] = df_student[col].astype('category')"
   ]
  },
  {
   "cell_type": "code",
   "execution_count": 7,
   "metadata": {},
   "outputs": [],
   "source": [
    "df = df_student[[\n",
    "    'CNT', 'CNTSCHID', 'CNTSTUID', \n",
    "    'Option_CT', 'Option_FL', 'Option_ICTQ', 'Option_WBQ', 'Option_PQ', 'Option_TQ', 'Option_UH', \n",
    "    'PV1MATH', # 'PV2MATH', 'PV3MATH', 'PV4MATH', 'PV5MATH',\n",
    "    'PV1READ', # 'PV2READ', 'PV3READ', 'PV4READ', 'PV5READ',\n",
    "    'PV1SCIE', # 'PV2SCIE', 'PV3SCIE', 'PV4SCIE', 'PV5SCIE', \n",
    "    'MATHPREF', # Preference of Math over other core subjects\n",
    "    'MATHEASE', # Perception of Mathematics as easier than other subjects\n",
    "    'MATHMOT', # Motivation to do well in mathematics \n",
    "    \"CREATEFF\", \"CREATSCH\", \"CREATFAM\", \"CREATAS\", \"CREATOOS\", \"CREATOP\", \"CREATHME\", \"CREATACT\", \"CREATOPN\", \"CREATOR\", \n",
    "    \"ST004D01T\", # Student (Standardized) Gender\n",
    "    \"ST250Q01JA\", # Which of the following are in your [home]: A room of your own\n",
    "    \"ST250Q02JA\", # Which of the following are in your [home]: A computer (laptop, desktop, or tablet) that you can use for school work\n",
    "    \"ST250Q03JA\", # Which of the following are in your [home]: Educational Software or Apps\n",
    "    \"ST250Q04JA\", # Which of the following are in your [home]: Your own [cell phone] with Internet access (e.g. smartphone)\n",
    "    \"ST250Q05JA\", # Which of the following are in your [home]: Internet access (e.g. Wi-fi) (excluding through smartphones)\n",
    "    \"MATHEFF\",\n",
    "    \"MATHEF21\",\n",
    "    \"MATHPERS\"\n",
    "]]"
   ]
  },
  {
   "cell_type": "code",
   "execution_count": 8,
   "metadata": {},
   "outputs": [
    {
     "name": "stdout",
     "output_type": "stream",
     "text": [
      "<class 'pandas.core.frame.DataFrame'>\n",
      "RangeIndex: 613744 entries, 0 to 613743\n",
      "Data columns (total 35 columns):\n",
      " #   Column       Non-Null Count   Dtype   \n",
      "---  ------       --------------   -----   \n",
      " 0   CNT          613744 non-null  category\n",
      " 1   CNTSCHID     613744 non-null  category\n",
      " 2   CNTSTUID     613744 non-null  category\n",
      " 3   Option_CT    613744 non-null  category\n",
      " 4   Option_FL    613744 non-null  category\n",
      " 5   Option_ICTQ  613744 non-null  category\n",
      " 6   Option_WBQ   613744 non-null  category\n",
      " 7   Option_PQ    613744 non-null  category\n",
      " 8   Option_TQ    613744 non-null  category\n",
      " 9   Option_UH    613744 non-null  category\n",
      " 10  PV1MATH      613744 non-null  float64 \n",
      " 11  PV1READ      613744 non-null  float64 \n",
      " 12  PV1SCIE      613744 non-null  float64 \n",
      " 13  MATHPREF     509150 non-null  category\n",
      " 14  MATHEASE     506482 non-null  category\n",
      " 15  MATHMOT      506539 non-null  category\n",
      " 16  CREATEFF     464114 non-null  float64 \n",
      " 17  CREATSCH     462428 non-null  float64 \n",
      " 18  CREATFAM     457538 non-null  float64 \n",
      " 19  CREATAS      417643 non-null  float64 \n",
      " 20  CREATOOS     399028 non-null  float64 \n",
      " 21  CREATOP      461832 non-null  float64 \n",
      " 22  CREATHME     89879 non-null   float64 \n",
      " 23  CREATACT     69982 non-null   float64 \n",
      " 24  CREATOPN     89488 non-null   float64 \n",
      " 25  CREATOR      89738 non-null   float64 \n",
      " 26  ST004D01T    613665 non-null  category\n",
      " 27  ST250Q01JA   580227 non-null  category\n",
      " 28  ST250Q02JA   583643 non-null  category\n",
      " 29  ST250Q03JA   577205 non-null  category\n",
      " 30  ST250Q04JA   585263 non-null  category\n",
      " 31  ST250Q05JA   582810 non-null  category\n",
      " 32  MATHEFF      469513 non-null  float64 \n",
      " 33  MATHEF21     487420 non-null  float64 \n",
      " 34  MATHPERS     502608 non-null  float64 \n",
      "dtypes: category(19), float64(16)\n",
      "memory usage: 109.9 MB\n"
     ]
    }
   ],
   "source": [
    "df.info(verbose = True, show_counts = True)"
   ]
  },
  {
   "cell_type": "code",
   "execution_count": 9,
   "metadata": {},
   "outputs": [
    {
     "data": {
      "text/html": [
       "<div>\n",
       "<style scoped>\n",
       "    .dataframe tbody tr th:only-of-type {\n",
       "        vertical-align: middle;\n",
       "    }\n",
       "\n",
       "    .dataframe tbody tr th {\n",
       "        vertical-align: top;\n",
       "    }\n",
       "\n",
       "    .dataframe thead th {\n",
       "        text-align: right;\n",
       "    }\n",
       "</style>\n",
       "<table border=\"1\" class=\"dataframe\">\n",
       "  <thead>\n",
       "    <tr style=\"text-align: right;\">\n",
       "      <th></th>\n",
       "      <th>CNT</th>\n",
       "      <th>CNTSCHID</th>\n",
       "      <th>CNTSTUID</th>\n",
       "      <th>Option_CT</th>\n",
       "      <th>Option_FL</th>\n",
       "      <th>Option_ICTQ</th>\n",
       "      <th>Option_WBQ</th>\n",
       "      <th>Option_PQ</th>\n",
       "      <th>Option_TQ</th>\n",
       "      <th>Option_UH</th>\n",
       "      <th>MATHPREF</th>\n",
       "      <th>MATHEASE</th>\n",
       "      <th>MATHMOT</th>\n",
       "      <th>ST004D01T</th>\n",
       "      <th>ST250Q01JA</th>\n",
       "      <th>ST250Q02JA</th>\n",
       "      <th>ST250Q03JA</th>\n",
       "      <th>ST250Q04JA</th>\n",
       "      <th>ST250Q05JA</th>\n",
       "    </tr>\n",
       "  </thead>\n",
       "  <tbody>\n",
       "    <tr>\n",
       "      <th>count</th>\n",
       "      <td>613744</td>\n",
       "      <td>613744.0</td>\n",
       "      <td>613744.0</td>\n",
       "      <td>613744</td>\n",
       "      <td>613744</td>\n",
       "      <td>613744</td>\n",
       "      <td>613744</td>\n",
       "      <td>613744</td>\n",
       "      <td>613744</td>\n",
       "      <td>613744</td>\n",
       "      <td>509150</td>\n",
       "      <td>506482</td>\n",
       "      <td>506539</td>\n",
       "      <td>613665</td>\n",
       "      <td>580227</td>\n",
       "      <td>583643</td>\n",
       "      <td>577205</td>\n",
       "      <td>585263</td>\n",
       "      <td>582810</td>\n",
       "    </tr>\n",
       "    <tr>\n",
       "      <th>unique</th>\n",
       "      <td>80</td>\n",
       "      <td>21629.0</td>\n",
       "      <td>613744.0</td>\n",
       "      <td>2</td>\n",
       "      <td>2</td>\n",
       "      <td>2</td>\n",
       "      <td>2</td>\n",
       "      <td>2</td>\n",
       "      <td>2</td>\n",
       "      <td>2</td>\n",
       "      <td>2</td>\n",
       "      <td>2</td>\n",
       "      <td>2</td>\n",
       "      <td>2</td>\n",
       "      <td>2</td>\n",
       "      <td>2</td>\n",
       "      <td>2</td>\n",
       "      <td>2</td>\n",
       "      <td>2</td>\n",
       "    </tr>\n",
       "    <tr>\n",
       "      <th>top</th>\n",
       "      <td>Spain</td>\n",
       "      <td>49900035.0</td>\n",
       "      <td>86007492.0</td>\n",
       "      <td>Yes</td>\n",
       "      <td>No</td>\n",
       "      <td>Yes</td>\n",
       "      <td>No</td>\n",
       "      <td>No</td>\n",
       "      <td>No</td>\n",
       "      <td>No</td>\n",
       "      <td>No preference for mathematics over other subjects</td>\n",
       "      <td>No perception of mathematics as easier than ot...</td>\n",
       "      <td>Not more motivated to do well in mathematics t...</td>\n",
       "      <td>Male</td>\n",
       "      <td>Yes</td>\n",
       "      <td>Yes</td>\n",
       "      <td>Yes</td>\n",
       "      <td>Yes</td>\n",
       "      <td>Yes</td>\n",
       "    </tr>\n",
       "    <tr>\n",
       "      <th>freq</th>\n",
       "      <td>30800</td>\n",
       "      <td>475.0</td>\n",
       "      <td>1.0</td>\n",
       "      <td>499843</td>\n",
       "      <td>416428</td>\n",
       "      <td>393607</td>\n",
       "      <td>478396</td>\n",
       "      <td>498537</td>\n",
       "      <td>468692</td>\n",
       "      <td>508796</td>\n",
       "      <td>445844</td>\n",
       "      <td>453971</td>\n",
       "      <td>480018</td>\n",
       "      <td>307906</td>\n",
       "      <td>459439</td>\n",
       "      <td>480021</td>\n",
       "      <td>413380</td>\n",
       "      <td>554885</td>\n",
       "      <td>525842</td>\n",
       "    </tr>\n",
       "  </tbody>\n",
       "</table>\n",
       "</div>"
      ],
      "text/plain": [
       "           CNT    CNTSCHID    CNTSTUID Option_CT Option_FL Option_ICTQ  \\\n",
       "count   613744    613744.0    613744.0    613744    613744      613744   \n",
       "unique      80     21629.0    613744.0         2         2           2   \n",
       "top      Spain  49900035.0  86007492.0       Yes        No         Yes   \n",
       "freq     30800       475.0         1.0    499843    416428      393607   \n",
       "\n",
       "       Option_WBQ Option_PQ Option_TQ Option_UH  \\\n",
       "count      613744    613744    613744    613744   \n",
       "unique          2         2         2         2   \n",
       "top            No        No        No        No   \n",
       "freq       478396    498537    468692    508796   \n",
       "\n",
       "                                                 MATHPREF  \\\n",
       "count                                              509150   \n",
       "unique                                                  2   \n",
       "top     No preference for mathematics over other subjects   \n",
       "freq                                               445844   \n",
       "\n",
       "                                                 MATHEASE  \\\n",
       "count                                              506482   \n",
       "unique                                                  2   \n",
       "top     No perception of mathematics as easier than ot...   \n",
       "freq                                               453971   \n",
       "\n",
       "                                                  MATHMOT ST004D01T  \\\n",
       "count                                              506539    613665   \n",
       "unique                                                  2         2   \n",
       "top     Not more motivated to do well in mathematics t...      Male   \n",
       "freq                                               480018    307906   \n",
       "\n",
       "       ST250Q01JA ST250Q02JA ST250Q03JA ST250Q04JA ST250Q05JA  \n",
       "count      580227     583643     577205     585263     582810  \n",
       "unique          2          2          2          2          2  \n",
       "top           Yes        Yes        Yes        Yes        Yes  \n",
       "freq       459439     480021     413380     554885     525842  "
      ]
     },
     "execution_count": 9,
     "metadata": {},
     "output_type": "execute_result"
    }
   ],
   "source": [
    "df.describe(include=['category'])"
   ]
  },
  {
   "cell_type": "code",
   "execution_count": 10,
   "metadata": {},
   "outputs": [
    {
     "name": "stderr",
     "output_type": "stream",
     "text": [
      "/tmp/ipykernel_2771356/1419215504.py:1: FutureWarning: The default of observed=False is deprecated and will be changed to True in a future version of pandas. Pass observed=False to retain current behavior or observed=True to adopt the future default and silence this warning.\n",
      "  df.groupby(['Option_CT', 'Option_WBQ']).agg({i:\"value_counts\" for i in ['Option_PQ', 'Option_TQ', 'Option_UH']})\n"
     ]
    },
    {
     "data": {
      "text/html": [
       "<div>\n",
       "<style scoped>\n",
       "    .dataframe tbody tr th:only-of-type {\n",
       "        vertical-align: middle;\n",
       "    }\n",
       "\n",
       "    .dataframe tbody tr th {\n",
       "        vertical-align: top;\n",
       "    }\n",
       "\n",
       "    .dataframe thead th {\n",
       "        text-align: right;\n",
       "    }\n",
       "</style>\n",
       "<table border=\"1\" class=\"dataframe\">\n",
       "  <thead>\n",
       "    <tr style=\"text-align: right;\">\n",
       "      <th></th>\n",
       "      <th></th>\n",
       "      <th></th>\n",
       "      <th>Option_PQ</th>\n",
       "      <th>Option_TQ</th>\n",
       "      <th>Option_UH</th>\n",
       "    </tr>\n",
       "    <tr>\n",
       "      <th>Option_CT</th>\n",
       "      <th>Option_WBQ</th>\n",
       "      <th></th>\n",
       "      <th></th>\n",
       "      <th></th>\n",
       "      <th></th>\n",
       "    </tr>\n",
       "  </thead>\n",
       "  <tbody>\n",
       "    <tr>\n",
       "      <th rowspan=\"4\" valign=\"top\">No</th>\n",
       "      <th rowspan=\"2\" valign=\"top\">No</th>\n",
       "      <th>No</th>\n",
       "      <td>101749</td>\n",
       "      <td>95722</td>\n",
       "      <td>97629</td>\n",
       "    </tr>\n",
       "    <tr>\n",
       "      <th>Yes</th>\n",
       "      <td>6583</td>\n",
       "      <td>12610</td>\n",
       "      <td>10703</td>\n",
       "    </tr>\n",
       "    <tr>\n",
       "      <th rowspan=\"2\" valign=\"top\">Yes</th>\n",
       "      <th>Yes</th>\n",
       "      <td>5569</td>\n",
       "      <td>0</td>\n",
       "      <td>0</td>\n",
       "    </tr>\n",
       "    <tr>\n",
       "      <th>No</th>\n",
       "      <td>0</td>\n",
       "      <td>5569</td>\n",
       "      <td>5569</td>\n",
       "    </tr>\n",
       "    <tr>\n",
       "      <th rowspan=\"4\" valign=\"top\">Yes</th>\n",
       "      <th rowspan=\"2\" valign=\"top\">No</th>\n",
       "      <th>No</th>\n",
       "      <td>305683</td>\n",
       "      <td>293968</td>\n",
       "      <td>298381</td>\n",
       "    </tr>\n",
       "    <tr>\n",
       "      <th>Yes</th>\n",
       "      <td>64381</td>\n",
       "      <td>76096</td>\n",
       "      <td>71683</td>\n",
       "    </tr>\n",
       "    <tr>\n",
       "      <th rowspan=\"2\" valign=\"top\">Yes</th>\n",
       "      <th>No</th>\n",
       "      <td>91105</td>\n",
       "      <td>73433</td>\n",
       "      <td>107217</td>\n",
       "    </tr>\n",
       "    <tr>\n",
       "      <th>Yes</th>\n",
       "      <td>38674</td>\n",
       "      <td>56346</td>\n",
       "      <td>22562</td>\n",
       "    </tr>\n",
       "  </tbody>\n",
       "</table>\n",
       "</div>"
      ],
      "text/plain": [
       "                          Option_PQ  Option_TQ  Option_UH\n",
       "Option_CT Option_WBQ                                     \n",
       "No        No         No      101749      95722      97629\n",
       "                     Yes       6583      12610      10703\n",
       "          Yes        Yes       5569          0          0\n",
       "                     No           0       5569       5569\n",
       "Yes       No         No      305683     293968     298381\n",
       "                     Yes      64381      76096      71683\n",
       "          Yes        No       91105      73433     107217\n",
       "                     Yes      38674      56346      22562"
      ]
     },
     "execution_count": 10,
     "metadata": {},
     "output_type": "execute_result"
    }
   ],
   "source": [
    "df.groupby(['Option_CT', 'Option_WBQ']).agg({i:\"value_counts\" for i in ['Option_PQ', 'Option_TQ', 'Option_UH']})"
   ]
  },
  {
   "cell_type": "code",
   "execution_count": 11,
   "metadata": {},
   "outputs": [
    {
     "name": "stderr",
     "output_type": "stream",
     "text": [
      "/tmp/ipykernel_2771356/854411176.py:1: FutureWarning: The default of observed=False is deprecated and will be changed to True in a future version of pandas. Pass observed=False to retain current behavior or observed=True to adopt the future default and silence this warning.\n",
      "  df.groupby(['ST004D01T', 'ST250Q01JA']).agg({i:\"value_counts\" for i in ['ST250Q02JA', 'ST250Q03JA', 'ST250Q04JA', 'ST250Q05JA']}).plot.bar()\n"
     ]
    },
    {
     "data": {
      "text/plain": [
       "<Axes: xlabel='ST004D01T,ST250Q01JA,None'>"
      ]
     },
     "execution_count": 11,
     "metadata": {},
     "output_type": "execute_result"
    },
    {
     "data": {
      "image/png": "[encoded data removed]",
      "text/plain": [
       "<Figure size 640x480 with 1 Axes>"
      ]
     },
     "metadata": {},
     "output_type": "display_data"
    }
   ],
   "source": [
    "df.groupby(['ST004D01T', 'ST250Q01JA']).agg({i:\"value_counts\" for i in ['ST250Q02JA', 'ST250Q03JA', 'ST250Q04JA', 'ST250Q05JA']}).plot.bar()"
   ]
  },
  {
   "cell_type": "code",
   "execution_count": 12,
   "metadata": {},
   "outputs": [
    {
     "data": {
      "text/html": [
       "<div>\n",
       "<style scoped>\n",
       "    .dataframe tbody tr th:only-of-type {\n",
       "        vertical-align: middle;\n",
       "    }\n",
       "\n",
       "    .dataframe tbody tr th {\n",
       "        vertical-align: top;\n",
       "    }\n",
       "\n",
       "    .dataframe thead th {\n",
       "        text-align: right;\n",
       "    }\n",
       "</style>\n",
       "<table border=\"1\" class=\"dataframe\">\n",
       "  <thead>\n",
       "    <tr style=\"text-align: right;\">\n",
       "      <th></th>\n",
       "      <th>PV1MATH</th>\n",
       "      <th>PV1READ</th>\n",
       "      <th>PV1SCIE</th>\n",
       "      <th>CREATEFF</th>\n",
       "      <th>CREATSCH</th>\n",
       "      <th>CREATFAM</th>\n",
       "      <th>CREATAS</th>\n",
       "      <th>CREATOOS</th>\n",
       "      <th>CREATOP</th>\n",
       "      <th>CREATHME</th>\n",
       "      <th>CREATACT</th>\n",
       "      <th>CREATOPN</th>\n",
       "      <th>CREATOR</th>\n",
       "      <th>MATHEFF</th>\n",
       "      <th>MATHEF21</th>\n",
       "      <th>MATHPERS</th>\n",
       "    </tr>\n",
       "  </thead>\n",
       "  <tbody>\n",
       "    <tr>\n",
       "      <th>count</th>\n",
       "      <td>613744.000000</td>\n",
       "      <td>613744.000000</td>\n",
       "      <td>613744.000000</td>\n",
       "      <td>464114.000000</td>\n",
       "      <td>462428.000000</td>\n",
       "      <td>457538.000000</td>\n",
       "      <td>417643.000000</td>\n",
       "      <td>399028.000000</td>\n",
       "      <td>461832.000000</td>\n",
       "      <td>89879.000000</td>\n",
       "      <td>69982.000000</td>\n",
       "      <td>89488.000000</td>\n",
       "      <td>89738.000000</td>\n",
       "      <td>469513.000000</td>\n",
       "      <td>487420.000000</td>\n",
       "      <td>502608.000000</td>\n",
       "    </tr>\n",
       "    <tr>\n",
       "      <th>mean</th>\n",
       "      <td>440.874665</td>\n",
       "      <td>438.224714</td>\n",
       "      <td>450.462455</td>\n",
       "      <td>0.023278</td>\n",
       "      <td>0.132584</td>\n",
       "      <td>0.021483</td>\n",
       "      <td>0.223822</td>\n",
       "      <td>0.280381</td>\n",
       "      <td>0.074527</td>\n",
       "      <td>-0.031006</td>\n",
       "      <td>0.233126</td>\n",
       "      <td>0.029012</td>\n",
       "      <td>0.042998</td>\n",
       "      <td>-0.426851</td>\n",
       "      <td>0.043277</td>\n",
       "      <td>0.008285</td>\n",
       "    </tr>\n",
       "    <tr>\n",
       "      <th>std</th>\n",
       "      <td>101.840726</td>\n",
       "      <td>109.507625</td>\n",
       "      <td>105.243625</td>\n",
       "      <td>1.023141</td>\n",
       "      <td>1.053093</td>\n",
       "      <td>1.028585</td>\n",
       "      <td>1.095256</td>\n",
       "      <td>1.130637</td>\n",
       "      <td>1.019361</td>\n",
       "      <td>1.002098</td>\n",
       "      <td>1.114992</td>\n",
       "      <td>0.998916</td>\n",
       "      <td>1.006864</td>\n",
       "      <td>1.202573</td>\n",
       "      <td>1.014647</td>\n",
       "      <td>1.068889</td>\n",
       "    </tr>\n",
       "    <tr>\n",
       "      <th>min</th>\n",
       "      <td>0.000000</td>\n",
       "      <td>0.000000</td>\n",
       "      <td>0.000000</td>\n",
       "      <td>-2.978300</td>\n",
       "      <td>-2.623400</td>\n",
       "      <td>-2.789000</td>\n",
       "      <td>-2.075600</td>\n",
       "      <td>-0.820500</td>\n",
       "      <td>-3.141400</td>\n",
       "      <td>-4.133800</td>\n",
       "      <td>-0.914300</td>\n",
       "      <td>-4.470800</td>\n",
       "      <td>-3.828700</td>\n",
       "      <td>-3.849000</td>\n",
       "      <td>-2.694300</td>\n",
       "      <td>-3.468200</td>\n",
       "    </tr>\n",
       "    <tr>\n",
       "      <th>25%</th>\n",
       "      <td>364.325000</td>\n",
       "      <td>357.226750</td>\n",
       "      <td>371.712000</td>\n",
       "      <td>-0.610500</td>\n",
       "      <td>-0.548500</td>\n",
       "      <td>-0.656600</td>\n",
       "      <td>-0.568500</td>\n",
       "      <td>-0.810500</td>\n",
       "      <td>-0.553825</td>\n",
       "      <td>-0.682900</td>\n",
       "      <td>-0.914300</td>\n",
       "      <td>-0.617700</td>\n",
       "      <td>-0.610600</td>\n",
       "      <td>-1.078400</td>\n",
       "      <td>-0.553100</td>\n",
       "      <td>-0.573900</td>\n",
       "    </tr>\n",
       "    <tr>\n",
       "      <th>50%</th>\n",
       "      <td>433.056000</td>\n",
       "      <td>434.961500</td>\n",
       "      <td>444.464000</td>\n",
       "      <td>0.019900</td>\n",
       "      <td>0.068400</td>\n",
       "      <td>-0.050400</td>\n",
       "      <td>0.231400</td>\n",
       "      <td>0.109000</td>\n",
       "      <td>0.032000</td>\n",
       "      <td>-0.175900</td>\n",
       "      <td>0.153100</td>\n",
       "      <td>-0.025700</td>\n",
       "      <td>-0.057600</td>\n",
       "      <td>-0.430300</td>\n",
       "      <td>0.031200</td>\n",
       "      <td>-0.085800</td>\n",
       "    </tr>\n",
       "    <tr>\n",
       "      <th>75%</th>\n",
       "      <td>511.177000</td>\n",
       "      <td>516.484250</td>\n",
       "      <td>524.734250</td>\n",
       "      <td>0.418800</td>\n",
       "      <td>0.521800</td>\n",
       "      <td>0.520600</td>\n",
       "      <td>0.819000</td>\n",
       "      <td>0.998200</td>\n",
       "      <td>0.436800</td>\n",
       "      <td>0.461150</td>\n",
       "      <td>1.015900</td>\n",
       "      <td>0.554700</td>\n",
       "      <td>0.579300</td>\n",
       "      <td>0.072800</td>\n",
       "      <td>0.694900</td>\n",
       "      <td>0.507800</td>\n",
       "    </tr>\n",
       "    <tr>\n",
       "      <th>max</th>\n",
       "      <td>943.041000</td>\n",
       "      <td>938.681000</td>\n",
       "      <td>895.375000</td>\n",
       "      <td>2.571900</td>\n",
       "      <td>2.813900</td>\n",
       "      <td>2.239400</td>\n",
       "      <td>8.629000</td>\n",
       "      <td>4.799400</td>\n",
       "      <td>3.530600</td>\n",
       "      <td>3.659700</td>\n",
       "      <td>6.567300</td>\n",
       "      <td>3.490600</td>\n",
       "      <td>3.238200</td>\n",
       "      <td>2.855100</td>\n",
       "      <td>2.952600</td>\n",
       "      <td>3.115000</td>\n",
       "    </tr>\n",
       "  </tbody>\n",
       "</table>\n",
       "</div>"
      ],
      "text/plain": [
       "             PV1MATH        PV1READ        PV1SCIE       CREATEFF  \\\n",
       "count  613744.000000  613744.000000  613744.000000  464114.000000   \n",
       "mean      440.874665     438.224714     450.462455       0.023278   \n",
       "std       101.840726     109.507625     105.243625       1.023141   \n",
       "min         0.000000       0.000000       0.000000      -2.978300   \n",
       "25%       364.325000     357.226750     371.712000      -0.610500   \n",
       "50%       433.056000     434.961500     444.464000       0.019900   \n",
       "75%       511.177000     516.484250     524.734250       0.418800   \n",
       "max       943.041000     938.681000     895.375000       2.571900   \n",
       "\n",
       "            CREATSCH       CREATFAM        CREATAS       CREATOOS  \\\n",
       "count  462428.000000  457538.000000  417643.000000  399028.000000   \n",
       "mean        0.132584       0.021483       0.223822       0.280381   \n",
       "std         1.053093       1.028585       1.095256       1.130637   \n",
       "min        -2.623400      -2.789000      -2.075600      -0.820500   \n",
       "25%        -0.548500      -0.656600      -0.568500      -0.810500   \n",
       "50%         0.068400      -0.050400       0.231400       0.109000   \n",
       "75%         0.521800       0.520600       0.819000       0.998200   \n",
       "max         2.813900       2.239400       8.629000       4.799400   \n",
       "\n",
       "             CREATOP      CREATHME      CREATACT      CREATOPN       CREATOR  \\\n",
       "count  461832.000000  89879.000000  69982.000000  89488.000000  89738.000000   \n",
       "mean        0.074527     -0.031006      0.233126      0.029012      0.042998   \n",
       "std         1.019361      1.002098      1.114992      0.998916      1.006864   \n",
       "min        -3.141400     -4.133800     -0.914300     -4.470800     -3.828700   \n",
       "25%        -0.553825     -0.682900     -0.914300     -0.617700     -0.610600   \n",
       "50%         0.032000     -0.175900      0.153100     -0.025700     -0.057600   \n",
       "75%         0.436800      0.461150      1.015900      0.554700      0.579300   \n",
       "max         3.530600      3.659700      6.567300      3.490600      3.238200   \n",
       "\n",
       "             MATHEFF       MATHEF21       MATHPERS  \n",
       "count  469513.000000  487420.000000  502608.000000  \n",
       "mean       -0.426851       0.043277       0.008285  \n",
       "std         1.202573       1.014647       1.068889  \n",
       "min        -3.849000      -2.694300      -3.468200  \n",
       "25%        -1.078400      -0.553100      -0.573900  \n",
       "50%        -0.430300       0.031200      -0.085800  \n",
       "75%         0.072800       0.694900       0.507800  \n",
       "max         2.855100       2.952600       3.115000  "
      ]
     },
     "execution_count": 12,
     "metadata": {},
     "output_type": "execute_result"
    }
   ],
   "source": [
    "df.describe(include=[\"float64\"])"
   ]
  },
  {
   "cell_type": "markdown",
   "metadata": {},
   "source": [
    "## Quick Analysis"
   ]
  },
  {
   "cell_type": "code",
   "execution_count": 13,
   "metadata": {},
   "outputs": [
    {
     "name": "stderr",
     "output_type": "stream",
     "text": [
      "/tmp/ipykernel_2771356/4256950056.py:1: FutureWarning: The default of observed=False is deprecated and will be changed to True in a future version of pandas. Pass observed=False to retain current behavior or observed=True to adopt the future default and silence this warning.\n",
      "  temp = df.groupby(['MATHPREF', 'MATHEASE', 'MATHMOT']).agg({i:\"mean\" for i in ['PV1MATH', 'PV1SCIE', 'PV1READ']})\n"
     ]
    },
    {
     "data": {
      "text/html": [
       "<style type=\"text/css\">\n",
       "#T_55fa7_row0_col0 {\n",
       "  background-color: #e1edf8;\n",
       "  color: #000000;\n",
       "}\n",
       "#T_55fa7_row0_col1 {\n",
       "  background-color: #cee0f2;\n",
       "  color: #000000;\n",
       "}\n",
       "#T_55fa7_row0_col2 {\n",
       "  background-color: #f7fbff;\n",
       "  color: #000000;\n",
       "}\n",
       "#T_55fa7_row1_col0 {\n",
       "  background-color: #aacfe5;\n",
       "  color: #000000;\n",
       "}\n",
       "#T_55fa7_row1_col1 {\n",
       "  background-color: #74b3d8;\n",
       "  color: #000000;\n",
       "}\n",
       "#T_55fa7_row1_col2 {\n",
       "  background-color: #a4cce3;\n",
       "  color: #000000;\n",
       "}\n",
       "#T_55fa7_row2_col0 {\n",
       "  background-color: #69add5;\n",
       "  color: #f1f1f1;\n",
       "}\n",
       "#T_55fa7_row2_col1 {\n",
       "  background-color: #71b1d7;\n",
       "  color: #f1f1f1;\n",
       "}\n",
       "#T_55fa7_row2_col2 {\n",
       "  background-color: #d4e4f4;\n",
       "  color: #000000;\n",
       "}\n",
       "#T_55fa7_row3_col0 {\n",
       "  background-color: #2979b9;\n",
       "  color: #f1f1f1;\n",
       "}\n",
       "#T_55fa7_row3_col1 {\n",
       "  background-color: #2272b6;\n",
       "  color: #f1f1f1;\n",
       "}\n",
       "#T_55fa7_row3_col2 {\n",
       "  background-color: #6aaed6;\n",
       "  color: #f1f1f1;\n",
       "}\n",
       "#T_55fa7_row4_col0 {\n",
       "  background-color: #3181bd;\n",
       "  color: #f1f1f1;\n",
       "}\n",
       "#T_55fa7_row4_col1 {\n",
       "  background-color: #3383be;\n",
       "  color: #f1f1f1;\n",
       "}\n",
       "#T_55fa7_row4_col2 {\n",
       "  background-color: #85bcdc;\n",
       "  color: #000000;\n",
       "}\n",
       "#T_55fa7_row5_col0 {\n",
       "  background-color: #2070b4;\n",
       "  color: #f1f1f1;\n",
       "}\n",
       "#T_55fa7_row5_col1, #T_55fa7_row7_col2 {\n",
       "  background-color: #1b69af;\n",
       "  color: #f1f1f1;\n",
       "}\n",
       "#T_55fa7_row5_col2 {\n",
       "  background-color: #4896c8;\n",
       "  color: #f1f1f1;\n",
       "}\n",
       "#T_55fa7_row6_col0 {\n",
       "  background-color: #08488e;\n",
       "  color: #f1f1f1;\n",
       "}\n",
       "#T_55fa7_row6_col1 {\n",
       "  background-color: #105ba4;\n",
       "  color: #f1f1f1;\n",
       "}\n",
       "#T_55fa7_row6_col2 {\n",
       "  background-color: #56a0ce;\n",
       "  color: #f1f1f1;\n",
       "}\n",
       "#T_55fa7_row7_col0 {\n",
       "  background-color: #08306b;\n",
       "  color: #f1f1f1;\n",
       "}\n",
       "#T_55fa7_row7_col1 {\n",
       "  background-color: #083573;\n",
       "  color: #f1f1f1;\n",
       "}\n",
       "</style>\n",
       "<table id=\"T_55fa7\">\n",
       "  <thead>\n",
       "    <tr>\n",
       "      <th class=\"blank\" >&nbsp;</th>\n",
       "      <th class=\"blank\" >&nbsp;</th>\n",
       "      <th class=\"blank level0\" >&nbsp;</th>\n",
       "      <th id=\"T_55fa7_level0_col0\" class=\"col_heading level0 col0\" >PV1MATH</th>\n",
       "      <th id=\"T_55fa7_level0_col1\" class=\"col_heading level0 col1\" >PV1SCIE</th>\n",
       "      <th id=\"T_55fa7_level0_col2\" class=\"col_heading level0 col2\" >PV1READ</th>\n",
       "    </tr>\n",
       "    <tr>\n",
       "      <th class=\"index_name level0\" >MATHPREF</th>\n",
       "      <th class=\"index_name level1\" >MATHEASE</th>\n",
       "      <th class=\"index_name level2\" >MATHMOT</th>\n",
       "      <th class=\"blank col0\" >&nbsp;</th>\n",
       "      <th class=\"blank col1\" >&nbsp;</th>\n",
       "      <th class=\"blank col2\" >&nbsp;</th>\n",
       "    </tr>\n",
       "  </thead>\n",
       "  <tbody>\n",
       "    <tr>\n",
       "      <th id=\"T_55fa7_level0_row0\" class=\"row_heading level0 row0\" rowspan=\"4\">No preference for mathematics over other subjects</th>\n",
       "      <th id=\"T_55fa7_level1_row0\" class=\"row_heading level1 row0\" rowspan=\"2\">No perception of mathematics as easier than other subjects</th>\n",
       "      <th id=\"T_55fa7_level2_row0\" class=\"row_heading level2 row0\" >More motivated to do well in mathematics than other subjects</th>\n",
       "      <td id=\"T_55fa7_row0_col0\" class=\"data row0 col0\" >429.443012</td>\n",
       "      <td id=\"T_55fa7_row0_col1\" class=\"data row0 col1\" >437.564632</td>\n",
       "      <td id=\"T_55fa7_row0_col2\" class=\"data row0 col2\" >420.291679</td>\n",
       "    </tr>\n",
       "    <tr>\n",
       "      <th id=\"T_55fa7_level2_row1\" class=\"row_heading level2 row1\" >Not more motivated to do well in mathematics than other subjects</th>\n",
       "      <td id=\"T_55fa7_row1_col0\" class=\"data row1 col0\" >447.953314</td>\n",
       "      <td id=\"T_55fa7_row1_col1\" class=\"data row1 col1\" >459.829714</td>\n",
       "      <td id=\"T_55fa7_row1_col2\" class=\"data row1 col2\" >449.624519</td>\n",
       "    </tr>\n",
       "    <tr>\n",
       "      <th id=\"T_55fa7_level1_row2\" class=\"row_heading level1 row2\" rowspan=\"2\">Perception of mathematics as easier than other subjects</th>\n",
       "      <th id=\"T_55fa7_level2_row2\" class=\"row_heading level2 row2\" >More motivated to do well in mathematics than other subjects</th>\n",
       "      <td id=\"T_55fa7_row2_col0\" class=\"data row2 col0\" >462.017750</td>\n",
       "      <td id=\"T_55fa7_row2_col1\" class=\"data row2 col1\" >460.319734</td>\n",
       "      <td id=\"T_55fa7_row2_col2\" class=\"data row2 col2\" >434.887303</td>\n",
       "    </tr>\n",
       "    <tr>\n",
       "      <th id=\"T_55fa7_level2_row3\" class=\"row_heading level2 row3\" >Not more motivated to do well in mathematics than other subjects</th>\n",
       "      <td id=\"T_55fa7_row3_col0\" class=\"data row3 col0\" >479.550744</td>\n",
       "      <td id=\"T_55fa7_row3_col1\" class=\"data row3 col1\" >481.716444</td>\n",
       "      <td id=\"T_55fa7_row3_col2\" class=\"data row3 col2\" >461.628847</td>\n",
       "    </tr>\n",
       "    <tr>\n",
       "      <th id=\"T_55fa7_level0_row4\" class=\"row_heading level0 row4\" rowspan=\"4\">Preference for mathematics over other subjects</th>\n",
       "      <th id=\"T_55fa7_level1_row4\" class=\"row_heading level1 row4\" rowspan=\"2\">No perception of mathematics as easier than other subjects</th>\n",
       "      <th id=\"T_55fa7_level2_row4\" class=\"row_heading level2 row4\" >More motivated to do well in mathematics than other subjects</th>\n",
       "      <td id=\"T_55fa7_row4_col0\" class=\"data row4 col0\" >476.949331</td>\n",
       "      <td id=\"T_55fa7_row4_col1\" class=\"data row4 col1\" >476.334323</td>\n",
       "      <td id=\"T_55fa7_row4_col2\" class=\"data row4 col2\" >456.116773</td>\n",
       "    </tr>\n",
       "    <tr>\n",
       "      <th id=\"T_55fa7_level2_row5\" class=\"row_heading level2 row5\" >Not more motivated to do well in mathematics than other subjects</th>\n",
       "      <td id=\"T_55fa7_row5_col0\" class=\"data row5 col0\" >482.135902</td>\n",
       "      <td id=\"T_55fa7_row5_col1\" class=\"data row5 col1\" >484.392897</td>\n",
       "      <td id=\"T_55fa7_row5_col2\" class=\"data row5 col2\" >470.416353</td>\n",
       "    </tr>\n",
       "    <tr>\n",
       "      <th id=\"T_55fa7_level1_row6\" class=\"row_heading level1 row6\" rowspan=\"2\">Perception of mathematics as easier than other subjects</th>\n",
       "      <th id=\"T_55fa7_level2_row6\" class=\"row_heading level2 row6\" >More motivated to do well in mathematics than other subjects</th>\n",
       "      <td id=\"T_55fa7_row6_col0\" class=\"data row6 col0\" >494.953112</td>\n",
       "      <td id=\"T_55fa7_row6_col1\" class=\"data row6 col1\" >489.106830</td>\n",
       "      <td id=\"T_55fa7_row6_col2\" class=\"data row6 col2\" >466.914528</td>\n",
       "    </tr>\n",
       "    <tr>\n",
       "      <th id=\"T_55fa7_level2_row7\" class=\"row_heading level2 row7\" >Not more motivated to do well in mathematics than other subjects</th>\n",
       "      <td id=\"T_55fa7_row7_col0\" class=\"data row7 col0\" >502.625141</td>\n",
       "      <td id=\"T_55fa7_row7_col1\" class=\"data row7 col1\" >500.934537</td>\n",
       "      <td id=\"T_55fa7_row7_col2\" class=\"data row7 col2\" >484.603108</td>\n",
       "    </tr>\n",
       "  </tbody>\n",
       "</table>\n"
      ],
      "text/plain": [
       "<pandas.io.formats.style.Styler at 0x7f157ec7e090>"
      ]
     },
     "execution_count": 13,
     "metadata": {},
     "output_type": "execute_result"
    }
   ],
   "source": [
    "temp = df.groupby(['MATHPREF', 'MATHEASE', 'MATHMOT']).agg({i:\"mean\" for i in ['PV1MATH', 'PV1SCIE', 'PV1READ']})\n",
    "temp.style.background_gradient(cmap='Blues', axis=None)"
   ]
  },
  {
   "cell_type": "code",
   "execution_count": 14,
   "metadata": {},
   "outputs": [
    {
     "name": "stderr",
     "output_type": "stream",
     "text": [
      "/tmp/ipykernel_2771356/3943326471.py:1: FutureWarning: The default of observed=False is deprecated and will be changed to True in a future version of pandas. Pass observed=False to retain current behavior or observed=True to adopt the future default and silence this warning.\n",
      "  temp = df.groupby(['MATHMOT']).agg({i:\"mean\" for i in ['PV1MATH', 'PV1SCIE', 'PV1READ']})\n"
     ]
    },
    {
     "data": {
      "text/html": [
       "<style type=\"text/css\">\n",
       "#T_15423_row0_col0 {\n",
       "  background-color: #125ea6;\n",
       "  color: #f1f1f1;\n",
       "}\n",
       "#T_15423_row0_col1 {\n",
       "  background-color: #084e98;\n",
       "  color: #f1f1f1;\n",
       "}\n",
       "#T_15423_row0_col2 {\n",
       "  background-color: #f7fbff;\n",
       "  color: #000000;\n",
       "}\n",
       "#T_15423_row1_col0 {\n",
       "  background-color: #5ba3d0;\n",
       "  color: #f1f1f1;\n",
       "}\n",
       "#T_15423_row1_col1 {\n",
       "  background-color: #08306b;\n",
       "  color: #f1f1f1;\n",
       "}\n",
       "#T_15423_row1_col2 {\n",
       "  background-color: #68acd5;\n",
       "  color: #f1f1f1;\n",
       "}\n",
       "</style>\n",
       "<table id=\"T_15423\">\n",
       "  <thead>\n",
       "    <tr>\n",
       "      <th class=\"blank level0\" >&nbsp;</th>\n",
       "      <th id=\"T_15423_level0_col0\" class=\"col_heading level0 col0\" >PV1MATH</th>\n",
       "      <th id=\"T_15423_level0_col1\" class=\"col_heading level0 col1\" >PV1SCIE</th>\n",
       "      <th id=\"T_15423_level0_col2\" class=\"col_heading level0 col2\" >PV1READ</th>\n",
       "    </tr>\n",
       "    <tr>\n",
       "      <th class=\"index_name level0\" >MATHMOT</th>\n",
       "      <th class=\"blank col0\" >&nbsp;</th>\n",
       "      <th class=\"blank col1\" >&nbsp;</th>\n",
       "      <th class=\"blank col2\" >&nbsp;</th>\n",
       "    </tr>\n",
       "  </thead>\n",
       "  <tbody>\n",
       "    <tr>\n",
       "      <th id=\"T_15423_level0_row0\" class=\"row_heading level0 row0\" >More motivated to do well in mathematics than other subjects</th>\n",
       "      <td id=\"T_15423_row0_col0\" class=\"data row0 col0\" >459.211584</td>\n",
       "      <td id=\"T_15423_row0_col1\" class=\"data row0 col1\" >460.618549</td>\n",
       "      <td id=\"T_15423_row0_col2\" class=\"data row0 col2\" >440.489035</td>\n",
       "    </tr>\n",
       "    <tr>\n",
       "      <th id=\"T_15423_level0_row1\" class=\"row_heading level0 row1\" >Not more motivated to do well in mathematics than other subjects</th>\n",
       "      <td id=\"T_15423_row1_col0\" class=\"data row1 col0\" >453.035018</td>\n",
       "      <td id=\"T_15423_row1_col1\" class=\"data row1 col1\" >463.273661</td>\n",
       "      <td id=\"T_15423_row1_col2\" class=\"data row1 col2\" >452.062206</td>\n",
       "    </tr>\n",
       "  </tbody>\n",
       "</table>\n"
      ],
      "text/plain": [
       "<pandas.io.formats.style.Styler at 0x7f1579212450>"
      ]
     },
     "execution_count": 14,
     "metadata": {},
     "output_type": "execute_result"
    }
   ],
   "source": [
    "temp = df.groupby(['MATHMOT']).agg({i:\"mean\" for i in ['PV1MATH', 'PV1SCIE', 'PV1READ']})\n",
    "temp.style.background_gradient(cmap='Blues', axis=None)"
   ]
  },
  {
   "cell_type": "code",
   "execution_count": 15,
   "metadata": {},
   "outputs": [
    {
     "data": {
      "text/html": [
       "<div>\n",
       "<style scoped>\n",
       "    .dataframe tbody tr th:only-of-type {\n",
       "        vertical-align: middle;\n",
       "    }\n",
       "\n",
       "    .dataframe tbody tr th {\n",
       "        vertical-align: top;\n",
       "    }\n",
       "\n",
       "    .dataframe thead th {\n",
       "        text-align: right;\n",
       "    }\n",
       "</style>\n",
       "<table border=\"1\" class=\"dataframe\">\n",
       "  <thead>\n",
       "    <tr style=\"text-align: right;\">\n",
       "      <th></th>\n",
       "      <th>PV1MATH</th>\n",
       "      <th>MATHPREF</th>\n",
       "      <th>MATHEASE</th>\n",
       "      <th>MATHMOT</th>\n",
       "    </tr>\n",
       "  </thead>\n",
       "  <tbody>\n",
       "    <tr>\n",
       "      <th>0</th>\n",
       "      <td>179.583</td>\n",
       "      <td>No preference for mathematics over other subjects</td>\n",
       "      <td>No perception of mathematics as easier than ot...</td>\n",
       "      <td>Not more motivated to do well in mathematics t...</td>\n",
       "    </tr>\n",
       "    <tr>\n",
       "      <th>3</th>\n",
       "      <td>272.649</td>\n",
       "      <td>No preference for mathematics over other subjects</td>\n",
       "      <td>No perception of mathematics as easier than ot...</td>\n",
       "      <td>Not more motivated to do well in mathematics t...</td>\n",
       "    </tr>\n",
       "    <tr>\n",
       "      <th>4</th>\n",
       "      <td>435.473</td>\n",
       "      <td>No preference for mathematics over other subjects</td>\n",
       "      <td>No perception of mathematics as easier than ot...</td>\n",
       "      <td>Not more motivated to do well in mathematics t...</td>\n",
       "    </tr>\n",
       "    <tr>\n",
       "      <th>5</th>\n",
       "      <td>534.112</td>\n",
       "      <td>No preference for mathematics over other subjects</td>\n",
       "      <td>No perception of mathematics as easier than ot...</td>\n",
       "      <td>Not more motivated to do well in mathematics t...</td>\n",
       "    </tr>\n",
       "    <tr>\n",
       "      <th>6</th>\n",
       "      <td>381.584</td>\n",
       "      <td>No preference for mathematics over other subjects</td>\n",
       "      <td>No perception of mathematics as easier than ot...</td>\n",
       "      <td>Not more motivated to do well in mathematics t...</td>\n",
       "    </tr>\n",
       "    <tr>\n",
       "      <th>...</th>\n",
       "      <td>...</td>\n",
       "      <td>...</td>\n",
       "      <td>...</td>\n",
       "      <td>...</td>\n",
       "    </tr>\n",
       "    <tr>\n",
       "      <th>613736</th>\n",
       "      <td>464.923</td>\n",
       "      <td>No preference for mathematics over other subjects</td>\n",
       "      <td>No perception of mathematics as easier than ot...</td>\n",
       "      <td>Not more motivated to do well in mathematics t...</td>\n",
       "    </tr>\n",
       "    <tr>\n",
       "      <th>613739</th>\n",
       "      <td>300.530</td>\n",
       "      <td>No preference for mathematics over other subjects</td>\n",
       "      <td>No perception of mathematics as easier than ot...</td>\n",
       "      <td>Not more motivated to do well in mathematics t...</td>\n",
       "    </tr>\n",
       "    <tr>\n",
       "      <th>613741</th>\n",
       "      <td>420.221</td>\n",
       "      <td>No preference for mathematics over other subjects</td>\n",
       "      <td>No perception of mathematics as easier than ot...</td>\n",
       "      <td>Not more motivated to do well in mathematics t...</td>\n",
       "    </tr>\n",
       "    <tr>\n",
       "      <th>613742</th>\n",
       "      <td>343.129</td>\n",
       "      <td>No preference for mathematics over other subjects</td>\n",
       "      <td>No perception of mathematics as easier than ot...</td>\n",
       "      <td>Not more motivated to do well in mathematics t...</td>\n",
       "    </tr>\n",
       "    <tr>\n",
       "      <th>613743</th>\n",
       "      <td>350.056</td>\n",
       "      <td>No preference for mathematics over other subjects</td>\n",
       "      <td>No perception of mathematics as easier than ot...</td>\n",
       "      <td>Not more motivated to do well in mathematics t...</td>\n",
       "    </tr>\n",
       "  </tbody>\n",
       "</table>\n",
       "<p>501353 rows × 4 columns</p>\n",
       "</div>"
      ],
      "text/plain": [
       "        PV1MATH                                           MATHPREF  \\\n",
       "0       179.583  No preference for mathematics over other subjects   \n",
       "3       272.649  No preference for mathematics over other subjects   \n",
       "4       435.473  No preference for mathematics over other subjects   \n",
       "5       534.112  No preference for mathematics over other subjects   \n",
       "6       381.584  No preference for mathematics over other subjects   \n",
       "...         ...                                                ...   \n",
       "613736  464.923  No preference for mathematics over other subjects   \n",
       "613739  300.530  No preference for mathematics over other subjects   \n",
       "613741  420.221  No preference for mathematics over other subjects   \n",
       "613742  343.129  No preference for mathematics over other subjects   \n",
       "613743  350.056  No preference for mathematics over other subjects   \n",
       "\n",
       "                                                 MATHEASE  \\\n",
       "0       No perception of mathematics as easier than ot...   \n",
       "3       No perception of mathematics as easier than ot...   \n",
       "4       No perception of mathematics as easier than ot...   \n",
       "5       No perception of mathematics as easier than ot...   \n",
       "6       No perception of mathematics as easier than ot...   \n",
       "...                                                   ...   \n",
       "613736  No perception of mathematics as easier than ot...   \n",
       "613739  No perception of mathematics as easier than ot...   \n",
       "613741  No perception of mathematics as easier than ot...   \n",
       "613742  No perception of mathematics as easier than ot...   \n",
       "613743  No perception of mathematics as easier than ot...   \n",
       "\n",
       "                                                  MATHMOT  \n",
       "0       Not more motivated to do well in mathematics t...  \n",
       "3       Not more motivated to do well in mathematics t...  \n",
       "4       Not more motivated to do well in mathematics t...  \n",
       "5       Not more motivated to do well in mathematics t...  \n",
       "6       Not more motivated to do well in mathematics t...  \n",
       "...                                                   ...  \n",
       "613736  Not more motivated to do well in mathematics t...  \n",
       "613739  Not more motivated to do well in mathematics t...  \n",
       "613741  Not more motivated to do well in mathematics t...  \n",
       "613742  Not more motivated to do well in mathematics t...  \n",
       "613743  Not more motivated to do well in mathematics t...  \n",
       "\n",
       "[501353 rows x 4 columns]"
      ]
     },
     "execution_count": 15,
     "metadata": {},
     "output_type": "execute_result"
    }
   ],
   "source": [
    "quick_analysis_df = df[\n",
    "    [\n",
    "        'PV1MATH', 'MATHPREF', 'MATHEASE', 'MATHMOT',\n",
    "    ]].dropna()\n",
    "quick_analysis_df"
   ]
  },
  {
   "cell_type": "code",
   "execution_count": 16,
   "metadata": {},
   "outputs": [
    {
     "data": {
      "text/html": [
       "<div>\n",
       "<style scoped>\n",
       "    .dataframe tbody tr th:only-of-type {\n",
       "        vertical-align: middle;\n",
       "    }\n",
       "\n",
       "    .dataframe tbody tr th {\n",
       "        vertical-align: top;\n",
       "    }\n",
       "\n",
       "    .dataframe thead th {\n",
       "        text-align: right;\n",
       "    }\n",
       "</style>\n",
       "<table border=\"1\" class=\"dataframe\">\n",
       "  <thead>\n",
       "    <tr style=\"text-align: right;\">\n",
       "      <th></th>\n",
       "      <th>PV1MATH</th>\n",
       "      <th>MATHPREF</th>\n",
       "      <th>MATHEASE</th>\n",
       "      <th>MATHMOT</th>\n",
       "    </tr>\n",
       "  </thead>\n",
       "  <tbody>\n",
       "    <tr>\n",
       "      <th>0</th>\n",
       "      <td>179.583</td>\n",
       "      <td>No preference for mathematics over other subjects</td>\n",
       "      <td>No perception of mathematics as easier than ot...</td>\n",
       "      <td>Not more motivated to do well in mathematics t...</td>\n",
       "    </tr>\n",
       "    <tr>\n",
       "      <th>3</th>\n",
       "      <td>272.649</td>\n",
       "      <td>No preference for mathematics over other subjects</td>\n",
       "      <td>No perception of mathematics as easier than ot...</td>\n",
       "      <td>Not more motivated to do well in mathematics t...</td>\n",
       "    </tr>\n",
       "    <tr>\n",
       "      <th>4</th>\n",
       "      <td>435.473</td>\n",
       "      <td>No preference for mathematics over other subjects</td>\n",
       "      <td>No perception of mathematics as easier than ot...</td>\n",
       "      <td>Not more motivated to do well in mathematics t...</td>\n",
       "    </tr>\n",
       "    <tr>\n",
       "      <th>5</th>\n",
       "      <td>534.112</td>\n",
       "      <td>No preference for mathematics over other subjects</td>\n",
       "      <td>No perception of mathematics as easier than ot...</td>\n",
       "      <td>Not more motivated to do well in mathematics t...</td>\n",
       "    </tr>\n",
       "    <tr>\n",
       "      <th>6</th>\n",
       "      <td>381.584</td>\n",
       "      <td>No preference for mathematics over other subjects</td>\n",
       "      <td>No perception of mathematics as easier than ot...</td>\n",
       "      <td>Not more motivated to do well in mathematics t...</td>\n",
       "    </tr>\n",
       "    <tr>\n",
       "      <th>...</th>\n",
       "      <td>...</td>\n",
       "      <td>...</td>\n",
       "      <td>...</td>\n",
       "      <td>...</td>\n",
       "    </tr>\n",
       "    <tr>\n",
       "      <th>613736</th>\n",
       "      <td>464.923</td>\n",
       "      <td>No preference for mathematics over other subjects</td>\n",
       "      <td>No perception of mathematics as easier than ot...</td>\n",
       "      <td>Not more motivated to do well in mathematics t...</td>\n",
       "    </tr>\n",
       "    <tr>\n",
       "      <th>613739</th>\n",
       "      <td>300.530</td>\n",
       "      <td>No preference for mathematics over other subjects</td>\n",
       "      <td>No perception of mathematics as easier than ot...</td>\n",
       "      <td>Not more motivated to do well in mathematics t...</td>\n",
       "    </tr>\n",
       "    <tr>\n",
       "      <th>613741</th>\n",
       "      <td>420.221</td>\n",
       "      <td>No preference for mathematics over other subjects</td>\n",
       "      <td>No perception of mathematics as easier than ot...</td>\n",
       "      <td>Not more motivated to do well in mathematics t...</td>\n",
       "    </tr>\n",
       "    <tr>\n",
       "      <th>613742</th>\n",
       "      <td>343.129</td>\n",
       "      <td>No preference for mathematics over other subjects</td>\n",
       "      <td>No perception of mathematics as easier than ot...</td>\n",
       "      <td>Not more motivated to do well in mathematics t...</td>\n",
       "    </tr>\n",
       "    <tr>\n",
       "      <th>613743</th>\n",
       "      <td>350.056</td>\n",
       "      <td>No preference for mathematics over other subjects</td>\n",
       "      <td>No perception of mathematics as easier than ot...</td>\n",
       "      <td>Not more motivated to do well in mathematics t...</td>\n",
       "    </tr>\n",
       "  </tbody>\n",
       "</table>\n",
       "<p>501353 rows × 4 columns</p>\n",
       "</div>"
      ],
      "text/plain": [
       "        PV1MATH                                           MATHPREF  \\\n",
       "0       179.583  No preference for mathematics over other subjects   \n",
       "3       272.649  No preference for mathematics over other subjects   \n",
       "4       435.473  No preference for mathematics over other subjects   \n",
       "5       534.112  No preference for mathematics over other subjects   \n",
       "6       381.584  No preference for mathematics over other subjects   \n",
       "...         ...                                                ...   \n",
       "613736  464.923  No preference for mathematics over other subjects   \n",
       "613739  300.530  No preference for mathematics over other subjects   \n",
       "613741  420.221  No preference for mathematics over other subjects   \n",
       "613742  343.129  No preference for mathematics over other subjects   \n",
       "613743  350.056  No preference for mathematics over other subjects   \n",
       "\n",
       "                                                 MATHEASE  \\\n",
       "0       No perception of mathematics as easier than ot...   \n",
       "3       No perception of mathematics as easier than ot...   \n",
       "4       No perception of mathematics as easier than ot...   \n",
       "5       No perception of mathematics as easier than ot...   \n",
       "6       No perception of mathematics as easier than ot...   \n",
       "...                                                   ...   \n",
       "613736  No perception of mathematics as easier than ot...   \n",
       "613739  No perception of mathematics as easier than ot...   \n",
       "613741  No perception of mathematics as easier than ot...   \n",
       "613742  No perception of mathematics as easier than ot...   \n",
       "613743  No perception of mathematics as easier than ot...   \n",
       "\n",
       "                                                  MATHMOT  \n",
       "0       Not more motivated to do well in mathematics t...  \n",
       "3       Not more motivated to do well in mathematics t...  \n",
       "4       Not more motivated to do well in mathematics t...  \n",
       "5       Not more motivated to do well in mathematics t...  \n",
       "6       Not more motivated to do well in mathematics t...  \n",
       "...                                                   ...  \n",
       "613736  Not more motivated to do well in mathematics t...  \n",
       "613739  Not more motivated to do well in mathematics t...  \n",
       "613741  Not more motivated to do well in mathematics t...  \n",
       "613742  Not more motivated to do well in mathematics t...  \n",
       "613743  Not more motivated to do well in mathematics t...  \n",
       "\n",
       "[501353 rows x 4 columns]"
      ]
     },
     "execution_count": 16,
     "metadata": {},
     "output_type": "execute_result"
    }
   ],
   "source": [
    "quick_analysis_df"
   ]
  },
  {
   "cell_type": "code",
   "execution_count": 17,
   "metadata": {},
   "outputs": [
    {
     "data": {
      "text/plain": [
       "0         179.583\n",
       "3         272.649\n",
       "4         435.473\n",
       "5         534.112\n",
       "6         381.584\n",
       "           ...   \n",
       "613736    464.923\n",
       "613739    300.530\n",
       "613741    420.221\n",
       "613742    343.129\n",
       "613743    350.056\n",
       "Name: PV1MATH, Length: 501353, dtype: float64"
      ]
     },
     "execution_count": 17,
     "metadata": {},
     "output_type": "execute_result"
    }
   ],
   "source": [
    "quick_analysis_df['PV1MATH']"
   ]
  },
  {
   "cell_type": "code",
   "execution_count": 18,
   "metadata": {},
   "outputs": [],
   "source": [
    "X = quick_analysis_df.drop(['PV1MATH'], axis=1)\n",
    "y = pd.to_numeric(quick_analysis_df['PV1MATH'] > 420, errors='coerce')"
   ]
  },
  {
   "cell_type": "code",
   "execution_count": 19,
   "metadata": {},
   "outputs": [
    {
     "data": {
      "text/plain": [
       "PV1MATH\n",
       "True     301990\n",
       "False    199363\n",
       "Name: count, dtype: int64"
      ]
     },
     "execution_count": 19,
     "metadata": {},
     "output_type": "execute_result"
    }
   ],
   "source": [
    "y.value_counts()"
   ]
  },
  {
   "cell_type": "code",
   "execution_count": 20,
   "metadata": {},
   "outputs": [
    {
     "data": {
      "text/plain": [
       "MATHPREF\n",
       "No preference for mathematics over other subjects    0.875736\n",
       "Preference for mathematics over other subjects       0.124264\n",
       "Name: count, dtype: float64"
      ]
     },
     "execution_count": 20,
     "metadata": {},
     "output_type": "execute_result"
    }
   ],
   "source": [
    "X[\"MATHPREF\"].value_counts() / len(X)"
   ]
  },
  {
   "cell_type": "code",
   "execution_count": 21,
   "metadata": {},
   "outputs": [
    {
     "data": {
      "text/plain": [
       "MATHEASE\n",
       "No perception of mathematics as easier than other subjects    0.896773\n",
       "Perception of mathematics as easier than other subjects       0.103227\n",
       "Name: count, dtype: float64"
      ]
     },
     "execution_count": 21,
     "metadata": {},
     "output_type": "execute_result"
    }
   ],
   "source": [
    "X[\"MATHEASE\"].value_counts() / len(X)"
   ]
  },
  {
   "cell_type": "code",
   "execution_count": 22,
   "metadata": {},
   "outputs": [
    {
     "data": {
      "text/plain": [
       "MATHMOT\n",
       "Not more motivated to do well in mathematics than other subjects    0.948226\n",
       "More motivated to do well in mathematics than other subjects        0.051774\n",
       "Name: count, dtype: float64"
      ]
     },
     "execution_count": 22,
     "metadata": {},
     "output_type": "execute_result"
    }
   ],
   "source": [
    "X[\"MATHMOT\"].value_counts() / len(X)"
   ]
  },
  {
   "cell_type": "code",
   "execution_count": 23,
   "metadata": {},
   "outputs": [],
   "source": [
    "# split data into training and testing sets\n",
    "\n",
    "from sklearn.model_selection import train_test_split\n",
    "\n",
    "X_train, X_test, y_train, y_test = train_test_split(X, y, test_size = 0.33, random_state = 42)"
   ]
  },
  {
   "cell_type": "code",
   "execution_count": 24,
   "metadata": {},
   "outputs": [
    {
     "data": {
      "text/plain": [
       "((335906, 3), (165447, 3))"
      ]
     },
     "execution_count": 24,
     "metadata": {},
     "output_type": "execute_result"
    }
   ],
   "source": [
    "# check the shape of X_train and X_test\n",
    "\n",
    "X_train.shape, X_test.shape"
   ]
  },
  {
   "cell_type": "code",
   "execution_count": 25,
   "metadata": {},
   "outputs": [],
   "source": [
    "# import category encoders\n",
    "\n",
    "import category_encoders as ce"
   ]
  },
  {
   "cell_type": "code",
   "execution_count": 26,
   "metadata": {},
   "outputs": [],
   "source": [
    "# encode categorical variables with ordinal encoding\n",
    "\n",
    "encoder = ce.OrdinalEncoder(cols=['MATHPREF', 'MATHEASE', 'MATHMOT'])\n",
    "\n",
    "\n",
    "X_train = encoder.fit_transform(X_train)\n",
    "\n",
    "X_test = encoder.transform(X_test)"
   ]
  },
  {
   "cell_type": "code",
   "execution_count": 27,
   "metadata": {},
   "outputs": [
    {
     "data": {
      "text/plain": [
       "1007718"
      ]
     },
     "execution_count": 27,
     "metadata": {},
     "output_type": "execute_result"
    }
   ],
   "source": [
    "X_train.size"
   ]
  },
  {
   "cell_type": "code",
   "execution_count": 28,
   "metadata": {},
   "outputs": [
    {
     "name": "stdout",
     "output_type": "stream",
     "text": [
      "Unique values in column 'MATHPREF': ['No preference for mathematics over other subj..., NaN, 'Preference for mathematics over other subjects']\n",
      "Categories (2, object): ['No preference for mathematics over other subj..., 'Preference for mathematics over other subjects']\n",
      "Unique values in column 'MATHEASE': ['No perception of mathematics as easier than o..., NaN, 'Perception of mathematics as easier than othe...]\n",
      "Categories (2, object): ['No perception of mathematics as easier than o..., 'Perception of mathematics as easier than othe...]\n",
      "Unique values in column 'MATHMOT': ['Not more motivated to do well in mathematics ..., NaN, 'More motivated to do well in mathematics than...]\n",
      "Categories (2, object): ['More motivated to do well in mathematics than..., 'Not more motivated to do well in mathematics ...]\n"
     ]
    }
   ],
   "source": [
    "for column in ['MATHPREF', 'MATHEASE', 'MATHMOT']:\n",
    "    unique_values = df[column].unique()\n",
    "    print(f\"Unique values in column '{column}': {unique_values}\")"
   ]
  },
  {
   "cell_type": "code",
   "execution_count": 29,
   "metadata": {},
   "outputs": [
    {
     "data": {
      "text/html": [
       "<div>\n",
       "<style scoped>\n",
       "    .dataframe tbody tr th:only-of-type {\n",
       "        vertical-align: middle;\n",
       "    }\n",
       "\n",
       "    .dataframe tbody tr th {\n",
       "        vertical-align: top;\n",
       "    }\n",
       "\n",
       "    .dataframe thead th {\n",
       "        text-align: right;\n",
       "    }\n",
       "</style>\n",
       "<table border=\"1\" class=\"dataframe\">\n",
       "  <thead>\n",
       "    <tr style=\"text-align: right;\">\n",
       "      <th></th>\n",
       "      <th>MATHPREF</th>\n",
       "      <th>MATHEASE</th>\n",
       "      <th>MATHMOT</th>\n",
       "    </tr>\n",
       "  </thead>\n",
       "  <tbody>\n",
       "    <tr>\n",
       "      <th>466510</th>\n",
       "      <td>1</td>\n",
       "      <td>1</td>\n",
       "      <td>1</td>\n",
       "    </tr>\n",
       "    <tr>\n",
       "      <th>608031</th>\n",
       "      <td>1</td>\n",
       "      <td>2</td>\n",
       "      <td>1</td>\n",
       "    </tr>\n",
       "    <tr>\n",
       "      <th>358265</th>\n",
       "      <td>1</td>\n",
       "      <td>2</td>\n",
       "      <td>1</td>\n",
       "    </tr>\n",
       "    <tr>\n",
       "      <th>212359</th>\n",
       "      <td>2</td>\n",
       "      <td>2</td>\n",
       "      <td>1</td>\n",
       "    </tr>\n",
       "    <tr>\n",
       "      <th>106746</th>\n",
       "      <td>1</td>\n",
       "      <td>2</td>\n",
       "      <td>1</td>\n",
       "    </tr>\n",
       "  </tbody>\n",
       "</table>\n",
       "</div>"
      ],
      "text/plain": [
       "        MATHPREF  MATHEASE  MATHMOT\n",
       "466510         1         1        1\n",
       "608031         1         2        1\n",
       "358265         1         2        1\n",
       "212359         2         2        1\n",
       "106746         1         2        1"
      ]
     },
     "execution_count": 29,
     "metadata": {},
     "output_type": "execute_result"
    }
   ],
   "source": [
    "X_train.head()"
   ]
  },
  {
   "cell_type": "code",
   "execution_count": 30,
   "metadata": {},
   "outputs": [
    {
     "name": "stdout",
     "output_type": "stream",
     "text": [
      "Model accuracy score with 10 decision-trees : 0.6025\n"
     ]
    }
   ],
   "source": [
    "# import Random Forest classifier\n",
    "\n",
    "from sklearn.ensemble import RandomForestClassifier\n",
    "\n",
    "\n",
    "\n",
    "# instantiate the classifier \n",
    "\n",
    "rfc = RandomForestClassifier(random_state=0)\n",
    "\n",
    "\n",
    "\n",
    "# fit the model\n",
    "\n",
    "rfc.fit(X_train, y_train)\n",
    "\n",
    "\n",
    "\n",
    "# Predict the Test set results\n",
    "\n",
    "y_pred = rfc.predict(X_test)\n",
    "\n",
    "\n",
    "\n",
    "# Check accuracy score \n",
    "\n",
    "from sklearn.metrics import accuracy_score\n",
    "\n",
    "print('Model accuracy score with 10 decision-trees : {0:0.4f}'. format(accuracy_score(y_test, y_pred)))"
   ]
  },
  {
   "cell_type": "code",
   "execution_count": 31,
   "metadata": {},
   "outputs": [
    {
     "data": {
      "text/plain": [
       "MATHPREF    0.581765\n",
       "MATHEASE    0.388147\n",
       "MATHMOT     0.030088\n",
       "dtype: float64"
      ]
     },
     "execution_count": 31,
     "metadata": {},
     "output_type": "execute_result"
    }
   ],
   "source": [
    "# view the feature scores\n",
    "\n",
    "feature_scores = pd.Series(rfc.feature_importances_, index=X_train.columns).sort_values(ascending=False)\n",
    "\n",
    "feature_scores"
   ]
  },
  {
   "cell_type": "code",
   "execution_count": 32,
   "metadata": {},
   "outputs": [
    {
     "name": "stdout",
     "output_type": "stream",
     "text": [
      "Confusion matrix\n",
      "\n",
      " [[ 1775 63967]\n",
      " [ 1796 97909]]\n"
     ]
    }
   ],
   "source": [
    "# Print the Confusion Matrix and slice it into four pieces\n",
    "\n",
    "from sklearn.metrics import confusion_matrix\n",
    "\n",
    "cm = confusion_matrix(y_test, y_pred)\n",
    "\n",
    "print('Confusion matrix\\n\\n', cm)"
   ]
  },
  {
   "cell_type": "markdown",
   "metadata": {},
   "source": [
    "## Other"
   ]
  },
  {
   "cell_type": "code",
   "execution_count": 33,
   "metadata": {},
   "outputs": [
    {
     "data": {
      "text/plain": [
       "PV1MATH   PV1SCIE     0.888860\n",
       "PV1READ   PV1SCIE     0.837143\n",
       "PV1MATH   PV1READ     0.831251\n",
       "CREATAS   CREATOOS    0.750998\n",
       "MATHEFF   MATHEF21    0.649422\n",
       "                        ...   \n",
       "MATHPERS  CREATOPN         NaN\n",
       "          CREATOR          NaN\n",
       "          MATHEFF          NaN\n",
       "          MATHEF21         NaN\n",
       "          MATHPERS         NaN\n",
       "Length: 256, dtype: float64"
      ]
     },
     "execution_count": 33,
     "metadata": {},
     "output_type": "execute_result"
    }
   ],
   "source": [
    "c = df.select_dtypes(include=[\"float64\"]).corr().abs()\n",
    "c.loc[:,:] = np.tril(c.values, k=-1)\n",
    "c = c[c>0]\n",
    "\n",
    "s = c.unstack()\n",
    "so = s.sort_values(kind=\"quicksort\", ascending=False)\n",
    "so"
   ]
  },
  {
   "cell_type": "code",
   "execution_count": 34,
   "metadata": {},
   "outputs": [
    {
     "data": {
      "image/png": "[encoded data removed]",
      "text/plain": [
       "<Figure size 640x480 with 1 Axes>"
      ]
     },
     "metadata": {},
     "output_type": "display_data"
    }
   ],
   "source": [
    "ax1 = df.plot.scatter(x='PV1MATH', y='PV1SCIE', c='DarkBlue')"
   ]
  },
  {
   "cell_type": "code",
   "execution_count": 35,
   "metadata": {},
   "outputs": [
    {
     "data": {
      "text/plain": [
       "Text(0.5, 1.0, 'PV1MATH')"
      ]
     },
     "execution_count": 35,
     "metadata": {},
     "output_type": "execute_result"
    },
    {
     "data": {
      "image/png": "[encoded data removed]",
      "text/plain": [
       "<Figure size 640x480 with 1 Axes>"
      ]
     },
     "metadata": {},
     "output_type": "display_data"
    }
   ],
   "source": [
    "ax1 = df['PV1MATH'].plot.hist()\n",
    "plt.title('PV1MATH')"
   ]
  },
  {
   "cell_type": "code",
   "execution_count": 36,
   "metadata": {},
   "outputs": [
    {
     "data": {
      "text/plain": [
       "<Axes: >"
      ]
     },
     "execution_count": 36,
     "metadata": {},
     "output_type": "execute_result"
    },
    {
     "data": {
      "image/png": "[encoded data removed]",
      "text/plain": [
       "<Figure size 640x480 with 2 Axes>"
      ]
     },
     "metadata": {},
     "output_type": "display_data"
    }
   ],
   "source": [
    "c = df.select_dtypes(include=[\"float64\"]).corr()\n",
    "sns.heatmap(c)"
   ]
  },
  {
   "cell_type": "code",
   "execution_count": 37,
   "metadata": {},
   "outputs": [
    {
     "data": {
      "text/html": [
       "<div>\n",
       "<style scoped>\n",
       "    .dataframe tbody tr th:only-of-type {\n",
       "        vertical-align: middle;\n",
       "    }\n",
       "\n",
       "    .dataframe tbody tr th {\n",
       "        vertical-align: top;\n",
       "    }\n",
       "\n",
       "    .dataframe thead th {\n",
       "        text-align: right;\n",
       "    }\n",
       "</style>\n",
       "<table border=\"1\" class=\"dataframe\">\n",
       "  <thead>\n",
       "    <tr style=\"text-align: right;\">\n",
       "      <th></th>\n",
       "      <th>PV1MATH</th>\n",
       "      <th>PV1READ</th>\n",
       "      <th>PV1SCIE</th>\n",
       "      <th>CREATEFF</th>\n",
       "      <th>CREATSCH</th>\n",
       "      <th>CREATFAM</th>\n",
       "      <th>CREATAS</th>\n",
       "      <th>CREATOOS</th>\n",
       "      <th>CREATOP</th>\n",
       "      <th>CREATHME</th>\n",
       "      <th>CREATACT</th>\n",
       "      <th>CREATOPN</th>\n",
       "      <th>CREATOR</th>\n",
       "      <th>MATHEFF</th>\n",
       "      <th>MATHEF21</th>\n",
       "      <th>MATHPERS</th>\n",
       "    </tr>\n",
       "  </thead>\n",
       "  <tbody>\n",
       "    <tr>\n",
       "      <th>count</th>\n",
       "      <td>613744.000000</td>\n",
       "      <td>613744.000000</td>\n",
       "      <td>613744.000000</td>\n",
       "      <td>464114.000000</td>\n",
       "      <td>462428.000000</td>\n",
       "      <td>457538.000000</td>\n",
       "      <td>417643.000000</td>\n",
       "      <td>399028.000000</td>\n",
       "      <td>461832.000000</td>\n",
       "      <td>89879.000000</td>\n",
       "      <td>69982.000000</td>\n",
       "      <td>89488.000000</td>\n",
       "      <td>89738.000000</td>\n",
       "      <td>469513.000000</td>\n",
       "      <td>487420.000000</td>\n",
       "      <td>502608.000000</td>\n",
       "    </tr>\n",
       "    <tr>\n",
       "      <th>mean</th>\n",
       "      <td>440.874665</td>\n",
       "      <td>438.224714</td>\n",
       "      <td>450.462455</td>\n",
       "      <td>0.023278</td>\n",
       "      <td>0.132584</td>\n",
       "      <td>0.021483</td>\n",
       "      <td>0.223822</td>\n",
       "      <td>0.280381</td>\n",
       "      <td>0.074527</td>\n",
       "      <td>-0.031006</td>\n",
       "      <td>0.233126</td>\n",
       "      <td>0.029012</td>\n",
       "      <td>0.042998</td>\n",
       "      <td>-0.426851</td>\n",
       "      <td>0.043277</td>\n",
       "      <td>0.008285</td>\n",
       "    </tr>\n",
       "    <tr>\n",
       "      <th>std</th>\n",
       "      <td>101.840726</td>\n",
       "      <td>109.507625</td>\n",
       "      <td>105.243625</td>\n",
       "      <td>1.023141</td>\n",
       "      <td>1.053093</td>\n",
       "      <td>1.028585</td>\n",
       "      <td>1.095256</td>\n",
       "      <td>1.130637</td>\n",
       "      <td>1.019361</td>\n",
       "      <td>1.002098</td>\n",
       "      <td>1.114992</td>\n",
       "      <td>0.998916</td>\n",
       "      <td>1.006864</td>\n",
       "      <td>1.202573</td>\n",
       "      <td>1.014647</td>\n",
       "      <td>1.068889</td>\n",
       "    </tr>\n",
       "    <tr>\n",
       "      <th>min</th>\n",
       "      <td>0.000000</td>\n",
       "      <td>0.000000</td>\n",
       "      <td>0.000000</td>\n",
       "      <td>-2.978300</td>\n",
       "      <td>-2.623400</td>\n",
       "      <td>-2.789000</td>\n",
       "      <td>-2.075600</td>\n",
       "      <td>-0.820500</td>\n",
       "      <td>-3.141400</td>\n",
       "      <td>-4.133800</td>\n",
       "      <td>-0.914300</td>\n",
       "      <td>-4.470800</td>\n",
       "      <td>-3.828700</td>\n",
       "      <td>-3.849000</td>\n",
       "      <td>-2.694300</td>\n",
       "      <td>-3.468200</td>\n",
       "    </tr>\n",
       "    <tr>\n",
       "      <th>25%</th>\n",
       "      <td>364.325000</td>\n",
       "      <td>357.226750</td>\n",
       "      <td>371.712000</td>\n",
       "      <td>-0.610500</td>\n",
       "      <td>-0.548500</td>\n",
       "      <td>-0.656600</td>\n",
       "      <td>-0.568500</td>\n",
       "      <td>-0.810500</td>\n",
       "      <td>-0.553825</td>\n",
       "      <td>-0.682900</td>\n",
       "      <td>-0.914300</td>\n",
       "      <td>-0.617700</td>\n",
       "      <td>-0.610600</td>\n",
       "      <td>-1.078400</td>\n",
       "      <td>-0.553100</td>\n",
       "      <td>-0.573900</td>\n",
       "    </tr>\n",
       "    <tr>\n",
       "      <th>50%</th>\n",
       "      <td>433.056000</td>\n",
       "      <td>434.961500</td>\n",
       "      <td>444.464000</td>\n",
       "      <td>0.019900</td>\n",
       "      <td>0.068400</td>\n",
       "      <td>-0.050400</td>\n",
       "      <td>0.231400</td>\n",
       "      <td>0.109000</td>\n",
       "      <td>0.032000</td>\n",
       "      <td>-0.175900</td>\n",
       "      <td>0.153100</td>\n",
       "      <td>-0.025700</td>\n",
       "      <td>-0.057600</td>\n",
       "      <td>-0.430300</td>\n",
       "      <td>0.031200</td>\n",
       "      <td>-0.085800</td>\n",
       "    </tr>\n",
       "    <tr>\n",
       "      <th>75%</th>\n",
       "      <td>511.177000</td>\n",
       "      <td>516.484250</td>\n",
       "      <td>524.734250</td>\n",
       "      <td>0.418800</td>\n",
       "      <td>0.521800</td>\n",
       "      <td>0.520600</td>\n",
       "      <td>0.819000</td>\n",
       "      <td>0.998200</td>\n",
       "      <td>0.436800</td>\n",
       "      <td>0.461150</td>\n",
       "      <td>1.015900</td>\n",
       "      <td>0.554700</td>\n",
       "      <td>0.579300</td>\n",
       "      <td>0.072800</td>\n",
       "      <td>0.694900</td>\n",
       "      <td>0.507800</td>\n",
       "    </tr>\n",
       "    <tr>\n",
       "      <th>max</th>\n",
       "      <td>943.041000</td>\n",
       "      <td>938.681000</td>\n",
       "      <td>895.375000</td>\n",
       "      <td>2.571900</td>\n",
       "      <td>2.813900</td>\n",
       "      <td>2.239400</td>\n",
       "      <td>8.629000</td>\n",
       "      <td>4.799400</td>\n",
       "      <td>3.530600</td>\n",
       "      <td>3.659700</td>\n",
       "      <td>6.567300</td>\n",
       "      <td>3.490600</td>\n",
       "      <td>3.238200</td>\n",
       "      <td>2.855100</td>\n",
       "      <td>2.952600</td>\n",
       "      <td>3.115000</td>\n",
       "    </tr>\n",
       "  </tbody>\n",
       "</table>\n",
       "</div>"
      ],
      "text/plain": [
       "             PV1MATH        PV1READ        PV1SCIE       CREATEFF  \\\n",
       "count  613744.000000  613744.000000  613744.000000  464114.000000   \n",
       "mean      440.874665     438.224714     450.462455       0.023278   \n",
       "std       101.840726     109.507625     105.243625       1.023141   \n",
       "min         0.000000       0.000000       0.000000      -2.978300   \n",
       "25%       364.325000     357.226750     371.712000      -0.610500   \n",
       "50%       433.056000     434.961500     444.464000       0.019900   \n",
       "75%       511.177000     516.484250     524.734250       0.418800   \n",
       "max       943.041000     938.681000     895.375000       2.571900   \n",
       "\n",
       "            CREATSCH       CREATFAM        CREATAS       CREATOOS  \\\n",
       "count  462428.000000  457538.000000  417643.000000  399028.000000   \n",
       "mean        0.132584       0.021483       0.223822       0.280381   \n",
       "std         1.053093       1.028585       1.095256       1.130637   \n",
       "min        -2.623400      -2.789000      -2.075600      -0.820500   \n",
       "25%        -0.548500      -0.656600      -0.568500      -0.810500   \n",
       "50%         0.068400      -0.050400       0.231400       0.109000   \n",
       "75%         0.521800       0.520600       0.819000       0.998200   \n",
       "max         2.813900       2.239400       8.629000       4.799400   \n",
       "\n",
       "             CREATOP      CREATHME      CREATACT      CREATOPN       CREATOR  \\\n",
       "count  461832.000000  89879.000000  69982.000000  89488.000000  89738.000000   \n",
       "mean        0.074527     -0.031006      0.233126      0.029012      0.042998   \n",
       "std         1.019361      1.002098      1.114992      0.998916      1.006864   \n",
       "min        -3.141400     -4.133800     -0.914300     -4.470800     -3.828700   \n",
       "25%        -0.553825     -0.682900     -0.914300     -0.617700     -0.610600   \n",
       "50%         0.032000     -0.175900      0.153100     -0.025700     -0.057600   \n",
       "75%         0.436800      0.461150      1.015900      0.554700      0.579300   \n",
       "max         3.530600      3.659700      6.567300      3.490600      3.238200   \n",
       "\n",
       "             MATHEFF       MATHEF21       MATHPERS  \n",
       "count  469513.000000  487420.000000  502608.000000  \n",
       "mean       -0.426851       0.043277       0.008285  \n",
       "std         1.202573       1.014647       1.068889  \n",
       "min        -3.849000      -2.694300      -3.468200  \n",
       "25%        -1.078400      -0.553100      -0.573900  \n",
       "50%        -0.430300       0.031200      -0.085800  \n",
       "75%         0.072800       0.694900       0.507800  \n",
       "max         2.855100       2.952600       3.115000  "
      ]
     },
     "execution_count": 37,
     "metadata": {},
     "output_type": "execute_result"
    }
   ],
   "source": [
    "df.select_dtypes(include=[\"float64\"]).describe()"
   ]
  },
  {
   "cell_type": "code",
   "execution_count": 38,
   "metadata": {},
   "outputs": [],
   "source": [
    "creat_df = df.loc[:, df.columns.str.startswith('CREAT')]"
   ]
  },
  {
   "cell_type": "code",
   "execution_count": 39,
   "metadata": {},
   "outputs": [
    {
     "data": {
      "text/html": [
       "<div>\n",
       "<style scoped>\n",
       "    .dataframe tbody tr th:only-of-type {\n",
       "        vertical-align: middle;\n",
       "    }\n",
       "\n",
       "    .dataframe tbody tr th {\n",
       "        vertical-align: top;\n",
       "    }\n",
       "\n",
       "    .dataframe thead th {\n",
       "        text-align: right;\n",
       "    }\n",
       "</style>\n",
       "<table border=\"1\" class=\"dataframe\">\n",
       "  <thead>\n",
       "    <tr style=\"text-align: right;\">\n",
       "      <th></th>\n",
       "      <th>CREATEFF</th>\n",
       "      <th>CREATSCH</th>\n",
       "      <th>CREATFAM</th>\n",
       "      <th>CREATAS</th>\n",
       "      <th>CREATOOS</th>\n",
       "      <th>CREATOP</th>\n",
       "      <th>CREATHME</th>\n",
       "      <th>CREATACT</th>\n",
       "      <th>CREATOPN</th>\n",
       "      <th>CREATOR</th>\n",
       "    </tr>\n",
       "  </thead>\n",
       "  <tbody>\n",
       "    <tr>\n",
       "      <th>0</th>\n",
       "      <td>2.4021</td>\n",
       "      <td>0.0590</td>\n",
       "      <td>0.8155</td>\n",
       "      <td>4.1226</td>\n",
       "      <td>NaN</td>\n",
       "      <td>NaN</td>\n",
       "      <td>NaN</td>\n",
       "      <td>NaN</td>\n",
       "      <td>NaN</td>\n",
       "      <td>NaN</td>\n",
       "    </tr>\n",
       "    <tr>\n",
       "      <th>1</th>\n",
       "      <td>NaN</td>\n",
       "      <td>NaN</td>\n",
       "      <td>NaN</td>\n",
       "      <td>NaN</td>\n",
       "      <td>NaN</td>\n",
       "      <td>NaN</td>\n",
       "      <td>NaN</td>\n",
       "      <td>NaN</td>\n",
       "      <td>NaN</td>\n",
       "      <td>NaN</td>\n",
       "    </tr>\n",
       "    <tr>\n",
       "      <th>2</th>\n",
       "      <td>NaN</td>\n",
       "      <td>NaN</td>\n",
       "      <td>NaN</td>\n",
       "      <td>NaN</td>\n",
       "      <td>NaN</td>\n",
       "      <td>NaN</td>\n",
       "      <td>NaN</td>\n",
       "      <td>NaN</td>\n",
       "      <td>NaN</td>\n",
       "      <td>NaN</td>\n",
       "    </tr>\n",
       "    <tr>\n",
       "      <th>3</th>\n",
       "      <td>-0.4909</td>\n",
       "      <td>-0.3010</td>\n",
       "      <td>-1.0261</td>\n",
       "      <td>1.0191</td>\n",
       "      <td>1.4468</td>\n",
       "      <td>-0.5423</td>\n",
       "      <td>NaN</td>\n",
       "      <td>NaN</td>\n",
       "      <td>NaN</td>\n",
       "      <td>NaN</td>\n",
       "    </tr>\n",
       "    <tr>\n",
       "      <th>4</th>\n",
       "      <td>-0.7475</td>\n",
       "      <td>-0.1405</td>\n",
       "      <td>-0.9293</td>\n",
       "      <td>1.6583</td>\n",
       "      <td>1.8557</td>\n",
       "      <td>0.9322</td>\n",
       "      <td>NaN</td>\n",
       "      <td>NaN</td>\n",
       "      <td>NaN</td>\n",
       "      <td>NaN</td>\n",
       "    </tr>\n",
       "    <tr>\n",
       "      <th>...</th>\n",
       "      <td>...</td>\n",
       "      <td>...</td>\n",
       "      <td>...</td>\n",
       "      <td>...</td>\n",
       "      <td>...</td>\n",
       "      <td>...</td>\n",
       "      <td>...</td>\n",
       "      <td>...</td>\n",
       "      <td>...</td>\n",
       "      <td>...</td>\n",
       "    </tr>\n",
       "    <tr>\n",
       "      <th>613739</th>\n",
       "      <td>2.1524</td>\n",
       "      <td>0.5032</td>\n",
       "      <td>-0.0326</td>\n",
       "      <td>NaN</td>\n",
       "      <td>NaN</td>\n",
       "      <td>-0.4280</td>\n",
       "      <td>NaN</td>\n",
       "      <td>NaN</td>\n",
       "      <td>NaN</td>\n",
       "      <td>NaN</td>\n",
       "    </tr>\n",
       "    <tr>\n",
       "      <th>613740</th>\n",
       "      <td>NaN</td>\n",
       "      <td>NaN</td>\n",
       "      <td>NaN</td>\n",
       "      <td>NaN</td>\n",
       "      <td>NaN</td>\n",
       "      <td>NaN</td>\n",
       "      <td>NaN</td>\n",
       "      <td>NaN</td>\n",
       "      <td>NaN</td>\n",
       "      <td>NaN</td>\n",
       "    </tr>\n",
       "    <tr>\n",
       "      <th>613741</th>\n",
       "      <td>0.0846</td>\n",
       "      <td>0.5352</td>\n",
       "      <td>-0.5679</td>\n",
       "      <td>0.4911</td>\n",
       "      <td>0.6097</td>\n",
       "      <td>0.4185</td>\n",
       "      <td>NaN</td>\n",
       "      <td>NaN</td>\n",
       "      <td>NaN</td>\n",
       "      <td>NaN</td>\n",
       "    </tr>\n",
       "    <tr>\n",
       "      <th>613742</th>\n",
       "      <td>NaN</td>\n",
       "      <td>NaN</td>\n",
       "      <td>NaN</td>\n",
       "      <td>NaN</td>\n",
       "      <td>NaN</td>\n",
       "      <td>NaN</td>\n",
       "      <td>NaN</td>\n",
       "      <td>NaN</td>\n",
       "      <td>NaN</td>\n",
       "      <td>NaN</td>\n",
       "    </tr>\n",
       "    <tr>\n",
       "      <th>613743</th>\n",
       "      <td>NaN</td>\n",
       "      <td>NaN</td>\n",
       "      <td>NaN</td>\n",
       "      <td>NaN</td>\n",
       "      <td>NaN</td>\n",
       "      <td>NaN</td>\n",
       "      <td>NaN</td>\n",
       "      <td>NaN</td>\n",
       "      <td>NaN</td>\n",
       "      <td>NaN</td>\n",
       "    </tr>\n",
       "  </tbody>\n",
       "</table>\n",
       "<p>613744 rows × 10 columns</p>\n",
       "</div>"
      ],
      "text/plain": [
       "        CREATEFF  CREATSCH  CREATFAM  CREATAS  CREATOOS  CREATOP  CREATHME  \\\n",
       "0         2.4021    0.0590    0.8155   4.1226       NaN      NaN       NaN   \n",
       "1            NaN       NaN       NaN      NaN       NaN      NaN       NaN   \n",
       "2            NaN       NaN       NaN      NaN       NaN      NaN       NaN   \n",
       "3        -0.4909   -0.3010   -1.0261   1.0191    1.4468  -0.5423       NaN   \n",
       "4        -0.7475   -0.1405   -0.9293   1.6583    1.8557   0.9322       NaN   \n",
       "...          ...       ...       ...      ...       ...      ...       ...   \n",
       "613739    2.1524    0.5032   -0.0326      NaN       NaN  -0.4280       NaN   \n",
       "613740       NaN       NaN       NaN      NaN       NaN      NaN       NaN   \n",
       "613741    0.0846    0.5352   -0.5679   0.4911    0.6097   0.4185       NaN   \n",
       "613742       NaN       NaN       NaN      NaN       NaN      NaN       NaN   \n",
       "613743       NaN       NaN       NaN      NaN       NaN      NaN       NaN   \n",
       "\n",
       "        CREATACT  CREATOPN  CREATOR  \n",
       "0            NaN       NaN      NaN  \n",
       "1            NaN       NaN      NaN  \n",
       "2            NaN       NaN      NaN  \n",
       "3            NaN       NaN      NaN  \n",
       "4            NaN       NaN      NaN  \n",
       "...          ...       ...      ...  \n",
       "613739       NaN       NaN      NaN  \n",
       "613740       NaN       NaN      NaN  \n",
       "613741       NaN       NaN      NaN  \n",
       "613742       NaN       NaN      NaN  \n",
       "613743       NaN       NaN      NaN  \n",
       "\n",
       "[613744 rows x 10 columns]"
      ]
     },
     "execution_count": 39,
     "metadata": {},
     "output_type": "execute_result"
    }
   ],
   "source": [
    "creat_df"
   ]
  },
  {
   "cell_type": "code",
   "execution_count": 40,
   "metadata": {},
   "outputs": [
    {
     "data": {
      "text/html": [
       "<div>\n",
       "<style scoped>\n",
       "    .dataframe tbody tr th:only-of-type {\n",
       "        vertical-align: middle;\n",
       "    }\n",
       "\n",
       "    .dataframe tbody tr th {\n",
       "        vertical-align: top;\n",
       "    }\n",
       "\n",
       "    .dataframe thead th {\n",
       "        text-align: right;\n",
       "    }\n",
       "</style>\n",
       "<table border=\"1\" class=\"dataframe\">\n",
       "  <thead>\n",
       "    <tr style=\"text-align: right;\">\n",
       "      <th></th>\n",
       "      <th>MATHEFF</th>\n",
       "      <th>MATHEF21</th>\n",
       "      <th>MATHPERS</th>\n",
       "    </tr>\n",
       "  </thead>\n",
       "  <tbody>\n",
       "    <tr>\n",
       "      <th>0</th>\n",
       "      <td>-1.4413</td>\n",
       "      <td>NaN</td>\n",
       "      <td>-0.0085</td>\n",
       "    </tr>\n",
       "    <tr>\n",
       "      <th>1</th>\n",
       "      <td>NaN</td>\n",
       "      <td>NaN</td>\n",
       "      <td>NaN</td>\n",
       "    </tr>\n",
       "    <tr>\n",
       "      <th>2</th>\n",
       "      <td>NaN</td>\n",
       "      <td>NaN</td>\n",
       "      <td>NaN</td>\n",
       "    </tr>\n",
       "    <tr>\n",
       "      <th>3</th>\n",
       "      <td>-1.3156</td>\n",
       "      <td>2.2322</td>\n",
       "      <td>-0.2546</td>\n",
       "    </tr>\n",
       "    <tr>\n",
       "      <th>4</th>\n",
       "      <td>-0.5867</td>\n",
       "      <td>0.9425</td>\n",
       "      <td>-0.1735</td>\n",
       "    </tr>\n",
       "    <tr>\n",
       "      <th>...</th>\n",
       "      <td>...</td>\n",
       "      <td>...</td>\n",
       "      <td>...</td>\n",
       "    </tr>\n",
       "    <tr>\n",
       "      <th>613739</th>\n",
       "      <td>2.2815</td>\n",
       "      <td>2.3441</td>\n",
       "      <td>2.2393</td>\n",
       "    </tr>\n",
       "    <tr>\n",
       "      <th>613740</th>\n",
       "      <td>NaN</td>\n",
       "      <td>NaN</td>\n",
       "      <td>NaN</td>\n",
       "    </tr>\n",
       "    <tr>\n",
       "      <th>613741</th>\n",
       "      <td>0.3926</td>\n",
       "      <td>0.9997</td>\n",
       "      <td>0.6311</td>\n",
       "    </tr>\n",
       "    <tr>\n",
       "      <th>613742</th>\n",
       "      <td>-0.1652</td>\n",
       "      <td>2.4215</td>\n",
       "      <td>NaN</td>\n",
       "    </tr>\n",
       "    <tr>\n",
       "      <th>613743</th>\n",
       "      <td>-1.3703</td>\n",
       "      <td>-1.1987</td>\n",
       "      <td>NaN</td>\n",
       "    </tr>\n",
       "  </tbody>\n",
       "</table>\n",
       "<p>613744 rows × 3 columns</p>\n",
       "</div>"
      ],
      "text/plain": [
       "        MATHEFF  MATHEF21  MATHPERS\n",
       "0       -1.4413       NaN   -0.0085\n",
       "1           NaN       NaN       NaN\n",
       "2           NaN       NaN       NaN\n",
       "3       -1.3156    2.2322   -0.2546\n",
       "4       -0.5867    0.9425   -0.1735\n",
       "...         ...       ...       ...\n",
       "613739   2.2815    2.3441    2.2393\n",
       "613740      NaN       NaN       NaN\n",
       "613741   0.3926    0.9997    0.6311\n",
       "613742  -0.1652    2.4215       NaN\n",
       "613743  -1.3703   -1.1987       NaN\n",
       "\n",
       "[613744 rows x 3 columns]"
      ]
     },
     "execution_count": 40,
     "metadata": {},
     "output_type": "execute_result"
    }
   ],
   "source": [
    "math_df = df[['MATHEFF', 'MATHEF21', 'MATHPERS']]\n",
    "math_df"
   ]
  },
  {
   "cell_type": "code",
   "execution_count": 41,
   "metadata": {},
   "outputs": [],
   "source": [
    "creat_df = creat_df.join(math_df)"
   ]
  },
  {
   "cell_type": "code",
   "execution_count": 42,
   "metadata": {},
   "outputs": [
    {
     "data": {
      "text/html": [
       "<div>\n",
       "<style scoped>\n",
       "    .dataframe tbody tr th:only-of-type {\n",
       "        vertical-align: middle;\n",
       "    }\n",
       "\n",
       "    .dataframe tbody tr th {\n",
       "        vertical-align: top;\n",
       "    }\n",
       "\n",
       "    .dataframe thead th {\n",
       "        text-align: right;\n",
       "    }\n",
       "</style>\n",
       "<table border=\"1\" class=\"dataframe\">\n",
       "  <thead>\n",
       "    <tr style=\"text-align: right;\">\n",
       "      <th></th>\n",
       "      <th>CREATEFF</th>\n",
       "      <th>CREATSCH</th>\n",
       "      <th>CREATFAM</th>\n",
       "      <th>CREATAS</th>\n",
       "      <th>CREATOOS</th>\n",
       "      <th>CREATOP</th>\n",
       "      <th>CREATHME</th>\n",
       "      <th>CREATACT</th>\n",
       "      <th>CREATOPN</th>\n",
       "      <th>CREATOR</th>\n",
       "      <th>...</th>\n",
       "      <th>CREATAS_is_nan</th>\n",
       "      <th>CREATOOS_is_nan</th>\n",
       "      <th>CREATOP_is_nan</th>\n",
       "      <th>CREATHME_is_nan</th>\n",
       "      <th>CREATACT_is_nan</th>\n",
       "      <th>CREATOPN_is_nan</th>\n",
       "      <th>CREATOR_is_nan</th>\n",
       "      <th>MATHEFF_is_nan</th>\n",
       "      <th>MATHEF21_is_nan</th>\n",
       "      <th>MATHPERS_is_nan</th>\n",
       "    </tr>\n",
       "  </thead>\n",
       "  <tbody>\n",
       "    <tr>\n",
       "      <th>count</th>\n",
       "      <td>464114.000000</td>\n",
       "      <td>462428.000000</td>\n",
       "      <td>457538.000000</td>\n",
       "      <td>417643.000000</td>\n",
       "      <td>399028.000000</td>\n",
       "      <td>461832.000000</td>\n",
       "      <td>89879.000000</td>\n",
       "      <td>69982.000000</td>\n",
       "      <td>89488.000000</td>\n",
       "      <td>89738.000000</td>\n",
       "      <td>...</td>\n",
       "      <td>613744.000000</td>\n",
       "      <td>613744.000000</td>\n",
       "      <td>613744.000000</td>\n",
       "      <td>613744.000000</td>\n",
       "      <td>613744.000000</td>\n",
       "      <td>613744.000000</td>\n",
       "      <td>613744.000000</td>\n",
       "      <td>613744.000000</td>\n",
       "      <td>613744.000000</td>\n",
       "      <td>613744.000000</td>\n",
       "    </tr>\n",
       "    <tr>\n",
       "      <th>mean</th>\n",
       "      <td>0.023278</td>\n",
       "      <td>0.132584</td>\n",
       "      <td>0.021483</td>\n",
       "      <td>0.223822</td>\n",
       "      <td>0.280381</td>\n",
       "      <td>0.074527</td>\n",
       "      <td>-0.031006</td>\n",
       "      <td>0.233126</td>\n",
       "      <td>0.029012</td>\n",
       "      <td>0.042998</td>\n",
       "      <td>...</td>\n",
       "      <td>0.319516</td>\n",
       "      <td>0.349846</td>\n",
       "      <td>0.247517</td>\n",
       "      <td>0.853556</td>\n",
       "      <td>0.885975</td>\n",
       "      <td>0.854193</td>\n",
       "      <td>0.853786</td>\n",
       "      <td>0.235002</td>\n",
       "      <td>0.205825</td>\n",
       "      <td>0.181079</td>\n",
       "    </tr>\n",
       "    <tr>\n",
       "      <th>std</th>\n",
       "      <td>1.023141</td>\n",
       "      <td>1.053093</td>\n",
       "      <td>1.028585</td>\n",
       "      <td>1.095256</td>\n",
       "      <td>1.130637</td>\n",
       "      <td>1.019361</td>\n",
       "      <td>1.002098</td>\n",
       "      <td>1.114992</td>\n",
       "      <td>0.998916</td>\n",
       "      <td>1.006864</td>\n",
       "      <td>...</td>\n",
       "      <td>0.466289</td>\n",
       "      <td>0.476922</td>\n",
       "      <td>0.431570</td>\n",
       "      <td>0.353551</td>\n",
       "      <td>0.317842</td>\n",
       "      <td>0.352913</td>\n",
       "      <td>0.353321</td>\n",
       "      <td>0.424000</td>\n",
       "      <td>0.404304</td>\n",
       "      <td>0.385084</td>\n",
       "    </tr>\n",
       "    <tr>\n",
       "      <th>min</th>\n",
       "      <td>-2.978300</td>\n",
       "      <td>-2.623400</td>\n",
       "      <td>-2.789000</td>\n",
       "      <td>-2.075600</td>\n",
       "      <td>-0.820500</td>\n",
       "      <td>-3.141400</td>\n",
       "      <td>-4.133800</td>\n",
       "      <td>-0.914300</td>\n",
       "      <td>-4.470800</td>\n",
       "      <td>-3.828700</td>\n",
       "      <td>...</td>\n",
       "      <td>0.000000</td>\n",
       "      <td>0.000000</td>\n",
       "      <td>0.000000</td>\n",
       "      <td>0.000000</td>\n",
       "      <td>0.000000</td>\n",
       "      <td>0.000000</td>\n",
       "      <td>0.000000</td>\n",
       "      <td>0.000000</td>\n",
       "      <td>0.000000</td>\n",
       "      <td>0.000000</td>\n",
       "    </tr>\n",
       "    <tr>\n",
       "      <th>25%</th>\n",
       "      <td>-0.610500</td>\n",
       "      <td>-0.548500</td>\n",
       "      <td>-0.656600</td>\n",
       "      <td>-0.568500</td>\n",
       "      <td>-0.810500</td>\n",
       "      <td>-0.553825</td>\n",
       "      <td>-0.682900</td>\n",
       "      <td>-0.914300</td>\n",
       "      <td>-0.617700</td>\n",
       "      <td>-0.610600</td>\n",
       "      <td>...</td>\n",
       "      <td>0.000000</td>\n",
       "      <td>0.000000</td>\n",
       "      <td>0.000000</td>\n",
       "      <td>1.000000</td>\n",
       "      <td>1.000000</td>\n",
       "      <td>1.000000</td>\n",
       "      <td>1.000000</td>\n",
       "      <td>0.000000</td>\n",
       "      <td>0.000000</td>\n",
       "      <td>0.000000</td>\n",
       "    </tr>\n",
       "    <tr>\n",
       "      <th>50%</th>\n",
       "      <td>0.019900</td>\n",
       "      <td>0.068400</td>\n",
       "      <td>-0.050400</td>\n",
       "      <td>0.231400</td>\n",
       "      <td>0.109000</td>\n",
       "      <td>0.032000</td>\n",
       "      <td>-0.175900</td>\n",
       "      <td>0.153100</td>\n",
       "      <td>-0.025700</td>\n",
       "      <td>-0.057600</td>\n",
       "      <td>...</td>\n",
       "      <td>0.000000</td>\n",
       "      <td>0.000000</td>\n",
       "      <td>0.000000</td>\n",
       "      <td>1.000000</td>\n",
       "      <td>1.000000</td>\n",
       "      <td>1.000000</td>\n",
       "      <td>1.000000</td>\n",
       "      <td>0.000000</td>\n",
       "      <td>0.000000</td>\n",
       "      <td>0.000000</td>\n",
       "    </tr>\n",
       "    <tr>\n",
       "      <th>75%</th>\n",
       "      <td>0.418800</td>\n",
       "      <td>0.521800</td>\n",
       "      <td>0.520600</td>\n",
       "      <td>0.819000</td>\n",
       "      <td>0.998200</td>\n",
       "      <td>0.436800</td>\n",
       "      <td>0.461150</td>\n",
       "      <td>1.015900</td>\n",
       "      <td>0.554700</td>\n",
       "      <td>0.579300</td>\n",
       "      <td>...</td>\n",
       "      <td>1.000000</td>\n",
       "      <td>1.000000</td>\n",
       "      <td>0.000000</td>\n",
       "      <td>1.000000</td>\n",
       "      <td>1.000000</td>\n",
       "      <td>1.000000</td>\n",
       "      <td>1.000000</td>\n",
       "      <td>0.000000</td>\n",
       "      <td>0.000000</td>\n",
       "      <td>0.000000</td>\n",
       "    </tr>\n",
       "    <tr>\n",
       "      <th>max</th>\n",
       "      <td>2.571900</td>\n",
       "      <td>2.813900</td>\n",
       "      <td>2.239400</td>\n",
       "      <td>8.629000</td>\n",
       "      <td>4.799400</td>\n",
       "      <td>3.530600</td>\n",
       "      <td>3.659700</td>\n",
       "      <td>6.567300</td>\n",
       "      <td>3.490600</td>\n",
       "      <td>3.238200</td>\n",
       "      <td>...</td>\n",
       "      <td>1.000000</td>\n",
       "      <td>1.000000</td>\n",
       "      <td>1.000000</td>\n",
       "      <td>1.000000</td>\n",
       "      <td>1.000000</td>\n",
       "      <td>1.000000</td>\n",
       "      <td>1.000000</td>\n",
       "      <td>1.000000</td>\n",
       "      <td>1.000000</td>\n",
       "      <td>1.000000</td>\n",
       "    </tr>\n",
       "  </tbody>\n",
       "</table>\n",
       "<p>8 rows × 26 columns</p>\n",
       "</div>"
      ],
      "text/plain": [
       "            CREATEFF       CREATSCH       CREATFAM        CREATAS  \\\n",
       "count  464114.000000  462428.000000  457538.000000  417643.000000   \n",
       "mean        0.023278       0.132584       0.021483       0.223822   \n",
       "std         1.023141       1.053093       1.028585       1.095256   \n",
       "min        -2.978300      -2.623400      -2.789000      -2.075600   \n",
       "25%        -0.610500      -0.548500      -0.656600      -0.568500   \n",
       "50%         0.019900       0.068400      -0.050400       0.231400   \n",
       "75%         0.418800       0.521800       0.520600       0.819000   \n",
       "max         2.571900       2.813900       2.239400       8.629000   \n",
       "\n",
       "            CREATOOS        CREATOP      CREATHME      CREATACT      CREATOPN  \\\n",
       "count  399028.000000  461832.000000  89879.000000  69982.000000  89488.000000   \n",
       "mean        0.280381       0.074527     -0.031006      0.233126      0.029012   \n",
       "std         1.130637       1.019361      1.002098      1.114992      0.998916   \n",
       "min        -0.820500      -3.141400     -4.133800     -0.914300     -4.470800   \n",
       "25%        -0.810500      -0.553825     -0.682900     -0.914300     -0.617700   \n",
       "50%         0.109000       0.032000     -0.175900      0.153100     -0.025700   \n",
       "75%         0.998200       0.436800      0.461150      1.015900      0.554700   \n",
       "max         4.799400       3.530600      3.659700      6.567300      3.490600   \n",
       "\n",
       "            CREATOR  ...  CREATAS_is_nan  CREATOOS_is_nan  CREATOP_is_nan  \\\n",
       "count  89738.000000  ...   613744.000000    613744.000000   613744.000000   \n",
       "mean       0.042998  ...        0.319516         0.349846        0.247517   \n",
       "std        1.006864  ...        0.466289         0.476922        0.431570   \n",
       "min       -3.828700  ...        0.000000         0.000000        0.000000   \n",
       "25%       -0.610600  ...        0.000000         0.000000        0.000000   \n",
       "50%       -0.057600  ...        0.000000         0.000000        0.000000   \n",
       "75%        0.579300  ...        1.000000         1.000000        0.000000   \n",
       "max        3.238200  ...        1.000000         1.000000        1.000000   \n",
       "\n",
       "       CREATHME_is_nan  CREATACT_is_nan  CREATOPN_is_nan  CREATOR_is_nan  \\\n",
       "count    613744.000000    613744.000000    613744.000000   613744.000000   \n",
       "mean          0.853556         0.885975         0.854193        0.853786   \n",
       "std           0.353551         0.317842         0.352913        0.353321   \n",
       "min           0.000000         0.000000         0.000000        0.000000   \n",
       "25%           1.000000         1.000000         1.000000        1.000000   \n",
       "50%           1.000000         1.000000         1.000000        1.000000   \n",
       "75%           1.000000         1.000000         1.000000        1.000000   \n",
       "max           1.000000         1.000000         1.000000        1.000000   \n",
       "\n",
       "       MATHEFF_is_nan  MATHEF21_is_nan  MATHPERS_is_nan  \n",
       "count   613744.000000    613744.000000    613744.000000  \n",
       "mean         0.235002         0.205825         0.181079  \n",
       "std          0.424000         0.404304         0.385084  \n",
       "min          0.000000         0.000000         0.000000  \n",
       "25%          0.000000         0.000000         0.000000  \n",
       "50%          0.000000         0.000000         0.000000  \n",
       "75%          0.000000         0.000000         0.000000  \n",
       "max          1.000000         1.000000         1.000000  \n",
       "\n",
       "[8 rows x 26 columns]"
      ]
     },
     "execution_count": 42,
     "metadata": {},
     "output_type": "execute_result"
    }
   ],
   "source": [
    "for column in creat_df.columns:\n",
    "    creat_df[f'{column}_is_nan'] = creat_df[column].isna().astype(int)\n",
    "\n",
    "creat_df.describe()"
   ]
  },
  {
   "cell_type": "code",
   "execution_count": 43,
   "metadata": {},
   "outputs": [
    {
     "data": {
      "text/html": [
       "<div>\n",
       "<style scoped>\n",
       "    .dataframe tbody tr th:only-of-type {\n",
       "        vertical-align: middle;\n",
       "    }\n",
       "\n",
       "    .dataframe tbody tr th {\n",
       "        vertical-align: top;\n",
       "    }\n",
       "\n",
       "    .dataframe thead th {\n",
       "        text-align: right;\n",
       "    }\n",
       "</style>\n",
       "<table border=\"1\" class=\"dataframe\">\n",
       "  <thead>\n",
       "    <tr style=\"text-align: right;\">\n",
       "      <th></th>\n",
       "      <th>CREATEFF</th>\n",
       "      <th>CREATSCH</th>\n",
       "      <th>CREATFAM</th>\n",
       "      <th>CREATAS</th>\n",
       "      <th>CREATOOS</th>\n",
       "      <th>CREATOP</th>\n",
       "      <th>CREATHME</th>\n",
       "      <th>CREATACT</th>\n",
       "      <th>CREATOPN</th>\n",
       "      <th>CREATOR</th>\n",
       "      <th>...</th>\n",
       "      <th>CREATAS_is_nan</th>\n",
       "      <th>CREATOOS_is_nan</th>\n",
       "      <th>CREATOP_is_nan</th>\n",
       "      <th>CREATHME_is_nan</th>\n",
       "      <th>CREATACT_is_nan</th>\n",
       "      <th>CREATOPN_is_nan</th>\n",
       "      <th>CREATOR_is_nan</th>\n",
       "      <th>MATHEFF_is_nan</th>\n",
       "      <th>MATHEF21_is_nan</th>\n",
       "      <th>MATHPERS_is_nan</th>\n",
       "    </tr>\n",
       "  </thead>\n",
       "  <tbody>\n",
       "    <tr>\n",
       "      <th>0</th>\n",
       "      <td>2.4021</td>\n",
       "      <td>0.0590</td>\n",
       "      <td>0.8155</td>\n",
       "      <td>4.1226</td>\n",
       "      <td>NaN</td>\n",
       "      <td>NaN</td>\n",
       "      <td>NaN</td>\n",
       "      <td>NaN</td>\n",
       "      <td>NaN</td>\n",
       "      <td>NaN</td>\n",
       "      <td>...</td>\n",
       "      <td>0</td>\n",
       "      <td>1</td>\n",
       "      <td>1</td>\n",
       "      <td>1</td>\n",
       "      <td>1</td>\n",
       "      <td>1</td>\n",
       "      <td>1</td>\n",
       "      <td>0</td>\n",
       "      <td>1</td>\n",
       "      <td>0</td>\n",
       "    </tr>\n",
       "    <tr>\n",
       "      <th>1</th>\n",
       "      <td>NaN</td>\n",
       "      <td>NaN</td>\n",
       "      <td>NaN</td>\n",
       "      <td>NaN</td>\n",
       "      <td>NaN</td>\n",
       "      <td>NaN</td>\n",
       "      <td>NaN</td>\n",
       "      <td>NaN</td>\n",
       "      <td>NaN</td>\n",
       "      <td>NaN</td>\n",
       "      <td>...</td>\n",
       "      <td>1</td>\n",
       "      <td>1</td>\n",
       "      <td>1</td>\n",
       "      <td>1</td>\n",
       "      <td>1</td>\n",
       "      <td>1</td>\n",
       "      <td>1</td>\n",
       "      <td>1</td>\n",
       "      <td>1</td>\n",
       "      <td>1</td>\n",
       "    </tr>\n",
       "    <tr>\n",
       "      <th>2</th>\n",
       "      <td>NaN</td>\n",
       "      <td>NaN</td>\n",
       "      <td>NaN</td>\n",
       "      <td>NaN</td>\n",
       "      <td>NaN</td>\n",
       "      <td>NaN</td>\n",
       "      <td>NaN</td>\n",
       "      <td>NaN</td>\n",
       "      <td>NaN</td>\n",
       "      <td>NaN</td>\n",
       "      <td>...</td>\n",
       "      <td>1</td>\n",
       "      <td>1</td>\n",
       "      <td>1</td>\n",
       "      <td>1</td>\n",
       "      <td>1</td>\n",
       "      <td>1</td>\n",
       "      <td>1</td>\n",
       "      <td>1</td>\n",
       "      <td>1</td>\n",
       "      <td>1</td>\n",
       "    </tr>\n",
       "    <tr>\n",
       "      <th>3</th>\n",
       "      <td>-0.4909</td>\n",
       "      <td>-0.3010</td>\n",
       "      <td>-1.0261</td>\n",
       "      <td>1.0191</td>\n",
       "      <td>1.4468</td>\n",
       "      <td>-0.5423</td>\n",
       "      <td>NaN</td>\n",
       "      <td>NaN</td>\n",
       "      <td>NaN</td>\n",
       "      <td>NaN</td>\n",
       "      <td>...</td>\n",
       "      <td>0</td>\n",
       "      <td>0</td>\n",
       "      <td>0</td>\n",
       "      <td>1</td>\n",
       "      <td>1</td>\n",
       "      <td>1</td>\n",
       "      <td>1</td>\n",
       "      <td>0</td>\n",
       "      <td>0</td>\n",
       "      <td>0</td>\n",
       "    </tr>\n",
       "    <tr>\n",
       "      <th>4</th>\n",
       "      <td>-0.7475</td>\n",
       "      <td>-0.1405</td>\n",
       "      <td>-0.9293</td>\n",
       "      <td>1.6583</td>\n",
       "      <td>1.8557</td>\n",
       "      <td>0.9322</td>\n",
       "      <td>NaN</td>\n",
       "      <td>NaN</td>\n",
       "      <td>NaN</td>\n",
       "      <td>NaN</td>\n",
       "      <td>...</td>\n",
       "      <td>0</td>\n",
       "      <td>0</td>\n",
       "      <td>0</td>\n",
       "      <td>1</td>\n",
       "      <td>1</td>\n",
       "      <td>1</td>\n",
       "      <td>1</td>\n",
       "      <td>0</td>\n",
       "      <td>0</td>\n",
       "      <td>0</td>\n",
       "    </tr>\n",
       "  </tbody>\n",
       "</table>\n",
       "<p>5 rows × 26 columns</p>\n",
       "</div>"
      ],
      "text/plain": [
       "   CREATEFF  CREATSCH  CREATFAM  CREATAS  CREATOOS  CREATOP  CREATHME  \\\n",
       "0    2.4021    0.0590    0.8155   4.1226       NaN      NaN       NaN   \n",
       "1       NaN       NaN       NaN      NaN       NaN      NaN       NaN   \n",
       "2       NaN       NaN       NaN      NaN       NaN      NaN       NaN   \n",
       "3   -0.4909   -0.3010   -1.0261   1.0191    1.4468  -0.5423       NaN   \n",
       "4   -0.7475   -0.1405   -0.9293   1.6583    1.8557   0.9322       NaN   \n",
       "\n",
       "   CREATACT  CREATOPN  CREATOR  ...  CREATAS_is_nan  CREATOOS_is_nan  \\\n",
       "0       NaN       NaN      NaN  ...               0                1   \n",
       "1       NaN       NaN      NaN  ...               1                1   \n",
       "2       NaN       NaN      NaN  ...               1                1   \n",
       "3       NaN       NaN      NaN  ...               0                0   \n",
       "4       NaN       NaN      NaN  ...               0                0   \n",
       "\n",
       "   CREATOP_is_nan  CREATHME_is_nan  CREATACT_is_nan  CREATOPN_is_nan  \\\n",
       "0               1                1                1                1   \n",
       "1               1                1                1                1   \n",
       "2               1                1                1                1   \n",
       "3               0                1                1                1   \n",
       "4               0                1                1                1   \n",
       "\n",
       "   CREATOR_is_nan  MATHEFF_is_nan  MATHEF21_is_nan  MATHPERS_is_nan  \n",
       "0               1               0                1                0  \n",
       "1               1               1                1                1  \n",
       "2               1               1                1                1  \n",
       "3               1               0                0                0  \n",
       "4               1               0                0                0  \n",
       "\n",
       "[5 rows x 26 columns]"
      ]
     },
     "execution_count": 43,
     "metadata": {},
     "output_type": "execute_result"
    }
   ],
   "source": [
    "creat_df.head()"
   ]
  },
  {
   "cell_type": "code",
   "execution_count": 44,
   "metadata": {},
   "outputs": [
    {
     "data": {
      "text/html": [
       "<div>\n",
       "<style scoped>\n",
       "    .dataframe tbody tr th:only-of-type {\n",
       "        vertical-align: middle;\n",
       "    }\n",
       "\n",
       "    .dataframe tbody tr th {\n",
       "        vertical-align: top;\n",
       "    }\n",
       "\n",
       "    .dataframe thead th {\n",
       "        text-align: right;\n",
       "    }\n",
       "</style>\n",
       "<table border=\"1\" class=\"dataframe\">\n",
       "  <thead>\n",
       "    <tr style=\"text-align: right;\">\n",
       "      <th></th>\n",
       "      <th>CREATEFF</th>\n",
       "      <th>CREATSCH</th>\n",
       "      <th>CREATFAM</th>\n",
       "      <th>CREATAS</th>\n",
       "      <th>CREATOOS</th>\n",
       "      <th>CREATOP</th>\n",
       "      <th>CREATHME</th>\n",
       "      <th>CREATACT</th>\n",
       "      <th>CREATOPN</th>\n",
       "      <th>CREATOR</th>\n",
       "      <th>...</th>\n",
       "      <th>CREATAS_is_nan</th>\n",
       "      <th>CREATOOS_is_nan</th>\n",
       "      <th>CREATOP_is_nan</th>\n",
       "      <th>CREATHME_is_nan</th>\n",
       "      <th>CREATACT_is_nan</th>\n",
       "      <th>CREATOPN_is_nan</th>\n",
       "      <th>CREATOR_is_nan</th>\n",
       "      <th>MATHEFF_is_nan</th>\n",
       "      <th>MATHEF21_is_nan</th>\n",
       "      <th>MATHPERS_is_nan</th>\n",
       "    </tr>\n",
       "  </thead>\n",
       "  <tbody>\n",
       "    <tr>\n",
       "      <th>0</th>\n",
       "      <td>2.4021</td>\n",
       "      <td>0.0590</td>\n",
       "      <td>0.8155</td>\n",
       "      <td>4.1226</td>\n",
       "      <td>0.1090</td>\n",
       "      <td>0.0320</td>\n",
       "      <td>-0.1759</td>\n",
       "      <td>0.1531</td>\n",
       "      <td>-0.0257</td>\n",
       "      <td>-0.0576</td>\n",
       "      <td>...</td>\n",
       "      <td>0</td>\n",
       "      <td>1</td>\n",
       "      <td>1</td>\n",
       "      <td>1</td>\n",
       "      <td>1</td>\n",
       "      <td>1</td>\n",
       "      <td>1</td>\n",
       "      <td>0</td>\n",
       "      <td>1</td>\n",
       "      <td>0</td>\n",
       "    </tr>\n",
       "    <tr>\n",
       "      <th>1</th>\n",
       "      <td>0.0199</td>\n",
       "      <td>0.0684</td>\n",
       "      <td>-0.0504</td>\n",
       "      <td>0.2314</td>\n",
       "      <td>0.1090</td>\n",
       "      <td>0.0320</td>\n",
       "      <td>-0.1759</td>\n",
       "      <td>0.1531</td>\n",
       "      <td>-0.0257</td>\n",
       "      <td>-0.0576</td>\n",
       "      <td>...</td>\n",
       "      <td>1</td>\n",
       "      <td>1</td>\n",
       "      <td>1</td>\n",
       "      <td>1</td>\n",
       "      <td>1</td>\n",
       "      <td>1</td>\n",
       "      <td>1</td>\n",
       "      <td>1</td>\n",
       "      <td>1</td>\n",
       "      <td>1</td>\n",
       "    </tr>\n",
       "    <tr>\n",
       "      <th>2</th>\n",
       "      <td>0.0199</td>\n",
       "      <td>0.0684</td>\n",
       "      <td>-0.0504</td>\n",
       "      <td>0.2314</td>\n",
       "      <td>0.1090</td>\n",
       "      <td>0.0320</td>\n",
       "      <td>-0.1759</td>\n",
       "      <td>0.1531</td>\n",
       "      <td>-0.0257</td>\n",
       "      <td>-0.0576</td>\n",
       "      <td>...</td>\n",
       "      <td>1</td>\n",
       "      <td>1</td>\n",
       "      <td>1</td>\n",
       "      <td>1</td>\n",
       "      <td>1</td>\n",
       "      <td>1</td>\n",
       "      <td>1</td>\n",
       "      <td>1</td>\n",
       "      <td>1</td>\n",
       "      <td>1</td>\n",
       "    </tr>\n",
       "    <tr>\n",
       "      <th>3</th>\n",
       "      <td>-0.4909</td>\n",
       "      <td>-0.3010</td>\n",
       "      <td>-1.0261</td>\n",
       "      <td>1.0191</td>\n",
       "      <td>1.4468</td>\n",
       "      <td>-0.5423</td>\n",
       "      <td>-0.1759</td>\n",
       "      <td>0.1531</td>\n",
       "      <td>-0.0257</td>\n",
       "      <td>-0.0576</td>\n",
       "      <td>...</td>\n",
       "      <td>0</td>\n",
       "      <td>0</td>\n",
       "      <td>0</td>\n",
       "      <td>1</td>\n",
       "      <td>1</td>\n",
       "      <td>1</td>\n",
       "      <td>1</td>\n",
       "      <td>0</td>\n",
       "      <td>0</td>\n",
       "      <td>0</td>\n",
       "    </tr>\n",
       "    <tr>\n",
       "      <th>4</th>\n",
       "      <td>-0.7475</td>\n",
       "      <td>-0.1405</td>\n",
       "      <td>-0.9293</td>\n",
       "      <td>1.6583</td>\n",
       "      <td>1.8557</td>\n",
       "      <td>0.9322</td>\n",
       "      <td>-0.1759</td>\n",
       "      <td>0.1531</td>\n",
       "      <td>-0.0257</td>\n",
       "      <td>-0.0576</td>\n",
       "      <td>...</td>\n",
       "      <td>0</td>\n",
       "      <td>0</td>\n",
       "      <td>0</td>\n",
       "      <td>1</td>\n",
       "      <td>1</td>\n",
       "      <td>1</td>\n",
       "      <td>1</td>\n",
       "      <td>0</td>\n",
       "      <td>0</td>\n",
       "      <td>0</td>\n",
       "    </tr>\n",
       "  </tbody>\n",
       "</table>\n",
       "<p>5 rows × 26 columns</p>\n",
       "</div>"
      ],
      "text/plain": [
       "   CREATEFF  CREATSCH  CREATFAM  CREATAS  CREATOOS  CREATOP  CREATHME  \\\n",
       "0    2.4021    0.0590    0.8155   4.1226    0.1090   0.0320   -0.1759   \n",
       "1    0.0199    0.0684   -0.0504   0.2314    0.1090   0.0320   -0.1759   \n",
       "2    0.0199    0.0684   -0.0504   0.2314    0.1090   0.0320   -0.1759   \n",
       "3   -0.4909   -0.3010   -1.0261   1.0191    1.4468  -0.5423   -0.1759   \n",
       "4   -0.7475   -0.1405   -0.9293   1.6583    1.8557   0.9322   -0.1759   \n",
       "\n",
       "   CREATACT  CREATOPN  CREATOR  ...  CREATAS_is_nan  CREATOOS_is_nan  \\\n",
       "0    0.1531   -0.0257  -0.0576  ...               0                1   \n",
       "1    0.1531   -0.0257  -0.0576  ...               1                1   \n",
       "2    0.1531   -0.0257  -0.0576  ...               1                1   \n",
       "3    0.1531   -0.0257  -0.0576  ...               0                0   \n",
       "4    0.1531   -0.0257  -0.0576  ...               0                0   \n",
       "\n",
       "   CREATOP_is_nan  CREATHME_is_nan  CREATACT_is_nan  CREATOPN_is_nan  \\\n",
       "0               1                1                1                1   \n",
       "1               1                1                1                1   \n",
       "2               1                1                1                1   \n",
       "3               0                1                1                1   \n",
       "4               0                1                1                1   \n",
       "\n",
       "   CREATOR_is_nan  MATHEFF_is_nan  MATHEF21_is_nan  MATHPERS_is_nan  \n",
       "0               1               0                1                0  \n",
       "1               1               1                1                1  \n",
       "2               1               1                1                1  \n",
       "3               1               0                0                0  \n",
       "4               1               0                0                0  \n",
       "\n",
       "[5 rows x 26 columns]"
      ]
     },
     "execution_count": 44,
     "metadata": {},
     "output_type": "execute_result"
    }
   ],
   "source": [
    "creat_df.fillna(creat_df.median(), inplace=True)\n",
    "creat_df.head()"
   ]
  },
  {
   "cell_type": "code",
   "execution_count": 45,
   "metadata": {},
   "outputs": [
    {
     "data": {
      "text/html": [
       "<div>\n",
       "<style scoped>\n",
       "    .dataframe tbody tr th:only-of-type {\n",
       "        vertical-align: middle;\n",
       "    }\n",
       "\n",
       "    .dataframe tbody tr th {\n",
       "        vertical-align: top;\n",
       "    }\n",
       "\n",
       "    .dataframe thead th {\n",
       "        text-align: right;\n",
       "    }\n",
       "</style>\n",
       "<table border=\"1\" class=\"dataframe\">\n",
       "  <thead>\n",
       "    <tr style=\"text-align: right;\">\n",
       "      <th></th>\n",
       "      <th>MATHPREF</th>\n",
       "      <th>MATHEASE</th>\n",
       "      <th>MATHMOT</th>\n",
       "    </tr>\n",
       "  </thead>\n",
       "  <tbody>\n",
       "    <tr>\n",
       "      <th>0</th>\n",
       "      <td>No preference for mathematics over other subjects</td>\n",
       "      <td>No perception of mathematics as easier than ot...</td>\n",
       "      <td>Not more motivated to do well in mathematics t...</td>\n",
       "    </tr>\n",
       "    <tr>\n",
       "      <th>1</th>\n",
       "      <td>NaN</td>\n",
       "      <td>NaN</td>\n",
       "      <td>NaN</td>\n",
       "    </tr>\n",
       "    <tr>\n",
       "      <th>2</th>\n",
       "      <td>NaN</td>\n",
       "      <td>NaN</td>\n",
       "      <td>NaN</td>\n",
       "    </tr>\n",
       "    <tr>\n",
       "      <th>3</th>\n",
       "      <td>No preference for mathematics over other subjects</td>\n",
       "      <td>No perception of mathematics as easier than ot...</td>\n",
       "      <td>Not more motivated to do well in mathematics t...</td>\n",
       "    </tr>\n",
       "    <tr>\n",
       "      <th>4</th>\n",
       "      <td>No preference for mathematics over other subjects</td>\n",
       "      <td>No perception of mathematics as easier than ot...</td>\n",
       "      <td>Not more motivated to do well in mathematics t...</td>\n",
       "    </tr>\n",
       "    <tr>\n",
       "      <th>...</th>\n",
       "      <td>...</td>\n",
       "      <td>...</td>\n",
       "      <td>...</td>\n",
       "    </tr>\n",
       "    <tr>\n",
       "      <th>613739</th>\n",
       "      <td>No preference for mathematics over other subjects</td>\n",
       "      <td>No perception of mathematics as easier than ot...</td>\n",
       "      <td>Not more motivated to do well in mathematics t...</td>\n",
       "    </tr>\n",
       "    <tr>\n",
       "      <th>613740</th>\n",
       "      <td>NaN</td>\n",
       "      <td>NaN</td>\n",
       "      <td>NaN</td>\n",
       "    </tr>\n",
       "    <tr>\n",
       "      <th>613741</th>\n",
       "      <td>No preference for mathematics over other subjects</td>\n",
       "      <td>No perception of mathematics as easier than ot...</td>\n",
       "      <td>Not more motivated to do well in mathematics t...</td>\n",
       "    </tr>\n",
       "    <tr>\n",
       "      <th>613742</th>\n",
       "      <td>No preference for mathematics over other subjects</td>\n",
       "      <td>No perception of mathematics as easier than ot...</td>\n",
       "      <td>Not more motivated to do well in mathematics t...</td>\n",
       "    </tr>\n",
       "    <tr>\n",
       "      <th>613743</th>\n",
       "      <td>No preference for mathematics over other subjects</td>\n",
       "      <td>No perception of mathematics as easier than ot...</td>\n",
       "      <td>Not more motivated to do well in mathematics t...</td>\n",
       "    </tr>\n",
       "  </tbody>\n",
       "</table>\n",
       "<p>613744 rows × 3 columns</p>\n",
       "</div>"
      ],
      "text/plain": [
       "                                                 MATHPREF  \\\n",
       "0       No preference for mathematics over other subjects   \n",
       "1                                                     NaN   \n",
       "2                                                     NaN   \n",
       "3       No preference for mathematics over other subjects   \n",
       "4       No preference for mathematics over other subjects   \n",
       "...                                                   ...   \n",
       "613739  No preference for mathematics over other subjects   \n",
       "613740                                                NaN   \n",
       "613741  No preference for mathematics over other subjects   \n",
       "613742  No preference for mathematics over other subjects   \n",
       "613743  No preference for mathematics over other subjects   \n",
       "\n",
       "                                                 MATHEASE  \\\n",
       "0       No perception of mathematics as easier than ot...   \n",
       "1                                                     NaN   \n",
       "2                                                     NaN   \n",
       "3       No perception of mathematics as easier than ot...   \n",
       "4       No perception of mathematics as easier than ot...   \n",
       "...                                                   ...   \n",
       "613739  No perception of mathematics as easier than ot...   \n",
       "613740                                                NaN   \n",
       "613741  No perception of mathematics as easier than ot...   \n",
       "613742  No perception of mathematics as easier than ot...   \n",
       "613743  No perception of mathematics as easier than ot...   \n",
       "\n",
       "                                                  MATHMOT  \n",
       "0       Not more motivated to do well in mathematics t...  \n",
       "1                                                     NaN  \n",
       "2                                                     NaN  \n",
       "3       Not more motivated to do well in mathematics t...  \n",
       "4       Not more motivated to do well in mathematics t...  \n",
       "...                                                   ...  \n",
       "613739  Not more motivated to do well in mathematics t...  \n",
       "613740                                                NaN  \n",
       "613741  Not more motivated to do well in mathematics t...  \n",
       "613742  Not more motivated to do well in mathematics t...  \n",
       "613743  Not more motivated to do well in mathematics t...  \n",
       "\n",
       "[613744 rows x 3 columns]"
      ]
     },
     "execution_count": 45,
     "metadata": {},
     "output_type": "execute_result"
    }
   ],
   "source": [
    "pref_cols=['MATHPREF', 'MATHEASE', 'MATHMOT']\n",
    "pref_df = df[pref_cols]\n",
    "pref_df"
   ]
  },
  {
   "cell_type": "code",
   "execution_count": 46,
   "metadata": {},
   "outputs": [],
   "source": [
    "columns = pref_df.columns\n",
    "for col in columns:\n",
    "    # Create dummies for each categorical column\n",
    "    dummies = pd.get_dummies(pref_df[col], prefix=col, dummy_na=True)\n",
    "\n",
    "    # Convert True/False to 0/1\n",
    "    dummies = dummies.astype(int)\n",
    "    \n",
    "    # Join the dummies back to the original DataFrame\n",
    "    pref_df = pref_df.join(dummies)\n",
    "\n",
    "# Drop original categorical columns\n",
    "pref_df.drop(columns=columns, inplace=True)"
   ]
  },
  {
   "cell_type": "code",
   "execution_count": 47,
   "metadata": {},
   "outputs": [
    {
     "data": {
      "text/html": [
       "<div>\n",
       "<style scoped>\n",
       "    .dataframe tbody tr th:only-of-type {\n",
       "        vertical-align: middle;\n",
       "    }\n",
       "\n",
       "    .dataframe tbody tr th {\n",
       "        vertical-align: top;\n",
       "    }\n",
       "\n",
       "    .dataframe thead th {\n",
       "        text-align: right;\n",
       "    }\n",
       "</style>\n",
       "<table border=\"1\" class=\"dataframe\">\n",
       "  <thead>\n",
       "    <tr style=\"text-align: right;\">\n",
       "      <th></th>\n",
       "      <th>MATHPREF_No preference for mathematics over other subjects</th>\n",
       "      <th>MATHPREF_Preference for mathematics over other subjects</th>\n",
       "      <th>MATHPREF_nan</th>\n",
       "      <th>MATHEASE_No perception of mathematics as easier than other subjects</th>\n",
       "      <th>MATHEASE_Perception of mathematics as easier than other subjects</th>\n",
       "      <th>MATHEASE_nan</th>\n",
       "      <th>MATHMOT_More motivated to do well in mathematics than other subjects</th>\n",
       "      <th>MATHMOT_Not more motivated to do well in mathematics than other subjects</th>\n",
       "      <th>MATHMOT_nan</th>\n",
       "    </tr>\n",
       "  </thead>\n",
       "  <tbody>\n",
       "    <tr>\n",
       "      <th>0</th>\n",
       "      <td>1</td>\n",
       "      <td>0</td>\n",
       "      <td>0</td>\n",
       "      <td>1</td>\n",
       "      <td>0</td>\n",
       "      <td>0</td>\n",
       "      <td>0</td>\n",
       "      <td>1</td>\n",
       "      <td>0</td>\n",
       "    </tr>\n",
       "    <tr>\n",
       "      <th>1</th>\n",
       "      <td>0</td>\n",
       "      <td>0</td>\n",
       "      <td>1</td>\n",
       "      <td>0</td>\n",
       "      <td>0</td>\n",
       "      <td>1</td>\n",
       "      <td>0</td>\n",
       "      <td>0</td>\n",
       "      <td>1</td>\n",
       "    </tr>\n",
       "    <tr>\n",
       "      <th>2</th>\n",
       "      <td>0</td>\n",
       "      <td>0</td>\n",
       "      <td>1</td>\n",
       "      <td>0</td>\n",
       "      <td>0</td>\n",
       "      <td>1</td>\n",
       "      <td>0</td>\n",
       "      <td>0</td>\n",
       "      <td>1</td>\n",
       "    </tr>\n",
       "    <tr>\n",
       "      <th>3</th>\n",
       "      <td>1</td>\n",
       "      <td>0</td>\n",
       "      <td>0</td>\n",
       "      <td>1</td>\n",
       "      <td>0</td>\n",
       "      <td>0</td>\n",
       "      <td>0</td>\n",
       "      <td>1</td>\n",
       "      <td>0</td>\n",
       "    </tr>\n",
       "    <tr>\n",
       "      <th>4</th>\n",
       "      <td>1</td>\n",
       "      <td>0</td>\n",
       "      <td>0</td>\n",
       "      <td>1</td>\n",
       "      <td>0</td>\n",
       "      <td>0</td>\n",
       "      <td>0</td>\n",
       "      <td>1</td>\n",
       "      <td>0</td>\n",
       "    </tr>\n",
       "    <tr>\n",
       "      <th>...</th>\n",
       "      <td>...</td>\n",
       "      <td>...</td>\n",
       "      <td>...</td>\n",
       "      <td>...</td>\n",
       "      <td>...</td>\n",
       "      <td>...</td>\n",
       "      <td>...</td>\n",
       "      <td>...</td>\n",
       "      <td>...</td>\n",
       "    </tr>\n",
       "    <tr>\n",
       "      <th>613739</th>\n",
       "      <td>1</td>\n",
       "      <td>0</td>\n",
       "      <td>0</td>\n",
       "      <td>1</td>\n",
       "      <td>0</td>\n",
       "      <td>0</td>\n",
       "      <td>0</td>\n",
       "      <td>1</td>\n",
       "      <td>0</td>\n",
       "    </tr>\n",
       "    <tr>\n",
       "      <th>613740</th>\n",
       "      <td>0</td>\n",
       "      <td>0</td>\n",
       "      <td>1</td>\n",
       "      <td>0</td>\n",
       "      <td>0</td>\n",
       "      <td>1</td>\n",
       "      <td>0</td>\n",
       "      <td>0</td>\n",
       "      <td>1</td>\n",
       "    </tr>\n",
       "    <tr>\n",
       "      <th>613741</th>\n",
       "      <td>1</td>\n",
       "      <td>0</td>\n",
       "      <td>0</td>\n",
       "      <td>1</td>\n",
       "      <td>0</td>\n",
       "      <td>0</td>\n",
       "      <td>0</td>\n",
       "      <td>1</td>\n",
       "      <td>0</td>\n",
       "    </tr>\n",
       "    <tr>\n",
       "      <th>613742</th>\n",
       "      <td>1</td>\n",
       "      <td>0</td>\n",
       "      <td>0</td>\n",
       "      <td>1</td>\n",
       "      <td>0</td>\n",
       "      <td>0</td>\n",
       "      <td>0</td>\n",
       "      <td>1</td>\n",
       "      <td>0</td>\n",
       "    </tr>\n",
       "    <tr>\n",
       "      <th>613743</th>\n",
       "      <td>1</td>\n",
       "      <td>0</td>\n",
       "      <td>0</td>\n",
       "      <td>1</td>\n",
       "      <td>0</td>\n",
       "      <td>0</td>\n",
       "      <td>0</td>\n",
       "      <td>1</td>\n",
       "      <td>0</td>\n",
       "    </tr>\n",
       "  </tbody>\n",
       "</table>\n",
       "<p>613744 rows × 9 columns</p>\n",
       "</div>"
      ],
      "text/plain": [
       "        MATHPREF_No preference for mathematics over other subjects  \\\n",
       "0                                                       1            \n",
       "1                                                       0            \n",
       "2                                                       0            \n",
       "3                                                       1            \n",
       "4                                                       1            \n",
       "...                                                   ...            \n",
       "613739                                                  1            \n",
       "613740                                                  0            \n",
       "613741                                                  1            \n",
       "613742                                                  1            \n",
       "613743                                                  1            \n",
       "\n",
       "        MATHPREF_Preference for mathematics over other subjects  MATHPREF_nan  \\\n",
       "0                                                       0                   0   \n",
       "1                                                       0                   1   \n",
       "2                                                       0                   1   \n",
       "3                                                       0                   0   \n",
       "4                                                       0                   0   \n",
       "...                                                   ...                 ...   \n",
       "613739                                                  0                   0   \n",
       "613740                                                  0                   1   \n",
       "613741                                                  0                   0   \n",
       "613742                                                  0                   0   \n",
       "613743                                                  0                   0   \n",
       "\n",
       "        MATHEASE_No perception of mathematics as easier than other subjects  \\\n",
       "0                                                       1                     \n",
       "1                                                       0                     \n",
       "2                                                       0                     \n",
       "3                                                       1                     \n",
       "4                                                       1                     \n",
       "...                                                   ...                     \n",
       "613739                                                  1                     \n",
       "613740                                                  0                     \n",
       "613741                                                  1                     \n",
       "613742                                                  1                     \n",
       "613743                                                  1                     \n",
       "\n",
       "        MATHEASE_Perception of mathematics as easier than other subjects  \\\n",
       "0                                                       0                  \n",
       "1                                                       0                  \n",
       "2                                                       0                  \n",
       "3                                                       0                  \n",
       "4                                                       0                  \n",
       "...                                                   ...                  \n",
       "613739                                                  0                  \n",
       "613740                                                  0                  \n",
       "613741                                                  0                  \n",
       "613742                                                  0                  \n",
       "613743                                                  0                  \n",
       "\n",
       "        MATHEASE_nan  \\\n",
       "0                  0   \n",
       "1                  1   \n",
       "2                  1   \n",
       "3                  0   \n",
       "4                  0   \n",
       "...              ...   \n",
       "613739             0   \n",
       "613740             1   \n",
       "613741             0   \n",
       "613742             0   \n",
       "613743             0   \n",
       "\n",
       "        MATHMOT_More motivated to do well in mathematics than other subjects  \\\n",
       "0                                                       0                      \n",
       "1                                                       0                      \n",
       "2                                                       0                      \n",
       "3                                                       0                      \n",
       "4                                                       0                      \n",
       "...                                                   ...                      \n",
       "613739                                                  0                      \n",
       "613740                                                  0                      \n",
       "613741                                                  0                      \n",
       "613742                                                  0                      \n",
       "613743                                                  0                      \n",
       "\n",
       "        MATHMOT_Not more motivated to do well in mathematics than other subjects  \\\n",
       "0                                                       1                          \n",
       "1                                                       0                          \n",
       "2                                                       0                          \n",
       "3                                                       1                          \n",
       "4                                                       1                          \n",
       "...                                                   ...                          \n",
       "613739                                                  1                          \n",
       "613740                                                  0                          \n",
       "613741                                                  1                          \n",
       "613742                                                  1                          \n",
       "613743                                                  1                          \n",
       "\n",
       "        MATHMOT_nan  \n",
       "0                 0  \n",
       "1                 1  \n",
       "2                 1  \n",
       "3                 0  \n",
       "4                 0  \n",
       "...             ...  \n",
       "613739            0  \n",
       "613740            1  \n",
       "613741            0  \n",
       "613742            0  \n",
       "613743            0  \n",
       "\n",
       "[613744 rows x 9 columns]"
      ]
     },
     "execution_count": 47,
     "metadata": {},
     "output_type": "execute_result"
    }
   ],
   "source": [
    "pref_df"
   ]
  },
  {
   "cell_type": "code",
   "execution_count": 48,
   "metadata": {},
   "outputs": [
    {
     "data": {
      "text/html": [
       "<div>\n",
       "<style scoped>\n",
       "    .dataframe tbody tr th:only-of-type {\n",
       "        vertical-align: middle;\n",
       "    }\n",
       "\n",
       "    .dataframe tbody tr th {\n",
       "        vertical-align: top;\n",
       "    }\n",
       "\n",
       "    .dataframe thead th {\n",
       "        text-align: right;\n",
       "    }\n",
       "</style>\n",
       "<table border=\"1\" class=\"dataframe\">\n",
       "  <thead>\n",
       "    <tr style=\"text-align: right;\">\n",
       "      <th></th>\n",
       "      <th>CREATEFF</th>\n",
       "      <th>CREATSCH</th>\n",
       "      <th>CREATFAM</th>\n",
       "      <th>CREATAS</th>\n",
       "      <th>CREATOOS</th>\n",
       "      <th>CREATOP</th>\n",
       "      <th>CREATHME</th>\n",
       "      <th>CREATACT</th>\n",
       "      <th>CREATOPN</th>\n",
       "      <th>CREATOR</th>\n",
       "      <th>...</th>\n",
       "      <th>CREATAS_is_nan</th>\n",
       "      <th>CREATOOS_is_nan</th>\n",
       "      <th>CREATOP_is_nan</th>\n",
       "      <th>CREATHME_is_nan</th>\n",
       "      <th>CREATACT_is_nan</th>\n",
       "      <th>CREATOPN_is_nan</th>\n",
       "      <th>CREATOR_is_nan</th>\n",
       "      <th>MATHEFF_is_nan</th>\n",
       "      <th>MATHEF21_is_nan</th>\n",
       "      <th>MATHPERS_is_nan</th>\n",
       "    </tr>\n",
       "  </thead>\n",
       "  <tbody>\n",
       "    <tr>\n",
       "      <th>0</th>\n",
       "      <td>2.4021</td>\n",
       "      <td>0.0590</td>\n",
       "      <td>0.8155</td>\n",
       "      <td>4.1226</td>\n",
       "      <td>0.1090</td>\n",
       "      <td>0.0320</td>\n",
       "      <td>-0.1759</td>\n",
       "      <td>0.1531</td>\n",
       "      <td>-0.0257</td>\n",
       "      <td>-0.0576</td>\n",
       "      <td>...</td>\n",
       "      <td>0</td>\n",
       "      <td>1</td>\n",
       "      <td>1</td>\n",
       "      <td>1</td>\n",
       "      <td>1</td>\n",
       "      <td>1</td>\n",
       "      <td>1</td>\n",
       "      <td>0</td>\n",
       "      <td>1</td>\n",
       "      <td>0</td>\n",
       "    </tr>\n",
       "    <tr>\n",
       "      <th>1</th>\n",
       "      <td>0.0199</td>\n",
       "      <td>0.0684</td>\n",
       "      <td>-0.0504</td>\n",
       "      <td>0.2314</td>\n",
       "      <td>0.1090</td>\n",
       "      <td>0.0320</td>\n",
       "      <td>-0.1759</td>\n",
       "      <td>0.1531</td>\n",
       "      <td>-0.0257</td>\n",
       "      <td>-0.0576</td>\n",
       "      <td>...</td>\n",
       "      <td>1</td>\n",
       "      <td>1</td>\n",
       "      <td>1</td>\n",
       "      <td>1</td>\n",
       "      <td>1</td>\n",
       "      <td>1</td>\n",
       "      <td>1</td>\n",
       "      <td>1</td>\n",
       "      <td>1</td>\n",
       "      <td>1</td>\n",
       "    </tr>\n",
       "    <tr>\n",
       "      <th>2</th>\n",
       "      <td>0.0199</td>\n",
       "      <td>0.0684</td>\n",
       "      <td>-0.0504</td>\n",
       "      <td>0.2314</td>\n",
       "      <td>0.1090</td>\n",
       "      <td>0.0320</td>\n",
       "      <td>-0.1759</td>\n",
       "      <td>0.1531</td>\n",
       "      <td>-0.0257</td>\n",
       "      <td>-0.0576</td>\n",
       "      <td>...</td>\n",
       "      <td>1</td>\n",
       "      <td>1</td>\n",
       "      <td>1</td>\n",
       "      <td>1</td>\n",
       "      <td>1</td>\n",
       "      <td>1</td>\n",
       "      <td>1</td>\n",
       "      <td>1</td>\n",
       "      <td>1</td>\n",
       "      <td>1</td>\n",
       "    </tr>\n",
       "    <tr>\n",
       "      <th>3</th>\n",
       "      <td>-0.4909</td>\n",
       "      <td>-0.3010</td>\n",
       "      <td>-1.0261</td>\n",
       "      <td>1.0191</td>\n",
       "      <td>1.4468</td>\n",
       "      <td>-0.5423</td>\n",
       "      <td>-0.1759</td>\n",
       "      <td>0.1531</td>\n",
       "      <td>-0.0257</td>\n",
       "      <td>-0.0576</td>\n",
       "      <td>...</td>\n",
       "      <td>0</td>\n",
       "      <td>0</td>\n",
       "      <td>0</td>\n",
       "      <td>1</td>\n",
       "      <td>1</td>\n",
       "      <td>1</td>\n",
       "      <td>1</td>\n",
       "      <td>0</td>\n",
       "      <td>0</td>\n",
       "      <td>0</td>\n",
       "    </tr>\n",
       "    <tr>\n",
       "      <th>4</th>\n",
       "      <td>-0.7475</td>\n",
       "      <td>-0.1405</td>\n",
       "      <td>-0.9293</td>\n",
       "      <td>1.6583</td>\n",
       "      <td>1.8557</td>\n",
       "      <td>0.9322</td>\n",
       "      <td>-0.1759</td>\n",
       "      <td>0.1531</td>\n",
       "      <td>-0.0257</td>\n",
       "      <td>-0.0576</td>\n",
       "      <td>...</td>\n",
       "      <td>0</td>\n",
       "      <td>0</td>\n",
       "      <td>0</td>\n",
       "      <td>1</td>\n",
       "      <td>1</td>\n",
       "      <td>1</td>\n",
       "      <td>1</td>\n",
       "      <td>0</td>\n",
       "      <td>0</td>\n",
       "      <td>0</td>\n",
       "    </tr>\n",
       "    <tr>\n",
       "      <th>...</th>\n",
       "      <td>...</td>\n",
       "      <td>...</td>\n",
       "      <td>...</td>\n",
       "      <td>...</td>\n",
       "      <td>...</td>\n",
       "      <td>...</td>\n",
       "      <td>...</td>\n",
       "      <td>...</td>\n",
       "      <td>...</td>\n",
       "      <td>...</td>\n",
       "      <td>...</td>\n",
       "      <td>...</td>\n",
       "      <td>...</td>\n",
       "      <td>...</td>\n",
       "      <td>...</td>\n",
       "      <td>...</td>\n",
       "      <td>...</td>\n",
       "      <td>...</td>\n",
       "      <td>...</td>\n",
       "      <td>...</td>\n",
       "      <td>...</td>\n",
       "    </tr>\n",
       "    <tr>\n",
       "      <th>613739</th>\n",
       "      <td>2.1524</td>\n",
       "      <td>0.5032</td>\n",
       "      <td>-0.0326</td>\n",
       "      <td>0.2314</td>\n",
       "      <td>0.1090</td>\n",
       "      <td>-0.4280</td>\n",
       "      <td>-0.1759</td>\n",
       "      <td>0.1531</td>\n",
       "      <td>-0.0257</td>\n",
       "      <td>-0.0576</td>\n",
       "      <td>...</td>\n",
       "      <td>1</td>\n",
       "      <td>1</td>\n",
       "      <td>0</td>\n",
       "      <td>1</td>\n",
       "      <td>1</td>\n",
       "      <td>1</td>\n",
       "      <td>1</td>\n",
       "      <td>0</td>\n",
       "      <td>0</td>\n",
       "      <td>0</td>\n",
       "    </tr>\n",
       "    <tr>\n",
       "      <th>613740</th>\n",
       "      <td>0.0199</td>\n",
       "      <td>0.0684</td>\n",
       "      <td>-0.0504</td>\n",
       "      <td>0.2314</td>\n",
       "      <td>0.1090</td>\n",
       "      <td>0.0320</td>\n",
       "      <td>-0.1759</td>\n",
       "      <td>0.1531</td>\n",
       "      <td>-0.0257</td>\n",
       "      <td>-0.0576</td>\n",
       "      <td>...</td>\n",
       "      <td>1</td>\n",
       "      <td>1</td>\n",
       "      <td>1</td>\n",
       "      <td>1</td>\n",
       "      <td>1</td>\n",
       "      <td>1</td>\n",
       "      <td>1</td>\n",
       "      <td>1</td>\n",
       "      <td>1</td>\n",
       "      <td>1</td>\n",
       "    </tr>\n",
       "    <tr>\n",
       "      <th>613741</th>\n",
       "      <td>0.0846</td>\n",
       "      <td>0.5352</td>\n",
       "      <td>-0.5679</td>\n",
       "      <td>0.4911</td>\n",
       "      <td>0.6097</td>\n",
       "      <td>0.4185</td>\n",
       "      <td>-0.1759</td>\n",
       "      <td>0.1531</td>\n",
       "      <td>-0.0257</td>\n",
       "      <td>-0.0576</td>\n",
       "      <td>...</td>\n",
       "      <td>0</td>\n",
       "      <td>0</td>\n",
       "      <td>0</td>\n",
       "      <td>1</td>\n",
       "      <td>1</td>\n",
       "      <td>1</td>\n",
       "      <td>1</td>\n",
       "      <td>0</td>\n",
       "      <td>0</td>\n",
       "      <td>0</td>\n",
       "    </tr>\n",
       "    <tr>\n",
       "      <th>613742</th>\n",
       "      <td>0.0199</td>\n",
       "      <td>0.0684</td>\n",
       "      <td>-0.0504</td>\n",
       "      <td>0.2314</td>\n",
       "      <td>0.1090</td>\n",
       "      <td>0.0320</td>\n",
       "      <td>-0.1759</td>\n",
       "      <td>0.1531</td>\n",
       "      <td>-0.0257</td>\n",
       "      <td>-0.0576</td>\n",
       "      <td>...</td>\n",
       "      <td>1</td>\n",
       "      <td>1</td>\n",
       "      <td>1</td>\n",
       "      <td>1</td>\n",
       "      <td>1</td>\n",
       "      <td>1</td>\n",
       "      <td>1</td>\n",
       "      <td>0</td>\n",
       "      <td>0</td>\n",
       "      <td>1</td>\n",
       "    </tr>\n",
       "    <tr>\n",
       "      <th>613743</th>\n",
       "      <td>0.0199</td>\n",
       "      <td>0.0684</td>\n",
       "      <td>-0.0504</td>\n",
       "      <td>0.2314</td>\n",
       "      <td>0.1090</td>\n",
       "      <td>0.0320</td>\n",
       "      <td>-0.1759</td>\n",
       "      <td>0.1531</td>\n",
       "      <td>-0.0257</td>\n",
       "      <td>-0.0576</td>\n",
       "      <td>...</td>\n",
       "      <td>1</td>\n",
       "      <td>1</td>\n",
       "      <td>1</td>\n",
       "      <td>1</td>\n",
       "      <td>1</td>\n",
       "      <td>1</td>\n",
       "      <td>1</td>\n",
       "      <td>0</td>\n",
       "      <td>0</td>\n",
       "      <td>1</td>\n",
       "    </tr>\n",
       "  </tbody>\n",
       "</table>\n",
       "<p>613744 rows × 26 columns</p>\n",
       "</div>"
      ],
      "text/plain": [
       "        CREATEFF  CREATSCH  CREATFAM  CREATAS  CREATOOS  CREATOP  CREATHME  \\\n",
       "0         2.4021    0.0590    0.8155   4.1226    0.1090   0.0320   -0.1759   \n",
       "1         0.0199    0.0684   -0.0504   0.2314    0.1090   0.0320   -0.1759   \n",
       "2         0.0199    0.0684   -0.0504   0.2314    0.1090   0.0320   -0.1759   \n",
       "3        -0.4909   -0.3010   -1.0261   1.0191    1.4468  -0.5423   -0.1759   \n",
       "4        -0.7475   -0.1405   -0.9293   1.6583    1.8557   0.9322   -0.1759   \n",
       "...          ...       ...       ...      ...       ...      ...       ...   \n",
       "613739    2.1524    0.5032   -0.0326   0.2314    0.1090  -0.4280   -0.1759   \n",
       "613740    0.0199    0.0684   -0.0504   0.2314    0.1090   0.0320   -0.1759   \n",
       "613741    0.0846    0.5352   -0.5679   0.4911    0.6097   0.4185   -0.1759   \n",
       "613742    0.0199    0.0684   -0.0504   0.2314    0.1090   0.0320   -0.1759   \n",
       "613743    0.0199    0.0684   -0.0504   0.2314    0.1090   0.0320   -0.1759   \n",
       "\n",
       "        CREATACT  CREATOPN  CREATOR  ...  CREATAS_is_nan  CREATOOS_is_nan  \\\n",
       "0         0.1531   -0.0257  -0.0576  ...               0                1   \n",
       "1         0.1531   -0.0257  -0.0576  ...               1                1   \n",
       "2         0.1531   -0.0257  -0.0576  ...               1                1   \n",
       "3         0.1531   -0.0257  -0.0576  ...               0                0   \n",
       "4         0.1531   -0.0257  -0.0576  ...               0                0   \n",
       "...          ...       ...      ...  ...             ...              ...   \n",
       "613739    0.1531   -0.0257  -0.0576  ...               1                1   \n",
       "613740    0.1531   -0.0257  -0.0576  ...               1                1   \n",
       "613741    0.1531   -0.0257  -0.0576  ...               0                0   \n",
       "613742    0.1531   -0.0257  -0.0576  ...               1                1   \n",
       "613743    0.1531   -0.0257  -0.0576  ...               1                1   \n",
       "\n",
       "        CREATOP_is_nan  CREATHME_is_nan  CREATACT_is_nan  CREATOPN_is_nan  \\\n",
       "0                    1                1                1                1   \n",
       "1                    1                1                1                1   \n",
       "2                    1                1                1                1   \n",
       "3                    0                1                1                1   \n",
       "4                    0                1                1                1   \n",
       "...                ...              ...              ...              ...   \n",
       "613739               0                1                1                1   \n",
       "613740               1                1                1                1   \n",
       "613741               0                1                1                1   \n",
       "613742               1                1                1                1   \n",
       "613743               1                1                1                1   \n",
       "\n",
       "        CREATOR_is_nan  MATHEFF_is_nan  MATHEF21_is_nan  MATHPERS_is_nan  \n",
       "0                    1               0                1                0  \n",
       "1                    1               1                1                1  \n",
       "2                    1               1                1                1  \n",
       "3                    1               0                0                0  \n",
       "4                    1               0                0                0  \n",
       "...                ...             ...              ...              ...  \n",
       "613739               1               0                0                0  \n",
       "613740               1               1                1                1  \n",
       "613741               1               0                0                0  \n",
       "613742               1               0                0                1  \n",
       "613743               1               0                0                1  \n",
       "\n",
       "[613744 rows x 26 columns]"
      ]
     },
     "execution_count": 48,
     "metadata": {},
     "output_type": "execute_result"
    }
   ],
   "source": [
    "creat_df"
   ]
  },
  {
   "cell_type": "code",
   "execution_count": 49,
   "metadata": {},
   "outputs": [
    {
     "data": {
      "text/html": [
       "<div>\n",
       "<style scoped>\n",
       "    .dataframe tbody tr th:only-of-type {\n",
       "        vertical-align: middle;\n",
       "    }\n",
       "\n",
       "    .dataframe tbody tr th {\n",
       "        vertical-align: top;\n",
       "    }\n",
       "\n",
       "    .dataframe thead th {\n",
       "        text-align: right;\n",
       "    }\n",
       "</style>\n",
       "<table border=\"1\" class=\"dataframe\">\n",
       "  <thead>\n",
       "    <tr style=\"text-align: right;\">\n",
       "      <th></th>\n",
       "      <th>MATHPREF_No preference for mathematics over other subjects</th>\n",
       "      <th>MATHPREF_Preference for mathematics over other subjects</th>\n",
       "      <th>MATHPREF_nan</th>\n",
       "      <th>MATHEASE_No perception of mathematics as easier than other subjects</th>\n",
       "      <th>MATHEASE_Perception of mathematics as easier than other subjects</th>\n",
       "      <th>MATHEASE_nan</th>\n",
       "      <th>MATHMOT_More motivated to do well in mathematics than other subjects</th>\n",
       "      <th>MATHMOT_Not more motivated to do well in mathematics than other subjects</th>\n",
       "      <th>MATHMOT_nan</th>\n",
       "      <th>CREATEFF</th>\n",
       "      <th>...</th>\n",
       "      <th>CREATAS_is_nan</th>\n",
       "      <th>CREATOOS_is_nan</th>\n",
       "      <th>CREATOP_is_nan</th>\n",
       "      <th>CREATHME_is_nan</th>\n",
       "      <th>CREATACT_is_nan</th>\n",
       "      <th>CREATOPN_is_nan</th>\n",
       "      <th>CREATOR_is_nan</th>\n",
       "      <th>MATHEFF_is_nan</th>\n",
       "      <th>MATHEF21_is_nan</th>\n",
       "      <th>MATHPERS_is_nan</th>\n",
       "    </tr>\n",
       "  </thead>\n",
       "  <tbody>\n",
       "    <tr>\n",
       "      <th>0</th>\n",
       "      <td>1</td>\n",
       "      <td>0</td>\n",
       "      <td>0</td>\n",
       "      <td>1</td>\n",
       "      <td>0</td>\n",
       "      <td>0</td>\n",
       "      <td>0</td>\n",
       "      <td>1</td>\n",
       "      <td>0</td>\n",
       "      <td>2.4021</td>\n",
       "      <td>...</td>\n",
       "      <td>0</td>\n",
       "      <td>1</td>\n",
       "      <td>1</td>\n",
       "      <td>1</td>\n",
       "      <td>1</td>\n",
       "      <td>1</td>\n",
       "      <td>1</td>\n",
       "      <td>0</td>\n",
       "      <td>1</td>\n",
       "      <td>0</td>\n",
       "    </tr>\n",
       "    <tr>\n",
       "      <th>1</th>\n",
       "      <td>0</td>\n",
       "      <td>0</td>\n",
       "      <td>1</td>\n",
       "      <td>0</td>\n",
       "      <td>0</td>\n",
       "      <td>1</td>\n",
       "      <td>0</td>\n",
       "      <td>0</td>\n",
       "      <td>1</td>\n",
       "      <td>0.0199</td>\n",
       "      <td>...</td>\n",
       "      <td>1</td>\n",
       "      <td>1</td>\n",
       "      <td>1</td>\n",
       "      <td>1</td>\n",
       "      <td>1</td>\n",
       "      <td>1</td>\n",
       "      <td>1</td>\n",
       "      <td>1</td>\n",
       "      <td>1</td>\n",
       "      <td>1</td>\n",
       "    </tr>\n",
       "    <tr>\n",
       "      <th>2</th>\n",
       "      <td>0</td>\n",
       "      <td>0</td>\n",
       "      <td>1</td>\n",
       "      <td>0</td>\n",
       "      <td>0</td>\n",
       "      <td>1</td>\n",
       "      <td>0</td>\n",
       "      <td>0</td>\n",
       "      <td>1</td>\n",
       "      <td>0.0199</td>\n",
       "      <td>...</td>\n",
       "      <td>1</td>\n",
       "      <td>1</td>\n",
       "      <td>1</td>\n",
       "      <td>1</td>\n",
       "      <td>1</td>\n",
       "      <td>1</td>\n",
       "      <td>1</td>\n",
       "      <td>1</td>\n",
       "      <td>1</td>\n",
       "      <td>1</td>\n",
       "    </tr>\n",
       "    <tr>\n",
       "      <th>3</th>\n",
       "      <td>1</td>\n",
       "      <td>0</td>\n",
       "      <td>0</td>\n",
       "      <td>1</td>\n",
       "      <td>0</td>\n",
       "      <td>0</td>\n",
       "      <td>0</td>\n",
       "      <td>1</td>\n",
       "      <td>0</td>\n",
       "      <td>-0.4909</td>\n",
       "      <td>...</td>\n",
       "      <td>0</td>\n",
       "      <td>0</td>\n",
       "      <td>0</td>\n",
       "      <td>1</td>\n",
       "      <td>1</td>\n",
       "      <td>1</td>\n",
       "      <td>1</td>\n",
       "      <td>0</td>\n",
       "      <td>0</td>\n",
       "      <td>0</td>\n",
       "    </tr>\n",
       "    <tr>\n",
       "      <th>4</th>\n",
       "      <td>1</td>\n",
       "      <td>0</td>\n",
       "      <td>0</td>\n",
       "      <td>1</td>\n",
       "      <td>0</td>\n",
       "      <td>0</td>\n",
       "      <td>0</td>\n",
       "      <td>1</td>\n",
       "      <td>0</td>\n",
       "      <td>-0.7475</td>\n",
       "      <td>...</td>\n",
       "      <td>0</td>\n",
       "      <td>0</td>\n",
       "      <td>0</td>\n",
       "      <td>1</td>\n",
       "      <td>1</td>\n",
       "      <td>1</td>\n",
       "      <td>1</td>\n",
       "      <td>0</td>\n",
       "      <td>0</td>\n",
       "      <td>0</td>\n",
       "    </tr>\n",
       "  </tbody>\n",
       "</table>\n",
       "<p>5 rows × 35 columns</p>\n",
       "</div>"
      ],
      "text/plain": [
       "   MATHPREF_No preference for mathematics over other subjects  \\\n",
       "0                                                  1            \n",
       "1                                                  0            \n",
       "2                                                  0            \n",
       "3                                                  1            \n",
       "4                                                  1            \n",
       "\n",
       "   MATHPREF_Preference for mathematics over other subjects  MATHPREF_nan  \\\n",
       "0                                                  0                   0   \n",
       "1                                                  0                   1   \n",
       "2                                                  0                   1   \n",
       "3                                                  0                   0   \n",
       "4                                                  0                   0   \n",
       "\n",
       "   MATHEASE_No perception of mathematics as easier than other subjects  \\\n",
       "0                                                  1                     \n",
       "1                                                  0                     \n",
       "2                                                  0                     \n",
       "3                                                  1                     \n",
       "4                                                  1                     \n",
       "\n",
       "   MATHEASE_Perception of mathematics as easier than other subjects  \\\n",
       "0                                                  0                  \n",
       "1                                                  0                  \n",
       "2                                                  0                  \n",
       "3                                                  0                  \n",
       "4                                                  0                  \n",
       "\n",
       "   MATHEASE_nan  \\\n",
       "0             0   \n",
       "1             1   \n",
       "2             1   \n",
       "3             0   \n",
       "4             0   \n",
       "\n",
       "   MATHMOT_More motivated to do well in mathematics than other subjects  \\\n",
       "0                                                  0                      \n",
       "1                                                  0                      \n",
       "2                                                  0                      \n",
       "3                                                  0                      \n",
       "4                                                  0                      \n",
       "\n",
       "   MATHMOT_Not more motivated to do well in mathematics than other subjects  \\\n",
       "0                                                  1                          \n",
       "1                                                  0                          \n",
       "2                                                  0                          \n",
       "3                                                  1                          \n",
       "4                                                  1                          \n",
       "\n",
       "   MATHMOT_nan  CREATEFF  ...  CREATAS_is_nan  CREATOOS_is_nan  \\\n",
       "0            0    2.4021  ...               0                1   \n",
       "1            1    0.0199  ...               1                1   \n",
       "2            1    0.0199  ...               1                1   \n",
       "3            0   -0.4909  ...               0                0   \n",
       "4            0   -0.7475  ...               0                0   \n",
       "\n",
       "   CREATOP_is_nan  CREATHME_is_nan  CREATACT_is_nan  CREATOPN_is_nan  \\\n",
       "0               1                1                1                1   \n",
       "1               1                1                1                1   \n",
       "2               1                1                1                1   \n",
       "3               0                1                1                1   \n",
       "4               0                1                1                1   \n",
       "\n",
       "   CREATOR_is_nan  MATHEFF_is_nan  MATHEF21_is_nan  MATHPERS_is_nan  \n",
       "0               1               0                1                0  \n",
       "1               1               1                1                1  \n",
       "2               1               1                1                1  \n",
       "3               1               0                0                0  \n",
       "4               1               0                0                0  \n",
       "\n",
       "[5 rows x 35 columns]"
      ]
     },
     "execution_count": 49,
     "metadata": {},
     "output_type": "execute_result"
    }
   ],
   "source": [
    "features = pref_df.join(creat_df)\n",
    "features.head()"
   ]
  },
  {
   "cell_type": "code",
   "execution_count": 50,
   "metadata": {},
   "outputs": [],
   "source": [
    "labels = df['PV1MATH']"
   ]
  },
  {
   "cell_type": "code",
   "execution_count": 51,
   "metadata": {},
   "outputs": [
    {
     "data": {
      "text/plain": [
       "count    613744.000000\n",
       "mean        440.874665\n",
       "std         101.840726\n",
       "min           0.000000\n",
       "25%         364.325000\n",
       "50%         433.056000\n",
       "75%         511.177000\n",
       "max         943.041000\n",
       "Name: PV1MATH, dtype: float64"
      ]
     },
     "execution_count": 51,
     "metadata": {},
     "output_type": "execute_result"
    }
   ],
   "source": [
    "labels.describe()"
   ]
  },
  {
   "cell_type": "code",
   "execution_count": 52,
   "metadata": {},
   "outputs": [
    {
     "data": {
      "text/plain": [
       "0         179.583\n",
       "1         308.247\n",
       "2         267.514\n",
       "3         272.649\n",
       "4         435.473\n",
       "           ...   \n",
       "613739    300.530\n",
       "613740    265.080\n",
       "613741    420.221\n",
       "613742    343.129\n",
       "613743    350.056\n",
       "Name: PV1MATH, Length: 613744, dtype: float64"
      ]
     },
     "execution_count": 52,
     "metadata": {},
     "output_type": "execute_result"
    }
   ],
   "source": [
    "labels"
   ]
  },
  {
   "cell_type": "code",
   "execution_count": 102,
   "metadata": {},
   "outputs": [],
   "source": [
    "X_train, X_test, y_train, y_test = train_test_split(features, labels, test_size = 0.20, random_state = 42)\n",
    "X_val, X_test, y_val, y_test = train_test_split(X_test, y_test, test_size = 0.5, random_state = 42)"
   ]
  },
  {
   "cell_type": "code",
   "execution_count": 103,
   "metadata": {},
   "outputs": [
    {
     "data": {
      "text/plain": [
       "(490995, 61374, 61375)"
      ]
     },
     "execution_count": 103,
     "metadata": {},
     "output_type": "execute_result"
    }
   ],
   "source": [
    "len(X_train), len(X_val), len(X_test)"
   ]
  },
  {
   "cell_type": "code",
   "execution_count": 104,
   "metadata": {},
   "outputs": [
    {
     "data": {
      "text/plain": [
       "MATHPREF_No preference for mathematics over other subjects                  0\n",
       "MATHPREF_Preference for mathematics over other subjects                     0\n",
       "MATHPREF_nan                                                                0\n",
       "MATHEASE_No perception of mathematics as easier than other subjects         0\n",
       "MATHEASE_Perception of mathematics as easier than other subjects            0\n",
       "MATHEASE_nan                                                                0\n",
       "MATHMOT_More motivated to do well in mathematics than other subjects        0\n",
       "MATHMOT_Not more motivated to do well in mathematics than other subjects    0\n",
       "MATHMOT_nan                                                                 0\n",
       "CREATEFF                                                                    0\n",
       "CREATSCH                                                                    0\n",
       "CREATFAM                                                                    0\n",
       "CREATAS                                                                     0\n",
       "CREATOOS                                                                    0\n",
       "CREATOP                                                                     0\n",
       "CREATHME                                                                    0\n",
       "CREATACT                                                                    0\n",
       "CREATOPN                                                                    0\n",
       "CREATOR                                                                     0\n",
       "MATHEFF                                                                     0\n",
       "MATHEF21                                                                    0\n",
       "MATHPERS                                                                    0\n",
       "CREATEFF_is_nan                                                             0\n",
       "CREATSCH_is_nan                                                             0\n",
       "CREATFAM_is_nan                                                             0\n",
       "CREATAS_is_nan                                                              0\n",
       "CREATOOS_is_nan                                                             0\n",
       "CREATOP_is_nan                                                              0\n",
       "CREATHME_is_nan                                                             0\n",
       "CREATACT_is_nan                                                             0\n",
       "CREATOPN_is_nan                                                             0\n",
       "CREATOR_is_nan                                                              0\n",
       "MATHEFF_is_nan                                                              0\n",
       "MATHEF21_is_nan                                                             0\n",
       "MATHPERS_is_nan                                                             0\n",
       "dtype: int64"
      ]
     },
     "execution_count": 104,
     "metadata": {},
     "output_type": "execute_result"
    }
   ],
   "source": [
    "X_train.isna().sum()"
   ]
  },
  {
   "cell_type": "code",
   "execution_count": 105,
   "metadata": {},
   "outputs": [],
   "source": [
    "pv1math_mean = y_train.mean()\n",
    "pv1math_std = y_train.std()"
   ]
  },
  {
   "cell_type": "code",
   "execution_count": 106,
   "metadata": {},
   "outputs": [],
   "source": [
    "y_train_normalized = (y_train - pv1math_mean ) / pv1math_std\n",
    "y_val_normalized = (y_val - pv1math_mean ) / pv1math_std\n",
    "y_test_normalized = (y_test - pv1math_mean ) / pv1math_std"
   ]
  },
  {
   "cell_type": "code",
   "execution_count": 107,
   "metadata": {},
   "outputs": [
    {
     "data": {
      "text/plain": [
       "(65793    -0.376364\n",
       " 13287    -1.428031\n",
       " 211415   -0.991867\n",
       " 110251    0.365956\n",
       " 94335     0.541671\n",
       "             ...   \n",
       " 110268   -0.968198\n",
       " 259178    0.858649\n",
       " 365838   -0.223394\n",
       " 131932    0.259970\n",
       " 121958   -0.334232\n",
       " Name: PV1MATH, Length: 490995, dtype: float64,\n",
       " 360171    0.166593\n",
       " 260453   -1.421362\n",
       " 240077   -1.126815\n",
       " 323413    0.725891\n",
       " 2806     -0.075737\n",
       "             ...   \n",
       " 348467    1.913646\n",
       " 282848    1.996848\n",
       " 365280   -1.732104\n",
       " 239985   -1.041609\n",
       " 386538    2.116938\n",
       " Name: PV1MATH, Length: 61374, dtype: float64,\n",
       " 534530    0.997487\n",
       " 89959     0.549066\n",
       " 526123    1.298821\n",
       " 276057   -1.282692\n",
       " 43507     0.169284\n",
       "             ...   \n",
       " 147973    0.676531\n",
       " 39687    -1.821013\n",
       " 562380    0.114306\n",
       " 555161   -0.332209\n",
       " 459510   -0.382148\n",
       " Name: PV1MATH, Length: 61375, dtype: float64)"
      ]
     },
     "execution_count": 107,
     "metadata": {},
     "output_type": "execute_result"
    }
   ],
   "source": [
    "y_train_normalized, y_val_normalized, y_test_normalized"
   ]
  },
  {
   "cell_type": "code",
   "execution_count": 59,
   "metadata": {},
   "outputs": [],
   "source": [
    "import torch\n",
    "import torch.nn.functional as F"
   ]
  },
  {
   "cell_type": "code",
   "execution_count": 60,
   "metadata": {},
   "outputs": [],
   "source": [
    "def single_epoch(e, train:bool, model, opt, X, y, batch_size, device):\n",
    "    losses = []\n",
    "    iter = tqdm(range(0, len(X), batch_size))\n",
    "    for i in iter:\n",
    "        x = torch.FloatTensor(X[i : i + batch_size].to_numpy()).to(device)\n",
    "        y_true = torch.FloatTensor(y[i : i + batch_size].to_numpy()).to(device)\n",
    "        y_pred = model(x)\n",
    "        loss = F.mse_loss(input=y_true, target=y_pred.squeeze())\n",
    "\n",
    "        if train:\n",
    "            opt.zero_grad()\n",
    "            loss.backward()\n",
    "            opt.step()\n",
    "        losses.append(loss.item())\n",
    "        iter.set_description(desc=f'Epoch: {e} | loss: {loss.item()}.', refresh=True)\n",
    "    \n",
    "    return np.mean(losses), model, opt"
   ]
  },
  {
   "cell_type": "code",
   "execution_count": 62,
   "metadata": {},
   "outputs": [],
   "source": [
    "def predict(model, X, batch_size, device):\n",
    "    model.eval()\n",
    "    preds = []\n",
    "    iter = tqdm(range(0, len(X), batch_size))\n",
    "    for i in iter:\n",
    "        x = torch.FloatTensor(X[i : i + batch_size].to_numpy()).to(device)\n",
    "        with torch.no_grad():\n",
    "            preds.append(model(x))\n",
    "\n",
    "    return torch.cat(preds, dim=0).squeeze()"
   ]
  },
  {
   "cell_type": "code",
   "execution_count": 72,
   "metadata": {},
   "outputs": [
    {
     "name": "stderr",
     "output_type": "stream",
     "text": [
      "Epoch: 0 | loss: 0.6335541009902954.: 100%|██████████| 959/959 [00:18<00:00, 51.55it/s]\n"
     ]
    },
    {
     "name": "stdout",
     "output_type": "stream",
     "text": [
      "Epoch: 0 | Avg. train loss: 0.6950978963044439.\n"
     ]
    },
    {
     "name": "stderr",
     "output_type": "stream",
     "text": [
      "Epoch: 0 | loss: 0.6326345801353455.: 100%|██████████| 120/120 [00:02<00:00, 54.31it/s]\n"
     ]
    },
    {
     "name": "stdout",
     "output_type": "stream",
     "text": [
      "Epoch: 0 | Avg. val loss: 0.651165080567201.\n"
     ]
    },
    {
     "name": "stderr",
     "output_type": "stream",
     "text": [
      "Epoch: 1 | loss: 0.6274409890174866.: 100%|██████████| 959/959 [00:18<00:00, 51.87it/s]\n"
     ]
    },
    {
     "name": "stdout",
     "output_type": "stream",
     "text": [
      "Epoch: 1 | Avg. train loss: 0.6399346931883143.\n"
     ]
    },
    {
     "name": "stderr",
     "output_type": "stream",
     "text": [
      "Epoch: 1 | loss: 0.6215975284576416.: 100%|██████████| 120/120 [00:02<00:00, 55.62it/s]\n"
     ]
    },
    {
     "name": "stdout",
     "output_type": "stream",
     "text": [
      "Epoch: 1 | Avg. val loss: 0.6359679713845253.\n"
     ]
    },
    {
     "name": "stderr",
     "output_type": "stream",
     "text": [
      "Epoch: 2 | loss: 0.6252106428146362.: 100%|██████████| 959/959 [00:18<00:00, 51.53it/s]\n"
     ]
    },
    {
     "name": "stdout",
     "output_type": "stream",
     "text": [
      "Epoch: 2 | Avg. train loss: 0.6304862156152974.\n"
     ]
    },
    {
     "name": "stderr",
     "output_type": "stream",
     "text": [
      "Epoch: 2 | loss: 0.6180607676506042.: 100%|██████████| 120/120 [00:02<00:00, 54.25it/s]\n"
     ]
    },
    {
     "name": "stdout",
     "output_type": "stream",
     "text": [
      "Epoch: 2 | Avg. val loss: 0.6307306672135989.\n"
     ]
    },
    {
     "name": "stderr",
     "output_type": "stream",
     "text": [
      "Epoch: 3 | loss: 0.6236822009086609.: 100%|██████████| 959/959 [00:18<00:00, 52.17it/s]\n"
     ]
    },
    {
     "name": "stdout",
     "output_type": "stream",
     "text": [
      "Epoch: 3 | Avg. train loss: 0.6263516941831309.\n"
     ]
    },
    {
     "name": "stderr",
     "output_type": "stream",
     "text": [
      "Epoch: 3 | loss: 0.6169663071632385.: 100%|██████████| 120/120 [00:02<00:00, 55.93it/s]\n"
     ]
    },
    {
     "name": "stdout",
     "output_type": "stream",
     "text": [
      "Epoch: 3 | Avg. val loss: 0.6280256296197574.\n"
     ]
    },
    {
     "name": "stderr",
     "output_type": "stream",
     "text": [
      "Epoch: 4 | loss: 0.6222984790802002.: 100%|██████████| 959/959 [00:18<00:00, 51.32it/s]\n"
     ]
    },
    {
     "name": "stdout",
     "output_type": "stream",
     "text": [
      "Epoch: 4 | Avg. train loss: 0.6238400481167377.\n"
     ]
    },
    {
     "name": "stderr",
     "output_type": "stream",
     "text": [
      "Epoch: 4 | loss: 0.6164109110832214.: 100%|██████████| 120/120 [00:02<00:00, 49.49it/s]\n"
     ]
    },
    {
     "name": "stdout",
     "output_type": "stream",
     "text": [
      "Epoch: 4 | Avg. val loss: 0.6261319483319918.\n"
     ]
    },
    {
     "name": "stderr",
     "output_type": "stream",
     "text": [
      "Epoch: 5 | loss: 0.6205328106880188.: 100%|██████████| 959/959 [00:18<00:00, 51.73it/s]\n"
     ]
    },
    {
     "name": "stdout",
     "output_type": "stream",
     "text": [
      "Epoch: 5 | Avg. train loss: 0.6220614634166793.\n"
     ]
    },
    {
     "name": "stderr",
     "output_type": "stream",
     "text": [
      "Epoch: 5 | loss: 0.6162145137786865.: 100%|██████████| 120/120 [00:02<00:00, 55.61it/s]\n"
     ]
    },
    {
     "name": "stdout",
     "output_type": "stream",
     "text": [
      "Epoch: 5 | Avg. val loss: 0.6247032379110654.\n"
     ]
    },
    {
     "name": "stderr",
     "output_type": "stream",
     "text": [
      "Epoch: 6 | loss: 0.618872880935669.: 100%|██████████| 959/959 [00:18<00:00, 51.55it/s] \n"
     ]
    },
    {
     "name": "stdout",
     "output_type": "stream",
     "text": [
      "Epoch: 6 | Avg. train loss: 0.6206664520707195.\n"
     ]
    },
    {
     "name": "stderr",
     "output_type": "stream",
     "text": [
      "Epoch: 6 | loss: 0.6163803935050964.: 100%|██████████| 120/120 [00:02<00:00, 54.61it/s]\n"
     ]
    },
    {
     "name": "stdout",
     "output_type": "stream",
     "text": [
      "Epoch: 6 | Avg. val loss: 0.6236051966746649.\n"
     ]
    },
    {
     "name": "stderr",
     "output_type": "stream",
     "text": [
      "Epoch: 7 | loss: 0.6181932091712952.: 100%|██████████| 959/959 [00:18<00:00, 52.01it/s]\n"
     ]
    },
    {
     "name": "stdout",
     "output_type": "stream",
     "text": [
      "Epoch: 7 | Avg. train loss: 0.619541563008202.\n"
     ]
    },
    {
     "name": "stderr",
     "output_type": "stream",
     "text": [
      "Epoch: 7 | loss: 0.6161462664604187.: 100%|██████████| 120/120 [00:02<00:00, 54.78it/s]\n"
     ]
    },
    {
     "name": "stdout",
     "output_type": "stream",
     "text": [
      "Epoch: 7 | Avg. val loss: 0.6227047691742579.\n"
     ]
    },
    {
     "name": "stderr",
     "output_type": "stream",
     "text": [
      "Epoch: 8 | loss: 0.6177891492843628.: 100%|██████████| 959/959 [00:18<00:00, 51.85it/s]\n"
     ]
    },
    {
     "name": "stdout",
     "output_type": "stream",
     "text": [
      "Epoch: 8 | Avg. train loss: 0.6185822873468568.\n"
     ]
    },
    {
     "name": "stderr",
     "output_type": "stream",
     "text": [
      "Epoch: 8 | loss: 0.6155604124069214.: 100%|██████████| 120/120 [00:02<00:00, 54.78it/s]\n"
     ]
    },
    {
     "name": "stdout",
     "output_type": "stream",
     "text": [
      "Epoch: 8 | Avg. val loss: 0.6219140241543452.\n"
     ]
    },
    {
     "name": "stderr",
     "output_type": "stream",
     "text": [
      "Epoch: 9 | loss: 0.6172727346420288.: 100%|██████████| 959/959 [00:18<00:00, 51.93it/s]\n"
     ]
    },
    {
     "name": "stdout",
     "output_type": "stream",
     "text": [
      "Epoch: 9 | Avg. train loss: 0.6177550255319995.\n"
     ]
    },
    {
     "name": "stderr",
     "output_type": "stream",
     "text": [
      "Epoch: 9 | loss: 0.6154346466064453.: 100%|██████████| 120/120 [00:02<00:00, 54.90it/s]\n"
     ]
    },
    {
     "name": "stdout",
     "output_type": "stream",
     "text": [
      "Epoch: 9 | Avg. val loss: 0.6212641214330991.\n"
     ]
    },
    {
     "name": "stderr",
     "output_type": "stream",
     "text": [
      "Epoch: 10 | loss: 0.6168879270553589.: 100%|██████████| 959/959 [00:18<00:00, 51.60it/s]\n"
     ]
    },
    {
     "name": "stdout",
     "output_type": "stream",
     "text": [
      "Epoch: 10 | Avg. train loss: 0.6170074240507498.\n"
     ]
    },
    {
     "name": "stderr",
     "output_type": "stream",
     "text": [
      "Epoch: 10 | loss: 0.6155431270599365.: 100%|██████████| 120/120 [00:02<00:00, 55.59it/s]\n"
     ]
    },
    {
     "name": "stdout",
     "output_type": "stream",
     "text": [
      "Epoch: 10 | Avg. val loss: 0.620695686340332.\n"
     ]
    },
    {
     "name": "stderr",
     "output_type": "stream",
     "text": [
      "Epoch: 11 | loss: 0.6167474389076233.: 100%|██████████| 959/959 [00:18<00:00, 51.80it/s]\n"
     ]
    },
    {
     "name": "stdout",
     "output_type": "stream",
     "text": [
      "Epoch: 11 | Avg. train loss: 0.6163366070877648.\n"
     ]
    },
    {
     "name": "stderr",
     "output_type": "stream",
     "text": [
      "Epoch: 11 | loss: 0.6157845258712769.: 100%|██████████| 120/120 [00:02<00:00, 55.99it/s]\n"
     ]
    },
    {
     "name": "stdout",
     "output_type": "stream",
     "text": [
      "Epoch: 11 | Avg. val loss: 0.6201776280999184.\n"
     ]
    },
    {
     "name": "stderr",
     "output_type": "stream",
     "text": [
      "Epoch: 12 | loss: 0.6166661977767944.: 100%|██████████| 959/959 [00:18<00:00, 52.11it/s]\n"
     ]
    },
    {
     "name": "stdout",
     "output_type": "stream",
     "text": [
      "Epoch: 12 | Avg. train loss: 0.6157197746544362.\n"
     ]
    },
    {
     "name": "stderr",
     "output_type": "stream",
     "text": [
      "Epoch: 12 | loss: 0.6163740754127502.: 100%|██████████| 120/120 [00:02<00:00, 54.47it/s]\n"
     ]
    },
    {
     "name": "stdout",
     "output_type": "stream",
     "text": [
      "Epoch: 12 | Avg. val loss: 0.6197548091411591.\n"
     ]
    },
    {
     "name": "stderr",
     "output_type": "stream",
     "text": [
      "Epoch: 13 | loss: 0.6162067651748657.: 100%|██████████| 959/959 [00:18<00:00, 51.74it/s]\n"
     ]
    },
    {
     "name": "stdout",
     "output_type": "stream",
     "text": [
      "Epoch: 13 | Avg. train loss: 0.6151479859297417.\n"
     ]
    },
    {
     "name": "stderr",
     "output_type": "stream",
     "text": [
      "Epoch: 13 | loss: 0.6167140007019043.: 100%|██████████| 120/120 [00:02<00:00, 54.20it/s]\n"
     ]
    },
    {
     "name": "stdout",
     "output_type": "stream",
     "text": [
      "Epoch: 13 | Avg. val loss: 0.6193307797114055.\n"
     ]
    },
    {
     "name": "stderr",
     "output_type": "stream",
     "text": [
      "Epoch: 14 | loss: 0.6157819032669067.: 100%|██████████| 959/959 [00:19<00:00, 50.43it/s]\n"
     ]
    },
    {
     "name": "stdout",
     "output_type": "stream",
     "text": [
      "Epoch: 14 | Avg. train loss: 0.6146267612733731.\n"
     ]
    },
    {
     "name": "stderr",
     "output_type": "stream",
     "text": [
      "Epoch: 14 | loss: 0.6168639659881592.: 100%|██████████| 120/120 [00:02<00:00, 54.43it/s]\n"
     ]
    },
    {
     "name": "stdout",
     "output_type": "stream",
     "text": [
      "Epoch: 14 | Avg. val loss: 0.6189143737157186.\n"
     ]
    },
    {
     "name": "stderr",
     "output_type": "stream",
     "text": [
      "Epoch: 15 | loss: 0.615131139755249.: 100%|██████████| 959/959 [00:18<00:00, 51.33it/s] \n"
     ]
    },
    {
     "name": "stdout",
     "output_type": "stream",
     "text": [
      "Epoch: 15 | Avg. train loss: 0.6141262526183978.\n"
     ]
    },
    {
     "name": "stderr",
     "output_type": "stream",
     "text": [
      "Epoch: 15 | loss: 0.6169880628585815.: 100%|██████████| 120/120 [00:02<00:00, 54.00it/s]\n"
     ]
    },
    {
     "name": "stdout",
     "output_type": "stream",
     "text": [
      "Epoch: 15 | Avg. val loss: 0.6185435007015864.\n"
     ]
    },
    {
     "name": "stderr",
     "output_type": "stream",
     "text": [
      "Epoch: 16 | loss: 0.6146191358566284.: 100%|██████████| 959/959 [00:19<00:00, 49.89it/s] \n"
     ]
    },
    {
     "name": "stdout",
     "output_type": "stream",
     "text": [
      "Epoch: 16 | Avg. train loss: 0.6136553115653296.\n"
     ]
    },
    {
     "name": "stderr",
     "output_type": "stream",
     "text": [
      "Epoch: 16 | loss: 0.6171529293060303.: 100%|██████████| 120/120 [00:02<00:00, 54.87it/s]\n"
     ]
    },
    {
     "name": "stdout",
     "output_type": "stream",
     "text": [
      "Epoch: 16 | Avg. val loss: 0.6182446007927259.\n"
     ]
    },
    {
     "name": "stderr",
     "output_type": "stream",
     "text": [
      "Epoch: 17 | loss: 0.6141633987426758.: 100%|██████████| 959/959 [00:18<00:00, 51.06it/s]\n"
     ]
    },
    {
     "name": "stdout",
     "output_type": "stream",
     "text": [
      "Epoch: 17 | Avg. train loss: 0.613209119212267.\n"
     ]
    },
    {
     "name": "stderr",
     "output_type": "stream",
     "text": [
      "Epoch: 17 | loss: 0.617311954498291.: 100%|██████████| 120/120 [00:02<00:00, 53.94it/s] \n"
     ]
    },
    {
     "name": "stdout",
     "output_type": "stream",
     "text": [
      "Epoch: 17 | Avg. val loss: 0.6179425189892451.\n"
     ]
    },
    {
     "name": "stderr",
     "output_type": "stream",
     "text": [
      "Epoch: 18 | loss: 0.6136324405670166.: 100%|██████████| 959/959 [00:18<00:00, 51.63it/s] \n"
     ]
    },
    {
     "name": "stdout",
     "output_type": "stream",
     "text": [
      "Epoch: 18 | Avg. train loss: 0.6127763531006662.\n"
     ]
    },
    {
     "name": "stderr",
     "output_type": "stream",
     "text": [
      "Epoch: 18 | loss: 0.6175941228866577.: 100%|██████████| 120/120 [00:02<00:00, 54.85it/s]\n"
     ]
    },
    {
     "name": "stdout",
     "output_type": "stream",
     "text": [
      "Epoch: 18 | Avg. val loss: 0.6176815092563629.\n"
     ]
    },
    {
     "name": "stderr",
     "output_type": "stream",
     "text": [
      "Epoch: 19 | loss: 0.6128489971160889.: 100%|██████████| 959/959 [00:18<00:00, 52.37it/s] \n"
     ]
    },
    {
     "name": "stdout",
     "output_type": "stream",
     "text": [
      "Epoch: 19 | Avg. train loss: 0.6123672341529719.\n"
     ]
    },
    {
     "name": "stderr",
     "output_type": "stream",
     "text": [
      "Epoch: 19 | loss: 0.6175233125686646.: 100%|██████████| 120/120 [00:02<00:00, 55.42it/s]\n"
     ]
    },
    {
     "name": "stdout",
     "output_type": "stream",
     "text": [
      "Epoch: 19 | Avg. val loss: 0.617339034875234.\n"
     ]
    },
    {
     "name": "stderr",
     "output_type": "stream",
     "text": [
      "Epoch: 20 | loss: 0.6121701598167419.: 100%|██████████| 959/959 [00:18<00:00, 51.50it/s]\n"
     ]
    },
    {
     "name": "stdout",
     "output_type": "stream",
     "text": [
      "Epoch: 20 | Avg. train loss: 0.6119737718040678.\n"
     ]
    },
    {
     "name": "stderr",
     "output_type": "stream",
     "text": [
      "Epoch: 20 | loss: 0.6174633502960205.: 100%|██████████| 120/120 [00:02<00:00, 53.84it/s]\n"
     ]
    },
    {
     "name": "stdout",
     "output_type": "stream",
     "text": [
      "Epoch: 20 | Avg. val loss: 0.6170472726225853.\n"
     ]
    },
    {
     "name": "stderr",
     "output_type": "stream",
     "text": [
      "Epoch: 21 | loss: 0.6116188764572144.: 100%|██████████| 959/959 [00:18<00:00, 51.81it/s]\n"
     ]
    },
    {
     "name": "stdout",
     "output_type": "stream",
     "text": [
      "Epoch: 21 | Avg. train loss: 0.6115938180181605.\n"
     ]
    },
    {
     "name": "stderr",
     "output_type": "stream",
     "text": [
      "Epoch: 21 | loss: 0.6174938082695007.: 100%|██████████| 120/120 [00:02<00:00, 54.20it/s]\n"
     ]
    },
    {
     "name": "stdout",
     "output_type": "stream",
     "text": [
      "Epoch: 21 | Avg. val loss: 0.616754238307476.\n"
     ]
    },
    {
     "name": "stderr",
     "output_type": "stream",
     "text": [
      "Epoch: 22 | loss: 0.6112084984779358.: 100%|██████████| 959/959 [00:19<00:00, 49.20it/s]\n"
     ]
    },
    {
     "name": "stdout",
     "output_type": "stream",
     "text": [
      "Epoch: 22 | Avg. train loss: 0.6112258415028251.\n"
     ]
    },
    {
     "name": "stderr",
     "output_type": "stream",
     "text": [
      "Epoch: 22 | loss: 0.6175742745399475.: 100%|██████████| 120/120 [00:02<00:00, 52.20it/s]\n"
     ]
    },
    {
     "name": "stdout",
     "output_type": "stream",
     "text": [
      "Epoch: 22 | Avg. val loss: 0.6165127908190091.\n"
     ]
    },
    {
     "name": "stderr",
     "output_type": "stream",
     "text": [
      "Epoch: 23 | loss: 0.6108547449111938.: 100%|██████████| 959/959 [00:19<00:00, 49.83it/s]\n"
     ]
    },
    {
     "name": "stdout",
     "output_type": "stream",
     "text": [
      "Epoch: 23 | Avg. train loss: 0.6108863373928946.\n"
     ]
    },
    {
     "name": "stderr",
     "output_type": "stream",
     "text": [
      "Epoch: 23 | loss: 0.6174588203430176.: 100%|██████████| 120/120 [00:02<00:00, 53.90it/s]\n"
     ]
    },
    {
     "name": "stdout",
     "output_type": "stream",
     "text": [
      "Epoch: 23 | Avg. val loss: 0.6162666827440262.\n"
     ]
    },
    {
     "name": "stderr",
     "output_type": "stream",
     "text": [
      "Epoch: 24 | loss: 0.6105353236198425.: 100%|██████████| 959/959 [00:18<00:00, 51.40it/s] \n"
     ]
    },
    {
     "name": "stdout",
     "output_type": "stream",
     "text": [
      "Epoch: 24 | Avg. train loss: 0.6105536678038748.\n"
     ]
    },
    {
     "name": "stderr",
     "output_type": "stream",
     "text": [
      "Epoch: 24 | loss: 0.6175808906555176.: 100%|██████████| 120/120 [00:02<00:00, 55.39it/s]\n"
     ]
    },
    {
     "name": "stdout",
     "output_type": "stream",
     "text": [
      "Epoch: 24 | Avg. val loss: 0.6160219411055247.\n"
     ]
    },
    {
     "name": "stderr",
     "output_type": "stream",
     "text": [
      "Epoch: 25 | loss: 0.6103241443634033.: 100%|██████████| 959/959 [00:18<00:00, 52.01it/s]\n"
     ]
    },
    {
     "name": "stdout",
     "output_type": "stream",
     "text": [
      "Epoch: 25 | Avg. train loss: 0.6102353956888317.\n"
     ]
    },
    {
     "name": "stderr",
     "output_type": "stream",
     "text": [
      "Epoch: 25 | loss: 0.6177544593811035.: 100%|██████████| 120/120 [00:02<00:00, 54.81it/s]\n"
     ]
    },
    {
     "name": "stdout",
     "output_type": "stream",
     "text": [
      "Epoch: 25 | Avg. val loss: 0.6158338208993276.\n"
     ]
    },
    {
     "name": "stderr",
     "output_type": "stream",
     "text": [
      "Epoch: 26 | loss: 0.609675407409668.: 100%|██████████| 959/959 [00:18<00:00, 52.02it/s] \n"
     ]
    },
    {
     "name": "stdout",
     "output_type": "stream",
     "text": [
      "Epoch: 26 | Avg. train loss: 0.6099272134778895.\n"
     ]
    },
    {
     "name": "stderr",
     "output_type": "stream",
     "text": [
      "Epoch: 26 | loss: 0.6175785064697266.: 100%|██████████| 120/120 [00:02<00:00, 55.06it/s]\n"
     ]
    },
    {
     "name": "stdout",
     "output_type": "stream",
     "text": [
      "Epoch: 26 | Avg. val loss: 0.6155674114823342.\n"
     ]
    },
    {
     "name": "stderr",
     "output_type": "stream",
     "text": [
      "Epoch: 27 | loss: 0.6092627048492432.: 100%|██████████| 959/959 [00:18<00:00, 51.86it/s]\n"
     ]
    },
    {
     "name": "stdout",
     "output_type": "stream",
     "text": [
      "Epoch: 27 | Avg. train loss: 0.6096224826804292.\n"
     ]
    },
    {
     "name": "stderr",
     "output_type": "stream",
     "text": [
      "Epoch: 27 | loss: 0.6172713041305542.: 100%|██████████| 120/120 [00:02<00:00, 54.56it/s]\n"
     ]
    },
    {
     "name": "stdout",
     "output_type": "stream",
     "text": [
      "Epoch: 27 | Avg. val loss: 0.6153692533572515.\n"
     ]
    },
    {
     "name": "stderr",
     "output_type": "stream",
     "text": [
      "Epoch: 28 | loss: 0.6089941263198853.: 100%|██████████| 959/959 [00:18<00:00, 51.52it/s]\n"
     ]
    },
    {
     "name": "stdout",
     "output_type": "stream",
     "text": [
      "Epoch: 28 | Avg. train loss: 0.609326192435184.\n"
     ]
    },
    {
     "name": "stderr",
     "output_type": "stream",
     "text": [
      "Epoch: 28 | loss: 0.6173413991928101.: 100%|██████████| 120/120 [00:02<00:00, 54.60it/s]\n"
     ]
    },
    {
     "name": "stdout",
     "output_type": "stream",
     "text": [
      "Epoch: 28 | Avg. val loss: 0.6151949415604273.\n"
     ]
    },
    {
     "name": "stderr",
     "output_type": "stream",
     "text": [
      "Epoch: 29 | loss: 0.608608603477478.: 100%|██████████| 959/959 [00:18<00:00, 51.13it/s]  \n"
     ]
    },
    {
     "name": "stdout",
     "output_type": "stream",
     "text": [
      "Epoch: 29 | Avg. train loss: 0.6090355541895031.\n"
     ]
    },
    {
     "name": "stderr",
     "output_type": "stream",
     "text": [
      "Epoch: 29 | loss: 0.6172788739204407.: 100%|██████████| 120/120 [00:02<00:00, 54.62it/s]\n"
     ]
    },
    {
     "name": "stdout",
     "output_type": "stream",
     "text": [
      "Epoch: 29 | Avg. val loss: 0.6149877533316612.\n"
     ]
    },
    {
     "name": "stderr",
     "output_type": "stream",
     "text": [
      "Epoch: 30 | loss: 0.6081005334854126.: 100%|██████████| 959/959 [00:18<00:00, 51.53it/s]\n"
     ]
    },
    {
     "name": "stdout",
     "output_type": "stream",
     "text": [
      "Epoch: 30 | Avg. train loss: 0.6087629667039459.\n"
     ]
    },
    {
     "name": "stderr",
     "output_type": "stream",
     "text": [
      "Epoch: 30 | loss: 0.6172754168510437.: 100%|██████████| 120/120 [00:02<00:00, 54.84it/s]\n"
     ]
    },
    {
     "name": "stdout",
     "output_type": "stream",
     "text": [
      "Epoch: 30 | Avg. val loss: 0.6148164088527361.\n"
     ]
    },
    {
     "name": "stderr",
     "output_type": "stream",
     "text": [
      "Epoch: 31 | loss: 0.6078099608421326.: 100%|██████████| 959/959 [00:18<00:00, 51.04it/s]\n"
     ]
    },
    {
     "name": "stdout",
     "output_type": "stream",
     "text": [
      "Epoch: 31 | Avg. train loss: 0.6084914520398419.\n"
     ]
    },
    {
     "name": "stderr",
     "output_type": "stream",
     "text": [
      "Epoch: 31 | loss: 0.6172690987586975.: 100%|██████████| 120/120 [00:02<00:00, 55.10it/s]\n"
     ]
    },
    {
     "name": "stdout",
     "output_type": "stream",
     "text": [
      "Epoch: 31 | Avg. val loss: 0.6146408081054687.\n"
     ]
    },
    {
     "name": "stderr",
     "output_type": "stream",
     "text": [
      "Epoch: 32 | loss: 0.6075301170349121.: 100%|██████████| 959/959 [00:18<00:00, 51.02it/s] \n"
     ]
    },
    {
     "name": "stdout",
     "output_type": "stream",
     "text": [
      "Epoch: 32 | Avg. train loss: 0.6082261745449897.\n"
     ]
    },
    {
     "name": "stderr",
     "output_type": "stream",
     "text": [
      "Epoch: 32 | loss: 0.6171519756317139.: 100%|██████████| 120/120 [00:02<00:00, 55.23it/s]\n"
     ]
    },
    {
     "name": "stdout",
     "output_type": "stream",
     "text": [
      "Epoch: 32 | Avg. val loss: 0.6145097037156423.\n"
     ]
    },
    {
     "name": "stderr",
     "output_type": "stream",
     "text": [
      "Epoch: 33 | loss: 0.6072018146514893.: 100%|██████████| 959/959 [00:18<00:00, 52.31it/s] \n"
     ]
    },
    {
     "name": "stdout",
     "output_type": "stream",
     "text": [
      "Epoch: 33 | Avg. train loss: 0.6079673643716309.\n"
     ]
    },
    {
     "name": "stderr",
     "output_type": "stream",
     "text": [
      "Epoch: 33 | loss: 0.6172224283218384.: 100%|██████████| 120/120 [00:02<00:00, 55.77it/s]\n"
     ]
    },
    {
     "name": "stdout",
     "output_type": "stream",
     "text": [
      "Epoch: 33 | Avg. val loss: 0.6143391708532969.\n"
     ]
    },
    {
     "name": "stderr",
     "output_type": "stream",
     "text": [
      "Epoch: 34 | loss: 0.6068032383918762.: 100%|██████████| 959/959 [00:18<00:00, 52.25it/s] \n"
     ]
    },
    {
     "name": "stdout",
     "output_type": "stream",
     "text": [
      "Epoch: 34 | Avg. train loss: 0.6077223293972711.\n"
     ]
    },
    {
     "name": "stderr",
     "output_type": "stream",
     "text": [
      "Epoch: 34 | loss: 0.6169754862785339.: 100%|██████████| 120/120 [00:02<00:00, 55.21it/s]\n"
     ]
    },
    {
     "name": "stdout",
     "output_type": "stream",
     "text": [
      "Epoch: 34 | Avg. val loss: 0.6141988322138786.\n"
     ]
    },
    {
     "name": "stderr",
     "output_type": "stream",
     "text": [
      "Epoch: 35 | loss: 0.6062491536140442.: 100%|██████████| 959/959 [00:18<00:00, 51.52it/s] \n"
     ]
    },
    {
     "name": "stdout",
     "output_type": "stream",
     "text": [
      "Epoch: 35 | Avg. train loss: 0.6074804945832373.\n"
     ]
    },
    {
     "name": "stderr",
     "output_type": "stream",
     "text": [
      "Epoch: 35 | loss: 0.6171748042106628.: 100%|██████████| 120/120 [00:02<00:00, 54.25it/s]\n"
     ]
    },
    {
     "name": "stdout",
     "output_type": "stream",
     "text": [
      "Epoch: 35 | Avg. val loss: 0.6140783975521723.\n"
     ]
    },
    {
     "name": "stderr",
     "output_type": "stream",
     "text": [
      "Epoch: 36 | loss: 0.6058117151260376.: 100%|██████████| 959/959 [00:18<00:00, 51.84it/s] \n"
     ]
    },
    {
     "name": "stdout",
     "output_type": "stream",
     "text": [
      "Epoch: 36 | Avg. train loss: 0.6072427791711312.\n"
     ]
    },
    {
     "name": "stderr",
     "output_type": "stream",
     "text": [
      "Epoch: 36 | loss: 0.6172977089881897.: 100%|██████████| 120/120 [00:02<00:00, 54.45it/s]\n"
     ]
    },
    {
     "name": "stdout",
     "output_type": "stream",
     "text": [
      "Epoch: 36 | Avg. val loss: 0.6139270062247912.\n"
     ]
    },
    {
     "name": "stderr",
     "output_type": "stream",
     "text": [
      "Epoch: 37 | loss: 0.6054630875587463.: 100%|██████████| 959/959 [00:18<00:00, 51.80it/s]\n"
     ]
    },
    {
     "name": "stdout",
     "output_type": "stream",
     "text": [
      "Epoch: 37 | Avg. train loss: 0.6070056656167704.\n"
     ]
    },
    {
     "name": "stderr",
     "output_type": "stream",
     "text": [
      "Epoch: 37 | loss: 0.6174607276916504.: 100%|██████████| 120/120 [00:02<00:00, 54.36it/s]\n"
     ]
    },
    {
     "name": "stdout",
     "output_type": "stream",
     "text": [
      "Epoch: 37 | Avg. val loss: 0.6138104135791461.\n"
     ]
    },
    {
     "name": "stderr",
     "output_type": "stream",
     "text": [
      "Epoch: 38 | loss: 0.605242133140564.: 100%|██████████| 959/959 [00:18<00:00, 51.52it/s] \n"
     ]
    },
    {
     "name": "stdout",
     "output_type": "stream",
     "text": [
      "Epoch: 38 | Avg. train loss: 0.6067815380747799.\n"
     ]
    },
    {
     "name": "stderr",
     "output_type": "stream",
     "text": [
      "Epoch: 38 | loss: 0.6174367070198059.: 100%|██████████| 120/120 [00:02<00:00, 54.35it/s]\n"
     ]
    },
    {
     "name": "stdout",
     "output_type": "stream",
     "text": [
      "Epoch: 38 | Avg. val loss: 0.6136789282162984.\n"
     ]
    },
    {
     "name": "stderr",
     "output_type": "stream",
     "text": [
      "Epoch: 39 | loss: 0.6049239039421082.: 100%|██████████| 959/959 [00:18<00:00, 52.45it/s] \n"
     ]
    },
    {
     "name": "stdout",
     "output_type": "stream",
     "text": [
      "Epoch: 39 | Avg. train loss: 0.606561391520177.\n"
     ]
    },
    {
     "name": "stderr",
     "output_type": "stream",
     "text": [
      "Epoch: 39 | loss: 0.6175827980041504.: 100%|██████████| 120/120 [00:02<00:00, 55.57it/s]\n"
     ]
    },
    {
     "name": "stdout",
     "output_type": "stream",
     "text": [
      "Epoch: 39 | Avg. val loss: 0.6135663444797198.\n"
     ]
    },
    {
     "name": "stderr",
     "output_type": "stream",
     "text": [
      "Epoch: 40 | loss: 0.6048212051391602.: 100%|██████████| 959/959 [00:18<00:00, 51.05it/s] \n"
     ]
    },
    {
     "name": "stdout",
     "output_type": "stream",
     "text": [
      "Epoch: 40 | Avg. train loss: 0.6063419159684366.\n"
     ]
    },
    {
     "name": "stderr",
     "output_type": "stream",
     "text": [
      "Epoch: 40 | loss: 0.6176030039787292.: 100%|██████████| 120/120 [00:02<00:00, 54.01it/s]\n"
     ]
    },
    {
     "name": "stdout",
     "output_type": "stream",
     "text": [
      "Epoch: 40 | Avg. val loss: 0.613424921532472.\n"
     ]
    },
    {
     "name": "stderr",
     "output_type": "stream",
     "text": [
      "Epoch: 41 | loss: 0.604642391204834.: 100%|██████████| 959/959 [00:18<00:00, 50.59it/s] \n"
     ]
    },
    {
     "name": "stdout",
     "output_type": "stream",
     "text": [
      "Epoch: 41 | Avg. train loss: 0.6061320722227425.\n"
     ]
    },
    {
     "name": "stderr",
     "output_type": "stream",
     "text": [
      "Epoch: 41 | loss: 0.6178397536277771.: 100%|██████████| 120/120 [00:02<00:00, 54.14it/s]\n"
     ]
    },
    {
     "name": "stdout",
     "output_type": "stream",
     "text": [
      "Epoch: 41 | Avg. val loss: 0.6133241653442383.\n"
     ]
    },
    {
     "name": "stderr",
     "output_type": "stream",
     "text": [
      "Epoch: 42 | loss: 0.6043016314506531.: 100%|██████████| 959/959 [00:18<00:00, 51.56it/s]\n"
     ]
    },
    {
     "name": "stdout",
     "output_type": "stream",
     "text": [
      "Epoch: 42 | Avg. train loss: 0.6059246729822427.\n"
     ]
    },
    {
     "name": "stderr",
     "output_type": "stream",
     "text": [
      "Epoch: 42 | loss: 0.617927074432373.: 100%|██████████| 120/120 [00:02<00:00, 54.70it/s] \n"
     ]
    },
    {
     "name": "stdout",
     "output_type": "stream",
     "text": [
      "Epoch: 42 | Avg. val loss: 0.6132329632838567.\n"
     ]
    },
    {
     "name": "stderr",
     "output_type": "stream",
     "text": [
      "Epoch: 43 | loss: 0.6041068434715271.: 100%|██████████| 959/959 [00:18<00:00, 52.24it/s]\n"
     ]
    },
    {
     "name": "stdout",
     "output_type": "stream",
     "text": [
      "Epoch: 43 | Avg. train loss: 0.605732236434322.\n"
     ]
    },
    {
     "name": "stderr",
     "output_type": "stream",
     "text": [
      "Epoch: 43 | loss: 0.6176782250404358.: 100%|██████████| 120/120 [00:02<00:00, 55.22it/s]\n"
     ]
    },
    {
     "name": "stdout",
     "output_type": "stream",
     "text": [
      "Epoch: 43 | Avg. val loss: 0.6131167158484458.\n"
     ]
    },
    {
     "name": "stderr",
     "output_type": "stream",
     "text": [
      "Epoch: 44 | loss: 0.6035842299461365.: 100%|██████████| 959/959 [00:18<00:00, 52.15it/s]\n"
     ]
    },
    {
     "name": "stdout",
     "output_type": "stream",
     "text": [
      "Epoch: 44 | Avg. train loss: 0.6055362734854284.\n"
     ]
    },
    {
     "name": "stderr",
     "output_type": "stream",
     "text": [
      "Epoch: 44 | loss: 0.6176297068595886.: 100%|██████████| 120/120 [00:02<00:00, 54.45it/s]\n"
     ]
    },
    {
     "name": "stdout",
     "output_type": "stream",
     "text": [
      "Epoch: 44 | Avg. val loss: 0.6130083784461021.\n"
     ]
    },
    {
     "name": "stderr",
     "output_type": "stream",
     "text": [
      "Epoch: 45 | loss: 0.603312611579895.: 100%|██████████| 959/959 [00:18<00:00, 51.64it/s] \n"
     ]
    },
    {
     "name": "stdout",
     "output_type": "stream",
     "text": [
      "Epoch: 45 | Avg. train loss: 0.6053484246927208.\n"
     ]
    },
    {
     "name": "stderr",
     "output_type": "stream",
     "text": [
      "Epoch: 45 | loss: 0.6177330017089844.: 100%|██████████| 120/120 [00:02<00:00, 54.20it/s]\n"
     ]
    },
    {
     "name": "stdout",
     "output_type": "stream",
     "text": [
      "Epoch: 45 | Avg. val loss: 0.6129460121194522.\n"
     ]
    },
    {
     "name": "stderr",
     "output_type": "stream",
     "text": [
      "Epoch: 46 | loss: 0.6032195091247559.: 100%|██████████| 959/959 [00:18<00:00, 51.60it/s] \n"
     ]
    },
    {
     "name": "stdout",
     "output_type": "stream",
     "text": [
      "Epoch: 46 | Avg. train loss: 0.6051635527759945.\n"
     ]
    },
    {
     "name": "stderr",
     "output_type": "stream",
     "text": [
      "Epoch: 46 | loss: 0.6177963614463806.: 100%|██████████| 120/120 [00:02<00:00, 55.54it/s]\n"
     ]
    },
    {
     "name": "stdout",
     "output_type": "stream",
     "text": [
      "Epoch: 46 | Avg. val loss: 0.6128867730498314.\n"
     ]
    },
    {
     "name": "stderr",
     "output_type": "stream",
     "text": [
      "Epoch: 47 | loss: 0.6030089855194092.: 100%|██████████| 959/959 [00:18<00:00, 52.05it/s]\n"
     ]
    },
    {
     "name": "stdout",
     "output_type": "stream",
     "text": [
      "Epoch: 47 | Avg. train loss: 0.6049852540893276.\n"
     ]
    },
    {
     "name": "stderr",
     "output_type": "stream",
     "text": [
      "Epoch: 47 | loss: 0.6177306175231934.: 100%|██████████| 120/120 [00:02<00:00, 53.00it/s]\n"
     ]
    },
    {
     "name": "stdout",
     "output_type": "stream",
     "text": [
      "Epoch: 47 | Avg. val loss: 0.6128145342071851.\n"
     ]
    },
    {
     "name": "stderr",
     "output_type": "stream",
     "text": [
      "Epoch: 48 | loss: 0.6026227474212646.: 100%|██████████| 959/959 [00:18<00:00, 50.95it/s]\n"
     ]
    },
    {
     "name": "stdout",
     "output_type": "stream",
     "text": [
      "Epoch: 48 | Avg. train loss: 0.6048075882436337.\n"
     ]
    },
    {
     "name": "stderr",
     "output_type": "stream",
     "text": [
      "Epoch: 48 | loss: 0.6178128123283386.: 100%|██████████| 120/120 [00:02<00:00, 53.68it/s]\n"
     ]
    },
    {
     "name": "stdout",
     "output_type": "stream",
     "text": [
      "Epoch: 48 | Avg. val loss: 0.6126823330918948.\n"
     ]
    },
    {
     "name": "stderr",
     "output_type": "stream",
     "text": [
      "Epoch: 49 | loss: 0.6021511554718018.: 100%|██████████| 959/959 [00:18<00:00, 51.23it/s]\n"
     ]
    },
    {
     "name": "stdout",
     "output_type": "stream",
     "text": [
      "Epoch: 49 | Avg. train loss: 0.6046311893540205.\n"
     ]
    },
    {
     "name": "stderr",
     "output_type": "stream",
     "text": [
      "Epoch: 49 | loss: 0.6176804900169373.: 100%|██████████| 120/120 [00:02<00:00, 54.28it/s]\n"
     ]
    },
    {
     "name": "stdout",
     "output_type": "stream",
     "text": [
      "Epoch: 49 | Avg. val loss: 0.6125896900892258.\n"
     ]
    },
    {
     "name": "stderr",
     "output_type": "stream",
     "text": [
      "Epoch: 50 | loss: 0.6018779873847961.: 100%|██████████| 959/959 [00:18<00:00, 51.44it/s] \n"
     ]
    },
    {
     "name": "stdout",
     "output_type": "stream",
     "text": [
      "Epoch: 50 | Avg. train loss: 0.6044598358515281.\n"
     ]
    },
    {
     "name": "stderr",
     "output_type": "stream",
     "text": [
      "Epoch: 50 | loss: 0.6176697015762329.: 100%|██████████| 120/120 [00:02<00:00, 54.51it/s]\n"
     ]
    },
    {
     "name": "stdout",
     "output_type": "stream",
     "text": [
      "Epoch: 50 | Avg. val loss: 0.6125207414229711.\n"
     ]
    },
    {
     "name": "stderr",
     "output_type": "stream",
     "text": [
      "Epoch: 51 | loss: 0.6014285683631897.: 100%|██████████| 959/959 [00:18<00:00, 51.45it/s]\n"
     ]
    },
    {
     "name": "stdout",
     "output_type": "stream",
     "text": [
      "Epoch: 51 | Avg. train loss: 0.6042908947522498.\n"
     ]
    },
    {
     "name": "stderr",
     "output_type": "stream",
     "text": [
      "Epoch: 51 | loss: 0.6173333525657654.: 100%|██████████| 120/120 [00:02<00:00, 54.64it/s]\n"
     ]
    },
    {
     "name": "stdout",
     "output_type": "stream",
     "text": [
      "Epoch: 51 | Avg. val loss: 0.6124029045303663.\n"
     ]
    },
    {
     "name": "stderr",
     "output_type": "stream",
     "text": [
      "Epoch: 52 | loss: 0.6013602018356323.: 100%|██████████| 959/959 [00:18<00:00, 51.98it/s] \n"
     ]
    },
    {
     "name": "stdout",
     "output_type": "stream",
     "text": [
      "Epoch: 52 | Avg. train loss: 0.6041243202805643.\n"
     ]
    },
    {
     "name": "stderr",
     "output_type": "stream",
     "text": [
      "Epoch: 52 | loss: 0.6175801753997803.: 100%|██████████| 120/120 [00:02<00:00, 53.77it/s]\n"
     ]
    },
    {
     "name": "stdout",
     "output_type": "stream",
     "text": [
      "Epoch: 52 | Avg. val loss: 0.6123839855194092.\n"
     ]
    },
    {
     "name": "stderr",
     "output_type": "stream",
     "text": [
      "Epoch: 53 | loss: 0.6006984710693359.: 100%|██████████| 959/959 [00:18<00:00, 51.98it/s] \n"
     ]
    },
    {
     "name": "stdout",
     "output_type": "stream",
     "text": [
      "Epoch: 53 | Avg. train loss: 0.6039626093054962.\n"
     ]
    },
    {
     "name": "stderr",
     "output_type": "stream",
     "text": [
      "Epoch: 53 | loss: 0.6175370216369629.: 100%|██████████| 120/120 [00:02<00:00, 55.09it/s]\n"
     ]
    },
    {
     "name": "stdout",
     "output_type": "stream",
     "text": [
      "Epoch: 53 | Avg. val loss: 0.6122631793220837.\n"
     ]
    },
    {
     "name": "stderr",
     "output_type": "stream",
     "text": [
      "Epoch: 54 | loss: 0.6005622148513794.: 100%|██████████| 959/959 [00:18<00:00, 51.48it/s] \n"
     ]
    },
    {
     "name": "stdout",
     "output_type": "stream",
     "text": [
      "Epoch: 54 | Avg. train loss: 0.6038064450429552.\n"
     ]
    },
    {
     "name": "stderr",
     "output_type": "stream",
     "text": [
      "Epoch: 54 | loss: 0.6174618005752563.: 100%|██████████| 120/120 [00:02<00:00, 54.25it/s]\n"
     ]
    },
    {
     "name": "stdout",
     "output_type": "stream",
     "text": [
      "Epoch: 54 | Avg. val loss: 0.6121999497214953.\n"
     ]
    },
    {
     "name": "stderr",
     "output_type": "stream",
     "text": [
      "Epoch: 55 | loss: 0.6004186868667603.: 100%|██████████| 959/959 [00:18<00:00, 50.92it/s]\n"
     ]
    },
    {
     "name": "stdout",
     "output_type": "stream",
     "text": [
      "Epoch: 55 | Avg. train loss: 0.6036474836195845.\n"
     ]
    },
    {
     "name": "stderr",
     "output_type": "stream",
     "text": [
      "Epoch: 55 | loss: 0.617330014705658.: 100%|██████████| 120/120 [00:02<00:00, 53.10it/s] \n"
     ]
    },
    {
     "name": "stdout",
     "output_type": "stream",
     "text": [
      "Epoch: 55 | Avg. val loss: 0.6121515810489655.\n"
     ]
    },
    {
     "name": "stderr",
     "output_type": "stream",
     "text": [
      "Epoch: 56 | loss: 0.6003133654594421.: 100%|██████████| 959/959 [00:18<00:00, 51.96it/s] \n"
     ]
    },
    {
     "name": "stdout",
     "output_type": "stream",
     "text": [
      "Epoch: 56 | Avg. train loss: 0.6034961808958441.\n"
     ]
    },
    {
     "name": "stderr",
     "output_type": "stream",
     "text": [
      "Epoch: 56 | loss: 0.617527186870575.: 100%|██████████| 120/120 [00:02<00:00, 54.82it/s] \n"
     ]
    },
    {
     "name": "stdout",
     "output_type": "stream",
     "text": [
      "Epoch: 56 | Avg. val loss: 0.6121105353037516.\n"
     ]
    },
    {
     "name": "stderr",
     "output_type": "stream",
     "text": [
      "Epoch: 57 | loss: 0.6001222729682922.: 100%|██████████| 959/959 [00:18<00:00, 51.91it/s]\n"
     ]
    },
    {
     "name": "stdout",
     "output_type": "stream",
     "text": [
      "Epoch: 57 | Avg. train loss: 0.6033451010835308.\n"
     ]
    },
    {
     "name": "stderr",
     "output_type": "stream",
     "text": [
      "Epoch: 57 | loss: 0.617344081401825.: 100%|██████████| 120/120 [00:02<00:00, 54.32it/s] \n"
     ]
    },
    {
     "name": "stdout",
     "output_type": "stream",
     "text": [
      "Epoch: 57 | Avg. val loss: 0.6120783338944117.\n"
     ]
    },
    {
     "name": "stderr",
     "output_type": "stream",
     "text": [
      "Epoch: 58 | loss: 0.5997666120529175.: 100%|██████████| 959/959 [00:18<00:00, 51.53it/s] \n"
     ]
    },
    {
     "name": "stdout",
     "output_type": "stream",
     "text": [
      "Epoch: 58 | Avg. train loss: 0.6031982310745589.\n"
     ]
    },
    {
     "name": "stderr",
     "output_type": "stream",
     "text": [
      "Epoch: 58 | loss: 0.617549479007721.: 100%|██████████| 120/120 [00:02<00:00, 54.70it/s] \n"
     ]
    },
    {
     "name": "stdout",
     "output_type": "stream",
     "text": [
      "Epoch: 58 | Avg. val loss: 0.6120398585995038.\n"
     ]
    },
    {
     "name": "stderr",
     "output_type": "stream",
     "text": [
      "Epoch: 59 | loss: 0.5994004607200623.: 100%|██████████| 959/959 [00:18<00:00, 50.93it/s]\n"
     ]
    },
    {
     "name": "stdout",
     "output_type": "stream",
     "text": [
      "Epoch: 59 | Avg. train loss: 0.6030474547860023.\n"
     ]
    },
    {
     "name": "stderr",
     "output_type": "stream",
     "text": [
      "Epoch: 59 | loss: 0.6174411177635193.: 100%|██████████| 120/120 [00:02<00:00, 55.53it/s]\n"
     ]
    },
    {
     "name": "stdout",
     "output_type": "stream",
     "text": [
      "Epoch: 59 | Avg. val loss: 0.6120351458589236.\n"
     ]
    },
    {
     "name": "stderr",
     "output_type": "stream",
     "text": [
      "Epoch: 60 | loss: 0.5989702939987183.: 100%|██████████| 959/959 [00:18<00:00, 51.81it/s]\n"
     ]
    },
    {
     "name": "stdout",
     "output_type": "stream",
     "text": [
      "Epoch: 60 | Avg. train loss: 0.6029094350101801.\n"
     ]
    },
    {
     "name": "stderr",
     "output_type": "stream",
     "text": [
      "Epoch: 60 | loss: 0.6174380779266357.: 100%|██████████| 120/120 [00:02<00:00, 55.90it/s]\n"
     ]
    },
    {
     "name": "stdout",
     "output_type": "stream",
     "text": [
      "Epoch: 60 | Avg. val loss: 0.6119314908981324.\n"
     ]
    },
    {
     "name": "stderr",
     "output_type": "stream",
     "text": [
      "Epoch: 61 | loss: 0.598712146282196.: 100%|██████████| 959/959 [00:18<00:00, 51.53it/s]  \n"
     ]
    },
    {
     "name": "stdout",
     "output_type": "stream",
     "text": [
      "Epoch: 61 | Avg. train loss: 0.6027573426647405.\n"
     ]
    },
    {
     "name": "stderr",
     "output_type": "stream",
     "text": [
      "Epoch: 61 | loss: 0.6174853444099426.: 100%|██████████| 120/120 [00:02<00:00, 54.60it/s]\n"
     ]
    },
    {
     "name": "stdout",
     "output_type": "stream",
     "text": [
      "Epoch: 61 | Avg. val loss: 0.6119200646877289.\n"
     ]
    },
    {
     "name": "stderr",
     "output_type": "stream",
     "text": [
      "Epoch: 62 | loss: 0.5982865691184998.: 100%|██████████| 959/959 [00:18<00:00, 52.12it/s] \n"
     ]
    },
    {
     "name": "stdout",
     "output_type": "stream",
     "text": [
      "Epoch: 62 | Avg. train loss: 0.6026265890618187.\n"
     ]
    },
    {
     "name": "stderr",
     "output_type": "stream",
     "text": [
      "Epoch: 62 | loss: 0.6175382733345032.: 100%|██████████| 120/120 [00:02<00:00, 54.06it/s]\n"
     ]
    },
    {
     "name": "stdout",
     "output_type": "stream",
     "text": [
      "Epoch: 62 | Avg. val loss: 0.6118821913997332.\n"
     ]
    },
    {
     "name": "stderr",
     "output_type": "stream",
     "text": [
      "Epoch: 63 | loss: 0.5980672240257263.: 100%|██████████| 959/959 [00:18<00:00, 51.61it/s] \n"
     ]
    },
    {
     "name": "stdout",
     "output_type": "stream",
     "text": [
      "Epoch: 63 | Avg. train loss: 0.6024955500837909.\n"
     ]
    },
    {
     "name": "stderr",
     "output_type": "stream",
     "text": [
      "Epoch: 63 | loss: 0.6175846457481384.: 100%|██████████| 120/120 [00:02<00:00, 55.18it/s]\n"
     ]
    },
    {
     "name": "stdout",
     "output_type": "stream",
     "text": [
      "Epoch: 63 | Avg. val loss: 0.611817580461502.\n"
     ]
    },
    {
     "name": "stderr",
     "output_type": "stream",
     "text": [
      "Epoch: 64 | loss: 0.5981361865997314.: 100%|██████████| 959/959 [00:18<00:00, 52.11it/s]\n"
     ]
    },
    {
     "name": "stdout",
     "output_type": "stream",
     "text": [
      "Epoch: 64 | Avg. train loss: 0.6023596558133305.\n"
     ]
    },
    {
     "name": "stderr",
     "output_type": "stream",
     "text": [
      "Epoch: 64 | loss: 0.6174628734588623.: 100%|██████████| 120/120 [00:02<00:00, 54.85it/s]\n"
     ]
    },
    {
     "name": "stdout",
     "output_type": "stream",
     "text": [
      "Epoch: 64 | Avg. val loss: 0.6118123819430669.\n"
     ]
    },
    {
     "name": "stderr",
     "output_type": "stream",
     "text": [
      "Epoch: 65 | loss: 0.5980129241943359.: 100%|██████████| 959/959 [00:18<00:00, 52.01it/s] \n"
     ]
    },
    {
     "name": "stdout",
     "output_type": "stream",
     "text": [
      "Epoch: 65 | Avg. train loss: 0.6022264494078002.\n"
     ]
    },
    {
     "name": "stderr",
     "output_type": "stream",
     "text": [
      "Epoch: 65 | loss: 0.6174643635749817.: 100%|██████████| 120/120 [00:02<00:00, 53.18it/s]\n"
     ]
    },
    {
     "name": "stdout",
     "output_type": "stream",
     "text": [
      "Epoch: 65 | Avg. val loss: 0.6117610782384872.\n"
     ]
    },
    {
     "name": "stderr",
     "output_type": "stream",
     "text": [
      "Epoch: 66 | loss: 0.5977180004119873.: 100%|██████████| 959/959 [00:18<00:00, 52.11it/s]\n"
     ]
    },
    {
     "name": "stdout",
     "output_type": "stream",
     "text": [
      "Epoch: 66 | Avg. train loss: 0.6020969507965231.\n"
     ]
    },
    {
     "name": "stderr",
     "output_type": "stream",
     "text": [
      "Epoch: 66 | loss: 0.6176347732543945.: 100%|██████████| 120/120 [00:02<00:00, 54.95it/s]\n"
     ]
    },
    {
     "name": "stdout",
     "output_type": "stream",
     "text": [
      "Epoch: 66 | Avg. val loss: 0.6117111911376317.\n"
     ]
    },
    {
     "name": "stderr",
     "output_type": "stream",
     "text": [
      "Epoch: 67 | loss: 0.5976141691207886.: 100%|██████████| 959/959 [00:18<00:00, 52.08it/s] \n"
     ]
    },
    {
     "name": "stdout",
     "output_type": "stream",
     "text": [
      "Epoch: 67 | Avg. train loss: 0.6019632625816015.\n"
     ]
    },
    {
     "name": "stderr",
     "output_type": "stream",
     "text": [
      "Epoch: 67 | loss: 0.617630660533905.: 100%|██████████| 120/120 [00:02<00:00, 54.40it/s] \n"
     ]
    },
    {
     "name": "stdout",
     "output_type": "stream",
     "text": [
      "Epoch: 67 | Avg. val loss: 0.611719157298406.\n"
     ]
    },
    {
     "name": "stderr",
     "output_type": "stream",
     "text": [
      "Epoch: 68 | loss: 0.5973076820373535.: 100%|██████████| 959/959 [00:18<00:00, 51.25it/s]\n"
     ]
    },
    {
     "name": "stdout",
     "output_type": "stream",
     "text": [
      "Epoch: 68 | Avg. train loss: 0.6018422194081625.\n"
     ]
    },
    {
     "name": "stderr",
     "output_type": "stream",
     "text": [
      "Epoch: 68 | loss: 0.6174486875534058.: 100%|██████████| 120/120 [00:02<00:00, 54.67it/s]\n"
     ]
    },
    {
     "name": "stdout",
     "output_type": "stream",
     "text": [
      "Epoch: 68 | Avg. val loss: 0.6116749117771785.\n"
     ]
    },
    {
     "name": "stderr",
     "output_type": "stream",
     "text": [
      "Epoch: 69 | loss: 0.5972619652748108.: 100%|██████████| 959/959 [00:18<00:00, 51.72it/s] \n"
     ]
    },
    {
     "name": "stdout",
     "output_type": "stream",
     "text": [
      "Epoch: 69 | Avg. train loss: 0.6017194070209427.\n"
     ]
    },
    {
     "name": "stderr",
     "output_type": "stream",
     "text": [
      "Epoch: 69 | loss: 0.6175958514213562.: 100%|██████████| 120/120 [00:02<00:00, 54.40it/s]\n"
     ]
    },
    {
     "name": "stdout",
     "output_type": "stream",
     "text": [
      "Epoch: 69 | Avg. val loss: 0.6116093034545581.\n"
     ]
    },
    {
     "name": "stderr",
     "output_type": "stream",
     "text": [
      "Epoch: 70 | loss: 0.5969677567481995.: 100%|██████████| 959/959 [00:18<00:00, 51.80it/s] \n"
     ]
    },
    {
     "name": "stdout",
     "output_type": "stream",
     "text": [
      "Epoch: 70 | Avg. train loss: 0.6015962410147173.\n"
     ]
    },
    {
     "name": "stderr",
     "output_type": "stream",
     "text": [
      "Epoch: 70 | loss: 0.6176855564117432.: 100%|██████████| 120/120 [00:02<00:00, 56.55it/s]\n"
     ]
    },
    {
     "name": "stdout",
     "output_type": "stream",
     "text": [
      "Epoch: 70 | Avg. val loss: 0.6115662624438604.\n"
     ]
    },
    {
     "name": "stderr",
     "output_type": "stream",
     "text": [
      "Epoch: 71 | loss: 0.5966259837150574.: 100%|██████████| 959/959 [00:18<00:00, 51.89it/s]\n"
     ]
    },
    {
     "name": "stdout",
     "output_type": "stream",
     "text": [
      "Epoch: 71 | Avg. train loss: 0.6014732588257357.\n"
     ]
    },
    {
     "name": "stderr",
     "output_type": "stream",
     "text": [
      "Epoch: 71 | loss: 0.6175880432128906.: 100%|██████████| 120/120 [00:02<00:00, 54.89it/s]\n"
     ]
    },
    {
     "name": "stdout",
     "output_type": "stream",
     "text": [
      "Epoch: 71 | Avg. val loss: 0.6115479255716006.\n"
     ]
    },
    {
     "name": "stderr",
     "output_type": "stream",
     "text": [
      "Epoch: 72 | loss: 0.5965982675552368.: 100%|██████████| 959/959 [00:18<00:00, 51.25it/s] \n"
     ]
    },
    {
     "name": "stdout",
     "output_type": "stream",
     "text": [
      "Epoch: 72 | Avg. train loss: 0.6013527767377302.\n"
     ]
    },
    {
     "name": "stderr",
     "output_type": "stream",
     "text": [
      "Epoch: 72 | loss: 0.6175767779350281.: 100%|██████████| 120/120 [00:02<00:00, 54.46it/s]\n"
     ]
    },
    {
     "name": "stdout",
     "output_type": "stream",
     "text": [
      "Epoch: 72 | Avg. val loss: 0.6115336408217747.\n"
     ]
    },
    {
     "name": "stderr",
     "output_type": "stream",
     "text": [
      "Epoch: 73 | loss: 0.5964920520782471.: 100%|██████████| 959/959 [00:18<00:00, 52.22it/s]\n"
     ]
    },
    {
     "name": "stdout",
     "output_type": "stream",
     "text": [
      "Epoch: 73 | Avg. train loss: 0.6012344588452758.\n"
     ]
    },
    {
     "name": "stderr",
     "output_type": "stream",
     "text": [
      "Epoch: 73 | loss: 0.6175950169563293.: 100%|██████████| 120/120 [00:02<00:00, 55.70it/s]\n"
     ]
    },
    {
     "name": "stdout",
     "output_type": "stream",
     "text": [
      "Epoch: 73 | Avg. val loss: 0.6115168367822965.\n"
     ]
    },
    {
     "name": "stderr",
     "output_type": "stream",
     "text": [
      "Epoch: 74 | loss: 0.5962308049201965.: 100%|██████████| 959/959 [00:18<00:00, 52.02it/s] \n"
     ]
    },
    {
     "name": "stdout",
     "output_type": "stream",
     "text": [
      "Epoch: 74 | Avg. train loss: 0.6011196833581696.\n"
     ]
    },
    {
     "name": "stderr",
     "output_type": "stream",
     "text": [
      "Epoch: 74 | loss: 0.6175366640090942.: 100%|██████████| 120/120 [00:02<00:00, 54.70it/s]\n"
     ]
    },
    {
     "name": "stdout",
     "output_type": "stream",
     "text": [
      "Epoch: 74 | Avg. val loss: 0.6114598035812377.\n"
     ]
    },
    {
     "name": "stderr",
     "output_type": "stream",
     "text": [
      "Epoch: 75 | loss: 0.5959972143173218.: 100%|██████████| 959/959 [00:18<00:00, 51.68it/s]\n"
     ]
    },
    {
     "name": "stdout",
     "output_type": "stream",
     "text": [
      "Epoch: 75 | Avg. train loss: 0.6010077656309846.\n"
     ]
    },
    {
     "name": "stderr",
     "output_type": "stream",
     "text": [
      "Epoch: 75 | loss: 0.617357075214386.: 100%|██████████| 120/120 [00:02<00:00, 53.86it/s] \n"
     ]
    },
    {
     "name": "stdout",
     "output_type": "stream",
     "text": [
      "Epoch: 75 | Avg. val loss: 0.611458133161068.\n"
     ]
    },
    {
     "name": "stderr",
     "output_type": "stream",
     "text": [
      "Epoch: 76 | loss: 0.5956823229789734.: 100%|██████████| 959/959 [00:18<00:00, 51.34it/s]\n"
     ]
    },
    {
     "name": "stdout",
     "output_type": "stream",
     "text": [
      "Epoch: 76 | Avg. train loss: 0.6008853707559663.\n"
     ]
    },
    {
     "name": "stderr",
     "output_type": "stream",
     "text": [
      "Epoch: 76 | loss: 0.6173873543739319.: 100%|██████████| 120/120 [00:02<00:00, 54.38it/s]\n"
     ]
    },
    {
     "name": "stdout",
     "output_type": "stream",
     "text": [
      "Epoch: 76 | Avg. val loss: 0.6113869508107503.\n"
     ]
    },
    {
     "name": "stderr",
     "output_type": "stream",
     "text": [
      "Epoch: 77 | loss: 0.5955966114997864.: 100%|██████████| 959/959 [00:18<00:00, 50.82it/s] \n"
     ]
    },
    {
     "name": "stdout",
     "output_type": "stream",
     "text": [
      "Epoch: 77 | Avg. train loss: 0.6007703327038738.\n"
     ]
    },
    {
     "name": "stderr",
     "output_type": "stream",
     "text": [
      "Epoch: 77 | loss: 0.6173093914985657.: 100%|██████████| 120/120 [00:02<00:00, 54.87it/s]\n"
     ]
    },
    {
     "name": "stdout",
     "output_type": "stream",
     "text": [
      "Epoch: 77 | Avg. val loss: 0.6113928208748499.\n"
     ]
    },
    {
     "name": "stderr",
     "output_type": "stream",
     "text": [
      "Epoch: 78 | loss: 0.595357358455658.: 100%|██████████| 959/959 [00:18<00:00, 52.07it/s]  \n"
     ]
    },
    {
     "name": "stdout",
     "output_type": "stream",
     "text": [
      "Epoch: 78 | Avg. train loss: 0.6006602329494309.\n"
     ]
    },
    {
     "name": "stderr",
     "output_type": "stream",
     "text": [
      "Epoch: 78 | loss: 0.6170558929443359.: 100%|██████████| 120/120 [00:02<00:00, 55.29it/s]\n"
     ]
    },
    {
     "name": "stdout",
     "output_type": "stream",
     "text": [
      "Epoch: 78 | Avg. val loss: 0.6114054009318352.\n"
     ]
    },
    {
     "name": "stderr",
     "output_type": "stream",
     "text": [
      "Epoch: 79 | loss: 0.5950372219085693.: 100%|██████████| 959/959 [00:18<00:00, 52.28it/s] \n"
     ]
    },
    {
     "name": "stdout",
     "output_type": "stream",
     "text": [
      "Epoch: 79 | Avg. train loss: 0.60054615028086.\n"
     ]
    },
    {
     "name": "stderr",
     "output_type": "stream",
     "text": [
      "Epoch: 79 | loss: 0.6169653534889221.: 100%|██████████| 120/120 [00:02<00:00, 56.06it/s]\n"
     ]
    },
    {
     "name": "stdout",
     "output_type": "stream",
     "text": [
      "Epoch: 79 | Avg. val loss: 0.6113965844114622.\n"
     ]
    },
    {
     "name": "stderr",
     "output_type": "stream",
     "text": [
      "Epoch: 80 | loss: 0.594907820224762.: 100%|██████████| 959/959 [00:18<00:00, 51.73it/s] \n"
     ]
    },
    {
     "name": "stdout",
     "output_type": "stream",
     "text": [
      "Epoch: 80 | Avg. train loss: 0.6004411966323355.\n"
     ]
    },
    {
     "name": "stderr",
     "output_type": "stream",
     "text": [
      "Epoch: 80 | loss: 0.6170637607574463.: 100%|██████████| 120/120 [00:02<00:00, 54.88it/s]\n"
     ]
    },
    {
     "name": "stdout",
     "output_type": "stream",
     "text": [
      "Epoch: 80 | Avg. val loss: 0.611347429951032.\n"
     ]
    },
    {
     "name": "stderr",
     "output_type": "stream",
     "text": [
      "Epoch: 81 | loss: 0.5946003198623657.: 100%|██████████| 959/959 [00:18<00:00, 50.78it/s] \n"
     ]
    },
    {
     "name": "stdout",
     "output_type": "stream",
     "text": [
      "Epoch: 81 | Avg. train loss: 0.6003276632090679.\n"
     ]
    },
    {
     "name": "stderr",
     "output_type": "stream",
     "text": [
      "Epoch: 81 | loss: 0.617088794708252.: 100%|██████████| 120/120 [00:02<00:00, 53.92it/s] \n"
     ]
    },
    {
     "name": "stdout",
     "output_type": "stream",
     "text": [
      "Epoch: 81 | Avg. val loss: 0.611327970524629.\n"
     ]
    },
    {
     "name": "stderr",
     "output_type": "stream",
     "text": [
      "Epoch: 82 | loss: 0.5944205522537231.: 100%|██████████| 959/959 [00:18<00:00, 51.95it/s]\n"
     ]
    },
    {
     "name": "stdout",
     "output_type": "stream",
     "text": [
      "Epoch: 82 | Avg. train loss: 0.600219860346648.\n"
     ]
    },
    {
     "name": "stderr",
     "output_type": "stream",
     "text": [
      "Epoch: 82 | loss: 0.6172187328338623.: 100%|██████████| 120/120 [00:02<00:00, 54.63it/s]\n"
     ]
    },
    {
     "name": "stdout",
     "output_type": "stream",
     "text": [
      "Epoch: 82 | Avg. val loss: 0.6113115375240644.\n"
     ]
    },
    {
     "name": "stderr",
     "output_type": "stream",
     "text": [
      "Epoch: 83 | loss: 0.5941196084022522.: 100%|██████████| 959/959 [00:18<00:00, 51.58it/s] \n"
     ]
    },
    {
     "name": "stdout",
     "output_type": "stream",
     "text": [
      "Epoch: 83 | Avg. train loss: 0.600112500789889.\n"
     ]
    },
    {
     "name": "stderr",
     "output_type": "stream",
     "text": [
      "Epoch: 83 | loss: 0.6170265674591064.: 100%|██████████| 120/120 [00:02<00:00, 55.49it/s]\n"
     ]
    },
    {
     "name": "stdout",
     "output_type": "stream",
     "text": [
      "Epoch: 83 | Avg. val loss: 0.6113289137681325.\n"
     ]
    },
    {
     "name": "stderr",
     "output_type": "stream",
     "text": [
      "Epoch: 84 | loss: 0.5938655138015747.: 100%|██████████| 959/959 [00:18<00:00, 51.79it/s] \n"
     ]
    },
    {
     "name": "stdout",
     "output_type": "stream",
     "text": [
      "Epoch: 84 | Avg. train loss: 0.5999991600717319.\n"
     ]
    },
    {
     "name": "stderr",
     "output_type": "stream",
     "text": [
      "Epoch: 84 | loss: 0.617098331451416.: 100%|██████████| 120/120 [00:02<00:00, 53.43it/s] \n"
     ]
    },
    {
     "name": "stdout",
     "output_type": "stream",
     "text": [
      "Epoch: 84 | Avg. val loss: 0.6113364145159721.\n"
     ]
    },
    {
     "name": "stderr",
     "output_type": "stream",
     "text": [
      "Epoch: 85 | loss: 0.5935709476470947.: 100%|██████████| 959/959 [00:18<00:00, 51.29it/s] \n"
     ]
    },
    {
     "name": "stdout",
     "output_type": "stream",
     "text": [
      "Epoch: 85 | Avg. train loss: 0.5998969250849067.\n"
     ]
    },
    {
     "name": "stderr",
     "output_type": "stream",
     "text": [
      "Epoch: 85 | loss: 0.6170204877853394.: 100%|██████████| 120/120 [00:02<00:00, 54.51it/s]\n"
     ]
    },
    {
     "name": "stdout",
     "output_type": "stream",
     "text": [
      "Epoch: 85 | Avg. val loss: 0.6113371829191844.\n"
     ]
    },
    {
     "name": "stderr",
     "output_type": "stream",
     "text": [
      "Epoch: 86 | loss: 0.5932971835136414.: 100%|██████████| 959/959 [00:18<00:00, 51.04it/s] \n"
     ]
    },
    {
     "name": "stdout",
     "output_type": "stream",
     "text": [
      "Epoch: 86 | Avg. train loss: 0.599798513434602.\n"
     ]
    },
    {
     "name": "stderr",
     "output_type": "stream",
     "text": [
      "Epoch: 86 | loss: 0.616921067237854.: 100%|██████████| 120/120 [00:02<00:00, 53.69it/s] \n"
     ]
    },
    {
     "name": "stdout",
     "output_type": "stream",
     "text": [
      "Epoch: 86 | Avg. val loss: 0.6113490323225658.\n"
     ]
    },
    {
     "name": "stderr",
     "output_type": "stream",
     "text": [
      "Epoch: 87 | loss: 0.5929068922996521.: 100%|██████████| 959/959 [00:18<00:00, 51.09it/s] \n"
     ]
    },
    {
     "name": "stdout",
     "output_type": "stream",
     "text": [
      "Epoch: 87 | Avg. train loss: 0.5996925404782837.\n"
     ]
    },
    {
     "name": "stderr",
     "output_type": "stream",
     "text": [
      "Epoch: 87 | loss: 0.6171479821205139.: 100%|██████████| 120/120 [00:02<00:00, 53.78it/s]\n"
     ]
    },
    {
     "name": "stdout",
     "output_type": "stream",
     "text": [
      "Epoch: 87 | Avg. val loss: 0.6112786799669265.\n"
     ]
    },
    {
     "name": "stderr",
     "output_type": "stream",
     "text": [
      "Epoch: 88 | loss: 0.5928632020950317.: 100%|██████████| 959/959 [00:18<00:00, 51.00it/s] \n"
     ]
    },
    {
     "name": "stdout",
     "output_type": "stream",
     "text": [
      "Epoch: 88 | Avg. train loss: 0.5995914867697468.\n"
     ]
    },
    {
     "name": "stderr",
     "output_type": "stream",
     "text": [
      "Epoch: 88 | loss: 0.6171473264694214.: 100%|██████████| 120/120 [00:02<00:00, 55.52it/s]\n"
     ]
    },
    {
     "name": "stdout",
     "output_type": "stream",
     "text": [
      "Epoch: 88 | Avg. val loss: 0.611285321911176.\n"
     ]
    },
    {
     "name": "stderr",
     "output_type": "stream",
     "text": [
      "Epoch: 89 | loss: 0.5926599502563477.: 100%|██████████| 959/959 [00:18<00:00, 51.25it/s] \n"
     ]
    },
    {
     "name": "stdout",
     "output_type": "stream",
     "text": [
      "Epoch: 89 | Avg. train loss: 0.5994928836884663.\n"
     ]
    },
    {
     "name": "stderr",
     "output_type": "stream",
     "text": [
      "Epoch: 89 | loss: 0.6170040369033813.: 100%|██████████| 120/120 [00:02<00:00, 54.04it/s]\n"
     ]
    },
    {
     "name": "stdout",
     "output_type": "stream",
     "text": [
      "Epoch: 89 | Avg. val loss: 0.611259539425373.\n"
     ]
    },
    {
     "name": "stderr",
     "output_type": "stream",
     "text": [
      "Epoch: 90 | loss: 0.5923268795013428.: 100%|██████████| 959/959 [00:18<00:00, 50.71it/s] \n"
     ]
    },
    {
     "name": "stdout",
     "output_type": "stream",
     "text": [
      "Epoch: 90 | Avg. train loss: 0.5993862128170737.\n"
     ]
    },
    {
     "name": "stderr",
     "output_type": "stream",
     "text": [
      "Epoch: 90 | loss: 0.6168935894966125.: 100%|██████████| 120/120 [00:02<00:00, 54.61it/s]\n"
     ]
    },
    {
     "name": "stdout",
     "output_type": "stream",
     "text": [
      "Epoch: 90 | Avg. val loss: 0.6112221717834473.\n"
     ]
    },
    {
     "name": "stderr",
     "output_type": "stream",
     "text": [
      "Epoch: 91 | loss: 0.5921363234519958.: 100%|██████████| 959/959 [00:18<00:00, 50.84it/s]\n"
     ]
    },
    {
     "name": "stdout",
     "output_type": "stream",
     "text": [
      "Epoch: 91 | Avg. train loss: 0.5992858904308025.\n"
     ]
    },
    {
     "name": "stderr",
     "output_type": "stream",
     "text": [
      "Epoch: 91 | loss: 0.6169386506080627.: 100%|██████████| 120/120 [00:02<00:00, 55.22it/s]\n"
     ]
    },
    {
     "name": "stdout",
     "output_type": "stream",
     "text": [
      "Epoch: 91 | Avg. val loss: 0.6112751950820287.\n"
     ]
    },
    {
     "name": "stderr",
     "output_type": "stream",
     "text": [
      "Epoch: 92 | loss: 0.5919260382652283.: 100%|██████████| 959/959 [00:18<00:00, 51.30it/s] \n"
     ]
    },
    {
     "name": "stdout",
     "output_type": "stream",
     "text": [
      "Epoch: 92 | Avg. train loss: 0.5991839827101472.\n"
     ]
    },
    {
     "name": "stderr",
     "output_type": "stream",
     "text": [
      "Epoch: 92 | loss: 0.6168007850646973.: 100%|██████████| 120/120 [00:02<00:00, 54.04it/s]\n"
     ]
    },
    {
     "name": "stdout",
     "output_type": "stream",
     "text": [
      "Epoch: 92 | Avg. val loss: 0.61124790062507.\n"
     ]
    },
    {
     "name": "stderr",
     "output_type": "stream",
     "text": [
      "Epoch: 93 | loss: 0.5917936563491821.: 100%|██████████| 959/959 [00:18<00:00, 51.94it/s] \n"
     ]
    },
    {
     "name": "stdout",
     "output_type": "stream",
     "text": [
      "Epoch: 93 | Avg. train loss: 0.599090638107254.\n"
     ]
    },
    {
     "name": "stderr",
     "output_type": "stream",
     "text": [
      "Epoch: 93 | loss: 0.6166566014289856.: 100%|██████████| 120/120 [00:02<00:00, 54.63it/s]\n"
     ]
    },
    {
     "name": "stdout",
     "output_type": "stream",
     "text": [
      "Epoch: 93 | Avg. val loss: 0.611283499499162.\n"
     ]
    },
    {
     "name": "stderr",
     "output_type": "stream",
     "text": [
      "Epoch: 94 | loss: 0.5915212035179138.: 100%|██████████| 959/959 [00:18<00:00, 52.17it/s]\n"
     ]
    },
    {
     "name": "stdout",
     "output_type": "stream",
     "text": [
      "Epoch: 94 | Avg. train loss: 0.5989906651135903.\n"
     ]
    },
    {
     "name": "stderr",
     "output_type": "stream",
     "text": [
      "Epoch: 94 | loss: 0.6166989803314209.: 100%|██████████| 120/120 [00:02<00:00, 54.80it/s]\n"
     ]
    },
    {
     "name": "stdout",
     "output_type": "stream",
     "text": [
      "Epoch: 94 | Avg. val loss: 0.611239330470562.\n"
     ]
    },
    {
     "name": "stderr",
     "output_type": "stream",
     "text": [
      "Epoch: 95 | loss: 0.5913284420967102.: 100%|██████████| 959/959 [00:18<00:00, 51.01it/s] \n"
     ]
    },
    {
     "name": "stdout",
     "output_type": "stream",
     "text": [
      "Epoch: 95 | Avg. train loss: 0.59888812237661.\n"
     ]
    },
    {
     "name": "stderr",
     "output_type": "stream",
     "text": [
      "Epoch: 95 | loss: 0.6168622374534607.: 100%|██████████| 120/120 [00:02<00:00, 53.85it/s]\n"
     ]
    },
    {
     "name": "stdout",
     "output_type": "stream",
     "text": [
      "Epoch: 95 | Avg. val loss: 0.6112720628579458.\n"
     ]
    },
    {
     "name": "stderr",
     "output_type": "stream",
     "text": [
      "Epoch: 96 | loss: 0.5911779403686523.: 100%|██████████| 959/959 [00:18<00:00, 51.19it/s]\n"
     ]
    },
    {
     "name": "stdout",
     "output_type": "stream",
     "text": [
      "Epoch: 96 | Avg. train loss: 0.5987951436989996.\n"
     ]
    },
    {
     "name": "stderr",
     "output_type": "stream",
     "text": [
      "Epoch: 96 | loss: 0.6166955828666687.: 100%|██████████| 120/120 [00:02<00:00, 55.43it/s]\n"
     ]
    },
    {
     "name": "stdout",
     "output_type": "stream",
     "text": [
      "Epoch: 96 | Avg. val loss: 0.6112655575076739.\n"
     ]
    },
    {
     "name": "stderr",
     "output_type": "stream",
     "text": [
      "Epoch: 97 | loss: 0.5909286737442017.: 100%|██████████| 959/959 [00:18<00:00, 51.74it/s]\n"
     ]
    },
    {
     "name": "stdout",
     "output_type": "stream",
     "text": [
      "Epoch: 97 | Avg. train loss: 0.5987013327317143.\n"
     ]
    },
    {
     "name": "stderr",
     "output_type": "stream",
     "text": [
      "Epoch: 97 | loss: 0.6165181994438171.: 100%|██████████| 120/120 [00:02<00:00, 54.07it/s]\n"
     ]
    },
    {
     "name": "stdout",
     "output_type": "stream",
     "text": [
      "Epoch: 97 | Avg. val loss: 0.611255939801534.\n"
     ]
    },
    {
     "name": "stderr",
     "output_type": "stream",
     "text": [
      "Epoch: 98 | loss: 0.590785801410675.: 100%|██████████| 959/959 [00:18<00:00, 52.16it/s] \n"
     ]
    },
    {
     "name": "stdout",
     "output_type": "stream",
     "text": [
      "Epoch: 98 | Avg. train loss: 0.5986071099081427.\n"
     ]
    },
    {
     "name": "stderr",
     "output_type": "stream",
     "text": [
      "Epoch: 98 | loss: 0.6165250539779663.: 100%|██████████| 120/120 [00:02<00:00, 54.81it/s]\n"
     ]
    },
    {
     "name": "stdout",
     "output_type": "stream",
     "text": [
      "Epoch: 98 | Avg. val loss: 0.6112377767761549.\n"
     ]
    },
    {
     "name": "stderr",
     "output_type": "stream",
     "text": [
      "Epoch: 99 | loss: 0.5906693339347839.: 100%|██████████| 959/959 [00:18<00:00, 52.96it/s]\n"
     ]
    },
    {
     "name": "stdout",
     "output_type": "stream",
     "text": [
      "Epoch: 99 | Avg. train loss: 0.5985115599023164.\n"
     ]
    },
    {
     "name": "stderr",
     "output_type": "stream",
     "text": [
      "Epoch: 99 | loss: 0.616672158241272.: 100%|██████████| 120/120 [00:02<00:00, 54.37it/s] \n"
     ]
    },
    {
     "name": "stdout",
     "output_type": "stream",
     "text": [
      "Epoch: 99 | Avg. val loss: 0.6112284888823827.\n"
     ]
    },
    {
     "data": {
      "image/png": "[encoded data removed]",
      "text/plain": [
       "<Figure size 640x480 with 1 Axes>"
      ]
     },
     "metadata": {},
     "output_type": "display_data"
    }
   ],
   "source": [
    "device = torch.device('cuda:0')\n",
    "model = torch.nn.Sequential(\n",
    "    torch.nn.Linear(35, 128),\n",
    "    torch.nn.LeakyReLU(),\n",
    "    torch.nn.Linear(128, 128),\n",
    "    torch.nn.LeakyReLU(),\n",
    "    torch.nn.Linear(128, 1)\n",
    ").to(device)\n",
    "opt = torch.optim.AdamW(model.parameters(), lr=1e-4, weight_decay=1e-4)\n",
    "epochs = 100\n",
    "batch_size = 512\n",
    "val_loss = np.inf\n",
    "patience = 0\n",
    "losses = dict(\n",
    "    train = [],\n",
    "    val = []\n",
    ")\n",
    "for e in range(epochs):\n",
    "    for mode in ['train', 'val']:\n",
    "        train = mode == 'train'\n",
    "        loss, model, opt = single_epoch(\n",
    "            e, train, model, opt, eval(f'X_{mode}'), eval(f'y_{mode}_normalized'), batch_size, device\n",
    "        )\n",
    "        print(f'Epoch: {e} | Avg. {mode} loss: {loss}.')\n",
    "        losses[mode].append(loss)\n",
    "    if loss < val_loss:\n",
    "        val_loss = loss\n",
    "        patience = 0\n",
    "        best_model = model\n",
    "    else:\n",
    "        patience += 1\n",
    "    if patience > 20:\n",
    "        print('Early stopping!')\n",
    "        break"
   ]
  },
  {
   "cell_type": "code",
   "execution_count": 63,
   "metadata": {},
   "outputs": [
    {
     "name": "stderr",
     "output_type": "stream",
     "text": [
      "/tmp/ipykernel_2771356/2905729097.py:10: FutureWarning: You are using `torch.load` with `weights_only=False` (the current default value), which uses the default pickle module implicitly. It is possible to construct malicious pickle data which will execute arbitrary code during unpickling (See https://github.com/pytorch/pytorch/blob/main/SECURITY.md#untrusted-models for more details). In a future release, the default value for `weights_only` will be flipped to `True`. This limits the functions that could be executed during unpickling. Arbitrary objects will no longer be allowed to be loaded via this mode unless they are explicitly allowlisted by the user via `torch.serialization.add_safe_globals`. We recommend you start setting `weights_only=True` for any use case where you don't have full control of the loaded file. Please open an issue on GitHub for any issues related to this experimental feature.\n",
      "  saved = torch.load('../models_out/mlp-2-layer-model.ckpt')\n"
     ]
    },
    {
     "data": {
      "text/plain": [
       "Sequential(\n",
       "  (0): Linear(in_features=35, out_features=128, bias=True)\n",
       "  (1): LeakyReLU(negative_slope=0.01)\n",
       "  (2): Linear(in_features=128, out_features=128, bias=True)\n",
       "  (3): LeakyReLU(negative_slope=0.01)\n",
       "  (4): Linear(in_features=128, out_features=1, bias=True)\n",
       ")"
      ]
     },
     "execution_count": 63,
     "metadata": {},
     "output_type": "execute_result"
    }
   ],
   "source": [
    "# Load saved model\n",
    "device = torch.device('cuda:0')\n",
    "model = torch.nn.Sequential(\n",
    "    torch.nn.Linear(35, 128),\n",
    "    torch.nn.LeakyReLU(),\n",
    "    torch.nn.Linear(128, 128),\n",
    "    torch.nn.LeakyReLU(),\n",
    "    torch.nn.Linear(128, 1)\n",
    ").to(device)\n",
    "saved = torch.load('../models_out/mlp-2-layer-model.ckpt')\n",
    "model.load_state_dict(saved['model'])\n",
    "model.eval()"
   ]
  },
  {
   "cell_type": "code",
   "execution_count": 97,
   "metadata": {},
   "outputs": [
    {
     "data": {
      "image/png": "[encoded data removed]",
      "text/plain": [
       "<Figure size 640x480 with 1 Axes>"
      ]
     },
     "metadata": {},
     "output_type": "display_data"
    }
   ],
   "source": [
    "torch.save(\n",
    "    {\n",
    "        'model': model.state_dict(),\n",
    "        'opt': opt.state_dict(),\n",
    "        'epoch': e\n",
    "    },\n",
    "    '../models_out/mlp-2-layer-model.ckpt'\n",
    ")\n",
    "plt.plot(range(len(losses['train'])), losses['train'], label='train loss')\n",
    "plt.plot(range(len(losses['val'])), losses['val'], label='val loss')\n",
    "plt.xlabel('epoch')\n",
    "plt.grid()\n",
    "plt.legend()\n",
    "plt.savefig('../figures/mlp-2-layer-train-val-loss.png')\n",
    "plt.show()"
   ]
  },
  {
   "cell_type": "code",
   "execution_count": 108,
   "metadata": {},
   "outputs": [
    {
     "name": "stderr",
     "output_type": "stream",
     "text": [
      "100%|██████████| 120/120 [00:00<00:00, 1845.25it/s]\n",
      "100%|██████████| 120/120 [00:00<00:00, 2582.25it/s]\n"
     ]
    }
   ],
   "source": [
    "y_val_pred = predict(model, X_val, batch_size=512, device=device)\n",
    "y_test_pred = predict(model, X_test, batch_size=512, device=device)"
   ]
  },
  {
   "cell_type": "code",
   "execution_count": 109,
   "metadata": {},
   "outputs": [
    {
     "data": {
      "text/plain": [
       "(tensor(0.6112, device='cuda:0'), tensor(0.6174, device='cuda:0'))"
      ]
     },
     "execution_count": 109,
     "metadata": {},
     "output_type": "execute_result"
    }
   ],
   "source": [
    "val_mse = F.mse_loss(input=y_val_pred, target=torch.FloatTensor(y_val_normalized.to_numpy()).to(device))\n",
    "test_mse = F.mse_loss(input=y_test_pred, target=torch.FloatTensor(y_test_normalized.to_numpy()).to(device))\n",
    "\n",
    "val_mse, test_mse"
   ]
  },
  {
   "cell_type": "code",
   "execution_count": 110,
   "metadata": {},
   "outputs": [
    {
     "data": {
      "text/plain": [
       "(tensor(6337.2383, device='cuda:0'), tensor(6401.6333, device='cuda:0'))"
      ]
     },
     "execution_count": 110,
     "metadata": {},
     "output_type": "execute_result"
    }
   ],
   "source": [
    "val_mse = F.mse_loss(input=y_val_pred*pv1math_std + pv1math_mean, target=torch.FloatTensor(y_val.to_numpy()).to(device))\n",
    "test_mse = F.mse_loss(input=y_test_pred*pv1math_std + pv1math_mean, target=torch.FloatTensor(y_test.to_numpy()).to(device))\n",
    "\n",
    "val_mse, test_mse"
   ]
  },
  {
   "cell_type": "code",
   "execution_count": 111,
   "metadata": {},
   "outputs": [
    {
     "data": {
      "text/plain": [
       "(tensor(0.6218, device='cuda:0'), tensor(0.6238, device='cuda:0'))"
      ]
     },
     "execution_count": 111,
     "metadata": {},
     "output_type": "execute_result"
    }
   ],
   "source": [
    "val_mae = F.l1_loss(input=y_val_pred, target=torch.FloatTensor(y_val_normalized.to_numpy()).to(device))\n",
    "test_mae = F.l1_loss(input=y_test_pred, target=torch.FloatTensor(y_test_normalized.to_numpy()).to(device))\n",
    "\n",
    "val_mae, test_mae"
   ]
  },
  {
   "cell_type": "code",
   "execution_count": 112,
   "metadata": {},
   "outputs": [
    {
     "data": {
      "text/plain": [
       "(tensor(63.3099, device='cuda:0'), tensor(63.5187, device='cuda:0'))"
      ]
     },
     "execution_count": 112,
     "metadata": {},
     "output_type": "execute_result"
    }
   ],
   "source": [
    "val_mae = F.l1_loss(input=y_val_pred*pv1math_std + pv1math_mean, target=torch.FloatTensor(y_val.to_numpy()).to(device))\n",
    "test_mae = F.l1_loss(input=y_test_pred*pv1math_std + pv1math_mean, target=torch.FloatTensor(y_test.to_numpy()).to(device))\n",
    "\n",
    "val_mae, test_mae"
   ]
  },
  {
   "cell_type": "code",
   "execution_count": 113,
   "metadata": {},
   "outputs": [
    {
     "data": {
      "image/png": "[encoded data removed]",
      "text/plain": [
       "<Figure size 1000x500 with 2 Axes>"
      ]
     },
     "metadata": {},
     "output_type": "display_data"
    }
   ],
   "source": [
    "xy_points = np.arange(-2, 4)\n",
    "fig, axes = plt.subplots(nrows=1, ncols=2, figsize=(10, 5))\n",
    "axes[0].scatter(y_val_normalized.to_numpy(), y_val_pred.cpu().numpy(), s=10)\n",
    "axes[0].plot(xy_points, xy_points, c='k', ls='--', label='x=y')\n",
    "axes[0].grid()\n",
    "axes[0].set_xlabel('Val: true values')\n",
    "axes[0].set_ylabel('Val: predicted values')\n",
    "axes[0].set_title('Validation')\n",
    "axes[0].legend()\n",
    "\n",
    "axes[1].scatter(y_test_normalized.to_numpy(), y_test_pred.cpu().numpy(), s=10)\n",
    "axes[1].plot(xy_points, xy_points, c='k', ls='--', label='x=y')\n",
    "axes[1].grid()\n",
    "axes[1].set_xlabel('Test: true values')\n",
    "axes[1].set_ylabel('Test: predicted values')\n",
    "axes[1].set_title('Test')\n",
    "axes[1].legend()\n",
    "\n",
    "plt.tight_layout()\n",
    "plt.savefig('../figures/mlp-2-layer-val-test-scatter.png')"
   ]
  },
  {
   "cell_type": "code",
   "execution_count": 101,
   "metadata": {},
   "outputs": [],
   "source": [
    "val_classes = np.zeros_like(y_val.to_numpy())\n",
    "val_classes[y_val.to_numpy() >=500] = 1\n",
    "\n",
    "test_classes = np.zeros_like(y_test.to_numpy())\n",
    "test_classes[y_test.to_numpy() >=500] = 1"
   ]
  },
  {
   "cell_type": "code",
   "execution_count": 102,
   "metadata": {},
   "outputs": [],
   "source": [
    "y_val_pred_unnormalized = y_val_pred.cpu().numpy() * pv1math_std + pv1math_mean\n",
    "pred_val_classes = np.zeros_like(y_val_pred_unnormalized)\n",
    "pred_val_classes[y_val_pred_unnormalized >= 500] = 1\n",
    "\n",
    "y_test_pred_unnormalized = y_test_pred.cpu().numpy() * pv1math_std + pv1math_mean\n",
    "pred_test_classes = np.zeros_like(y_test_pred_unnormalized)\n",
    "pred_test_classes[y_test_pred_unnormalized >= 500] = 1"
   ]
  },
  {
   "cell_type": "code",
   "execution_count": 116,
   "metadata": {},
   "outputs": [
    {
     "data": {
      "image/png": "[encoded data removed]",
      "text/plain": [
       "<Figure size 1000x500 with 6 Axes>"
      ]
     },
     "metadata": {},
     "output_type": "display_data"
    }
   ],
   "source": [
    "fig, axes = plt.subplots(nrows=2, ncols=2, figsize=(10, 5))\n",
    "conf_mat_val = confusion_matrix(\n",
    "    y_true=val_classes,\n",
    "    y_pred=pred_val_classes\n",
    ")\n",
    "disp_val = ConfusionMatrixDisplay(\n",
    "    conf_mat_val\n",
    ")\n",
    "conf_mat_test = confusion_matrix(\n",
    "    y_true=test_classes,\n",
    "    y_pred=pred_test_classes\n",
    ")\n",
    "disp_test = ConfusionMatrixDisplay(\n",
    "    conf_mat_test\n",
    ")\n",
    "\n",
    "disp_val.plot(ax=axes[1, 0])\n",
    "disp_test.plot(ax=axes[1, 1])\n",
    "\n",
    "axes[1, 0].set_title('Val Confusion Matrix')\n",
    "axes[1, 1].set_title('Test Confusion Matrix')\n",
    "\n",
    "axes[0, 0].hist(val_classes, label='True')\n",
    "axes[0, 0].hist(pred_val_classes, alpha=0.5, label='Predicted')\n",
    "axes[0, 0].legend()\n",
    "axes[0, 0].set_title('Validation Label Histogram')\n",
    "\n",
    "axes[0, 1].hist(test_classes, label='True')\n",
    "axes[0, 1].hist(pred_test_classes, alpha=0.5, label='Predicted')\n",
    "axes[0, 1].legend()\n",
    "axes[0, 1].set_title('Test Label Histogram')\n",
    "\n",
    "plt.tight_layout()\n",
    "plt.savefig('../figures/mlp-2-layer-val-test-conf-matrix.png')"
   ]
  },
  {
   "cell_type": "code",
   "execution_count": 138,
   "metadata": {},
   "outputs": [
    {
     "data": {
      "image/png": "[encoded data removed]",
      "text/plain": [
       "<Figure size 640x480 with 1 Axes>"
      ]
     },
     "metadata": {},
     "output_type": "display_data"
    }
   ],
   "source": [
    "fpr, tpr, thresholds = roc_curve(\n",
    "    y_true = val_classes,\n",
    "    y_score = y_val_pred_unnormalized\n",
    ")\n",
    "auroc = roc_auc_score(\n",
    "    y_true = val_classes,\n",
    "    y_score = y_val_pred_unnormalized\n",
    ")\n",
    "xy_line = [0, 1]\n",
    "plt.plot(fpr, tpr, label='AUC = {:.4f}'.format(auroc))\n",
    "plt.plot(xy_line, xy_line, c='r', ls='--')\n",
    "plt.grid()\n",
    "plt.legend()\n",
    "plt.xlabel('False Positive Rate')\n",
    "plt.ylabel('True Positive Rate')\n",
    "plt.title('Validation ROC curve')\n",
    "plt.savefig('../figures/mlp-2-layer-val-roc.png')"
   ]
  },
  {
   "cell_type": "code",
   "execution_count": 139,
   "metadata": {},
   "outputs": [
    {
     "data": {
      "text/plain": [
       "array([         inf, 706.56551484, 695.28224369, ..., 320.69636861,\n",
       "       320.67812464, 221.98643307])"
      ]
     },
     "execution_count": 139,
     "metadata": {},
     "output_type": "execute_result"
    }
   ],
   "source": [
    "thresholds"
   ]
  },
  {
   "cell_type": "code",
   "execution_count": 147,
   "metadata": {},
   "outputs": [
    {
     "data": {
      "image/png": "[encoded data removed]",
      "text/plain": [
       "<Figure size 640x480 with 1 Axes>"
      ]
     },
     "metadata": {},
     "output_type": "display_data"
    }
   ],
   "source": [
    "display = PrecisionRecallDisplay.from_predictions(\n",
    "    val_classes, y_val_pred_unnormalized, name='2-layer MLP', plot_chance_level=True\n",
    ")\n",
    "_ = display.ax_.set_title(\"Validation Precision-Recall curve\")\n",
    "plt.savefig('../figures/mlp-2-layer-val-pr.png')"
   ]
  },
  {
   "cell_type": "code",
   "execution_count": 148,
   "metadata": {},
   "outputs": [
    {
     "data": {
      "text/plain": [
       "Sequential(\n",
       "  (0): Linear(in_features=35, out_features=128, bias=True)\n",
       "  (1): LeakyReLU(negative_slope=0.01)\n",
       "  (2): Linear(in_features=128, out_features=128, bias=True)\n",
       "  (3): LeakyReLU(negative_slope=0.01)\n",
       "  (4): Linear(in_features=128, out_features=1, bias=True)\n",
       ")"
      ]
     },
     "execution_count": 148,
     "metadata": {},
     "output_type": "execute_result"
    }
   ],
   "source": [
    "model"
   ]
  },
  {
   "cell_type": "markdown",
   "metadata": {},
   "source": [
    "## US-only"
   ]
  },
  {
   "cell_type": "code",
   "execution_count": 78,
   "metadata": {},
   "outputs": [],
   "source": [
    "us_students_math = pd.read_csv('../raw_data/us_students_math.csv')"
   ]
  },
  {
   "cell_type": "code",
   "execution_count": 79,
   "metadata": {},
   "outputs": [
    {
     "name": "stderr",
     "output_type": "stream",
     "text": [
      "/tmp/ipykernel_2771356/2036886988.py:1: FutureWarning: Downcasting behavior in `replace` is deprecated and will be removed in a future version. To retain the old behavior, explicitly call `result.infer_objects(copy=False)`. To opt-in to the future behavior, set `pd.set_option('future.no_silent_downcasting', True)`\n",
      "  us_students_math['MATHPREF'] = us_students_math['MATHPREF'].replace({\n",
      "/tmp/ipykernel_2771356/2036886988.py:5: FutureWarning: Downcasting behavior in `replace` is deprecated and will be removed in a future version. To retain the old behavior, explicitly call `result.infer_objects(copy=False)`. To opt-in to the future behavior, set `pd.set_option('future.no_silent_downcasting', True)`\n",
      "  us_students_math['MATHEASE'] = us_students_math['MATHEASE'].replace({\n",
      "/tmp/ipykernel_2771356/2036886988.py:9: FutureWarning: Downcasting behavior in `replace` is deprecated and will be removed in a future version. To retain the old behavior, explicitly call `result.infer_objects(copy=False)`. To opt-in to the future behavior, set `pd.set_option('future.no_silent_downcasting', True)`\n",
      "  us_students_math['MATHMOT'] = us_students_math['MATHMOT'].replace({\n"
     ]
    },
    {
     "data": {
      "text/html": [
       "<div>\n",
       "<style scoped>\n",
       "    .dataframe tbody tr th:only-of-type {\n",
       "        vertical-align: middle;\n",
       "    }\n",
       "\n",
       "    .dataframe tbody tr th {\n",
       "        vertical-align: top;\n",
       "    }\n",
       "\n",
       "    .dataframe thead th {\n",
       "        text-align: right;\n",
       "    }\n",
       "</style>\n",
       "<table border=\"1\" class=\"dataframe\">\n",
       "  <thead>\n",
       "    <tr style=\"text-align: right;\">\n",
       "      <th></th>\n",
       "      <th>ST001D01T</th>\n",
       "      <th>MATHPREF</th>\n",
       "      <th>MATHEASE</th>\n",
       "      <th>MATHMOT</th>\n",
       "      <th>MATHEFF</th>\n",
       "      <th>MATHEF21</th>\n",
       "      <th>MATHPERS</th>\n",
       "      <th>PV1MATH</th>\n",
       "    </tr>\n",
       "  </thead>\n",
       "  <tbody>\n",
       "    <tr>\n",
       "      <th>0</th>\n",
       "      <td>Grade 10</td>\n",
       "      <td>0.0</td>\n",
       "      <td>0.0</td>\n",
       "      <td>0.0</td>\n",
       "      <td>-0.3183</td>\n",
       "      <td>0.6760</td>\n",
       "      <td>0.2552</td>\n",
       "      <td>575.451</td>\n",
       "    </tr>\n",
       "    <tr>\n",
       "      <th>1</th>\n",
       "      <td>Grade 10</td>\n",
       "      <td>0.0</td>\n",
       "      <td>0.0</td>\n",
       "      <td>0.0</td>\n",
       "      <td>-0.2856</td>\n",
       "      <td>0.6664</td>\n",
       "      <td>-0.2159</td>\n",
       "      <td>442.014</td>\n",
       "    </tr>\n",
       "    <tr>\n",
       "      <th>2</th>\n",
       "      <td>Grade 10</td>\n",
       "      <td>1.0</td>\n",
       "      <td>0.0</td>\n",
       "      <td>0.0</td>\n",
       "      <td>0.2647</td>\n",
       "      <td>1.4576</td>\n",
       "      <td>0.2501</td>\n",
       "      <td>680.277</td>\n",
       "    </tr>\n",
       "    <tr>\n",
       "      <th>3</th>\n",
       "      <td>Grade 10</td>\n",
       "      <td>0.0</td>\n",
       "      <td>0.0</td>\n",
       "      <td>0.0</td>\n",
       "      <td>-1.2825</td>\n",
       "      <td>-0.3274</td>\n",
       "      <td>-0.1429</td>\n",
       "      <td>461.899</td>\n",
       "    </tr>\n",
       "    <tr>\n",
       "      <th>4</th>\n",
       "      <td>Grade 11</td>\n",
       "      <td>0.0</td>\n",
       "      <td>0.0</td>\n",
       "      <td>0.0</td>\n",
       "      <td>-0.7980</td>\n",
       "      <td>0.0348</td>\n",
       "      <td>2.0741</td>\n",
       "      <td>501.214</td>\n",
       "    </tr>\n",
       "    <tr>\n",
       "      <th>...</th>\n",
       "      <td>...</td>\n",
       "      <td>...</td>\n",
       "      <td>...</td>\n",
       "      <td>...</td>\n",
       "      <td>...</td>\n",
       "      <td>...</td>\n",
       "      <td>...</td>\n",
       "      <td>...</td>\n",
       "    </tr>\n",
       "    <tr>\n",
       "      <th>4547</th>\n",
       "      <td>Grade 10</td>\n",
       "      <td>0.0</td>\n",
       "      <td>1.0</td>\n",
       "      <td>0.0</td>\n",
       "      <td>0.2250</td>\n",
       "      <td>1.4629</td>\n",
       "      <td>1.3373</td>\n",
       "      <td>568.395</td>\n",
       "    </tr>\n",
       "    <tr>\n",
       "      <th>4548</th>\n",
       "      <td>Grade 11</td>\n",
       "      <td>0.0</td>\n",
       "      <td>0.0</td>\n",
       "      <td>0.0</td>\n",
       "      <td>2.2152</td>\n",
       "      <td>2.3534</td>\n",
       "      <td>-0.3797</td>\n",
       "      <td>591.859</td>\n",
       "    </tr>\n",
       "    <tr>\n",
       "      <th>4549</th>\n",
       "      <td>Grade 10</td>\n",
       "      <td>0.0</td>\n",
       "      <td>0.0</td>\n",
       "      <td>0.0</td>\n",
       "      <td>-0.0646</td>\n",
       "      <td>0.6807</td>\n",
       "      <td>1.4084</td>\n",
       "      <td>532.932</td>\n",
       "    </tr>\n",
       "    <tr>\n",
       "      <th>4550</th>\n",
       "      <td>Grade 10</td>\n",
       "      <td>0.0</td>\n",
       "      <td>0.0</td>\n",
       "      <td>0.0</td>\n",
       "      <td>-3.4935</td>\n",
       "      <td>-2.2661</td>\n",
       "      <td>NaN</td>\n",
       "      <td>268.056</td>\n",
       "    </tr>\n",
       "    <tr>\n",
       "      <th>4551</th>\n",
       "      <td>Grade 10</td>\n",
       "      <td>0.0</td>\n",
       "      <td>0.0</td>\n",
       "      <td>0.0</td>\n",
       "      <td>0.3244</td>\n",
       "      <td>0.3474</td>\n",
       "      <td>0.2859</td>\n",
       "      <td>479.480</td>\n",
       "    </tr>\n",
       "  </tbody>\n",
       "</table>\n",
       "<p>4552 rows × 8 columns</p>\n",
       "</div>"
      ],
      "text/plain": [
       "     ST001D01T  MATHPREF  MATHEASE  MATHMOT  MATHEFF  MATHEF21  MATHPERS  \\\n",
       "0     Grade 10       0.0       0.0      0.0  -0.3183    0.6760    0.2552   \n",
       "1     Grade 10       0.0       0.0      0.0  -0.2856    0.6664   -0.2159   \n",
       "2     Grade 10       1.0       0.0      0.0   0.2647    1.4576    0.2501   \n",
       "3     Grade 10       0.0       0.0      0.0  -1.2825   -0.3274   -0.1429   \n",
       "4     Grade 11       0.0       0.0      0.0  -0.7980    0.0348    2.0741   \n",
       "...        ...       ...       ...      ...      ...       ...       ...   \n",
       "4547  Grade 10       0.0       1.0      0.0   0.2250    1.4629    1.3373   \n",
       "4548  Grade 11       0.0       0.0      0.0   2.2152    2.3534   -0.3797   \n",
       "4549  Grade 10       0.0       0.0      0.0  -0.0646    0.6807    1.4084   \n",
       "4550  Grade 10       0.0       0.0      0.0  -3.4935   -2.2661       NaN   \n",
       "4551  Grade 10       0.0       0.0      0.0   0.3244    0.3474    0.2859   \n",
       "\n",
       "      PV1MATH  \n",
       "0     575.451  \n",
       "1     442.014  \n",
       "2     680.277  \n",
       "3     461.899  \n",
       "4     501.214  \n",
       "...       ...  \n",
       "4547  568.395  \n",
       "4548  591.859  \n",
       "4549  532.932  \n",
       "4550  268.056  \n",
       "4551  479.480  \n",
       "\n",
       "[4552 rows x 8 columns]"
      ]
     },
     "execution_count": 79,
     "metadata": {},
     "output_type": "execute_result"
    }
   ],
   "source": [
    "us_students_math['MATHPREF'] = us_students_math['MATHPREF'].replace({\n",
    "    'No preference for mathematics over other subjects': 0,\n",
    "    'Preference for mathematics over other subjects': 1\n",
    "})\n",
    "us_students_math['MATHEASE'] = us_students_math['MATHEASE'].replace({\n",
    "    'No perception of mathematics as easier than other subjects': 0,\n",
    "    'Perception of mathematics as easier than other subjects': 1\n",
    "})\n",
    "us_students_math['MATHMOT'] = us_students_math['MATHMOT'].replace({\n",
    "    'Not more motivated to do well in mathematics than other subjects': 0,\n",
    "    'More motivated to do well in mathematics than other subjects': 1\n",
    "})\n",
    "us_students_math"
   ]
  },
  {
   "cell_type": "code",
   "execution_count": 80,
   "metadata": {},
   "outputs": [
    {
     "data": {
      "text/html": [
       "<div>\n",
       "<style scoped>\n",
       "    .dataframe tbody tr th:only-of-type {\n",
       "        vertical-align: middle;\n",
       "    }\n",
       "\n",
       "    .dataframe tbody tr th {\n",
       "        vertical-align: top;\n",
       "    }\n",
       "\n",
       "    .dataframe thead th {\n",
       "        text-align: right;\n",
       "    }\n",
       "</style>\n",
       "<table border=\"1\" class=\"dataframe\">\n",
       "  <thead>\n",
       "    <tr style=\"text-align: right;\">\n",
       "      <th></th>\n",
       "      <th>ST001D01T</th>\n",
       "      <th>MATHPREF</th>\n",
       "      <th>MATHEASE</th>\n",
       "      <th>MATHMOT</th>\n",
       "      <th>MATHEFF</th>\n",
       "      <th>MATHEF21</th>\n",
       "      <th>MATHPERS</th>\n",
       "      <th>PV1MATH</th>\n",
       "    </tr>\n",
       "  </thead>\n",
       "  <tbody>\n",
       "    <tr>\n",
       "      <th>0</th>\n",
       "      <td>Grade 10</td>\n",
       "      <td>0.0</td>\n",
       "      <td>0.0</td>\n",
       "      <td>0.0</td>\n",
       "      <td>-0.3183</td>\n",
       "      <td>0.6760</td>\n",
       "      <td>0.2552</td>\n",
       "      <td>575.451</td>\n",
       "    </tr>\n",
       "    <tr>\n",
       "      <th>1</th>\n",
       "      <td>Grade 10</td>\n",
       "      <td>0.0</td>\n",
       "      <td>0.0</td>\n",
       "      <td>0.0</td>\n",
       "      <td>-0.2856</td>\n",
       "      <td>0.6664</td>\n",
       "      <td>-0.2159</td>\n",
       "      <td>442.014</td>\n",
       "    </tr>\n",
       "    <tr>\n",
       "      <th>2</th>\n",
       "      <td>Grade 10</td>\n",
       "      <td>1.0</td>\n",
       "      <td>0.0</td>\n",
       "      <td>0.0</td>\n",
       "      <td>0.2647</td>\n",
       "      <td>1.4576</td>\n",
       "      <td>0.2501</td>\n",
       "      <td>680.277</td>\n",
       "    </tr>\n",
       "    <tr>\n",
       "      <th>3</th>\n",
       "      <td>Grade 10</td>\n",
       "      <td>0.0</td>\n",
       "      <td>0.0</td>\n",
       "      <td>0.0</td>\n",
       "      <td>-1.2825</td>\n",
       "      <td>-0.3274</td>\n",
       "      <td>-0.1429</td>\n",
       "      <td>461.899</td>\n",
       "    </tr>\n",
       "    <tr>\n",
       "      <th>4</th>\n",
       "      <td>Grade 11</td>\n",
       "      <td>0.0</td>\n",
       "      <td>0.0</td>\n",
       "      <td>0.0</td>\n",
       "      <td>-0.7980</td>\n",
       "      <td>0.0348</td>\n",
       "      <td>2.0741</td>\n",
       "      <td>501.214</td>\n",
       "    </tr>\n",
       "    <tr>\n",
       "      <th>...</th>\n",
       "      <td>...</td>\n",
       "      <td>...</td>\n",
       "      <td>...</td>\n",
       "      <td>...</td>\n",
       "      <td>...</td>\n",
       "      <td>...</td>\n",
       "      <td>...</td>\n",
       "      <td>...</td>\n",
       "    </tr>\n",
       "    <tr>\n",
       "      <th>4546</th>\n",
       "      <td>Grade 11</td>\n",
       "      <td>0.0</td>\n",
       "      <td>0.0</td>\n",
       "      <td>0.0</td>\n",
       "      <td>-0.2808</td>\n",
       "      <td>0.1735</td>\n",
       "      <td>0.2246</td>\n",
       "      <td>481.033</td>\n",
       "    </tr>\n",
       "    <tr>\n",
       "      <th>4547</th>\n",
       "      <td>Grade 10</td>\n",
       "      <td>0.0</td>\n",
       "      <td>1.0</td>\n",
       "      <td>0.0</td>\n",
       "      <td>0.2250</td>\n",
       "      <td>1.4629</td>\n",
       "      <td>1.3373</td>\n",
       "      <td>568.395</td>\n",
       "    </tr>\n",
       "    <tr>\n",
       "      <th>4548</th>\n",
       "      <td>Grade 11</td>\n",
       "      <td>0.0</td>\n",
       "      <td>0.0</td>\n",
       "      <td>0.0</td>\n",
       "      <td>2.2152</td>\n",
       "      <td>2.3534</td>\n",
       "      <td>-0.3797</td>\n",
       "      <td>591.859</td>\n",
       "    </tr>\n",
       "    <tr>\n",
       "      <th>4549</th>\n",
       "      <td>Grade 10</td>\n",
       "      <td>0.0</td>\n",
       "      <td>0.0</td>\n",
       "      <td>0.0</td>\n",
       "      <td>-0.0646</td>\n",
       "      <td>0.6807</td>\n",
       "      <td>1.4084</td>\n",
       "      <td>532.932</td>\n",
       "    </tr>\n",
       "    <tr>\n",
       "      <th>4551</th>\n",
       "      <td>Grade 10</td>\n",
       "      <td>0.0</td>\n",
       "      <td>0.0</td>\n",
       "      <td>0.0</td>\n",
       "      <td>0.3244</td>\n",
       "      <td>0.3474</td>\n",
       "      <td>0.2859</td>\n",
       "      <td>479.480</td>\n",
       "    </tr>\n",
       "  </tbody>\n",
       "</table>\n",
       "<p>3868 rows × 8 columns</p>\n",
       "</div>"
      ],
      "text/plain": [
       "     ST001D01T  MATHPREF  MATHEASE  MATHMOT  MATHEFF  MATHEF21  MATHPERS  \\\n",
       "0     Grade 10       0.0       0.0      0.0  -0.3183    0.6760    0.2552   \n",
       "1     Grade 10       0.0       0.0      0.0  -0.2856    0.6664   -0.2159   \n",
       "2     Grade 10       1.0       0.0      0.0   0.2647    1.4576    0.2501   \n",
       "3     Grade 10       0.0       0.0      0.0  -1.2825   -0.3274   -0.1429   \n",
       "4     Grade 11       0.0       0.0      0.0  -0.7980    0.0348    2.0741   \n",
       "...        ...       ...       ...      ...      ...       ...       ...   \n",
       "4546  Grade 11       0.0       0.0      0.0  -0.2808    0.1735    0.2246   \n",
       "4547  Grade 10       0.0       1.0      0.0   0.2250    1.4629    1.3373   \n",
       "4548  Grade 11       0.0       0.0      0.0   2.2152    2.3534   -0.3797   \n",
       "4549  Grade 10       0.0       0.0      0.0  -0.0646    0.6807    1.4084   \n",
       "4551  Grade 10       0.0       0.0      0.0   0.3244    0.3474    0.2859   \n",
       "\n",
       "      PV1MATH  \n",
       "0     575.451  \n",
       "1     442.014  \n",
       "2     680.277  \n",
       "3     461.899  \n",
       "4     501.214  \n",
       "...       ...  \n",
       "4546  481.033  \n",
       "4547  568.395  \n",
       "4548  591.859  \n",
       "4549  532.932  \n",
       "4551  479.480  \n",
       "\n",
       "[3868 rows x 8 columns]"
      ]
     },
     "execution_count": 80,
     "metadata": {},
     "output_type": "execute_result"
    }
   ],
   "source": [
    "df_cleaned = us_students_math.dropna()\n",
    "df_cleaned"
   ]
  },
  {
   "cell_type": "code",
   "execution_count": 84,
   "metadata": {},
   "outputs": [
    {
     "data": {
      "text/plain": [
       "(3094, 387, 387)"
      ]
     },
     "execution_count": 84,
     "metadata": {},
     "output_type": "execute_result"
    }
   ],
   "source": [
    "X = df_cleaned[['MATHPREF', 'MATHEASE', 'MATHMOT', 'MATHEFF', 'MATHEF21', 'MATHPERS']]\n",
    "y = df_cleaned['PV1MATH']\n",
    "\n",
    "# Split the data into training and testing sets (80% train, 20% test)\n",
    "X_train, X_test, y_train, y_test = train_test_split(X, y, test_size=0.2, random_state=42)\n",
    "X_val, X_test, y_val, y_test = train_test_split(X_test, y_test, test_size=0.5, random_state=42)\n",
    "\n",
    "len(X_train), len(X_val), len(X_test)"
   ]
  },
  {
   "cell_type": "code",
   "execution_count": 85,
   "metadata": {},
   "outputs": [
    {
     "data": {
      "text/plain": [
       "(3094, 6)"
      ]
     },
     "execution_count": 85,
     "metadata": {},
     "output_type": "execute_result"
    }
   ],
   "source": [
    "X_train.to_numpy().shape"
   ]
  },
  {
   "cell_type": "code",
   "execution_count": 87,
   "metadata": {},
   "outputs": [],
   "source": [
    "pv1math_mean_us = y_train.mean()\n",
    "pv1math_std_us = y_train.std()"
   ]
  },
  {
   "cell_type": "code",
   "execution_count": 88,
   "metadata": {},
   "outputs": [],
   "source": [
    "y_train_normalized_us = (y_train - pv1math_mean_us ) / pv1math_std_us\n",
    "y_val_normalized_us = (y_val - pv1math_mean_us ) / pv1math_std_us\n",
    "y_test_normalized_us = (y_test - pv1math_mean_us ) / pv1math_std_us"
   ]
  },
  {
   "cell_type": "code",
   "execution_count": 89,
   "metadata": {},
   "outputs": [
    {
     "name": "stderr",
     "output_type": "stream",
     "text": [
      "Epoch: 0 | loss: 0.8000141978263855.: 100%|██████████| 97/97 [00:00<00:00, 311.19it/s]\n"
     ]
    },
    {
     "name": "stdout",
     "output_type": "stream",
     "text": [
      "Epoch: 0 | Avg. train loss: 0.8782955832088116.\n"
     ]
    },
    {
     "name": "stderr",
     "output_type": "stream",
     "text": [
      "Epoch: 0 | loss: 1.0123597383499146.: 100%|██████████| 13/13 [00:00<00:00, 748.31it/s]\n"
     ]
    },
    {
     "name": "stdout",
     "output_type": "stream",
     "text": [
      "Epoch: 0 | Avg. val loss: 0.8333925948693202.\n"
     ]
    },
    {
     "name": "stderr",
     "output_type": "stream",
     "text": [
      "Epoch: 1 | loss: 0.6790804862976074.: 100%|██████████| 97/97 [00:00<00:00, 488.33it/s] \n"
     ]
    },
    {
     "name": "stdout",
     "output_type": "stream",
     "text": [
      "Epoch: 1 | Avg. train loss: 0.8007855135755441.\n"
     ]
    },
    {
     "name": "stderr",
     "output_type": "stream",
     "text": [
      "Epoch: 1 | loss: 0.9511010050773621.: 100%|██████████| 13/13 [00:00<00:00, 818.08it/s]\n"
     ]
    },
    {
     "name": "stdout",
     "output_type": "stream",
     "text": [
      "Epoch: 1 | Avg. val loss: 0.7967044481864343.\n"
     ]
    },
    {
     "name": "stderr",
     "output_type": "stream",
     "text": [
      "Epoch: 2 | loss: 0.6387996077537537.: 100%|██████████| 97/97 [00:00<00:00, 482.36it/s]\n"
     ]
    },
    {
     "name": "stdout",
     "output_type": "stream",
     "text": [
      "Epoch: 2 | Avg. train loss: 0.7797188611374688.\n"
     ]
    },
    {
     "name": "stderr",
     "output_type": "stream",
     "text": [
      "Epoch: 2 | loss: 0.9473826289176941.: 100%|██████████| 13/13 [00:00<00:00, 912.72it/s]\n"
     ]
    },
    {
     "name": "stdout",
     "output_type": "stream",
     "text": [
      "Epoch: 2 | Avg. val loss: 0.7816485716746404.\n"
     ]
    },
    {
     "name": "stderr",
     "output_type": "stream",
     "text": [
      "Epoch: 3 | loss: 0.6184332370758057.: 100%|██████████| 97/97 [00:00<00:00, 478.99it/s] \n"
     ]
    },
    {
     "name": "stdout",
     "output_type": "stream",
     "text": [
      "Epoch: 3 | Avg. train loss: 0.768960799445811.\n"
     ]
    },
    {
     "name": "stderr",
     "output_type": "stream",
     "text": [
      "Epoch: 3 | loss: 0.9439992308616638.: 100%|██████████| 13/13 [00:00<00:00, 911.87it/s]\n"
     ]
    },
    {
     "name": "stdout",
     "output_type": "stream",
     "text": [
      "Epoch: 3 | Avg. val loss: 0.7719551485318404.\n"
     ]
    },
    {
     "name": "stderr",
     "output_type": "stream",
     "text": [
      "Epoch: 4 | loss: 0.6076674461364746.: 100%|██████████| 97/97 [00:00<00:00, 469.76it/s]\n"
     ]
    },
    {
     "name": "stdout",
     "output_type": "stream",
     "text": [
      "Epoch: 4 | Avg. train loss: 0.7622858098487264.\n"
     ]
    },
    {
     "name": "stderr",
     "output_type": "stream",
     "text": [
      "Epoch: 4 | loss: 0.9383202791213989.: 100%|██████████| 13/13 [00:00<00:00, 872.81it/s]\n"
     ]
    },
    {
     "name": "stdout",
     "output_type": "stream",
     "text": [
      "Epoch: 4 | Avg. val loss: 0.7656113413664011.\n"
     ]
    },
    {
     "name": "stderr",
     "output_type": "stream",
     "text": [
      "Epoch: 5 | loss: 0.6019204258918762.: 100%|██████████| 97/97 [00:00<00:00, 486.58it/s] \n"
     ]
    },
    {
     "name": "stdout",
     "output_type": "stream",
     "text": [
      "Epoch: 5 | Avg. train loss: 0.7578635802588511.\n"
     ]
    },
    {
     "name": "stderr",
     "output_type": "stream",
     "text": [
      "Epoch: 5 | loss: 0.9317440986633301.: 100%|██████████| 13/13 [00:00<00:00, 908.18it/s]\n"
     ]
    },
    {
     "name": "stdout",
     "output_type": "stream",
     "text": [
      "Epoch: 5 | Avg. val loss: 0.7608103385338416.\n"
     ]
    },
    {
     "name": "stderr",
     "output_type": "stream",
     "text": [
      "Epoch: 6 | loss: 0.5979981422424316.: 100%|██████████| 97/97 [00:00<00:00, 491.11it/s] \n"
     ]
    },
    {
     "name": "stdout",
     "output_type": "stream",
     "text": [
      "Epoch: 6 | Avg. train loss: 0.7543758399707755.\n"
     ]
    },
    {
     "name": "stderr",
     "output_type": "stream",
     "text": [
      "Epoch: 6 | loss: 0.9249171018600464.: 100%|██████████| 13/13 [00:00<00:00, 888.71it/s]\n"
     ]
    },
    {
     "name": "stdout",
     "output_type": "stream",
     "text": [
      "Epoch: 6 | Avg. val loss: 0.7571184589312627.\n"
     ]
    },
    {
     "name": "stderr",
     "output_type": "stream",
     "text": [
      "Epoch: 7 | loss: 0.5957754254341125.: 100%|██████████| 97/97 [00:00<00:00, 504.86it/s] \n"
     ]
    },
    {
     "name": "stdout",
     "output_type": "stream",
     "text": [
      "Epoch: 7 | Avg. train loss: 0.7514386760819819.\n"
     ]
    },
    {
     "name": "stderr",
     "output_type": "stream",
     "text": [
      "Epoch: 7 | loss: 0.9197379946708679.: 100%|██████████| 13/13 [00:00<00:00, 882.11it/s]\n"
     ]
    },
    {
     "name": "stdout",
     "output_type": "stream",
     "text": [
      "Epoch: 7 | Avg. val loss: 0.7540297095592206.\n"
     ]
    },
    {
     "name": "stderr",
     "output_type": "stream",
     "text": [
      "Epoch: 8 | loss: 0.5947404503822327.: 100%|██████████| 97/97 [00:00<00:00, 467.41it/s] \n"
     ]
    },
    {
     "name": "stdout",
     "output_type": "stream",
     "text": [
      "Epoch: 8 | Avg. train loss: 0.7489793254542596.\n"
     ]
    },
    {
     "name": "stderr",
     "output_type": "stream",
     "text": [
      "Epoch: 8 | loss: 0.9115116000175476.: 100%|██████████| 13/13 [00:00<00:00, 901.70it/s]\n"
     ]
    },
    {
     "name": "stdout",
     "output_type": "stream",
     "text": [
      "Epoch: 8 | Avg. val loss: 0.7510970762142768.\n"
     ]
    },
    {
     "name": "stderr",
     "output_type": "stream",
     "text": [
      "Epoch: 9 | loss: 0.5940343141555786.: 100%|██████████| 97/97 [00:00<00:00, 489.81it/s] \n"
     ]
    },
    {
     "name": "stdout",
     "output_type": "stream",
     "text": [
      "Epoch: 9 | Avg. train loss: 0.7468020375241938.\n"
     ]
    },
    {
     "name": "stderr",
     "output_type": "stream",
     "text": [
      "Epoch: 9 | loss: 0.9049476981163025.: 100%|██████████| 13/13 [00:00<00:00, 798.63it/s]\n"
     ]
    },
    {
     "name": "stdout",
     "output_type": "stream",
     "text": [
      "Epoch: 9 | Avg. val loss: 0.7484677640291361.\n"
     ]
    },
    {
     "name": "stderr",
     "output_type": "stream",
     "text": [
      "Epoch: 10 | loss: 0.5938435792922974.: 100%|██████████| 97/97 [00:00<00:00, 518.65it/s]\n"
     ]
    },
    {
     "name": "stdout",
     "output_type": "stream",
     "text": [
      "Epoch: 10 | Avg. train loss: 0.7448630640187215.\n"
     ]
    },
    {
     "name": "stderr",
     "output_type": "stream",
     "text": [
      "Epoch: 10 | loss: 0.8990484476089478.: 100%|██████████| 13/13 [00:00<00:00, 932.66it/s]\n"
     ]
    },
    {
     "name": "stdout",
     "output_type": "stream",
     "text": [
      "Epoch: 10 | Avg. val loss: 0.7463200184015127.\n"
     ]
    },
    {
     "name": "stderr",
     "output_type": "stream",
     "text": [
      "Epoch: 11 | loss: 0.59388667345047.: 100%|██████████| 97/97 [00:00<00:00, 508.69it/s]   \n"
     ]
    },
    {
     "name": "stdout",
     "output_type": "stream",
     "text": [
      "Epoch: 11 | Avg. train loss: 0.7431406944068437.\n"
     ]
    },
    {
     "name": "stderr",
     "output_type": "stream",
     "text": [
      "Epoch: 11 | loss: 0.8938433527946472.: 100%|██████████| 13/13 [00:00<00:00, 888.73it/s]\n"
     ]
    },
    {
     "name": "stdout",
     "output_type": "stream",
     "text": [
      "Epoch: 11 | Avg. val loss: 0.7443965467122885.\n"
     ]
    },
    {
     "name": "stderr",
     "output_type": "stream",
     "text": [
      "Epoch: 12 | loss: 0.5939972996711731.: 100%|██████████| 97/97 [00:00<00:00, 498.67it/s]\n"
     ]
    },
    {
     "name": "stdout",
     "output_type": "stream",
     "text": [
      "Epoch: 12 | Avg. train loss: 0.7415811213635907.\n"
     ]
    },
    {
     "name": "stderr",
     "output_type": "stream",
     "text": [
      "Epoch: 12 | loss: 0.8894901275634766.: 100%|██████████| 13/13 [00:00<00:00, 913.15it/s]\n"
     ]
    },
    {
     "name": "stdout",
     "output_type": "stream",
     "text": [
      "Epoch: 12 | Avg. val loss: 0.7427019270566794.\n"
     ]
    },
    {
     "name": "stderr",
     "output_type": "stream",
     "text": [
      "Epoch: 13 | loss: 0.5945098400115967.: 100%|██████████| 97/97 [00:00<00:00, 505.87it/s] \n"
     ]
    },
    {
     "name": "stdout",
     "output_type": "stream",
     "text": [
      "Epoch: 13 | Avg. train loss: 0.7401505886893911.\n"
     ]
    },
    {
     "name": "stderr",
     "output_type": "stream",
     "text": [
      "Epoch: 13 | loss: 0.8853697776794434.: 100%|██████████| 13/13 [00:00<00:00, 941.95it/s]\n"
     ]
    },
    {
     "name": "stdout",
     "output_type": "stream",
     "text": [
      "Epoch: 13 | Avg. val loss: 0.7412519913453323.\n"
     ]
    },
    {
     "name": "stderr",
     "output_type": "stream",
     "text": [
      "Epoch: 14 | loss: 0.595033586025238.: 100%|██████████| 97/97 [00:00<00:00, 509.22it/s]  \n"
     ]
    },
    {
     "name": "stdout",
     "output_type": "stream",
     "text": [
      "Epoch: 14 | Avg. train loss: 0.7387992500029888.\n"
     ]
    },
    {
     "name": "stderr",
     "output_type": "stream",
     "text": [
      "Epoch: 14 | loss: 0.8818249702453613.: 100%|██████████| 13/13 [00:00<00:00, 914.33it/s]\n"
     ]
    },
    {
     "name": "stdout",
     "output_type": "stream",
     "text": [
      "Epoch: 14 | Avg. val loss: 0.7399322665654696.\n"
     ]
    },
    {
     "name": "stderr",
     "output_type": "stream",
     "text": [
      "Epoch: 15 | loss: 0.5956395268440247.: 100%|██████████| 97/97 [00:00<00:00, 494.88it/s] \n"
     ]
    },
    {
     "name": "stdout",
     "output_type": "stream",
     "text": [
      "Epoch: 15 | Avg. train loss: 0.7375616148575065.\n"
     ]
    },
    {
     "name": "stderr",
     "output_type": "stream",
     "text": [
      "Epoch: 15 | loss: 0.8778097033500671.: 100%|██████████| 13/13 [00:00<00:00, 924.09it/s]\n"
     ]
    },
    {
     "name": "stdout",
     "output_type": "stream",
     "text": [
      "Epoch: 15 | Avg. val loss: 0.7385962445002335.\n"
     ]
    },
    {
     "name": "stderr",
     "output_type": "stream",
     "text": [
      "Epoch: 16 | loss: 0.5964038968086243.: 100%|██████████| 97/97 [00:00<00:00, 485.37it/s] \n"
     ]
    },
    {
     "name": "stdout",
     "output_type": "stream",
     "text": [
      "Epoch: 16 | Avg. train loss: 0.7363972989554258.\n"
     ]
    },
    {
     "name": "stderr",
     "output_type": "stream",
     "text": [
      "Epoch: 16 | loss: 0.874544620513916.: 100%|██████████| 13/13 [00:00<00:00, 888.96it/s]\n"
     ]
    },
    {
     "name": "stdout",
     "output_type": "stream",
     "text": [
      "Epoch: 16 | Avg. val loss: 0.7375341607974126.\n"
     ]
    },
    {
     "name": "stderr",
     "output_type": "stream",
     "text": [
      "Epoch: 17 | loss: 0.5971909761428833.: 100%|██████████| 97/97 [00:00<00:00, 521.91it/s] \n"
     ]
    },
    {
     "name": "stdout",
     "output_type": "stream",
     "text": [
      "Epoch: 17 | Avg. train loss: 0.7353046296798077.\n"
     ]
    },
    {
     "name": "stderr",
     "output_type": "stream",
     "text": [
      "Epoch: 17 | loss: 0.8713385462760925.: 100%|██████████| 13/13 [00:00<00:00, 922.57it/s]\n"
     ]
    },
    {
     "name": "stdout",
     "output_type": "stream",
     "text": [
      "Epoch: 17 | Avg. val loss: 0.7364112230447623.\n"
     ]
    },
    {
     "name": "stderr",
     "output_type": "stream",
     "text": [
      "Epoch: 18 | loss: 0.5976533889770508.: 100%|██████████| 97/97 [00:00<00:00, 526.24it/s] \n"
     ]
    },
    {
     "name": "stdout",
     "output_type": "stream",
     "text": [
      "Epoch: 18 | Avg. train loss: 0.7342783596712289.\n"
     ]
    },
    {
     "name": "stderr",
     "output_type": "stream",
     "text": [
      "Epoch: 18 | loss: 0.8680838346481323.: 100%|██████████| 13/13 [00:00<00:00, 913.18it/s]\n"
     ]
    },
    {
     "name": "stdout",
     "output_type": "stream",
     "text": [
      "Epoch: 18 | Avg. val loss: 0.7354308641873873.\n"
     ]
    },
    {
     "name": "stderr",
     "output_type": "stream",
     "text": [
      "Epoch: 19 | loss: 0.5982745289802551.: 100%|██████████| 97/97 [00:00<00:00, 499.60it/s] \n"
     ]
    },
    {
     "name": "stdout",
     "output_type": "stream",
     "text": [
      "Epoch: 19 | Avg. train loss: 0.7332737574872282.\n"
     ]
    },
    {
     "name": "stderr",
     "output_type": "stream",
     "text": [
      "Epoch: 19 | loss: 0.864385724067688.: 100%|██████████| 13/13 [00:00<00:00, 919.07it/s]\n"
     ]
    },
    {
     "name": "stdout",
     "output_type": "stream",
     "text": [
      "Epoch: 19 | Avg. val loss: 0.7344559797873864.\n"
     ]
    },
    {
     "name": "stderr",
     "output_type": "stream",
     "text": [
      "Epoch: 20 | loss: 0.5990036725997925.: 100%|██████████| 97/97 [00:00<00:00, 491.63it/s] \n"
     ]
    },
    {
     "name": "stdout",
     "output_type": "stream",
     "text": [
      "Epoch: 20 | Avg. train loss: 0.7323381888497736.\n"
     ]
    },
    {
     "name": "stderr",
     "output_type": "stream",
     "text": [
      "Epoch: 20 | loss: 0.8611626625061035.: 100%|██████████| 13/13 [00:00<00:00, 901.27it/s]\n"
     ]
    },
    {
     "name": "stdout",
     "output_type": "stream",
     "text": [
      "Epoch: 20 | Avg. val loss: 0.7335889064348661.\n"
     ]
    },
    {
     "name": "stderr",
     "output_type": "stream",
     "text": [
      "Epoch: 21 | loss: 0.5995855331420898.: 100%|██████████| 97/97 [00:00<00:00, 518.75it/s]\n"
     ]
    },
    {
     "name": "stdout",
     "output_type": "stream",
     "text": [
      "Epoch: 21 | Avg. train loss: 0.7314169139591689.\n"
     ]
    },
    {
     "name": "stderr",
     "output_type": "stream",
     "text": [
      "Epoch: 21 | loss: 0.8575165271759033.: 100%|██████████| 13/13 [00:00<00:00, 911.84it/s]\n"
     ]
    },
    {
     "name": "stdout",
     "output_type": "stream",
     "text": [
      "Epoch: 21 | Avg. val loss: 0.7327088255148667.\n"
     ]
    },
    {
     "name": "stderr",
     "output_type": "stream",
     "text": [
      "Epoch: 22 | loss: 0.6000407338142395.: 100%|██████████| 97/97 [00:00<00:00, 525.41it/s] \n"
     ]
    },
    {
     "name": "stdout",
     "output_type": "stream",
     "text": [
      "Epoch: 22 | Avg. train loss: 0.7305424256423085.\n"
     ]
    },
    {
     "name": "stderr",
     "output_type": "stream",
     "text": [
      "Epoch: 22 | loss: 0.8545817136764526.: 100%|██████████| 13/13 [00:00<00:00, 919.77it/s]\n"
     ]
    },
    {
     "name": "stdout",
     "output_type": "stream",
     "text": [
      "Epoch: 22 | Avg. val loss: 0.7318484760247744.\n"
     ]
    },
    {
     "name": "stderr",
     "output_type": "stream",
     "text": [
      "Epoch: 23 | loss: 0.6006103754043579.: 100%|██████████| 97/97 [00:00<00:00, 510.20it/s] \n"
     ]
    },
    {
     "name": "stdout",
     "output_type": "stream",
     "text": [
      "Epoch: 23 | Avg. train loss: 0.7297071627120382.\n"
     ]
    },
    {
     "name": "stderr",
     "output_type": "stream",
     "text": [
      "Epoch: 23 | loss: 0.851337194442749.: 100%|██████████| 13/13 [00:00<00:00, 957.25it/s]\n"
     ]
    },
    {
     "name": "stdout",
     "output_type": "stream",
     "text": [
      "Epoch: 23 | Avg. val loss: 0.7311243231479938.\n"
     ]
    },
    {
     "name": "stderr",
     "output_type": "stream",
     "text": [
      "Epoch: 24 | loss: 0.6009159088134766.: 100%|██████████| 97/97 [00:00<00:00, 507.13it/s] \n"
     ]
    },
    {
     "name": "stdout",
     "output_type": "stream",
     "text": [
      "Epoch: 24 | Avg. train loss: 0.7289137984674001.\n"
     ]
    },
    {
     "name": "stderr",
     "output_type": "stream",
     "text": [
      "Epoch: 24 | loss: 0.8484747409820557.: 100%|██████████| 13/13 [00:00<00:00, 927.55it/s]\n"
     ]
    },
    {
     "name": "stdout",
     "output_type": "stream",
     "text": [
      "Epoch: 24 | Avg. val loss: 0.7302970519432654.\n"
     ]
    },
    {
     "name": "stderr",
     "output_type": "stream",
     "text": [
      "Epoch: 25 | loss: 0.6012663841247559.: 100%|██████████| 97/97 [00:00<00:00, 500.76it/s] \n"
     ]
    },
    {
     "name": "stdout",
     "output_type": "stream",
     "text": [
      "Epoch: 25 | Avg. train loss: 0.7281856051425344.\n"
     ]
    },
    {
     "name": "stderr",
     "output_type": "stream",
     "text": [
      "Epoch: 25 | loss: 0.8455657958984375.: 100%|██████████| 13/13 [00:00<00:00, 941.34it/s]\n"
     ]
    },
    {
     "name": "stdout",
     "output_type": "stream",
     "text": [
      "Epoch: 25 | Avg. val loss: 0.7295744052300086.\n"
     ]
    },
    {
     "name": "stderr",
     "output_type": "stream",
     "text": [
      "Epoch: 26 | loss: 0.6017889976501465.: 100%|██████████| 97/97 [00:00<00:00, 527.43it/s] \n"
     ]
    },
    {
     "name": "stdout",
     "output_type": "stream",
     "text": [
      "Epoch: 26 | Avg. train loss: 0.727460179439525.\n"
     ]
    },
    {
     "name": "stderr",
     "output_type": "stream",
     "text": [
      "Epoch: 26 | loss: 0.8426927328109741.: 100%|██████████| 13/13 [00:00<00:00, 949.60it/s]\n"
     ]
    },
    {
     "name": "stdout",
     "output_type": "stream",
     "text": [
      "Epoch: 26 | Avg. val loss: 0.728886739565776.\n"
     ]
    },
    {
     "name": "stderr",
     "output_type": "stream",
     "text": [
      "Epoch: 27 | loss: 0.602154552936554.: 100%|██████████| 97/97 [00:00<00:00, 519.62it/s]  \n"
     ]
    },
    {
     "name": "stdout",
     "output_type": "stream",
     "text": [
      "Epoch: 27 | Avg. train loss: 0.7267473112676561.\n"
     ]
    },
    {
     "name": "stderr",
     "output_type": "stream",
     "text": [
      "Epoch: 27 | loss: 0.8402091264724731.: 100%|██████████| 13/13 [00:00<00:00, 919.09it/s]\n"
     ]
    },
    {
     "name": "stdout",
     "output_type": "stream",
     "text": [
      "Epoch: 27 | Avg. val loss: 0.728245735168457.\n"
     ]
    },
    {
     "name": "stderr",
     "output_type": "stream",
     "text": [
      "Epoch: 28 | loss: 0.6025447845458984.: 100%|██████████| 97/97 [00:00<00:00, 510.11it/s] \n"
     ]
    },
    {
     "name": "stdout",
     "output_type": "stream",
     "text": [
      "Epoch: 28 | Avg. train loss: 0.7260813061724004.\n"
     ]
    },
    {
     "name": "stderr",
     "output_type": "stream",
     "text": [
      "Epoch: 28 | loss: 0.8374379873275757.: 100%|██████████| 13/13 [00:00<00:00, 910.54it/s]\n"
     ]
    },
    {
     "name": "stdout",
     "output_type": "stream",
     "text": [
      "Epoch: 28 | Avg. val loss: 0.7275558366225316.\n"
     ]
    },
    {
     "name": "stderr",
     "output_type": "stream",
     "text": [
      "Epoch: 29 | loss: 0.6028552651405334.: 100%|██████████| 97/97 [00:00<00:00, 505.21it/s] \n"
     ]
    },
    {
     "name": "stdout",
     "output_type": "stream",
     "text": [
      "Epoch: 29 | Avg. train loss: 0.7254032710778344.\n"
     ]
    },
    {
     "name": "stderr",
     "output_type": "stream",
     "text": [
      "Epoch: 29 | loss: 0.8354082107543945.: 100%|██████████| 13/13 [00:00<00:00, 942.20it/s]\n"
     ]
    },
    {
     "name": "stdout",
     "output_type": "stream",
     "text": [
      "Epoch: 29 | Avg. val loss: 0.7269448248239664.\n"
     ]
    },
    {
     "name": "stderr",
     "output_type": "stream",
     "text": [
      "Epoch: 30 | loss: 0.6034146547317505.: 100%|██████████| 97/97 [00:00<00:00, 526.22it/s]\n"
     ]
    },
    {
     "name": "stdout",
     "output_type": "stream",
     "text": [
      "Epoch: 30 | Avg. train loss: 0.7247506444601669.\n"
     ]
    },
    {
     "name": "stderr",
     "output_type": "stream",
     "text": [
      "Epoch: 30 | loss: 0.8333263397216797.: 100%|██████████| 13/13 [00:00<00:00, 930.27it/s]\n"
     ]
    },
    {
     "name": "stdout",
     "output_type": "stream",
     "text": [
      "Epoch: 30 | Avg. val loss: 0.7263293541394747.\n"
     ]
    },
    {
     "name": "stderr",
     "output_type": "stream",
     "text": [
      "Epoch: 31 | loss: 0.603863537311554.: 100%|██████████| 97/97 [00:00<00:00, 527.73it/s]  \n"
     ]
    },
    {
     "name": "stdout",
     "output_type": "stream",
     "text": [
      "Epoch: 31 | Avg. train loss: 0.7241227722045073.\n"
     ]
    },
    {
     "name": "stderr",
     "output_type": "stream",
     "text": [
      "Epoch: 31 | loss: 0.8306198120117188.: 100%|██████████| 13/13 [00:00<00:00, 915.11it/s]\n"
     ]
    },
    {
     "name": "stdout",
     "output_type": "stream",
     "text": [
      "Epoch: 31 | Avg. val loss: 0.72582784982828.\n"
     ]
    },
    {
     "name": "stderr",
     "output_type": "stream",
     "text": [
      "Epoch: 32 | loss: 0.60418301820755.: 100%|██████████| 97/97 [00:00<00:00, 487.39it/s]   \n"
     ]
    },
    {
     "name": "stdout",
     "output_type": "stream",
     "text": [
      "Epoch: 32 | Avg. train loss: 0.7234941005092306.\n"
     ]
    },
    {
     "name": "stderr",
     "output_type": "stream",
     "text": [
      "Epoch: 32 | loss: 0.8288425207138062.: 100%|██████████| 13/13 [00:00<00:00, 917.99it/s]\n"
     ]
    },
    {
     "name": "stdout",
     "output_type": "stream",
     "text": [
      "Epoch: 32 | Avg. val loss: 0.7253340987058786.\n"
     ]
    },
    {
     "name": "stderr",
     "output_type": "stream",
     "text": [
      "Epoch: 33 | loss: 0.6047618389129639.: 100%|██████████| 97/97 [00:00<00:00, 515.48it/s] \n"
     ]
    },
    {
     "name": "stdout",
     "output_type": "stream",
     "text": [
      "Epoch: 33 | Avg. train loss: 0.722908584420214.\n"
     ]
    },
    {
     "name": "stderr",
     "output_type": "stream",
     "text": [
      "Epoch: 33 | loss: 0.8267058730125427.: 100%|██████████| 13/13 [00:00<00:00, 888.97it/s]\n"
     ]
    },
    {
     "name": "stdout",
     "output_type": "stream",
     "text": [
      "Epoch: 33 | Avg. val loss: 0.7248601523729471.\n"
     ]
    },
    {
     "name": "stderr",
     "output_type": "stream",
     "text": [
      "Epoch: 34 | loss: 0.6051802635192871.: 100%|██████████| 97/97 [00:00<00:00, 513.97it/s] \n"
     ]
    },
    {
     "name": "stdout",
     "output_type": "stream",
     "text": [
      "Epoch: 34 | Avg. train loss: 0.7223090200694566.\n"
     ]
    },
    {
     "name": "stderr",
     "output_type": "stream",
     "text": [
      "Epoch: 34 | loss: 0.8252115249633789.: 100%|██████████| 13/13 [00:00<00:00, 925.91it/s]\n"
     ]
    },
    {
     "name": "stdout",
     "output_type": "stream",
     "text": [
      "Epoch: 34 | Avg. val loss: 0.7244492975565103.\n"
     ]
    },
    {
     "name": "stderr",
     "output_type": "stream",
     "text": [
      "Epoch: 35 | loss: 0.6056950092315674.: 100%|██████████| 97/97 [00:00<00:00, 517.42it/s] \n"
     ]
    },
    {
     "name": "stdout",
     "output_type": "stream",
     "text": [
      "Epoch: 35 | Avg. train loss: 0.7217497343255073.\n"
     ]
    },
    {
     "name": "stderr",
     "output_type": "stream",
     "text": [
      "Epoch: 35 | loss: 0.8240773677825928.: 100%|██████████| 13/13 [00:00<00:00, 928.69it/s]\n"
     ]
    },
    {
     "name": "stdout",
     "output_type": "stream",
     "text": [
      "Epoch: 35 | Avg. val loss: 0.7240518996348748.\n"
     ]
    },
    {
     "name": "stderr",
     "output_type": "stream",
     "text": [
      "Epoch: 36 | loss: 0.6061763763427734.: 100%|██████████| 97/97 [00:00<00:00, 507.21it/s] \n"
     ]
    },
    {
     "name": "stdout",
     "output_type": "stream",
     "text": [
      "Epoch: 36 | Avg. train loss: 0.721180296743039.\n"
     ]
    },
    {
     "name": "stderr",
     "output_type": "stream",
     "text": [
      "Epoch: 36 | loss: 0.8227617144584656.: 100%|██████████| 13/13 [00:00<00:00, 911.07it/s]\n"
     ]
    },
    {
     "name": "stdout",
     "output_type": "stream",
     "text": [
      "Epoch: 36 | Avg. val loss: 0.7237581335581266.\n"
     ]
    },
    {
     "name": "stderr",
     "output_type": "stream",
     "text": [
      "Epoch: 37 | loss: 0.6066688895225525.: 100%|██████████| 97/97 [00:00<00:00, 522.81it/s]\n"
     ]
    },
    {
     "name": "stdout",
     "output_type": "stream",
     "text": [
      "Epoch: 37 | Avg. train loss: 0.7206356463973055.\n"
     ]
    },
    {
     "name": "stderr",
     "output_type": "stream",
     "text": [
      "Epoch: 37 | loss: 0.8220784068107605.: 100%|██████████| 13/13 [00:00<00:00, 942.15it/s]\n"
     ]
    },
    {
     "name": "stdout",
     "output_type": "stream",
     "text": [
      "Epoch: 37 | Avg. val loss: 0.7235095019523914.\n"
     ]
    },
    {
     "name": "stderr",
     "output_type": "stream",
     "text": [
      "Epoch: 38 | loss: 0.6071106195449829.: 100%|██████████| 97/97 [00:00<00:00, 509.68it/s] \n"
     ]
    },
    {
     "name": "stdout",
     "output_type": "stream",
     "text": [
      "Epoch: 38 | Avg. train loss: 0.720097658560448.\n"
     ]
    },
    {
     "name": "stderr",
     "output_type": "stream",
     "text": [
      "Epoch: 38 | loss: 0.8210159540176392.: 100%|██████████| 13/13 [00:00<00:00, 897.43it/s]\n"
     ]
    },
    {
     "name": "stdout",
     "output_type": "stream",
     "text": [
      "Epoch: 38 | Avg. val loss: 0.7232517393735739.\n"
     ]
    },
    {
     "name": "stderr",
     "output_type": "stream",
     "text": [
      "Epoch: 39 | loss: 0.6077699661254883.: 100%|██████████| 97/97 [00:00<00:00, 526.34it/s] \n"
     ]
    },
    {
     "name": "stdout",
     "output_type": "stream",
     "text": [
      "Epoch: 39 | Avg. train loss: 0.719593109851031.\n"
     ]
    },
    {
     "name": "stderr",
     "output_type": "stream",
     "text": [
      "Epoch: 39 | loss: 0.8202221393585205.: 100%|██████████| 13/13 [00:00<00:00, 945.17it/s]\n"
     ]
    },
    {
     "name": "stdout",
     "output_type": "stream",
     "text": [
      "Epoch: 39 | Avg. val loss: 0.7229723334312439.\n"
     ]
    },
    {
     "name": "stderr",
     "output_type": "stream",
     "text": [
      "Epoch: 40 | loss: 0.6082445979118347.: 100%|██████████| 97/97 [00:00<00:00, 527.40it/s] \n"
     ]
    },
    {
     "name": "stdout",
     "output_type": "stream",
     "text": [
      "Epoch: 40 | Avg. train loss: 0.7190622361664919.\n"
     ]
    },
    {
     "name": "stderr",
     "output_type": "stream",
     "text": [
      "Epoch: 40 | loss: 0.8191308379173279.: 100%|██████████| 13/13 [00:00<00:00, 931.41it/s]\n"
     ]
    },
    {
     "name": "stdout",
     "output_type": "stream",
     "text": [
      "Epoch: 40 | Avg. val loss: 0.7227258384227753.\n"
     ]
    },
    {
     "name": "stderr",
     "output_type": "stream",
     "text": [
      "Epoch: 41 | loss: 0.6088289022445679.: 100%|██████████| 97/97 [00:00<00:00, 533.86it/s] \n"
     ]
    },
    {
     "name": "stdout",
     "output_type": "stream",
     "text": [
      "Epoch: 41 | Avg. train loss: 0.7185783555212709.\n"
     ]
    },
    {
     "name": "stderr",
     "output_type": "stream",
     "text": [
      "Epoch: 41 | loss: 0.8181506991386414.: 100%|██████████| 13/13 [00:00<00:00, 903.14it/s]\n"
     ]
    },
    {
     "name": "stdout",
     "output_type": "stream",
     "text": [
      "Epoch: 41 | Avg. val loss: 0.7224180423296415.\n"
     ]
    },
    {
     "name": "stderr",
     "output_type": "stream",
     "text": [
      "Epoch: 42 | loss: 0.6092692613601685.: 100%|██████████| 97/97 [00:00<00:00, 531.02it/s] \n"
     ]
    },
    {
     "name": "stdout",
     "output_type": "stream",
     "text": [
      "Epoch: 42 | Avg. train loss: 0.7180547597482032.\n"
     ]
    },
    {
     "name": "stderr",
     "output_type": "stream",
     "text": [
      "Epoch: 42 | loss: 0.8173404932022095.: 100%|██████████| 13/13 [00:00<00:00, 898.29it/s]\n"
     ]
    },
    {
     "name": "stdout",
     "output_type": "stream",
     "text": [
      "Epoch: 42 | Avg. val loss: 0.7222532469492692.\n"
     ]
    },
    {
     "name": "stderr",
     "output_type": "stream",
     "text": [
      "Epoch: 43 | loss: 0.6097750663757324.: 100%|██████████| 97/97 [00:00<00:00, 521.38it/s] \n"
     ]
    },
    {
     "name": "stdout",
     "output_type": "stream",
     "text": [
      "Epoch: 43 | Avg. train loss: 0.7175802072298896.\n"
     ]
    },
    {
     "name": "stderr",
     "output_type": "stream",
     "text": [
      "Epoch: 43 | loss: 0.8169518709182739.: 100%|██████████| 13/13 [00:00<00:00, 858.37it/s]\n"
     ]
    },
    {
     "name": "stdout",
     "output_type": "stream",
     "text": [
      "Epoch: 43 | Avg. val loss: 0.7220541834831238.\n"
     ]
    },
    {
     "name": "stderr",
     "output_type": "stream",
     "text": [
      "Epoch: 44 | loss: 0.6102677583694458.: 100%|██████████| 97/97 [00:00<00:00, 478.79it/s] \n"
     ]
    },
    {
     "name": "stdout",
     "output_type": "stream",
     "text": [
      "Epoch: 44 | Avg. train loss: 0.7171119930817909.\n"
     ]
    },
    {
     "name": "stderr",
     "output_type": "stream",
     "text": [
      "Epoch: 44 | loss: 0.8161362409591675.: 100%|██████████| 13/13 [00:00<00:00, 915.53it/s]\n"
     ]
    },
    {
     "name": "stdout",
     "output_type": "stream",
     "text": [
      "Epoch: 44 | Avg. val loss: 0.7219218978515038.\n"
     ]
    },
    {
     "name": "stderr",
     "output_type": "stream",
     "text": [
      "Epoch: 45 | loss: 0.6105391383171082.: 100%|██████████| 97/97 [00:00<00:00, 521.57it/s] \n"
     ]
    },
    {
     "name": "stdout",
     "output_type": "stream",
     "text": [
      "Epoch: 45 | Avg. train loss: 0.7166384900968099.\n"
     ]
    },
    {
     "name": "stderr",
     "output_type": "stream",
     "text": [
      "Epoch: 45 | loss: 0.8153840899467468.: 100%|██████████| 13/13 [00:00<00:00, 894.75it/s]\n"
     ]
    },
    {
     "name": "stdout",
     "output_type": "stream",
     "text": [
      "Epoch: 45 | Avg. val loss: 0.7217723429203033.\n"
     ]
    },
    {
     "name": "stderr",
     "output_type": "stream",
     "text": [
      "Epoch: 46 | loss: 0.6108338236808777.: 100%|██████████| 97/97 [00:00<00:00, 493.78it/s] \n"
     ]
    },
    {
     "name": "stdout",
     "output_type": "stream",
     "text": [
      "Epoch: 46 | Avg. train loss: 0.7161742835929713.\n"
     ]
    },
    {
     "name": "stderr",
     "output_type": "stream",
     "text": [
      "Epoch: 46 | loss: 0.8145036697387695.: 100%|██████████| 13/13 [00:00<00:00, 907.13it/s]\n"
     ]
    },
    {
     "name": "stdout",
     "output_type": "stream",
     "text": [
      "Epoch: 46 | Avg. val loss: 0.7216415176024804.\n"
     ]
    },
    {
     "name": "stderr",
     "output_type": "stream",
     "text": [
      "Epoch: 47 | loss: 0.6111987829208374.: 100%|██████████| 97/97 [00:00<00:00, 493.26it/s] \n"
     ]
    },
    {
     "name": "stdout",
     "output_type": "stream",
     "text": [
      "Epoch: 47 | Avg. train loss: 0.7157299386471817.\n"
     ]
    },
    {
     "name": "stderr",
     "output_type": "stream",
     "text": [
      "Epoch: 47 | loss: 0.813813328742981.: 100%|██████████| 13/13 [00:00<00:00, 904.78it/s]\n"
     ]
    },
    {
     "name": "stdout",
     "output_type": "stream",
     "text": [
      "Epoch: 47 | Avg. val loss: 0.7215051100804255.\n"
     ]
    },
    {
     "name": "stderr",
     "output_type": "stream",
     "text": [
      "Epoch: 48 | loss: 0.6114146113395691.: 100%|██████████| 97/97 [00:00<00:00, 510.62it/s] \n"
     ]
    },
    {
     "name": "stdout",
     "output_type": "stream",
     "text": [
      "Epoch: 48 | Avg. train loss: 0.7152539706721748.\n"
     ]
    },
    {
     "name": "stderr",
     "output_type": "stream",
     "text": [
      "Epoch: 48 | loss: 0.8131998777389526.: 100%|██████████| 13/13 [00:00<00:00, 899.69it/s]\n"
     ]
    },
    {
     "name": "stdout",
     "output_type": "stream",
     "text": [
      "Epoch: 48 | Avg. val loss: 0.7213777257845952.\n"
     ]
    },
    {
     "name": "stderr",
     "output_type": "stream",
     "text": [
      "Epoch: 49 | loss: 0.6116200685501099.: 100%|██████████| 97/97 [00:00<00:00, 486.83it/s] \n"
     ]
    },
    {
     "name": "stdout",
     "output_type": "stream",
     "text": [
      "Epoch: 49 | Avg. train loss: 0.7148089722259757.\n"
     ]
    },
    {
     "name": "stderr",
     "output_type": "stream",
     "text": [
      "Epoch: 49 | loss: 0.8126177787780762.: 100%|██████████| 13/13 [00:00<00:00, 858.01it/s]\n"
     ]
    },
    {
     "name": "stdout",
     "output_type": "stream",
     "text": [
      "Epoch: 49 | Avg. val loss: 0.7213006042517148.\n"
     ]
    },
    {
     "name": "stderr",
     "output_type": "stream",
     "text": [
      "Epoch: 50 | loss: 0.6120802760124207.: 100%|██████████| 97/97 [00:00<00:00, 492.33it/s] \n"
     ]
    },
    {
     "name": "stdout",
     "output_type": "stream",
     "text": [
      "Epoch: 50 | Avg. train loss: 0.7143423108710456.\n"
     ]
    },
    {
     "name": "stderr",
     "output_type": "stream",
     "text": [
      "Epoch: 50 | loss: 0.8122744560241699.: 100%|██████████| 13/13 [00:00<00:00, 907.80it/s]\n"
     ]
    },
    {
     "name": "stdout",
     "output_type": "stream",
     "text": [
      "Epoch: 50 | Avg. val loss: 0.7212884059319129.\n"
     ]
    },
    {
     "name": "stderr",
     "output_type": "stream",
     "text": [
      "Epoch: 51 | loss: 0.61246258020401.: 100%|██████████| 97/97 [00:00<00:00, 494.02it/s]   \n"
     ]
    },
    {
     "name": "stdout",
     "output_type": "stream",
     "text": [
      "Epoch: 51 | Avg. train loss: 0.7138929898591385.\n"
     ]
    },
    {
     "name": "stderr",
     "output_type": "stream",
     "text": [
      "Epoch: 51 | loss: 0.8114306926727295.: 100%|██████████| 13/13 [00:00<00:00, 890.42it/s]\n"
     ]
    },
    {
     "name": "stdout",
     "output_type": "stream",
     "text": [
      "Epoch: 51 | Avg. val loss: 0.7211362581986648.\n"
     ]
    },
    {
     "name": "stderr",
     "output_type": "stream",
     "text": [
      "Epoch: 52 | loss: 0.6127055287361145.: 100%|██████████| 97/97 [00:00<00:00, 488.65it/s] \n"
     ]
    },
    {
     "name": "stdout",
     "output_type": "stream",
     "text": [
      "Epoch: 52 | Avg. train loss: 0.7134530286199039.\n"
     ]
    },
    {
     "name": "stderr",
     "output_type": "stream",
     "text": [
      "Epoch: 52 | loss: 0.8111054301261902.: 100%|██████████| 13/13 [00:00<00:00, 1024.71it/s]\n"
     ]
    },
    {
     "name": "stdout",
     "output_type": "stream",
     "text": [
      "Epoch: 52 | Avg. val loss: 0.7210399577250848.\n"
     ]
    },
    {
     "name": "stderr",
     "output_type": "stream",
     "text": [
      "Epoch: 53 | loss: 0.6132219433784485.: 100%|██████████| 97/97 [00:00<00:00, 513.87it/s] \n"
     ]
    },
    {
     "name": "stdout",
     "output_type": "stream",
     "text": [
      "Epoch: 53 | Avg. train loss: 0.713005591299116.\n"
     ]
    },
    {
     "name": "stderr",
     "output_type": "stream",
     "text": [
      "Epoch: 53 | loss: 0.8110596537590027.: 100%|██████████| 13/13 [00:00<00:00, 991.76it/s]\n"
     ]
    },
    {
     "name": "stdout",
     "output_type": "stream",
     "text": [
      "Epoch: 53 | Avg. val loss: 0.7210520620529468.\n"
     ]
    },
    {
     "name": "stderr",
     "output_type": "stream",
     "text": [
      "Epoch: 54 | loss: 0.6134339570999146.: 100%|██████████| 97/97 [00:00<00:00, 540.44it/s] \n"
     ]
    },
    {
     "name": "stdout",
     "output_type": "stream",
     "text": [
      "Epoch: 54 | Avg. train loss: 0.7125716489000419.\n"
     ]
    },
    {
     "name": "stderr",
     "output_type": "stream",
     "text": [
      "Epoch: 54 | loss: 0.8102524280548096.: 100%|██████████| 13/13 [00:00<00:00, 1004.92it/s]\n"
     ]
    },
    {
     "name": "stdout",
     "output_type": "stream",
     "text": [
      "Epoch: 54 | Avg. val loss: 0.7209505026157086.\n"
     ]
    },
    {
     "name": "stderr",
     "output_type": "stream",
     "text": [
      "Epoch: 55 | loss: 0.613901674747467.: 100%|██████████| 97/97 [00:00<00:00, 535.66it/s]  \n"
     ]
    },
    {
     "name": "stdout",
     "output_type": "stream",
     "text": [
      "Epoch: 55 | Avg. train loss: 0.7121475415745961.\n"
     ]
    },
    {
     "name": "stderr",
     "output_type": "stream",
     "text": [
      "Epoch: 55 | loss: 0.8099834322929382.: 100%|██████████| 13/13 [00:00<00:00, 1034.16it/s]\n"
     ]
    },
    {
     "name": "stdout",
     "output_type": "stream",
     "text": [
      "Epoch: 55 | Avg. val loss: 0.720892798442107.\n"
     ]
    },
    {
     "name": "stderr",
     "output_type": "stream",
     "text": [
      "Epoch: 56 | loss: 0.6142881512641907.: 100%|██████████| 97/97 [00:00<00:00, 526.62it/s] \n"
     ]
    },
    {
     "name": "stdout",
     "output_type": "stream",
     "text": [
      "Epoch: 56 | Avg. train loss: 0.7117304534641737.\n"
     ]
    },
    {
     "name": "stderr",
     "output_type": "stream",
     "text": [
      "Epoch: 56 | loss: 0.8095352053642273.: 100%|██████████| 13/13 [00:00<00:00, 955.59it/s]\n"
     ]
    },
    {
     "name": "stdout",
     "output_type": "stream",
     "text": [
      "Epoch: 56 | Avg. val loss: 0.7208351447032049.\n"
     ]
    },
    {
     "name": "stderr",
     "output_type": "stream",
     "text": [
      "Epoch: 57 | loss: 0.6145241856575012.: 100%|██████████| 97/97 [00:00<00:00, 529.76it/s] \n"
     ]
    },
    {
     "name": "stdout",
     "output_type": "stream",
     "text": [
      "Epoch: 57 | Avg. train loss: 0.711317085113722.\n"
     ]
    },
    {
     "name": "stderr",
     "output_type": "stream",
     "text": [
      "Epoch: 57 | loss: 0.8089792132377625.: 100%|██████████| 13/13 [00:00<00:00, 1042.50it/s]\n"
     ]
    },
    {
     "name": "stdout",
     "output_type": "stream",
     "text": [
      "Epoch: 57 | Avg. val loss: 0.7207736991919004.\n"
     ]
    },
    {
     "name": "stderr",
     "output_type": "stream",
     "text": [
      "Epoch: 58 | loss: 0.6149073243141174.: 100%|██████████| 97/97 [00:00<00:00, 526.16it/s] \n"
     ]
    },
    {
     "name": "stdout",
     "output_type": "stream",
     "text": [
      "Epoch: 58 | Avg. train loss: 0.7109251108366189.\n"
     ]
    },
    {
     "name": "stderr",
     "output_type": "stream",
     "text": [
      "Epoch: 58 | loss: 0.8089422583580017.: 100%|██████████| 13/13 [00:00<00:00, 991.11it/s]\n"
     ]
    },
    {
     "name": "stdout",
     "output_type": "stream",
     "text": [
      "Epoch: 58 | Avg. val loss: 0.7206795903352591.\n"
     ]
    },
    {
     "name": "stderr",
     "output_type": "stream",
     "text": [
      "Epoch: 59 | loss: 0.6151836514472961.: 100%|██████████| 97/97 [00:00<00:00, 531.81it/s] \n"
     ]
    },
    {
     "name": "stdout",
     "output_type": "stream",
     "text": [
      "Epoch: 59 | Avg. train loss: 0.7105202112615723.\n"
     ]
    },
    {
     "name": "stderr",
     "output_type": "stream",
     "text": [
      "Epoch: 59 | loss: 0.8087717294692993.: 100%|██████████| 13/13 [00:00<00:00, 1015.76it/s]\n"
     ]
    },
    {
     "name": "stdout",
     "output_type": "stream",
     "text": [
      "Epoch: 59 | Avg. val loss: 0.7206515096701108.\n"
     ]
    },
    {
     "name": "stderr",
     "output_type": "stream",
     "text": [
      "Epoch: 60 | loss: 0.6154384613037109.: 100%|██████████| 97/97 [00:00<00:00, 526.66it/s] \n"
     ]
    },
    {
     "name": "stdout",
     "output_type": "stream",
     "text": [
      "Epoch: 60 | Avg. train loss: 0.7101291630071463.\n"
     ]
    },
    {
     "name": "stderr",
     "output_type": "stream",
     "text": [
      "Epoch: 60 | loss: 0.808745801448822.: 100%|██████████| 13/13 [00:00<00:00, 975.86it/s]\n"
     ]
    },
    {
     "name": "stdout",
     "output_type": "stream",
     "text": [
      "Epoch: 60 | Avg. val loss: 0.7206622178737934.\n"
     ]
    },
    {
     "name": "stderr",
     "output_type": "stream",
     "text": [
      "Epoch: 61 | loss: 0.6159669160842896.: 100%|██████████| 97/97 [00:00<00:00, 523.06it/s] \n"
     ]
    },
    {
     "name": "stdout",
     "output_type": "stream",
     "text": [
      "Epoch: 61 | Avg. train loss: 0.7097698987759266.\n"
     ]
    },
    {
     "name": "stderr",
     "output_type": "stream",
     "text": [
      "Epoch: 61 | loss: 0.8087787628173828.: 100%|██████████| 13/13 [00:00<00:00, 984.61it/s]\n"
     ]
    },
    {
     "name": "stdout",
     "output_type": "stream",
     "text": [
      "Epoch: 61 | Avg. val loss: 0.7206149055407598.\n"
     ]
    },
    {
     "name": "stderr",
     "output_type": "stream",
     "text": [
      "Epoch: 62 | loss: 0.6162439584732056.: 100%|██████████| 97/97 [00:00<00:00, 531.62it/s] \n"
     ]
    },
    {
     "name": "stdout",
     "output_type": "stream",
     "text": [
      "Epoch: 62 | Avg. train loss: 0.7093888087985442.\n"
     ]
    },
    {
     "name": "stderr",
     "output_type": "stream",
     "text": [
      "Epoch: 62 | loss: 0.8088229894638062.: 100%|██████████| 13/13 [00:00<00:00, 1029.76it/s]\n"
     ]
    },
    {
     "name": "stdout",
     "output_type": "stream",
     "text": [
      "Epoch: 62 | Avg. val loss: 0.7205826273331275.\n"
     ]
    },
    {
     "name": "stderr",
     "output_type": "stream",
     "text": [
      "Epoch: 63 | loss: 0.6163673400878906.: 100%|██████████| 97/97 [00:00<00:00, 517.94it/s] \n"
     ]
    },
    {
     "name": "stdout",
     "output_type": "stream",
     "text": [
      "Epoch: 63 | Avg. train loss: 0.7090010808915207.\n"
     ]
    },
    {
     "name": "stderr",
     "output_type": "stream",
     "text": [
      "Epoch: 63 | loss: 0.8083419799804688.: 100%|██████████| 13/13 [00:00<00:00, 1008.26it/s]\n"
     ]
    },
    {
     "name": "stdout",
     "output_type": "stream",
     "text": [
      "Epoch: 63 | Avg. val loss: 0.7205774898712451.\n"
     ]
    },
    {
     "name": "stderr",
     "output_type": "stream",
     "text": [
      "Epoch: 64 | loss: 0.6168965697288513.: 100%|██████████| 97/97 [00:00<00:00, 527.95it/s] \n"
     ]
    },
    {
     "name": "stdout",
     "output_type": "stream",
     "text": [
      "Epoch: 64 | Avg. train loss: 0.7086601226600175.\n"
     ]
    },
    {
     "name": "stderr",
     "output_type": "stream",
     "text": [
      "Epoch: 64 | loss: 0.8087038397789001.: 100%|██████████| 13/13 [00:00<00:00, 1029.26it/s]\n"
     ]
    },
    {
     "name": "stdout",
     "output_type": "stream",
     "text": [
      "Epoch: 64 | Avg. val loss: 0.7205133919532483.\n"
     ]
    },
    {
     "name": "stderr",
     "output_type": "stream",
     "text": [
      "Epoch: 65 | loss: 0.6173588037490845.: 100%|██████████| 97/97 [00:00<00:00, 520.52it/s] \n"
     ]
    },
    {
     "name": "stdout",
     "output_type": "stream",
     "text": [
      "Epoch: 65 | Avg. train loss: 0.7082694437085968.\n"
     ]
    },
    {
     "name": "stderr",
     "output_type": "stream",
     "text": [
      "Epoch: 65 | loss: 0.8087756633758545.: 100%|██████████| 13/13 [00:00<00:00, 1005.83it/s]\n"
     ]
    },
    {
     "name": "stdout",
     "output_type": "stream",
     "text": [
      "Epoch: 65 | Avg. val loss: 0.7205446912692144.\n"
     ]
    },
    {
     "name": "stderr",
     "output_type": "stream",
     "text": [
      "Epoch: 66 | loss: 0.6175168752670288.: 100%|██████████| 97/97 [00:00<00:00, 512.41it/s] \n"
     ]
    },
    {
     "name": "stdout",
     "output_type": "stream",
     "text": [
      "Epoch: 66 | Avg. train loss: 0.7079248210204017.\n"
     ]
    },
    {
     "name": "stderr",
     "output_type": "stream",
     "text": [
      "Epoch: 66 | loss: 0.8078817129135132.: 100%|██████████| 13/13 [00:00<00:00, 999.30it/s]\n"
     ]
    },
    {
     "name": "stdout",
     "output_type": "stream",
     "text": [
      "Epoch: 66 | Avg. val loss: 0.7204133295095884.\n"
     ]
    },
    {
     "name": "stderr",
     "output_type": "stream",
     "text": [
      "Epoch: 67 | loss: 0.6178720593452454.: 100%|██████████| 97/97 [00:00<00:00, 506.87it/s] \n"
     ]
    },
    {
     "name": "stdout",
     "output_type": "stream",
     "text": [
      "Epoch: 67 | Avg. train loss: 0.7075613555834466.\n"
     ]
    },
    {
     "name": "stderr",
     "output_type": "stream",
     "text": [
      "Epoch: 67 | loss: 0.8085598945617676.: 100%|██████████| 13/13 [00:00<00:00, 937.44it/s]\n"
     ]
    },
    {
     "name": "stdout",
     "output_type": "stream",
     "text": [
      "Epoch: 67 | Avg. val loss: 0.7204934175197895.\n"
     ]
    },
    {
     "name": "stderr",
     "output_type": "stream",
     "text": [
      "Epoch: 68 | loss: 0.6180883646011353.: 100%|██████████| 97/97 [00:00<00:00, 530.33it/s] \n"
     ]
    },
    {
     "name": "stdout",
     "output_type": "stream",
     "text": [
      "Epoch: 68 | Avg. train loss: 0.7072116041306368.\n"
     ]
    },
    {
     "name": "stderr",
     "output_type": "stream",
     "text": [
      "Epoch: 68 | loss: 0.8079864978790283.: 100%|██████████| 13/13 [00:00<00:00, 956.60it/s]\n"
     ]
    },
    {
     "name": "stdout",
     "output_type": "stream",
     "text": [
      "Epoch: 68 | Avg. val loss: 0.7204035176680639.\n"
     ]
    },
    {
     "name": "stderr",
     "output_type": "stream",
     "text": [
      "Epoch: 69 | loss: 0.6183115243911743.: 100%|██████████| 97/97 [00:00<00:00, 514.72it/s] \n"
     ]
    },
    {
     "name": "stdout",
     "output_type": "stream",
     "text": [
      "Epoch: 69 | Avg. train loss: 0.7068455904414973.\n"
     ]
    },
    {
     "name": "stderr",
     "output_type": "stream",
     "text": [
      "Epoch: 69 | loss: 0.8084266185760498.: 100%|██████████| 13/13 [00:00<00:00, 1023.38it/s]\n"
     ]
    },
    {
     "name": "stdout",
     "output_type": "stream",
     "text": [
      "Epoch: 69 | Avg. val loss: 0.7203782223738157.\n"
     ]
    },
    {
     "name": "stderr",
     "output_type": "stream",
     "text": [
      "Epoch: 70 | loss: 0.6186399459838867.: 100%|██████████| 97/97 [00:00<00:00, 532.69it/s] \n"
     ]
    },
    {
     "name": "stdout",
     "output_type": "stream",
     "text": [
      "Epoch: 70 | Avg. train loss: 0.7065002383645048.\n"
     ]
    },
    {
     "name": "stderr",
     "output_type": "stream",
     "text": [
      "Epoch: 70 | loss: 0.8080286979675293.: 100%|██████████| 13/13 [00:00<00:00, 919.43it/s]\n"
     ]
    },
    {
     "name": "stdout",
     "output_type": "stream",
     "text": [
      "Epoch: 70 | Avg. val loss: 0.7203504993365362.\n"
     ]
    },
    {
     "name": "stderr",
     "output_type": "stream",
     "text": [
      "Epoch: 71 | loss: 0.6189119219779968.: 100%|██████████| 97/97 [00:00<00:00, 511.01it/s] \n"
     ]
    },
    {
     "name": "stdout",
     "output_type": "stream",
     "text": [
      "Epoch: 71 | Avg. train loss: 0.7061366193073312.\n"
     ]
    },
    {
     "name": "stderr",
     "output_type": "stream",
     "text": [
      "Epoch: 71 | loss: 0.808068037033081.: 100%|██████████| 13/13 [00:00<00:00, 1008.58it/s]\n"
     ]
    },
    {
     "name": "stdout",
     "output_type": "stream",
     "text": [
      "Epoch: 71 | Avg. val loss: 0.7203390231499305.\n"
     ]
    },
    {
     "name": "stderr",
     "output_type": "stream",
     "text": [
      "Epoch: 72 | loss: 0.619375467300415.: 100%|██████████| 97/97 [00:00<00:00, 521.07it/s]  \n"
     ]
    },
    {
     "name": "stdout",
     "output_type": "stream",
     "text": [
      "Epoch: 72 | Avg. train loss: 0.7058080023097009.\n"
     ]
    },
    {
     "name": "stderr",
     "output_type": "stream",
     "text": [
      "Epoch: 72 | loss: 0.8081803321838379.: 100%|██████████| 13/13 [00:00<00:00, 980.81it/s]\n"
     ]
    },
    {
     "name": "stdout",
     "output_type": "stream",
     "text": [
      "Epoch: 72 | Avg. val loss: 0.7202945810097915.\n"
     ]
    },
    {
     "name": "stderr",
     "output_type": "stream",
     "text": [
      "Epoch: 73 | loss: 0.6193796396255493.: 100%|██████████| 97/97 [00:00<00:00, 525.39it/s] \n"
     ]
    },
    {
     "name": "stdout",
     "output_type": "stream",
     "text": [
      "Epoch: 73 | Avg. train loss: 0.7054500177349012.\n"
     ]
    },
    {
     "name": "stderr",
     "output_type": "stream",
     "text": [
      "Epoch: 73 | loss: 0.8074374198913574.: 100%|██████████| 13/13 [00:00<00:00, 964.79it/s]\n"
     ]
    },
    {
     "name": "stdout",
     "output_type": "stream",
     "text": [
      "Epoch: 73 | Avg. val loss: 0.720225052191661.\n"
     ]
    },
    {
     "name": "stderr",
     "output_type": "stream",
     "text": [
      "Epoch: 74 | loss: 0.6198424100875854.: 100%|██████████| 97/97 [00:00<00:00, 521.98it/s] \n"
     ]
    },
    {
     "name": "stdout",
     "output_type": "stream",
     "text": [
      "Epoch: 74 | Avg. train loss: 0.7051230278826252.\n"
     ]
    },
    {
     "name": "stderr",
     "output_type": "stream",
     "text": [
      "Epoch: 74 | loss: 0.8080601096153259.: 100%|██████████| 13/13 [00:00<00:00, 1030.66it/s]\n"
     ]
    },
    {
     "name": "stdout",
     "output_type": "stream",
     "text": [
      "Epoch: 74 | Avg. val loss: 0.7202239609681643.\n"
     ]
    },
    {
     "name": "stderr",
     "output_type": "stream",
     "text": [
      "Epoch: 75 | loss: 0.6201106309890747.: 100%|██████████| 97/97 [00:00<00:00, 534.90it/s] \n"
     ]
    },
    {
     "name": "stdout",
     "output_type": "stream",
     "text": [
      "Epoch: 75 | Avg. train loss: 0.7047693366856919.\n"
     ]
    },
    {
     "name": "stderr",
     "output_type": "stream",
     "text": [
      "Epoch: 75 | loss: 0.8083374500274658.: 100%|██████████| 13/13 [00:00<00:00, 1032.57it/s]\n"
     ]
    },
    {
     "name": "stdout",
     "output_type": "stream",
     "text": [
      "Epoch: 75 | Avg. val loss: 0.7202155016935788.\n"
     ]
    },
    {
     "name": "stderr",
     "output_type": "stream",
     "text": [
      "Epoch: 76 | loss: 0.6205646395683289.: 100%|██████████| 97/97 [00:00<00:00, 515.17it/s] \n"
     ]
    },
    {
     "name": "stdout",
     "output_type": "stream",
     "text": [
      "Epoch: 76 | Avg. train loss: 0.704413857042175.\n"
     ]
    },
    {
     "name": "stderr",
     "output_type": "stream",
     "text": [
      "Epoch: 76 | loss: 0.8089293241500854.: 100%|██████████| 13/13 [00:00<00:00, 933.81it/s]\n"
     ]
    },
    {
     "name": "stdout",
     "output_type": "stream",
     "text": [
      "Epoch: 76 | Avg. val loss: 0.7202977079611558.\n"
     ]
    },
    {
     "name": "stderr",
     "output_type": "stream",
     "text": [
      "Epoch: 77 | loss: 0.6208584904670715.: 100%|██████████| 97/97 [00:00<00:00, 524.25it/s] \n"
     ]
    },
    {
     "name": "stdout",
     "output_type": "stream",
     "text": [
      "Epoch: 77 | Avg. train loss: 0.704086193718861.\n"
     ]
    },
    {
     "name": "stderr",
     "output_type": "stream",
     "text": [
      "Epoch: 77 | loss: 0.8086975812911987.: 100%|██████████| 13/13 [00:00<00:00, 1030.64it/s]\n"
     ]
    },
    {
     "name": "stdout",
     "output_type": "stream",
     "text": [
      "Epoch: 77 | Avg. val loss: 0.720227090212015.\n"
     ]
    },
    {
     "name": "stderr",
     "output_type": "stream",
     "text": [
      "Epoch: 78 | loss: 0.6210688948631287.: 100%|██████████| 97/97 [00:00<00:00, 515.26it/s] \n"
     ]
    },
    {
     "name": "stdout",
     "output_type": "stream",
     "text": [
      "Epoch: 78 | Avg. train loss: 0.7037218978110048.\n"
     ]
    },
    {
     "name": "stderr",
     "output_type": "stream",
     "text": [
      "Epoch: 78 | loss: 0.8089835047721863.: 100%|██████████| 13/13 [00:00<00:00, 988.63it/s]\n"
     ]
    },
    {
     "name": "stdout",
     "output_type": "stream",
     "text": [
      "Epoch: 78 | Avg. val loss: 0.7202135920524597.\n"
     ]
    },
    {
     "name": "stderr",
     "output_type": "stream",
     "text": [
      "Epoch: 79 | loss: 0.6216510534286499.: 100%|██████████| 97/97 [00:00<00:00, 521.13it/s] \n"
     ]
    },
    {
     "name": "stdout",
     "output_type": "stream",
     "text": [
      "Epoch: 79 | Avg. train loss: 0.7033954314964334.\n"
     ]
    },
    {
     "name": "stderr",
     "output_type": "stream",
     "text": [
      "Epoch: 79 | loss: 0.8089696764945984.: 100%|██████████| 13/13 [00:00<00:00, 1013.83it/s]\n"
     ]
    },
    {
     "name": "stdout",
     "output_type": "stream",
     "text": [
      "Epoch: 79 | Avg. val loss: 0.7201318236497732.\n"
     ]
    },
    {
     "name": "stderr",
     "output_type": "stream",
     "text": [
      "Epoch: 80 | loss: 0.6219531297683716.: 100%|██████████| 97/97 [00:00<00:00, 522.13it/s] \n"
     ]
    },
    {
     "name": "stdout",
     "output_type": "stream",
     "text": [
      "Epoch: 80 | Avg. train loss: 0.7030473916800981.\n"
     ]
    },
    {
     "name": "stderr",
     "output_type": "stream",
     "text": [
      "Epoch: 80 | loss: 0.8090051412582397.: 100%|██████████| 13/13 [00:00<00:00, 1006.13it/s]\n"
     ]
    },
    {
     "name": "stdout",
     "output_type": "stream",
     "text": [
      "Epoch: 80 | Avg. val loss: 0.7200458852144388.\n"
     ]
    },
    {
     "name": "stderr",
     "output_type": "stream",
     "text": [
      "Epoch: 81 | loss: 0.6221822500228882.: 100%|██████████| 97/97 [00:00<00:00, 521.75it/s] \n"
     ]
    },
    {
     "name": "stdout",
     "output_type": "stream",
     "text": [
      "Epoch: 81 | Avg. train loss: 0.7026951979730547.\n"
     ]
    },
    {
     "name": "stderr",
     "output_type": "stream",
     "text": [
      "Epoch: 81 | loss: 0.8087015151977539.: 100%|██████████| 13/13 [00:00<00:00, 1009.63it/s]\n"
     ]
    },
    {
     "name": "stdout",
     "output_type": "stream",
     "text": [
      "Epoch: 81 | Avg. val loss: 0.7200661393312308.\n"
     ]
    },
    {
     "name": "stderr",
     "output_type": "stream",
     "text": [
      "Epoch: 82 | loss: 0.6225002408027649.: 100%|██████████| 97/97 [00:00<00:00, 509.71it/s] \n"
     ]
    },
    {
     "name": "stdout",
     "output_type": "stream",
     "text": [
      "Epoch: 82 | Avg. train loss: 0.7023918327596999.\n"
     ]
    },
    {
     "name": "stderr",
     "output_type": "stream",
     "text": [
      "Epoch: 82 | loss: 0.8087217211723328.: 100%|██████████| 13/13 [00:00<00:00, 973.80it/s]\n"
     ]
    },
    {
     "name": "stdout",
     "output_type": "stream",
     "text": [
      "Epoch: 82 | Avg. val loss: 0.719987323650947.\n"
     ]
    },
    {
     "name": "stderr",
     "output_type": "stream",
     "text": [
      "Epoch: 83 | loss: 0.6229325532913208.: 100%|██████████| 97/97 [00:00<00:00, 507.35it/s] \n"
     ]
    },
    {
     "name": "stdout",
     "output_type": "stream",
     "text": [
      "Epoch: 83 | Avg. train loss: 0.7020489936022415.\n"
     ]
    },
    {
     "name": "stderr",
     "output_type": "stream",
     "text": [
      "Epoch: 83 | loss: 0.8091200590133667.: 100%|██████████| 13/13 [00:00<00:00, 1019.69it/s]\n"
     ]
    },
    {
     "name": "stdout",
     "output_type": "stream",
     "text": [
      "Epoch: 83 | Avg. val loss: 0.7200579161827381.\n"
     ]
    },
    {
     "name": "stderr",
     "output_type": "stream",
     "text": [
      "Epoch: 84 | loss: 0.6232773661613464.: 100%|██████████| 97/97 [00:00<00:00, 511.42it/s] \n"
     ]
    },
    {
     "name": "stdout",
     "output_type": "stream",
     "text": [
      "Epoch: 84 | Avg. train loss: 0.7017298678761905.\n"
     ]
    },
    {
     "name": "stderr",
     "output_type": "stream",
     "text": [
      "Epoch: 84 | loss: 0.8090463876724243.: 100%|██████████| 13/13 [00:00<00:00, 949.93it/s]\n"
     ]
    },
    {
     "name": "stdout",
     "output_type": "stream",
     "text": [
      "Epoch: 84 | Avg. val loss: 0.7200044783262106.\n"
     ]
    },
    {
     "name": "stderr",
     "output_type": "stream",
     "text": [
      "Epoch: 85 | loss: 0.6235430836677551.: 100%|██████████| 97/97 [00:00<00:00, 522.32it/s] \n"
     ]
    },
    {
     "name": "stdout",
     "output_type": "stream",
     "text": [
      "Epoch: 85 | Avg. train loss: 0.7014093823039654.\n"
     ]
    },
    {
     "name": "stderr",
     "output_type": "stream",
     "text": [
      "Epoch: 85 | loss: 0.8090047836303711.: 100%|██████████| 13/13 [00:00<00:00, 950.29it/s]\n"
     ]
    },
    {
     "name": "stdout",
     "output_type": "stream",
     "text": [
      "Epoch: 85 | Avg. val loss: 0.7199633144415342.\n"
     ]
    },
    {
     "name": "stderr",
     "output_type": "stream",
     "text": [
      "Epoch: 86 | loss: 0.6238737106323242.: 100%|██████████| 97/97 [00:00<00:00, 525.92it/s] \n"
     ]
    },
    {
     "name": "stdout",
     "output_type": "stream",
     "text": [
      "Epoch: 86 | Avg. train loss: 0.7011036734605572.\n"
     ]
    },
    {
     "name": "stderr",
     "output_type": "stream",
     "text": [
      "Epoch: 86 | loss: 0.8093715906143188.: 100%|██████████| 13/13 [00:00<00:00, 967.06it/s]\n"
     ]
    },
    {
     "name": "stdout",
     "output_type": "stream",
     "text": [
      "Epoch: 86 | Avg. val loss: 0.7200144643966968.\n"
     ]
    },
    {
     "name": "stderr",
     "output_type": "stream",
     "text": [
      "Epoch: 87 | loss: 0.624262809753418.: 100%|██████████| 97/97 [00:00<00:00, 524.59it/s]  \n"
     ]
    },
    {
     "name": "stdout",
     "output_type": "stream",
     "text": [
      "Epoch: 87 | Avg. train loss: 0.7007775706114229.\n"
     ]
    },
    {
     "name": "stderr",
     "output_type": "stream",
     "text": [
      "Epoch: 87 | loss: 0.8093889951705933.: 100%|██████████| 13/13 [00:00<00:00, 948.46it/s]\n"
     ]
    },
    {
     "name": "stdout",
     "output_type": "stream",
     "text": [
      "Epoch: 87 | Avg. val loss: 0.7200532716054183.\n"
     ]
    },
    {
     "name": "stderr",
     "output_type": "stream",
     "text": [
      "Epoch: 88 | loss: 0.6242541670799255.: 100%|██████████| 97/97 [00:00<00:00, 509.17it/s] \n"
     ]
    },
    {
     "name": "stdout",
     "output_type": "stream",
     "text": [
      "Epoch: 88 | Avg. train loss: 0.7004537567035439.\n"
     ]
    },
    {
     "name": "stderr",
     "output_type": "stream",
     "text": [
      "Epoch: 88 | loss: 0.8095767498016357.: 100%|██████████| 13/13 [00:00<00:00, 998.06it/s]\n"
     ]
    },
    {
     "name": "stdout",
     "output_type": "stream",
     "text": [
      "Epoch: 88 | Avg. val loss: 0.7199741556094243.\n"
     ]
    },
    {
     "name": "stderr",
     "output_type": "stream",
     "text": [
      "Epoch: 89 | loss: 0.6247569918632507.: 100%|██████████| 97/97 [00:00<00:00, 534.92it/s] \n"
     ]
    },
    {
     "name": "stdout",
     "output_type": "stream",
     "text": [
      "Epoch: 89 | Avg. train loss: 0.7001334269022205.\n"
     ]
    },
    {
     "name": "stderr",
     "output_type": "stream",
     "text": [
      "Epoch: 89 | loss: 0.8097681999206543.: 100%|██████████| 13/13 [00:00<00:00, 976.05it/s]\n"
     ]
    },
    {
     "name": "stdout",
     "output_type": "stream",
     "text": [
      "Epoch: 89 | Avg. val loss: 0.719972564623906.\n"
     ]
    },
    {
     "name": "stderr",
     "output_type": "stream",
     "text": [
      "Epoch: 90 | loss: 0.6248383522033691.: 100%|██████████| 97/97 [00:00<00:00, 517.42it/s] \n"
     ]
    },
    {
     "name": "stdout",
     "output_type": "stream",
     "text": [
      "Epoch: 90 | Avg. train loss: 0.699821141884499.\n"
     ]
    },
    {
     "name": "stderr",
     "output_type": "stream",
     "text": [
      "Epoch: 90 | loss: 0.8097831606864929.: 100%|██████████| 13/13 [00:00<00:00, 1003.24it/s]\n"
     ]
    },
    {
     "name": "stdout",
     "output_type": "stream",
     "text": [
      "Epoch: 90 | Avg. val loss: 0.7199559074181777.\n"
     ]
    },
    {
     "name": "stderr",
     "output_type": "stream",
     "text": [
      "Epoch: 91 | loss: 0.6252011656761169.: 100%|██████████| 97/97 [00:00<00:00, 522.10it/s] \n"
     ]
    },
    {
     "name": "stdout",
     "output_type": "stream",
     "text": [
      "Epoch: 91 | Avg. train loss: 0.6995225991170431.\n"
     ]
    },
    {
     "name": "stderr",
     "output_type": "stream",
     "text": [
      "Epoch: 91 | loss: 0.8102492094039917.: 100%|██████████| 13/13 [00:00<00:00, 988.04it/s]\n"
     ]
    },
    {
     "name": "stdout",
     "output_type": "stream",
     "text": [
      "Epoch: 91 | Avg. val loss: 0.7200137743583093.\n"
     ]
    },
    {
     "name": "stderr",
     "output_type": "stream",
     "text": [
      "Epoch: 92 | loss: 0.6252495646476746.: 100%|██████████| 97/97 [00:00<00:00, 530.63it/s] \n"
     ]
    },
    {
     "name": "stdout",
     "output_type": "stream",
     "text": [
      "Epoch: 92 | Avg. train loss: 0.699191382250835.\n"
     ]
    },
    {
     "name": "stderr",
     "output_type": "stream",
     "text": [
      "Epoch: 92 | loss: 0.809756875038147.: 100%|██████████| 13/13 [00:00<00:00, 1014.27it/s]\n"
     ]
    },
    {
     "name": "stdout",
     "output_type": "stream",
     "text": [
      "Epoch: 92 | Avg. val loss: 0.7198873322743636.\n"
     ]
    },
    {
     "name": "stderr",
     "output_type": "stream",
     "text": [
      "Epoch: 93 | loss: 0.6254962086677551.: 100%|██████████| 97/97 [00:00<00:00, 526.88it/s] \n"
     ]
    },
    {
     "name": "stdout",
     "output_type": "stream",
     "text": [
      "Epoch: 93 | Avg. train loss: 0.6989070127919778.\n"
     ]
    },
    {
     "name": "stderr",
     "output_type": "stream",
     "text": [
      "Epoch: 93 | loss: 0.8104826807975769.: 100%|██████████| 13/13 [00:00<00:00, 969.66it/s]\n"
     ]
    },
    {
     "name": "stdout",
     "output_type": "stream",
     "text": [
      "Epoch: 93 | Avg. val loss: 0.720006355872521.\n"
     ]
    },
    {
     "name": "stderr",
     "output_type": "stream",
     "text": [
      "Epoch: 94 | loss: 0.6256610155105591.: 100%|██████████| 97/97 [00:00<00:00, 520.77it/s] \n"
     ]
    },
    {
     "name": "stdout",
     "output_type": "stream",
     "text": [
      "Epoch: 94 | Avg. train loss: 0.6985799617988547.\n"
     ]
    },
    {
     "name": "stderr",
     "output_type": "stream",
     "text": [
      "Epoch: 94 | loss: 0.8106082677841187.: 100%|██████████| 13/13 [00:00<00:00, 1015.65it/s]\n"
     ]
    },
    {
     "name": "stdout",
     "output_type": "stream",
     "text": [
      "Epoch: 94 | Avg. val loss: 0.7200610935688019.\n"
     ]
    },
    {
     "name": "stderr",
     "output_type": "stream",
     "text": [
      "Epoch: 95 | loss: 0.626035213470459.: 100%|██████████| 97/97 [00:00<00:00, 527.35it/s]  \n"
     ]
    },
    {
     "name": "stdout",
     "output_type": "stream",
     "text": [
      "Epoch: 95 | Avg. train loss: 0.6982962741065271.\n"
     ]
    },
    {
     "name": "stderr",
     "output_type": "stream",
     "text": [
      "Epoch: 95 | loss: 0.810688853263855.: 100%|██████████| 13/13 [00:00<00:00, 959.74it/s]\n"
     ]
    },
    {
     "name": "stdout",
     "output_type": "stream",
     "text": [
      "Epoch: 95 | Avg. val loss: 0.7200156175173246.\n"
     ]
    },
    {
     "name": "stderr",
     "output_type": "stream",
     "text": [
      "Epoch: 96 | loss: 0.6261149644851685.: 100%|██████████| 97/97 [00:00<00:00, 524.57it/s] \n"
     ]
    },
    {
     "name": "stdout",
     "output_type": "stream",
     "text": [
      "Epoch: 96 | Avg. train loss: 0.6979919324830636.\n"
     ]
    },
    {
     "name": "stderr",
     "output_type": "stream",
     "text": [
      "Epoch: 96 | loss: 0.8107192516326904.: 100%|██████████| 13/13 [00:00<00:00, 1006.35it/s]\n"
     ]
    },
    {
     "name": "stdout",
     "output_type": "stream",
     "text": [
      "Epoch: 96 | Avg. val loss: 0.7200073829064002.\n"
     ]
    },
    {
     "name": "stderr",
     "output_type": "stream",
     "text": [
      "Epoch: 97 | loss: 0.626387357711792.: 100%|██████████| 97/97 [00:00<00:00, 536.56it/s]  \n"
     ]
    },
    {
     "name": "stdout",
     "output_type": "stream",
     "text": [
      "Epoch: 97 | Avg. train loss: 0.69766419910893.\n"
     ]
    },
    {
     "name": "stderr",
     "output_type": "stream",
     "text": [
      "Epoch: 97 | loss: 0.8109188079833984.: 100%|██████████| 13/13 [00:00<00:00, 1002.33it/s]\n"
     ]
    },
    {
     "name": "stdout",
     "output_type": "stream",
     "text": [
      "Epoch: 97 | Avg. val loss: 0.7200322655531076.\n"
     ]
    },
    {
     "name": "stderr",
     "output_type": "stream",
     "text": [
      "Epoch: 98 | loss: 0.6266191601753235.: 100%|██████████| 97/97 [00:00<00:00, 516.37it/s] \n"
     ]
    },
    {
     "name": "stdout",
     "output_type": "stream",
     "text": [
      "Epoch: 98 | Avg. train loss: 0.6973763068312222.\n"
     ]
    },
    {
     "name": "stderr",
     "output_type": "stream",
     "text": [
      "Epoch: 98 | loss: 0.811192512512207.: 100%|██████████| 13/13 [00:00<00:00, 985.29it/s]\n"
     ]
    },
    {
     "name": "stdout",
     "output_type": "stream",
     "text": [
      "Epoch: 98 | Avg. val loss: 0.719991168150535.\n"
     ]
    },
    {
     "name": "stderr",
     "output_type": "stream",
     "text": [
      "Epoch: 99 | loss: 0.6267275810241699.: 100%|██████████| 97/97 [00:00<00:00, 525.24it/s] \n"
     ]
    },
    {
     "name": "stdout",
     "output_type": "stream",
     "text": [
      "Epoch: 99 | Avg. train loss: 0.6970946407809699.\n"
     ]
    },
    {
     "name": "stderr",
     "output_type": "stream",
     "text": [
      "Epoch: 99 | loss: 0.8115367889404297.: 100%|██████████| 13/13 [00:00<00:00, 1011.37it/s]"
     ]
    },
    {
     "name": "stdout",
     "output_type": "stream",
     "text": [
      "Epoch: 99 | Avg. val loss: 0.7200473363582904.\n"
     ]
    },
    {
     "name": "stderr",
     "output_type": "stream",
     "text": [
      "\n"
     ]
    }
   ],
   "source": [
    "device = torch.device('cuda:0')\n",
    "us_model = torch.nn.Sequential(\n",
    "    torch.nn.Linear(6, 128),\n",
    "    torch.nn.LeakyReLU(),\n",
    "    torch.nn.Linear(128, 128),\n",
    "    torch.nn.LeakyReLU(),\n",
    "    torch.nn.Linear(128, 1)\n",
    ").to(device)\n",
    "opt = torch.optim.AdamW(us_model.parameters(), lr=1e-4, weight_decay=1e-4)\n",
    "epochs = 100\n",
    "batch_size = 32\n",
    "val_loss = np.inf\n",
    "patience = 0\n",
    "losses = dict(\n",
    "    train = [],\n",
    "    val = []\n",
    ")\n",
    "for e in range(epochs):\n",
    "    for mode in ['train', 'val']:\n",
    "        train = mode == 'train'\n",
    "        loss, us_model, opt = single_epoch(\n",
    "            e, train, us_model, opt, eval(f'X_{mode}'), eval(f'y_{mode}_normalized_us'), batch_size, device\n",
    "        )\n",
    "        print(f'Epoch: {e} | Avg. {mode} loss: {loss}.')\n",
    "        losses[mode].append(loss)\n",
    "    if loss < val_loss:\n",
    "        val_loss = loss\n",
    "        patience = 0\n",
    "        best_us_model = us_model\n",
    "    else:\n",
    "        patience += 1\n",
    "    if patience > 20:\n",
    "        print('Early stopping!')\n",
    "        break"
   ]
  },
  {
   "cell_type": "code",
   "execution_count": 90,
   "metadata": {},
   "outputs": [
    {
     "data": {
      "image/png": "[encoded data removed]",
      "text/plain": [
       "<Figure size 640x480 with 1 Axes>"
      ]
     },
     "metadata": {},
     "output_type": "display_data"
    }
   ],
   "source": [
    "torch.save(\n",
    "    {\n",
    "        'model': us_model.state_dict(),\n",
    "        'opt': opt.state_dict(),\n",
    "        'epoch': e\n",
    "    },\n",
    "    '../models_out/us_only_mlp-2-layer-model.ckpt'\n",
    ")\n",
    "plt.plot(range(len(losses['train'])), losses['train'], label='train loss')\n",
    "plt.plot(range(len(losses['val'])), losses['val'], label='val loss')\n",
    "plt.xlabel('epoch')\n",
    "plt.grid()\n",
    "plt.legend()\n",
    "plt.savefig('../figures/us_only_mlp-2-layer-train-val-loss.png')\n",
    "plt.show()"
   ]
  },
  {
   "cell_type": "code",
   "execution_count": 92,
   "metadata": {},
   "outputs": [
    {
     "name": "stderr",
     "output_type": "stream",
     "text": [
      "100%|██████████| 13/13 [00:00<00:00, 654.35it/s]\n",
      "100%|██████████| 13/13 [00:00<00:00, 2940.51it/s]\n"
     ]
    }
   ],
   "source": [
    "y_val_pred = predict(us_model, X_val, batch_size=32, device=device)\n",
    "y_test_pred = predict(us_model, X_test, batch_size=32, device=device)"
   ]
  },
  {
   "cell_type": "code",
   "execution_count": 100,
   "metadata": {},
   "outputs": [
    {
     "data": {
      "text/plain": [
       "(tensor(0.7132, device='cuda:0'), tensor(0.6836, device='cuda:0'))"
      ]
     },
     "execution_count": 100,
     "metadata": {},
     "output_type": "execute_result"
    }
   ],
   "source": [
    "val_mse = F.mse_loss(input=y_val_pred, target=torch.FloatTensor(y_val_normalized_us.to_numpy()).to(device))\n",
    "test_mse = F.mse_loss(input=y_test_pred, target=torch.FloatTensor(y_test_normalized_us.to_numpy()).to(device))\n",
    "\n",
    "val_mse, test_mse"
   ]
  },
  {
   "cell_type": "code",
   "execution_count": 101,
   "metadata": {},
   "outputs": [
    {
     "data": {
      "text/plain": [
       "(tensor(0.6779, device='cuda:0'), tensor(0.6605, device='cuda:0'))"
      ]
     },
     "execution_count": 101,
     "metadata": {},
     "output_type": "execute_result"
    }
   ],
   "source": [
    "val_mae = F.l1_loss(input=y_val_pred, target=torch.FloatTensor(y_val_normalized_us.to_numpy()).to(device))\n",
    "test_mae = F.l1_loss(input=y_test_pred, target=torch.FloatTensor(y_test_normalized_us.to_numpy()).to(device))\n",
    "\n",
    "val_mae, test_mae"
   ]
  },
  {
   "cell_type": "code",
   "execution_count": null,
   "metadata": {},
   "outputs": [],
   "source": []
  }
 ],
 "metadata": {
  "kernelspec": {
   "display_name": "Python (pisa)",
   "language": "python",
   "name": "undefined.-xfrozen_modules=off"
  },
  "language_info": {
   "codemirror_mode": {
    "name": "ipython",
    "version": 3
   },
   "file_extension": ".py",
   "mimetype": "text/x-python",
   "name": "python",
   "nbconvert_exporter": "python",
   "pygments_lexer": "ipython3",
   "version": "3.11.10"
  }
 },
 "nbformat": 4,
 "nbformat_minor": 2
}
